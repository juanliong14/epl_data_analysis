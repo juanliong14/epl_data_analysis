{
 "cells": [
  {
   "cell_type": "code",
   "execution_count": 105,
   "metadata": {},
   "outputs": [],
   "source": [
    "import pandas as pd\n",
    "import plotly.graph_objects as go\n",
    "\n",
    "#Set float number just have two decimals\n",
    "pd.set_option('display.float_format','{:.2f}' .format)\n",
    "#Set option display max columns\n",
    "pd.options.display.max_columns=999"
   ]
  },
  {
   "cell_type": "code",
   "execution_count": 106,
   "metadata": {},
   "outputs": [],
   "source": [
    "df1 = pd.read_csv('Premier_league_18_19.csv')\n",
    "df2 = pd.read_csv('Premier_league_19_20.csv')\n",
    "df3 = pd.read_csv('Premier_league_20_21.csv')"
   ]
  },
  {
   "cell_type": "code",
   "execution_count": 107,
   "metadata": {},
   "outputs": [
    {
     "data": {
      "text/html": [
       "<div>\n",
       "<style scoped>\n",
       "    .dataframe tbody tr th:only-of-type {\n",
       "        vertical-align: middle;\n",
       "    }\n",
       "\n",
       "    .dataframe tbody tr th {\n",
       "        vertical-align: top;\n",
       "    }\n",
       "\n",
       "    .dataframe thead th {\n",
       "        text-align: right;\n",
       "    }\n",
       "</style>\n",
       "<table border=\"1\" class=\"dataframe\">\n",
       "  <thead>\n",
       "    <tr style=\"text-align: right;\">\n",
       "      <th></th>\n",
       "      <th>date</th>\n",
       "      <th>home_team</th>\n",
       "      <th>away_team</th>\n",
       "      <th>home_score</th>\n",
       "      <th>away_score</th>\n",
       "      <th>home_possession_%</th>\n",
       "      <th>away_possession_%</th>\n",
       "      <th>home_shots_on_target</th>\n",
       "      <th>away_shots_on_target</th>\n",
       "      <th>home_shots</th>\n",
       "      <th>away_shots</th>\n",
       "      <th>home_touches</th>\n",
       "      <th>away_touches</th>\n",
       "      <th>home_passes</th>\n",
       "      <th>away_passes</th>\n",
       "      <th>home_tackles</th>\n",
       "      <th>away_tackles</th>\n",
       "      <th>home_clearances</th>\n",
       "      <th>away_clearances</th>\n",
       "      <th>home_corners</th>\n",
       "      <th>away_corners</th>\n",
       "      <th>home_offsides</th>\n",
       "      <th>away_offsides</th>\n",
       "      <th>home_yellow_cards</th>\n",
       "      <th>away_yellow_cards</th>\n",
       "      <th>home_red_cards</th>\n",
       "      <th>away_red_cards</th>\n",
       "      <th>home_fouls_conceded</th>\n",
       "      <th>away_fouls_conceded</th>\n",
       "    </tr>\n",
       "  </thead>\n",
       "  <tbody>\n",
       "    <tr>\n",
       "      <th>0</th>\n",
       "      <td>08/12/2018</td>\n",
       "      <td>Arsenal</td>\n",
       "      <td>Manchester City</td>\n",
       "      <td>0</td>\n",
       "      <td>2</td>\n",
       "      <td>42.00</td>\n",
       "      <td>58.00</td>\n",
       "      <td>3.00</td>\n",
       "      <td>8.00</td>\n",
       "      <td>9.00</td>\n",
       "      <td>17.00</td>\n",
       "      <td>593.00</td>\n",
       "      <td>734.00</td>\n",
       "      <td>401.00</td>\n",
       "      <td>555.00</td>\n",
       "      <td>22.00</td>\n",
       "      <td>6.00</td>\n",
       "      <td>23.00</td>\n",
       "      <td>9.00</td>\n",
       "      <td>2.00</td>\n",
       "      <td>9.00</td>\n",
       "      <td>7.00</td>\n",
       "      <td>2.00</td>\n",
       "      <td>2.00</td>\n",
       "      <td>2.00</td>\n",
       "      <td>0.00</td>\n",
       "      <td>0.00</td>\n",
       "      <td>11.00</td>\n",
       "      <td>14.00</td>\n",
       "    </tr>\n",
       "    <tr>\n",
       "      <th>1</th>\n",
       "      <td>08/11/2018</td>\n",
       "      <td>AFC Bournemouth</td>\n",
       "      <td>Cardiff City</td>\n",
       "      <td>2</td>\n",
       "      <td>0</td>\n",
       "      <td>62.90</td>\n",
       "      <td>37.10</td>\n",
       "      <td>4.00</td>\n",
       "      <td>1.00</td>\n",
       "      <td>12.00</td>\n",
       "      <td>10.00</td>\n",
       "      <td>711.00</td>\n",
       "      <td>483.00</td>\n",
       "      <td>502.00</td>\n",
       "      <td>287.00</td>\n",
       "      <td>11.00</td>\n",
       "      <td>22.00</td>\n",
       "      <td>37.00</td>\n",
       "      <td>30.00</td>\n",
       "      <td>7.00</td>\n",
       "      <td>4.00</td>\n",
       "      <td>0.00</td>\n",
       "      <td>2.00</td>\n",
       "      <td>1.00</td>\n",
       "      <td>1.00</td>\n",
       "      <td>0.00</td>\n",
       "      <td>0.00</td>\n",
       "      <td>11.00</td>\n",
       "      <td>9.00</td>\n",
       "    </tr>\n",
       "    <tr>\n",
       "      <th>2</th>\n",
       "      <td>08/11/2018</td>\n",
       "      <td>Fulham</td>\n",
       "      <td>Crystal Palace</td>\n",
       "      <td>0</td>\n",
       "      <td>2</td>\n",
       "      <td>66.30</td>\n",
       "      <td>33.70</td>\n",
       "      <td>6.00</td>\n",
       "      <td>10.00</td>\n",
       "      <td>15.00</td>\n",
       "      <td>12.00</td>\n",
       "      <td>893.00</td>\n",
       "      <td>564.00</td>\n",
       "      <td>672.00</td>\n",
       "      <td>347.00</td>\n",
       "      <td>25.00</td>\n",
       "      <td>21.00</td>\n",
       "      <td>22.00</td>\n",
       "      <td>30.00</td>\n",
       "      <td>5.00</td>\n",
       "      <td>5.00</td>\n",
       "      <td>2.00</td>\n",
       "      <td>3.00</td>\n",
       "      <td>1.00</td>\n",
       "      <td>2.00</td>\n",
       "      <td>0.00</td>\n",
       "      <td>0.00</td>\n",
       "      <td>9.00</td>\n",
       "      <td>11.00</td>\n",
       "    </tr>\n",
       "    <tr>\n",
       "      <th>3</th>\n",
       "      <td>08/11/2018</td>\n",
       "      <td>Huddersfield Town</td>\n",
       "      <td>Chelsea</td>\n",
       "      <td>0</td>\n",
       "      <td>3</td>\n",
       "      <td>37.20</td>\n",
       "      <td>62.80</td>\n",
       "      <td>1.00</td>\n",
       "      <td>4.00</td>\n",
       "      <td>6.00</td>\n",
       "      <td>13.00</td>\n",
       "      <td>550.00</td>\n",
       "      <td>856.00</td>\n",
       "      <td>372.00</td>\n",
       "      <td>658.00</td>\n",
       "      <td>25.00</td>\n",
       "      <td>12.00</td>\n",
       "      <td>13.00</td>\n",
       "      <td>21.00</td>\n",
       "      <td>2.00</td>\n",
       "      <td>5.00</td>\n",
       "      <td>2.00</td>\n",
       "      <td>1.00</td>\n",
       "      <td>2.00</td>\n",
       "      <td>1.00</td>\n",
       "      <td>0.00</td>\n",
       "      <td>0.00</td>\n",
       "      <td>9.00</td>\n",
       "      <td>8.00</td>\n",
       "    </tr>\n",
       "    <tr>\n",
       "      <th>4</th>\n",
       "      <td>08/12/2018</td>\n",
       "      <td>Liverpool</td>\n",
       "      <td>West Ham United</td>\n",
       "      <td>4</td>\n",
       "      <td>0</td>\n",
       "      <td>64.80</td>\n",
       "      <td>35.20</td>\n",
       "      <td>8.00</td>\n",
       "      <td>2.00</td>\n",
       "      <td>18.00</td>\n",
       "      <td>5.00</td>\n",
       "      <td>843.00</td>\n",
       "      <td>551.00</td>\n",
       "      <td>673.00</td>\n",
       "      <td>360.00</td>\n",
       "      <td>19.00</td>\n",
       "      <td>23.00</td>\n",
       "      <td>8.00</td>\n",
       "      <td>20.00</td>\n",
       "      <td>5.00</td>\n",
       "      <td>4.00</td>\n",
       "      <td>5.00</td>\n",
       "      <td>3.00</td>\n",
       "      <td>1.00</td>\n",
       "      <td>2.00</td>\n",
       "      <td>0.00</td>\n",
       "      <td>0.00</td>\n",
       "      <td>14.00</td>\n",
       "      <td>9.00</td>\n",
       "    </tr>\n",
       "  </tbody>\n",
       "</table>\n",
       "</div>"
      ],
      "text/plain": [
       "         date          home_team        away_team  home_score  away_score  \\\n",
       "0  08/12/2018            Arsenal  Manchester City           0           2   \n",
       "1  08/11/2018    AFC Bournemouth     Cardiff City           2           0   \n",
       "2  08/11/2018             Fulham   Crystal Palace           0           2   \n",
       "3  08/11/2018  Huddersfield Town          Chelsea           0           3   \n",
       "4  08/12/2018          Liverpool  West Ham United           4           0   \n",
       "\n",
       "   home_possession_%  away_possession_%  home_shots_on_target  \\\n",
       "0              42.00              58.00                  3.00   \n",
       "1              62.90              37.10                  4.00   \n",
       "2              66.30              33.70                  6.00   \n",
       "3              37.20              62.80                  1.00   \n",
       "4              64.80              35.20                  8.00   \n",
       "\n",
       "   away_shots_on_target  home_shots  away_shots  home_touches  away_touches  \\\n",
       "0                  8.00        9.00       17.00        593.00        734.00   \n",
       "1                  1.00       12.00       10.00        711.00        483.00   \n",
       "2                 10.00       15.00       12.00        893.00        564.00   \n",
       "3                  4.00        6.00       13.00        550.00        856.00   \n",
       "4                  2.00       18.00        5.00        843.00        551.00   \n",
       "\n",
       "   home_passes  away_passes  home_tackles  away_tackles  home_clearances  \\\n",
       "0       401.00       555.00         22.00          6.00            23.00   \n",
       "1       502.00       287.00         11.00         22.00            37.00   \n",
       "2       672.00       347.00         25.00         21.00            22.00   \n",
       "3       372.00       658.00         25.00         12.00            13.00   \n",
       "4       673.00       360.00         19.00         23.00             8.00   \n",
       "\n",
       "   away_clearances  home_corners  away_corners  home_offsides  away_offsides  \\\n",
       "0             9.00          2.00          9.00           7.00           2.00   \n",
       "1            30.00          7.00          4.00           0.00           2.00   \n",
       "2            30.00          5.00          5.00           2.00           3.00   \n",
       "3            21.00          2.00          5.00           2.00           1.00   \n",
       "4            20.00          5.00          4.00           5.00           3.00   \n",
       "\n",
       "   home_yellow_cards  away_yellow_cards  home_red_cards  away_red_cards  \\\n",
       "0               2.00               2.00            0.00            0.00   \n",
       "1               1.00               1.00            0.00            0.00   \n",
       "2               1.00               2.00            0.00            0.00   \n",
       "3               2.00               1.00            0.00            0.00   \n",
       "4               1.00               2.00            0.00            0.00   \n",
       "\n",
       "   home_fouls_conceded  away_fouls_conceded  \n",
       "0                11.00                14.00  \n",
       "1                11.00                 9.00  \n",
       "2                 9.00                11.00  \n",
       "3                 9.00                 8.00  \n",
       "4                14.00                 9.00  "
      ]
     },
     "execution_count": 107,
     "metadata": {},
     "output_type": "execute_result"
    }
   ],
   "source": [
    "df = pd.concat([df1,df2,df3])\n",
    "df.head()"
   ]
  },
  {
   "cell_type": "code",
   "execution_count": 108,
   "metadata": {
    "scrolled": false
   },
   "outputs": [
    {
     "name": "stdout",
     "output_type": "stream",
     "text": [
      "<class 'pandas.core.frame.DataFrame'>\n",
      "Int64Index: 1140 entries, 0 to 379\n",
      "Data columns (total 29 columns):\n",
      " #   Column                Non-Null Count  Dtype  \n",
      "---  ------                --------------  -----  \n",
      " 0   date                  1140 non-null   object \n",
      " 1   home_team             1140 non-null   object \n",
      " 2   away_team             1140 non-null   object \n",
      " 3   home_score            1140 non-null   int64  \n",
      " 4   away_score            1140 non-null   int64  \n",
      " 5   home_possession_%     1140 non-null   float64\n",
      " 6   away_possession_%     1140 non-null   float64\n",
      " 7   home_shots_on_target  1140 non-null   float64\n",
      " 8   away_shots_on_target  1140 non-null   float64\n",
      " 9   home_shots            1140 non-null   float64\n",
      " 10  away_shots            1140 non-null   float64\n",
      " 11  home_touches          1140 non-null   float64\n",
      " 12  away_touches          1140 non-null   float64\n",
      " 13  home_passes           1140 non-null   float64\n",
      " 14  away_passes           1140 non-null   float64\n",
      " 15  home_tackles          1140 non-null   float64\n",
      " 16  away_tackles          1140 non-null   float64\n",
      " 17  home_clearances       1140 non-null   float64\n",
      " 18  away_clearances       1140 non-null   float64\n",
      " 19  home_corners          1140 non-null   float64\n",
      " 20  away_corners          1140 non-null   float64\n",
      " 21  home_offsides         1140 non-null   float64\n",
      " 22  away_offsides         1140 non-null   float64\n",
      " 23  home_yellow_cards     1140 non-null   float64\n",
      " 24  away_yellow_cards     1140 non-null   float64\n",
      " 25  home_red_cards        1140 non-null   float64\n",
      " 26  away_red_cards        1140 non-null   float64\n",
      " 27  home_fouls_conceded   1140 non-null   float64\n",
      " 28  away_fouls_conceded   1140 non-null   float64\n",
      "dtypes: float64(24), int64(2), object(3)\n",
      "memory usage: 267.2+ KB\n"
     ]
    }
   ],
   "source": [
    "df.info()"
   ]
  },
  {
   "cell_type": "code",
   "execution_count": 109,
   "metadata": {},
   "outputs": [
    {
     "name": "stdout",
     "output_type": "stream",
     "text": [
      "<class 'pandas.core.frame.DataFrame'>\n",
      "Int64Index: 1140 entries, 0 to 379\n",
      "Data columns (total 29 columns):\n",
      " #   Column                Non-Null Count  Dtype         \n",
      "---  ------                --------------  -----         \n",
      " 0   date                  1140 non-null   datetime64[ns]\n",
      " 1   home_team             1140 non-null   object        \n",
      " 2   away_team             1140 non-null   object        \n",
      " 3   home_score            1140 non-null   int64         \n",
      " 4   away_score            1140 non-null   int64         \n",
      " 5   home_possession_%     1140 non-null   float64       \n",
      " 6   away_possession_%     1140 non-null   float64       \n",
      " 7   home_shots_on_target  1140 non-null   float64       \n",
      " 8   away_shots_on_target  1140 non-null   float64       \n",
      " 9   home_shots            1140 non-null   float64       \n",
      " 10  away_shots            1140 non-null   float64       \n",
      " 11  home_touches          1140 non-null   float64       \n",
      " 12  away_touches          1140 non-null   float64       \n",
      " 13  home_passes           1140 non-null   float64       \n",
      " 14  away_passes           1140 non-null   float64       \n",
      " 15  home_tackles          1140 non-null   float64       \n",
      " 16  away_tackles          1140 non-null   float64       \n",
      " 17  home_clearances       1140 non-null   float64       \n",
      " 18  away_clearances       1140 non-null   float64       \n",
      " 19  home_corners          1140 non-null   float64       \n",
      " 20  away_corners          1140 non-null   float64       \n",
      " 21  home_offsides         1140 non-null   float64       \n",
      " 22  away_offsides         1140 non-null   float64       \n",
      " 23  home_yellow_cards     1140 non-null   float64       \n",
      " 24  away_yellow_cards     1140 non-null   float64       \n",
      " 25  home_red_cards        1140 non-null   float64       \n",
      " 26  away_red_cards        1140 non-null   float64       \n",
      " 27  home_fouls_conceded   1140 non-null   float64       \n",
      " 28  away_fouls_conceded   1140 non-null   float64       \n",
      "dtypes: datetime64[ns](1), float64(24), int64(2), object(2)\n",
      "memory usage: 267.2+ KB\n"
     ]
    }
   ],
   "source": [
    "#convert 'date' column datatype to datetime\n",
    "df['date'] = pd.to_datetime(df['date'], format='%m/%d/%Y')\n",
    "df.info()"
   ]
  },
  {
   "cell_type": "code",
   "execution_count": 110,
   "metadata": {},
   "outputs": [
    {
     "data": {
      "text/html": [
       "<div>\n",
       "<style scoped>\n",
       "    .dataframe tbody tr th:only-of-type {\n",
       "        vertical-align: middle;\n",
       "    }\n",
       "\n",
       "    .dataframe tbody tr th {\n",
       "        vertical-align: top;\n",
       "    }\n",
       "\n",
       "    .dataframe thead th {\n",
       "        text-align: right;\n",
       "    }\n",
       "</style>\n",
       "<table border=\"1\" class=\"dataframe\">\n",
       "  <thead>\n",
       "    <tr style=\"text-align: right;\">\n",
       "      <th></th>\n",
       "      <th>date</th>\n",
       "      <th>home_team</th>\n",
       "      <th>away_team</th>\n",
       "      <th>home_score</th>\n",
       "      <th>away_score</th>\n",
       "      <th>home_possession_%</th>\n",
       "      <th>away_possession_%</th>\n",
       "      <th>home_shots_on_target</th>\n",
       "      <th>away_shots_on_target</th>\n",
       "      <th>home_shots</th>\n",
       "      <th>away_shots</th>\n",
       "      <th>home_touches</th>\n",
       "      <th>away_touches</th>\n",
       "      <th>home_passes</th>\n",
       "      <th>away_passes</th>\n",
       "      <th>home_tackles</th>\n",
       "      <th>away_tackles</th>\n",
       "      <th>home_clearances</th>\n",
       "      <th>away_clearances</th>\n",
       "      <th>home_corners</th>\n",
       "      <th>away_corners</th>\n",
       "      <th>home_offsides</th>\n",
       "      <th>away_offsides</th>\n",
       "      <th>home_yellow_cards</th>\n",
       "      <th>away_yellow_cards</th>\n",
       "      <th>home_red_cards</th>\n",
       "      <th>away_red_cards</th>\n",
       "      <th>home_fouls_conceded</th>\n",
       "      <th>away_fouls_conceded</th>\n",
       "    </tr>\n",
       "  </thead>\n",
       "  <tbody>\n",
       "    <tr>\n",
       "      <th>0</th>\n",
       "      <td>2018-08-11</td>\n",
       "      <td>AFC Bournemouth</td>\n",
       "      <td>Cardiff City</td>\n",
       "      <td>2</td>\n",
       "      <td>0</td>\n",
       "      <td>62.90</td>\n",
       "      <td>37.10</td>\n",
       "      <td>4.00</td>\n",
       "      <td>1.00</td>\n",
       "      <td>12.00</td>\n",
       "      <td>10.00</td>\n",
       "      <td>711.00</td>\n",
       "      <td>483.00</td>\n",
       "      <td>502.00</td>\n",
       "      <td>287.00</td>\n",
       "      <td>11.00</td>\n",
       "      <td>22.00</td>\n",
       "      <td>37.00</td>\n",
       "      <td>30.00</td>\n",
       "      <td>7.00</td>\n",
       "      <td>4.00</td>\n",
       "      <td>0.00</td>\n",
       "      <td>2.00</td>\n",
       "      <td>1.00</td>\n",
       "      <td>1.00</td>\n",
       "      <td>0.00</td>\n",
       "      <td>0.00</td>\n",
       "      <td>11.00</td>\n",
       "      <td>9.00</td>\n",
       "    </tr>\n",
       "    <tr>\n",
       "      <th>1</th>\n",
       "      <td>2018-08-11</td>\n",
       "      <td>Fulham</td>\n",
       "      <td>Crystal Palace</td>\n",
       "      <td>0</td>\n",
       "      <td>2</td>\n",
       "      <td>66.30</td>\n",
       "      <td>33.70</td>\n",
       "      <td>6.00</td>\n",
       "      <td>10.00</td>\n",
       "      <td>15.00</td>\n",
       "      <td>12.00</td>\n",
       "      <td>893.00</td>\n",
       "      <td>564.00</td>\n",
       "      <td>672.00</td>\n",
       "      <td>347.00</td>\n",
       "      <td>25.00</td>\n",
       "      <td>21.00</td>\n",
       "      <td>22.00</td>\n",
       "      <td>30.00</td>\n",
       "      <td>5.00</td>\n",
       "      <td>5.00</td>\n",
       "      <td>2.00</td>\n",
       "      <td>3.00</td>\n",
       "      <td>1.00</td>\n",
       "      <td>2.00</td>\n",
       "      <td>0.00</td>\n",
       "      <td>0.00</td>\n",
       "      <td>9.00</td>\n",
       "      <td>11.00</td>\n",
       "    </tr>\n",
       "    <tr>\n",
       "      <th>2</th>\n",
       "      <td>2018-08-11</td>\n",
       "      <td>Huddersfield Town</td>\n",
       "      <td>Chelsea</td>\n",
       "      <td>0</td>\n",
       "      <td>3</td>\n",
       "      <td>37.20</td>\n",
       "      <td>62.80</td>\n",
       "      <td>1.00</td>\n",
       "      <td>4.00</td>\n",
       "      <td>6.00</td>\n",
       "      <td>13.00</td>\n",
       "      <td>550.00</td>\n",
       "      <td>856.00</td>\n",
       "      <td>372.00</td>\n",
       "      <td>658.00</td>\n",
       "      <td>25.00</td>\n",
       "      <td>12.00</td>\n",
       "      <td>13.00</td>\n",
       "      <td>21.00</td>\n",
       "      <td>2.00</td>\n",
       "      <td>5.00</td>\n",
       "      <td>2.00</td>\n",
       "      <td>1.00</td>\n",
       "      <td>2.00</td>\n",
       "      <td>1.00</td>\n",
       "      <td>0.00</td>\n",
       "      <td>0.00</td>\n",
       "      <td>9.00</td>\n",
       "      <td>8.00</td>\n",
       "    </tr>\n",
       "    <tr>\n",
       "      <th>3</th>\n",
       "      <td>2018-08-11</td>\n",
       "      <td>Manchester United</td>\n",
       "      <td>Leicester City</td>\n",
       "      <td>2</td>\n",
       "      <td>1</td>\n",
       "      <td>46.30</td>\n",
       "      <td>53.70</td>\n",
       "      <td>6.00</td>\n",
       "      <td>4.00</td>\n",
       "      <td>8.00</td>\n",
       "      <td>13.00</td>\n",
       "      <td>697.00</td>\n",
       "      <td>744.00</td>\n",
       "      <td>485.00</td>\n",
       "      <td>543.00</td>\n",
       "      <td>26.00</td>\n",
       "      <td>14.00</td>\n",
       "      <td>37.00</td>\n",
       "      <td>14.00</td>\n",
       "      <td>2.00</td>\n",
       "      <td>5.00</td>\n",
       "      <td>4.00</td>\n",
       "      <td>2.00</td>\n",
       "      <td>2.00</td>\n",
       "      <td>1.00</td>\n",
       "      <td>0.00</td>\n",
       "      <td>0.00</td>\n",
       "      <td>11.00</td>\n",
       "      <td>8.00</td>\n",
       "    </tr>\n",
       "    <tr>\n",
       "      <th>4</th>\n",
       "      <td>2018-08-11</td>\n",
       "      <td>Newcastle United</td>\n",
       "      <td>Tottenham Hotspur</td>\n",
       "      <td>1</td>\n",
       "      <td>2</td>\n",
       "      <td>40.40</td>\n",
       "      <td>59.60</td>\n",
       "      <td>2.00</td>\n",
       "      <td>5.00</td>\n",
       "      <td>15.00</td>\n",
       "      <td>15.00</td>\n",
       "      <td>622.00</td>\n",
       "      <td>809.00</td>\n",
       "      <td>387.00</td>\n",
       "      <td>573.00</td>\n",
       "      <td>15.00</td>\n",
       "      <td>27.00</td>\n",
       "      <td>17.00</td>\n",
       "      <td>43.00</td>\n",
       "      <td>3.00</td>\n",
       "      <td>5.00</td>\n",
       "      <td>1.00</td>\n",
       "      <td>0.00</td>\n",
       "      <td>2.00</td>\n",
       "      <td>2.00</td>\n",
       "      <td>0.00</td>\n",
       "      <td>0.00</td>\n",
       "      <td>11.00</td>\n",
       "      <td>12.00</td>\n",
       "    </tr>\n",
       "    <tr>\n",
       "      <th>...</th>\n",
       "      <td>...</td>\n",
       "      <td>...</td>\n",
       "      <td>...</td>\n",
       "      <td>...</td>\n",
       "      <td>...</td>\n",
       "      <td>...</td>\n",
       "      <td>...</td>\n",
       "      <td>...</td>\n",
       "      <td>...</td>\n",
       "      <td>...</td>\n",
       "      <td>...</td>\n",
       "      <td>...</td>\n",
       "      <td>...</td>\n",
       "      <td>...</td>\n",
       "      <td>...</td>\n",
       "      <td>...</td>\n",
       "      <td>...</td>\n",
       "      <td>...</td>\n",
       "      <td>...</td>\n",
       "      <td>...</td>\n",
       "      <td>...</td>\n",
       "      <td>...</td>\n",
       "      <td>...</td>\n",
       "      <td>...</td>\n",
       "      <td>...</td>\n",
       "      <td>...</td>\n",
       "      <td>...</td>\n",
       "      <td>...</td>\n",
       "      <td>...</td>\n",
       "    </tr>\n",
       "    <tr>\n",
       "      <th>1135</th>\n",
       "      <td>2021-05-23</td>\n",
       "      <td>Fulham</td>\n",
       "      <td>Newcastle United</td>\n",
       "      <td>0</td>\n",
       "      <td>2</td>\n",
       "      <td>64.30</td>\n",
       "      <td>35.70</td>\n",
       "      <td>0.00</td>\n",
       "      <td>4.00</td>\n",
       "      <td>14.00</td>\n",
       "      <td>10.00</td>\n",
       "      <td>778.00</td>\n",
       "      <td>517.00</td>\n",
       "      <td>596.00</td>\n",
       "      <td>333.00</td>\n",
       "      <td>18.00</td>\n",
       "      <td>13.00</td>\n",
       "      <td>13.00</td>\n",
       "      <td>30.00</td>\n",
       "      <td>5.00</td>\n",
       "      <td>4.00</td>\n",
       "      <td>1.00</td>\n",
       "      <td>0.00</td>\n",
       "      <td>1.00</td>\n",
       "      <td>0.00</td>\n",
       "      <td>0.00</td>\n",
       "      <td>0.00</td>\n",
       "      <td>12.00</td>\n",
       "      <td>6.00</td>\n",
       "    </tr>\n",
       "    <tr>\n",
       "      <th>1136</th>\n",
       "      <td>2021-05-23</td>\n",
       "      <td>Arsenal</td>\n",
       "      <td>Brighton and Hove Albion</td>\n",
       "      <td>2</td>\n",
       "      <td>0</td>\n",
       "      <td>53.90</td>\n",
       "      <td>46.10</td>\n",
       "      <td>5.00</td>\n",
       "      <td>1.00</td>\n",
       "      <td>16.00</td>\n",
       "      <td>5.00</td>\n",
       "      <td>727.00</td>\n",
       "      <td>645.00</td>\n",
       "      <td>565.00</td>\n",
       "      <td>489.00</td>\n",
       "      <td>14.00</td>\n",
       "      <td>17.00</td>\n",
       "      <td>10.00</td>\n",
       "      <td>18.00</td>\n",
       "      <td>11.00</td>\n",
       "      <td>3.00</td>\n",
       "      <td>2.00</td>\n",
       "      <td>1.00</td>\n",
       "      <td>0.00</td>\n",
       "      <td>0.00</td>\n",
       "      <td>0.00</td>\n",
       "      <td>0.00</td>\n",
       "      <td>10.00</td>\n",
       "      <td>8.00</td>\n",
       "    </tr>\n",
       "    <tr>\n",
       "      <th>1137</th>\n",
       "      <td>2021-05-23</td>\n",
       "      <td>West Ham United</td>\n",
       "      <td>Southampton</td>\n",
       "      <td>3</td>\n",
       "      <td>0</td>\n",
       "      <td>36.90</td>\n",
       "      <td>63.10</td>\n",
       "      <td>7.00</td>\n",
       "      <td>5.00</td>\n",
       "      <td>14.00</td>\n",
       "      <td>17.00</td>\n",
       "      <td>483.00</td>\n",
       "      <td>715.00</td>\n",
       "      <td>300.00</td>\n",
       "      <td>534.00</td>\n",
       "      <td>12.00</td>\n",
       "      <td>23.00</td>\n",
       "      <td>12.00</td>\n",
       "      <td>11.00</td>\n",
       "      <td>2.00</td>\n",
       "      <td>3.00</td>\n",
       "      <td>5.00</td>\n",
       "      <td>2.00</td>\n",
       "      <td>0.00</td>\n",
       "      <td>3.00</td>\n",
       "      <td>0.00</td>\n",
       "      <td>0.00</td>\n",
       "      <td>5.00</td>\n",
       "      <td>9.00</td>\n",
       "    </tr>\n",
       "    <tr>\n",
       "      <th>1138</th>\n",
       "      <td>2021-05-23</td>\n",
       "      <td>Leeds United</td>\n",
       "      <td>West Bromwich Albion</td>\n",
       "      <td>3</td>\n",
       "      <td>1</td>\n",
       "      <td>64.40</td>\n",
       "      <td>35.60</td>\n",
       "      <td>9.00</td>\n",
       "      <td>5.00</td>\n",
       "      <td>17.00</td>\n",
       "      <td>14.00</td>\n",
       "      <td>685.00</td>\n",
       "      <td>465.00</td>\n",
       "      <td>499.00</td>\n",
       "      <td>268.00</td>\n",
       "      <td>21.00</td>\n",
       "      <td>19.00</td>\n",
       "      <td>11.00</td>\n",
       "      <td>17.00</td>\n",
       "      <td>8.00</td>\n",
       "      <td>3.00</td>\n",
       "      <td>3.00</td>\n",
       "      <td>3.00</td>\n",
       "      <td>2.00</td>\n",
       "      <td>1.00</td>\n",
       "      <td>0.00</td>\n",
       "      <td>0.00</td>\n",
       "      <td>12.00</td>\n",
       "      <td>12.00</td>\n",
       "    </tr>\n",
       "    <tr>\n",
       "      <th>1139</th>\n",
       "      <td>2021-05-23</td>\n",
       "      <td>Wolverhampton Wanderers</td>\n",
       "      <td>Manchester United</td>\n",
       "      <td>1</td>\n",
       "      <td>2</td>\n",
       "      <td>57.20</td>\n",
       "      <td>42.80</td>\n",
       "      <td>4.00</td>\n",
       "      <td>4.00</td>\n",
       "      <td>14.00</td>\n",
       "      <td>9.00</td>\n",
       "      <td>744.00</td>\n",
       "      <td>634.00</td>\n",
       "      <td>571.00</td>\n",
       "      <td>440.00</td>\n",
       "      <td>19.00</td>\n",
       "      <td>14.00</td>\n",
       "      <td>7.00</td>\n",
       "      <td>26.00</td>\n",
       "      <td>6.00</td>\n",
       "      <td>2.00</td>\n",
       "      <td>1.00</td>\n",
       "      <td>1.00</td>\n",
       "      <td>4.00</td>\n",
       "      <td>1.00</td>\n",
       "      <td>0.00</td>\n",
       "      <td>0.00</td>\n",
       "      <td>14.00</td>\n",
       "      <td>3.00</td>\n",
       "    </tr>\n",
       "  </tbody>\n",
       "</table>\n",
       "<p>1140 rows × 29 columns</p>\n",
       "</div>"
      ],
      "text/plain": [
       "           date                home_team                 away_team  \\\n",
       "0    2018-08-11          AFC Bournemouth              Cardiff City   \n",
       "1    2018-08-11                   Fulham            Crystal Palace   \n",
       "2    2018-08-11        Huddersfield Town                   Chelsea   \n",
       "3    2018-08-11        Manchester United            Leicester City   \n",
       "4    2018-08-11         Newcastle United         Tottenham Hotspur   \n",
       "...         ...                      ...                       ...   \n",
       "1135 2021-05-23                   Fulham          Newcastle United   \n",
       "1136 2021-05-23                  Arsenal  Brighton and Hove Albion   \n",
       "1137 2021-05-23          West Ham United               Southampton   \n",
       "1138 2021-05-23             Leeds United      West Bromwich Albion   \n",
       "1139 2021-05-23  Wolverhampton Wanderers         Manchester United   \n",
       "\n",
       "      home_score  away_score  home_possession_%  away_possession_%  \\\n",
       "0              2           0              62.90              37.10   \n",
       "1              0           2              66.30              33.70   \n",
       "2              0           3              37.20              62.80   \n",
       "3              2           1              46.30              53.70   \n",
       "4              1           2              40.40              59.60   \n",
       "...          ...         ...                ...                ...   \n",
       "1135           0           2              64.30              35.70   \n",
       "1136           2           0              53.90              46.10   \n",
       "1137           3           0              36.90              63.10   \n",
       "1138           3           1              64.40              35.60   \n",
       "1139           1           2              57.20              42.80   \n",
       "\n",
       "      home_shots_on_target  away_shots_on_target  home_shots  away_shots  \\\n",
       "0                     4.00                  1.00       12.00       10.00   \n",
       "1                     6.00                 10.00       15.00       12.00   \n",
       "2                     1.00                  4.00        6.00       13.00   \n",
       "3                     6.00                  4.00        8.00       13.00   \n",
       "4                     2.00                  5.00       15.00       15.00   \n",
       "...                    ...                   ...         ...         ...   \n",
       "1135                  0.00                  4.00       14.00       10.00   \n",
       "1136                  5.00                  1.00       16.00        5.00   \n",
       "1137                  7.00                  5.00       14.00       17.00   \n",
       "1138                  9.00                  5.00       17.00       14.00   \n",
       "1139                  4.00                  4.00       14.00        9.00   \n",
       "\n",
       "      home_touches  away_touches  home_passes  away_passes  home_tackles  \\\n",
       "0           711.00        483.00       502.00       287.00         11.00   \n",
       "1           893.00        564.00       672.00       347.00         25.00   \n",
       "2           550.00        856.00       372.00       658.00         25.00   \n",
       "3           697.00        744.00       485.00       543.00         26.00   \n",
       "4           622.00        809.00       387.00       573.00         15.00   \n",
       "...            ...           ...          ...          ...           ...   \n",
       "1135        778.00        517.00       596.00       333.00         18.00   \n",
       "1136        727.00        645.00       565.00       489.00         14.00   \n",
       "1137        483.00        715.00       300.00       534.00         12.00   \n",
       "1138        685.00        465.00       499.00       268.00         21.00   \n",
       "1139        744.00        634.00       571.00       440.00         19.00   \n",
       "\n",
       "      away_tackles  home_clearances  away_clearances  home_corners  \\\n",
       "0            22.00            37.00            30.00          7.00   \n",
       "1            21.00            22.00            30.00          5.00   \n",
       "2            12.00            13.00            21.00          2.00   \n",
       "3            14.00            37.00            14.00          2.00   \n",
       "4            27.00            17.00            43.00          3.00   \n",
       "...            ...              ...              ...           ...   \n",
       "1135         13.00            13.00            30.00          5.00   \n",
       "1136         17.00            10.00            18.00         11.00   \n",
       "1137         23.00            12.00            11.00          2.00   \n",
       "1138         19.00            11.00            17.00          8.00   \n",
       "1139         14.00             7.00            26.00          6.00   \n",
       "\n",
       "      away_corners  home_offsides  away_offsides  home_yellow_cards  \\\n",
       "0             4.00           0.00           2.00               1.00   \n",
       "1             5.00           2.00           3.00               1.00   \n",
       "2             5.00           2.00           1.00               2.00   \n",
       "3             5.00           4.00           2.00               2.00   \n",
       "4             5.00           1.00           0.00               2.00   \n",
       "...            ...            ...            ...                ...   \n",
       "1135          4.00           1.00           0.00               1.00   \n",
       "1136          3.00           2.00           1.00               0.00   \n",
       "1137          3.00           5.00           2.00               0.00   \n",
       "1138          3.00           3.00           3.00               2.00   \n",
       "1139          2.00           1.00           1.00               4.00   \n",
       "\n",
       "      away_yellow_cards  home_red_cards  away_red_cards  home_fouls_conceded  \\\n",
       "0                  1.00            0.00            0.00                11.00   \n",
       "1                  2.00            0.00            0.00                 9.00   \n",
       "2                  1.00            0.00            0.00                 9.00   \n",
       "3                  1.00            0.00            0.00                11.00   \n",
       "4                  2.00            0.00            0.00                11.00   \n",
       "...                 ...             ...             ...                  ...   \n",
       "1135               0.00            0.00            0.00                12.00   \n",
       "1136               0.00            0.00            0.00                10.00   \n",
       "1137               3.00            0.00            0.00                 5.00   \n",
       "1138               1.00            0.00            0.00                12.00   \n",
       "1139               1.00            0.00            0.00                14.00   \n",
       "\n",
       "      away_fouls_conceded  \n",
       "0                    9.00  \n",
       "1                   11.00  \n",
       "2                    8.00  \n",
       "3                    8.00  \n",
       "4                   12.00  \n",
       "...                   ...  \n",
       "1135                 6.00  \n",
       "1136                 8.00  \n",
       "1137                 9.00  \n",
       "1138                12.00  \n",
       "1139                 3.00  \n",
       "\n",
       "[1140 rows x 29 columns]"
      ]
     },
     "execution_count": 110,
     "metadata": {},
     "output_type": "execute_result"
    }
   ],
   "source": [
    "#sorting dataframe by the date\n",
    "df = df.sort_values(by='date', ascending=True, ignore_index=True)\n",
    "df"
   ]
  },
  {
   "cell_type": "markdown",
   "metadata": {},
   "source": [
    "Adding some relevant variables:\n",
    "- Shot on Target % (SoT_%) = Shots on Target / Shots (Home/Away)\n",
    "- Quantity Conversion Rate (QuanCR_%) = Goals / Shots (Home/Away)\n",
    "- Quality Conversion Rate (QualCR_%) = Goals / Shots on Target (Home/Away)\n",
    "- Points (pts) = 3 if a team win, 1 if a match draw, 0 if a team lose"
   ]
  },
  {
   "cell_type": "code",
   "execution_count": 111,
   "metadata": {},
   "outputs": [],
   "source": [
    "df['home_SoT_%']= df['home_shots_on_target']/df['home_shots']*100\n",
    "df['away_SoT_%']= df['away_shots_on_target']/df['away_shots']*100\n",
    "df['home_QuanCR_%'] = df['home_score']/df['home_shots']*100\n",
    "df['away_QuanCR_%'] = df['away_score']/df['away_shots']*100\n",
    "df['home_QualCR_%'] = df['home_score']/df['home_shots_on_target']*100\n",
    "df['away_QualCR_%'] = df['away_score']/df['away_shots_on_target']*100\n",
    "\n",
    "for i in range(len(df)):\n",
    "    if df.loc[i,'home_score']>df.loc[i,'away_score']:\n",
    "        df.loc[i,'home_pts'] = 3\n",
    "        df.loc[i,'away_pts'] = 0\n",
    "    elif df.loc[i,'home_score']==df.loc[i,'away_score']:\n",
    "        df.loc[i,'home_pts'] = 1\n",
    "        df.loc[i,'away_pts'] = 1\n",
    "    else:\n",
    "        df.loc[i,'home_pts'] = 0\n",
    "        df.loc[i,'away_pts'] = 3\n",
    "\n",
    "\n",
    "#There will be nan value, a product of 0/0. Replace or fill the na value with 0.\n",
    "df = df.fillna(0, axis=1)"
   ]
  },
  {
   "cell_type": "code",
   "execution_count": 112,
   "metadata": {},
   "outputs": [
    {
     "data": {
      "text/html": [
       "<div>\n",
       "<style scoped>\n",
       "    .dataframe tbody tr th:only-of-type {\n",
       "        vertical-align: middle;\n",
       "    }\n",
       "\n",
       "    .dataframe tbody tr th {\n",
       "        vertical-align: top;\n",
       "    }\n",
       "\n",
       "    .dataframe thead th {\n",
       "        text-align: right;\n",
       "    }\n",
       "</style>\n",
       "<table border=\"1\" class=\"dataframe\">\n",
       "  <thead>\n",
       "    <tr style=\"text-align: right;\">\n",
       "      <th></th>\n",
       "      <th>date</th>\n",
       "      <th>home_team</th>\n",
       "      <th>away_team</th>\n",
       "      <th>home_score</th>\n",
       "      <th>away_score</th>\n",
       "      <th>home_possession_%</th>\n",
       "      <th>away_possession_%</th>\n",
       "      <th>home_shots_on_target</th>\n",
       "      <th>away_shots_on_target</th>\n",
       "      <th>home_shots</th>\n",
       "      <th>away_shots</th>\n",
       "      <th>home_touches</th>\n",
       "      <th>away_touches</th>\n",
       "      <th>home_passes</th>\n",
       "      <th>away_passes</th>\n",
       "      <th>home_tackles</th>\n",
       "      <th>away_tackles</th>\n",
       "      <th>home_clearances</th>\n",
       "      <th>away_clearances</th>\n",
       "      <th>home_corners</th>\n",
       "      <th>away_corners</th>\n",
       "      <th>home_offsides</th>\n",
       "      <th>away_offsides</th>\n",
       "      <th>home_yellow_cards</th>\n",
       "      <th>away_yellow_cards</th>\n",
       "      <th>home_red_cards</th>\n",
       "      <th>away_red_cards</th>\n",
       "      <th>home_fouls_conceded</th>\n",
       "      <th>away_fouls_conceded</th>\n",
       "      <th>home_SoT_%</th>\n",
       "      <th>away_SoT_%</th>\n",
       "      <th>home_QuanCR_%</th>\n",
       "      <th>away_QuanCR_%</th>\n",
       "      <th>home_QualCR_%</th>\n",
       "      <th>away_QualCR_%</th>\n",
       "      <th>home_pts</th>\n",
       "      <th>away_pts</th>\n",
       "    </tr>\n",
       "  </thead>\n",
       "  <tbody>\n",
       "    <tr>\n",
       "      <th>0</th>\n",
       "      <td>2018-08-11</td>\n",
       "      <td>AFC Bournemouth</td>\n",
       "      <td>Cardiff City</td>\n",
       "      <td>2</td>\n",
       "      <td>0</td>\n",
       "      <td>62.90</td>\n",
       "      <td>37.10</td>\n",
       "      <td>4.00</td>\n",
       "      <td>1.00</td>\n",
       "      <td>12.00</td>\n",
       "      <td>10.00</td>\n",
       "      <td>711.00</td>\n",
       "      <td>483.00</td>\n",
       "      <td>502.00</td>\n",
       "      <td>287.00</td>\n",
       "      <td>11.00</td>\n",
       "      <td>22.00</td>\n",
       "      <td>37.00</td>\n",
       "      <td>30.00</td>\n",
       "      <td>7.00</td>\n",
       "      <td>4.00</td>\n",
       "      <td>0.00</td>\n",
       "      <td>2.00</td>\n",
       "      <td>1.00</td>\n",
       "      <td>1.00</td>\n",
       "      <td>0.00</td>\n",
       "      <td>0.00</td>\n",
       "      <td>11.00</td>\n",
       "      <td>9.00</td>\n",
       "      <td>33.33</td>\n",
       "      <td>10.00</td>\n",
       "      <td>16.67</td>\n",
       "      <td>0.00</td>\n",
       "      <td>50.00</td>\n",
       "      <td>0.00</td>\n",
       "      <td>3.00</td>\n",
       "      <td>0.00</td>\n",
       "    </tr>\n",
       "    <tr>\n",
       "      <th>1</th>\n",
       "      <td>2018-08-11</td>\n",
       "      <td>Fulham</td>\n",
       "      <td>Crystal Palace</td>\n",
       "      <td>0</td>\n",
       "      <td>2</td>\n",
       "      <td>66.30</td>\n",
       "      <td>33.70</td>\n",
       "      <td>6.00</td>\n",
       "      <td>10.00</td>\n",
       "      <td>15.00</td>\n",
       "      <td>12.00</td>\n",
       "      <td>893.00</td>\n",
       "      <td>564.00</td>\n",
       "      <td>672.00</td>\n",
       "      <td>347.00</td>\n",
       "      <td>25.00</td>\n",
       "      <td>21.00</td>\n",
       "      <td>22.00</td>\n",
       "      <td>30.00</td>\n",
       "      <td>5.00</td>\n",
       "      <td>5.00</td>\n",
       "      <td>2.00</td>\n",
       "      <td>3.00</td>\n",
       "      <td>1.00</td>\n",
       "      <td>2.00</td>\n",
       "      <td>0.00</td>\n",
       "      <td>0.00</td>\n",
       "      <td>9.00</td>\n",
       "      <td>11.00</td>\n",
       "      <td>40.00</td>\n",
       "      <td>83.33</td>\n",
       "      <td>0.00</td>\n",
       "      <td>16.67</td>\n",
       "      <td>0.00</td>\n",
       "      <td>20.00</td>\n",
       "      <td>0.00</td>\n",
       "      <td>3.00</td>\n",
       "    </tr>\n",
       "    <tr>\n",
       "      <th>2</th>\n",
       "      <td>2018-08-11</td>\n",
       "      <td>Huddersfield Town</td>\n",
       "      <td>Chelsea</td>\n",
       "      <td>0</td>\n",
       "      <td>3</td>\n",
       "      <td>37.20</td>\n",
       "      <td>62.80</td>\n",
       "      <td>1.00</td>\n",
       "      <td>4.00</td>\n",
       "      <td>6.00</td>\n",
       "      <td>13.00</td>\n",
       "      <td>550.00</td>\n",
       "      <td>856.00</td>\n",
       "      <td>372.00</td>\n",
       "      <td>658.00</td>\n",
       "      <td>25.00</td>\n",
       "      <td>12.00</td>\n",
       "      <td>13.00</td>\n",
       "      <td>21.00</td>\n",
       "      <td>2.00</td>\n",
       "      <td>5.00</td>\n",
       "      <td>2.00</td>\n",
       "      <td>1.00</td>\n",
       "      <td>2.00</td>\n",
       "      <td>1.00</td>\n",
       "      <td>0.00</td>\n",
       "      <td>0.00</td>\n",
       "      <td>9.00</td>\n",
       "      <td>8.00</td>\n",
       "      <td>16.67</td>\n",
       "      <td>30.77</td>\n",
       "      <td>0.00</td>\n",
       "      <td>23.08</td>\n",
       "      <td>0.00</td>\n",
       "      <td>75.00</td>\n",
       "      <td>0.00</td>\n",
       "      <td>3.00</td>\n",
       "    </tr>\n",
       "    <tr>\n",
       "      <th>3</th>\n",
       "      <td>2018-08-11</td>\n",
       "      <td>Manchester United</td>\n",
       "      <td>Leicester City</td>\n",
       "      <td>2</td>\n",
       "      <td>1</td>\n",
       "      <td>46.30</td>\n",
       "      <td>53.70</td>\n",
       "      <td>6.00</td>\n",
       "      <td>4.00</td>\n",
       "      <td>8.00</td>\n",
       "      <td>13.00</td>\n",
       "      <td>697.00</td>\n",
       "      <td>744.00</td>\n",
       "      <td>485.00</td>\n",
       "      <td>543.00</td>\n",
       "      <td>26.00</td>\n",
       "      <td>14.00</td>\n",
       "      <td>37.00</td>\n",
       "      <td>14.00</td>\n",
       "      <td>2.00</td>\n",
       "      <td>5.00</td>\n",
       "      <td>4.00</td>\n",
       "      <td>2.00</td>\n",
       "      <td>2.00</td>\n",
       "      <td>1.00</td>\n",
       "      <td>0.00</td>\n",
       "      <td>0.00</td>\n",
       "      <td>11.00</td>\n",
       "      <td>8.00</td>\n",
       "      <td>75.00</td>\n",
       "      <td>30.77</td>\n",
       "      <td>25.00</td>\n",
       "      <td>7.69</td>\n",
       "      <td>33.33</td>\n",
       "      <td>25.00</td>\n",
       "      <td>3.00</td>\n",
       "      <td>0.00</td>\n",
       "    </tr>\n",
       "    <tr>\n",
       "      <th>4</th>\n",
       "      <td>2018-08-11</td>\n",
       "      <td>Newcastle United</td>\n",
       "      <td>Tottenham Hotspur</td>\n",
       "      <td>1</td>\n",
       "      <td>2</td>\n",
       "      <td>40.40</td>\n",
       "      <td>59.60</td>\n",
       "      <td>2.00</td>\n",
       "      <td>5.00</td>\n",
       "      <td>15.00</td>\n",
       "      <td>15.00</td>\n",
       "      <td>622.00</td>\n",
       "      <td>809.00</td>\n",
       "      <td>387.00</td>\n",
       "      <td>573.00</td>\n",
       "      <td>15.00</td>\n",
       "      <td>27.00</td>\n",
       "      <td>17.00</td>\n",
       "      <td>43.00</td>\n",
       "      <td>3.00</td>\n",
       "      <td>5.00</td>\n",
       "      <td>1.00</td>\n",
       "      <td>0.00</td>\n",
       "      <td>2.00</td>\n",
       "      <td>2.00</td>\n",
       "      <td>0.00</td>\n",
       "      <td>0.00</td>\n",
       "      <td>11.00</td>\n",
       "      <td>12.00</td>\n",
       "      <td>13.33</td>\n",
       "      <td>33.33</td>\n",
       "      <td>6.67</td>\n",
       "      <td>13.33</td>\n",
       "      <td>50.00</td>\n",
       "      <td>40.00</td>\n",
       "      <td>0.00</td>\n",
       "      <td>3.00</td>\n",
       "    </tr>\n",
       "    <tr>\n",
       "      <th>...</th>\n",
       "      <td>...</td>\n",
       "      <td>...</td>\n",
       "      <td>...</td>\n",
       "      <td>...</td>\n",
       "      <td>...</td>\n",
       "      <td>...</td>\n",
       "      <td>...</td>\n",
       "      <td>...</td>\n",
       "      <td>...</td>\n",
       "      <td>...</td>\n",
       "      <td>...</td>\n",
       "      <td>...</td>\n",
       "      <td>...</td>\n",
       "      <td>...</td>\n",
       "      <td>...</td>\n",
       "      <td>...</td>\n",
       "      <td>...</td>\n",
       "      <td>...</td>\n",
       "      <td>...</td>\n",
       "      <td>...</td>\n",
       "      <td>...</td>\n",
       "      <td>...</td>\n",
       "      <td>...</td>\n",
       "      <td>...</td>\n",
       "      <td>...</td>\n",
       "      <td>...</td>\n",
       "      <td>...</td>\n",
       "      <td>...</td>\n",
       "      <td>...</td>\n",
       "      <td>...</td>\n",
       "      <td>...</td>\n",
       "      <td>...</td>\n",
       "      <td>...</td>\n",
       "      <td>...</td>\n",
       "      <td>...</td>\n",
       "      <td>...</td>\n",
       "      <td>...</td>\n",
       "    </tr>\n",
       "    <tr>\n",
       "      <th>1135</th>\n",
       "      <td>2021-05-23</td>\n",
       "      <td>Fulham</td>\n",
       "      <td>Newcastle United</td>\n",
       "      <td>0</td>\n",
       "      <td>2</td>\n",
       "      <td>64.30</td>\n",
       "      <td>35.70</td>\n",
       "      <td>0.00</td>\n",
       "      <td>4.00</td>\n",
       "      <td>14.00</td>\n",
       "      <td>10.00</td>\n",
       "      <td>778.00</td>\n",
       "      <td>517.00</td>\n",
       "      <td>596.00</td>\n",
       "      <td>333.00</td>\n",
       "      <td>18.00</td>\n",
       "      <td>13.00</td>\n",
       "      <td>13.00</td>\n",
       "      <td>30.00</td>\n",
       "      <td>5.00</td>\n",
       "      <td>4.00</td>\n",
       "      <td>1.00</td>\n",
       "      <td>0.00</td>\n",
       "      <td>1.00</td>\n",
       "      <td>0.00</td>\n",
       "      <td>0.00</td>\n",
       "      <td>0.00</td>\n",
       "      <td>12.00</td>\n",
       "      <td>6.00</td>\n",
       "      <td>0.00</td>\n",
       "      <td>40.00</td>\n",
       "      <td>0.00</td>\n",
       "      <td>20.00</td>\n",
       "      <td>0.00</td>\n",
       "      <td>50.00</td>\n",
       "      <td>0.00</td>\n",
       "      <td>3.00</td>\n",
       "    </tr>\n",
       "    <tr>\n",
       "      <th>1136</th>\n",
       "      <td>2021-05-23</td>\n",
       "      <td>Arsenal</td>\n",
       "      <td>Brighton and Hove Albion</td>\n",
       "      <td>2</td>\n",
       "      <td>0</td>\n",
       "      <td>53.90</td>\n",
       "      <td>46.10</td>\n",
       "      <td>5.00</td>\n",
       "      <td>1.00</td>\n",
       "      <td>16.00</td>\n",
       "      <td>5.00</td>\n",
       "      <td>727.00</td>\n",
       "      <td>645.00</td>\n",
       "      <td>565.00</td>\n",
       "      <td>489.00</td>\n",
       "      <td>14.00</td>\n",
       "      <td>17.00</td>\n",
       "      <td>10.00</td>\n",
       "      <td>18.00</td>\n",
       "      <td>11.00</td>\n",
       "      <td>3.00</td>\n",
       "      <td>2.00</td>\n",
       "      <td>1.00</td>\n",
       "      <td>0.00</td>\n",
       "      <td>0.00</td>\n",
       "      <td>0.00</td>\n",
       "      <td>0.00</td>\n",
       "      <td>10.00</td>\n",
       "      <td>8.00</td>\n",
       "      <td>31.25</td>\n",
       "      <td>20.00</td>\n",
       "      <td>12.50</td>\n",
       "      <td>0.00</td>\n",
       "      <td>40.00</td>\n",
       "      <td>0.00</td>\n",
       "      <td>3.00</td>\n",
       "      <td>0.00</td>\n",
       "    </tr>\n",
       "    <tr>\n",
       "      <th>1137</th>\n",
       "      <td>2021-05-23</td>\n",
       "      <td>West Ham United</td>\n",
       "      <td>Southampton</td>\n",
       "      <td>3</td>\n",
       "      <td>0</td>\n",
       "      <td>36.90</td>\n",
       "      <td>63.10</td>\n",
       "      <td>7.00</td>\n",
       "      <td>5.00</td>\n",
       "      <td>14.00</td>\n",
       "      <td>17.00</td>\n",
       "      <td>483.00</td>\n",
       "      <td>715.00</td>\n",
       "      <td>300.00</td>\n",
       "      <td>534.00</td>\n",
       "      <td>12.00</td>\n",
       "      <td>23.00</td>\n",
       "      <td>12.00</td>\n",
       "      <td>11.00</td>\n",
       "      <td>2.00</td>\n",
       "      <td>3.00</td>\n",
       "      <td>5.00</td>\n",
       "      <td>2.00</td>\n",
       "      <td>0.00</td>\n",
       "      <td>3.00</td>\n",
       "      <td>0.00</td>\n",
       "      <td>0.00</td>\n",
       "      <td>5.00</td>\n",
       "      <td>9.00</td>\n",
       "      <td>50.00</td>\n",
       "      <td>29.41</td>\n",
       "      <td>21.43</td>\n",
       "      <td>0.00</td>\n",
       "      <td>42.86</td>\n",
       "      <td>0.00</td>\n",
       "      <td>3.00</td>\n",
       "      <td>0.00</td>\n",
       "    </tr>\n",
       "    <tr>\n",
       "      <th>1138</th>\n",
       "      <td>2021-05-23</td>\n",
       "      <td>Leeds United</td>\n",
       "      <td>West Bromwich Albion</td>\n",
       "      <td>3</td>\n",
       "      <td>1</td>\n",
       "      <td>64.40</td>\n",
       "      <td>35.60</td>\n",
       "      <td>9.00</td>\n",
       "      <td>5.00</td>\n",
       "      <td>17.00</td>\n",
       "      <td>14.00</td>\n",
       "      <td>685.00</td>\n",
       "      <td>465.00</td>\n",
       "      <td>499.00</td>\n",
       "      <td>268.00</td>\n",
       "      <td>21.00</td>\n",
       "      <td>19.00</td>\n",
       "      <td>11.00</td>\n",
       "      <td>17.00</td>\n",
       "      <td>8.00</td>\n",
       "      <td>3.00</td>\n",
       "      <td>3.00</td>\n",
       "      <td>3.00</td>\n",
       "      <td>2.00</td>\n",
       "      <td>1.00</td>\n",
       "      <td>0.00</td>\n",
       "      <td>0.00</td>\n",
       "      <td>12.00</td>\n",
       "      <td>12.00</td>\n",
       "      <td>52.94</td>\n",
       "      <td>35.71</td>\n",
       "      <td>17.65</td>\n",
       "      <td>7.14</td>\n",
       "      <td>33.33</td>\n",
       "      <td>20.00</td>\n",
       "      <td>3.00</td>\n",
       "      <td>0.00</td>\n",
       "    </tr>\n",
       "    <tr>\n",
       "      <th>1139</th>\n",
       "      <td>2021-05-23</td>\n",
       "      <td>Wolverhampton Wanderers</td>\n",
       "      <td>Manchester United</td>\n",
       "      <td>1</td>\n",
       "      <td>2</td>\n",
       "      <td>57.20</td>\n",
       "      <td>42.80</td>\n",
       "      <td>4.00</td>\n",
       "      <td>4.00</td>\n",
       "      <td>14.00</td>\n",
       "      <td>9.00</td>\n",
       "      <td>744.00</td>\n",
       "      <td>634.00</td>\n",
       "      <td>571.00</td>\n",
       "      <td>440.00</td>\n",
       "      <td>19.00</td>\n",
       "      <td>14.00</td>\n",
       "      <td>7.00</td>\n",
       "      <td>26.00</td>\n",
       "      <td>6.00</td>\n",
       "      <td>2.00</td>\n",
       "      <td>1.00</td>\n",
       "      <td>1.00</td>\n",
       "      <td>4.00</td>\n",
       "      <td>1.00</td>\n",
       "      <td>0.00</td>\n",
       "      <td>0.00</td>\n",
       "      <td>14.00</td>\n",
       "      <td>3.00</td>\n",
       "      <td>28.57</td>\n",
       "      <td>44.44</td>\n",
       "      <td>7.14</td>\n",
       "      <td>22.22</td>\n",
       "      <td>25.00</td>\n",
       "      <td>50.00</td>\n",
       "      <td>0.00</td>\n",
       "      <td>3.00</td>\n",
       "    </tr>\n",
       "  </tbody>\n",
       "</table>\n",
       "<p>1140 rows × 37 columns</p>\n",
       "</div>"
      ],
      "text/plain": [
       "           date                home_team                 away_team  \\\n",
       "0    2018-08-11          AFC Bournemouth              Cardiff City   \n",
       "1    2018-08-11                   Fulham            Crystal Palace   \n",
       "2    2018-08-11        Huddersfield Town                   Chelsea   \n",
       "3    2018-08-11        Manchester United            Leicester City   \n",
       "4    2018-08-11         Newcastle United         Tottenham Hotspur   \n",
       "...         ...                      ...                       ...   \n",
       "1135 2021-05-23                   Fulham          Newcastle United   \n",
       "1136 2021-05-23                  Arsenal  Brighton and Hove Albion   \n",
       "1137 2021-05-23          West Ham United               Southampton   \n",
       "1138 2021-05-23             Leeds United      West Bromwich Albion   \n",
       "1139 2021-05-23  Wolverhampton Wanderers         Manchester United   \n",
       "\n",
       "      home_score  away_score  home_possession_%  away_possession_%  \\\n",
       "0              2           0              62.90              37.10   \n",
       "1              0           2              66.30              33.70   \n",
       "2              0           3              37.20              62.80   \n",
       "3              2           1              46.30              53.70   \n",
       "4              1           2              40.40              59.60   \n",
       "...          ...         ...                ...                ...   \n",
       "1135           0           2              64.30              35.70   \n",
       "1136           2           0              53.90              46.10   \n",
       "1137           3           0              36.90              63.10   \n",
       "1138           3           1              64.40              35.60   \n",
       "1139           1           2              57.20              42.80   \n",
       "\n",
       "      home_shots_on_target  away_shots_on_target  home_shots  away_shots  \\\n",
       "0                     4.00                  1.00       12.00       10.00   \n",
       "1                     6.00                 10.00       15.00       12.00   \n",
       "2                     1.00                  4.00        6.00       13.00   \n",
       "3                     6.00                  4.00        8.00       13.00   \n",
       "4                     2.00                  5.00       15.00       15.00   \n",
       "...                    ...                   ...         ...         ...   \n",
       "1135                  0.00                  4.00       14.00       10.00   \n",
       "1136                  5.00                  1.00       16.00        5.00   \n",
       "1137                  7.00                  5.00       14.00       17.00   \n",
       "1138                  9.00                  5.00       17.00       14.00   \n",
       "1139                  4.00                  4.00       14.00        9.00   \n",
       "\n",
       "      home_touches  away_touches  home_passes  away_passes  home_tackles  \\\n",
       "0           711.00        483.00       502.00       287.00         11.00   \n",
       "1           893.00        564.00       672.00       347.00         25.00   \n",
       "2           550.00        856.00       372.00       658.00         25.00   \n",
       "3           697.00        744.00       485.00       543.00         26.00   \n",
       "4           622.00        809.00       387.00       573.00         15.00   \n",
       "...            ...           ...          ...          ...           ...   \n",
       "1135        778.00        517.00       596.00       333.00         18.00   \n",
       "1136        727.00        645.00       565.00       489.00         14.00   \n",
       "1137        483.00        715.00       300.00       534.00         12.00   \n",
       "1138        685.00        465.00       499.00       268.00         21.00   \n",
       "1139        744.00        634.00       571.00       440.00         19.00   \n",
       "\n",
       "      away_tackles  home_clearances  away_clearances  home_corners  \\\n",
       "0            22.00            37.00            30.00          7.00   \n",
       "1            21.00            22.00            30.00          5.00   \n",
       "2            12.00            13.00            21.00          2.00   \n",
       "3            14.00            37.00            14.00          2.00   \n",
       "4            27.00            17.00            43.00          3.00   \n",
       "...            ...              ...              ...           ...   \n",
       "1135         13.00            13.00            30.00          5.00   \n",
       "1136         17.00            10.00            18.00         11.00   \n",
       "1137         23.00            12.00            11.00          2.00   \n",
       "1138         19.00            11.00            17.00          8.00   \n",
       "1139         14.00             7.00            26.00          6.00   \n",
       "\n",
       "      away_corners  home_offsides  away_offsides  home_yellow_cards  \\\n",
       "0             4.00           0.00           2.00               1.00   \n",
       "1             5.00           2.00           3.00               1.00   \n",
       "2             5.00           2.00           1.00               2.00   \n",
       "3             5.00           4.00           2.00               2.00   \n",
       "4             5.00           1.00           0.00               2.00   \n",
       "...            ...            ...            ...                ...   \n",
       "1135          4.00           1.00           0.00               1.00   \n",
       "1136          3.00           2.00           1.00               0.00   \n",
       "1137          3.00           5.00           2.00               0.00   \n",
       "1138          3.00           3.00           3.00               2.00   \n",
       "1139          2.00           1.00           1.00               4.00   \n",
       "\n",
       "      away_yellow_cards  home_red_cards  away_red_cards  home_fouls_conceded  \\\n",
       "0                  1.00            0.00            0.00                11.00   \n",
       "1                  2.00            0.00            0.00                 9.00   \n",
       "2                  1.00            0.00            0.00                 9.00   \n",
       "3                  1.00            0.00            0.00                11.00   \n",
       "4                  2.00            0.00            0.00                11.00   \n",
       "...                 ...             ...             ...                  ...   \n",
       "1135               0.00            0.00            0.00                12.00   \n",
       "1136               0.00            0.00            0.00                10.00   \n",
       "1137               3.00            0.00            0.00                 5.00   \n",
       "1138               1.00            0.00            0.00                12.00   \n",
       "1139               1.00            0.00            0.00                14.00   \n",
       "\n",
       "      away_fouls_conceded  home_SoT_%  away_SoT_%  home_QuanCR_%  \\\n",
       "0                    9.00       33.33       10.00          16.67   \n",
       "1                   11.00       40.00       83.33           0.00   \n",
       "2                    8.00       16.67       30.77           0.00   \n",
       "3                    8.00       75.00       30.77          25.00   \n",
       "4                   12.00       13.33       33.33           6.67   \n",
       "...                   ...         ...         ...            ...   \n",
       "1135                 6.00        0.00       40.00           0.00   \n",
       "1136                 8.00       31.25       20.00          12.50   \n",
       "1137                 9.00       50.00       29.41          21.43   \n",
       "1138                12.00       52.94       35.71          17.65   \n",
       "1139                 3.00       28.57       44.44           7.14   \n",
       "\n",
       "      away_QuanCR_%  home_QualCR_%  away_QualCR_%  home_pts  away_pts  \n",
       "0              0.00          50.00           0.00      3.00      0.00  \n",
       "1             16.67           0.00          20.00      0.00      3.00  \n",
       "2             23.08           0.00          75.00      0.00      3.00  \n",
       "3              7.69          33.33          25.00      3.00      0.00  \n",
       "4             13.33          50.00          40.00      0.00      3.00  \n",
       "...             ...            ...            ...       ...       ...  \n",
       "1135          20.00           0.00          50.00      0.00      3.00  \n",
       "1136           0.00          40.00           0.00      3.00      0.00  \n",
       "1137           0.00          42.86           0.00      3.00      0.00  \n",
       "1138           7.14          33.33          20.00      3.00      0.00  \n",
       "1139          22.22          25.00          50.00      0.00      3.00  \n",
       "\n",
       "[1140 rows x 37 columns]"
      ]
     },
     "execution_count": 112,
     "metadata": {},
     "output_type": "execute_result"
    }
   ],
   "source": [
    "df"
   ]
  },
  {
   "cell_type": "markdown",
   "metadata": {},
   "source": [
    "Last matchweek before covid-19 attendance/crowd prohibition: \n",
    "   Matchweek 29: 10 March 2020 Leicester vs Aston Villa"
   ]
  },
  {
   "cell_type": "code",
   "execution_count": 113,
   "metadata": {},
   "outputs": [],
   "source": [
    "#last match before covid-19 suspension\n",
    "last_idx = df.loc[df['date']=='2020-03-10'].index[0]"
   ]
  },
  {
   "cell_type": "code",
   "execution_count": 114,
   "metadata": {},
   "outputs": [],
   "source": [
    "#partitioning data before and after covid-19 suspension\n",
    "pre_covid_data = df[:last_idx+1]\n",
    "post_covid_data = df[last_idx+1:]"
   ]
  },
  {
   "cell_type": "markdown",
   "metadata": {},
   "source": [
    "2018/2019 relegated teams:\n",
    "- Fulham\n",
    "- Cardiff City\n",
    "- Huddersfield Town\n",
    "\n",
    "2019/2020 promoted teams:\n",
    "- Norwich City\n",
    "- Sheffield Utd\n",
    "- Aston Villa\n",
    "\n",
    "2019/2020 relegated teams:\n",
    "- Bournemouth\n",
    "- Watford\n",
    "- Norwich City\n",
    "\n",
    "2020/2021 promoted teams:\n",
    "- Leeds Utd\n",
    "- West Brom\n",
    "- Fulham"
   ]
  },
  {
   "cell_type": "code",
   "execution_count": 115,
   "metadata": {},
   "outputs": [],
   "source": [
    "all_teams = list(df['home_team'].unique())\n",
    "relegated_promoted_teams = ['Fulham', 'Huddersfield Town', 'Cardiff City', \n",
    "                  'Norwich City', 'Sheffield United', 'Aston Villa', \n",
    "                  'AFC Bournemouth', 'Watford', 'Leeds United', 'West Bromwich Albion']\n",
    "\n",
    "#stayed_teams = list(set(all_teams)-set(relegated_promoted_teams))\n",
    "stayed_teams = [team for team in all_teams if team not in relegated_promoted_teams]"
   ]
  },
  {
   "cell_type": "code",
   "execution_count": 116,
   "metadata": {},
   "outputs": [
    {
     "data": {
      "text/html": [
       "<div>\n",
       "<style scoped>\n",
       "    .dataframe tbody tr th:only-of-type {\n",
       "        vertical-align: middle;\n",
       "    }\n",
       "\n",
       "    .dataframe tbody tr th {\n",
       "        vertical-align: top;\n",
       "    }\n",
       "\n",
       "    .dataframe thead th {\n",
       "        text-align: right;\n",
       "    }\n",
       "</style>\n",
       "<table border=\"1\" class=\"dataframe\">\n",
       "  <thead>\n",
       "    <tr style=\"text-align: right;\">\n",
       "      <th></th>\n",
       "      <th>home_team</th>\n",
       "      <th>avg_pts_before</th>\n",
       "      <th>avg_pts_after</th>\n",
       "    </tr>\n",
       "  </thead>\n",
       "  <tbody>\n",
       "    <tr>\n",
       "      <th>0</th>\n",
       "      <td>Manchester United</td>\n",
       "      <td>1.91</td>\n",
       "      <td>1.70</td>\n",
       "    </tr>\n",
       "    <tr>\n",
       "      <th>1</th>\n",
       "      <td>Newcastle United</td>\n",
       "      <td>1.39</td>\n",
       "      <td>1.17</td>\n",
       "    </tr>\n",
       "    <tr>\n",
       "      <th>2</th>\n",
       "      <td>Wolverhampton Wanderers</td>\n",
       "      <td>1.65</td>\n",
       "      <td>1.48</td>\n",
       "    </tr>\n",
       "    <tr>\n",
       "      <th>3</th>\n",
       "      <td>Arsenal</td>\n",
       "      <td>2.09</td>\n",
       "      <td>1.65</td>\n",
       "    </tr>\n",
       "    <tr>\n",
       "      <th>4</th>\n",
       "      <td>Liverpool</td>\n",
       "      <td>2.88</td>\n",
       "      <td>1.87</td>\n",
       "    </tr>\n",
       "    <tr>\n",
       "      <th>5</th>\n",
       "      <td>Southampton</td>\n",
       "      <td>1.09</td>\n",
       "      <td>1.48</td>\n",
       "    </tr>\n",
       "    <tr>\n",
       "      <th>6</th>\n",
       "      <td>West Ham United</td>\n",
       "      <td>1.39</td>\n",
       "      <td>1.71</td>\n",
       "    </tr>\n",
       "    <tr>\n",
       "      <th>7</th>\n",
       "      <td>Tottenham Hotspur</td>\n",
       "      <td>1.94</td>\n",
       "      <td>1.92</td>\n",
       "    </tr>\n",
       "    <tr>\n",
       "      <th>8</th>\n",
       "      <td>Everton</td>\n",
       "      <td>1.79</td>\n",
       "      <td>1.17</td>\n",
       "    </tr>\n",
       "    <tr>\n",
       "      <th>9</th>\n",
       "      <td>Leicester City</td>\n",
       "      <td>1.68</td>\n",
       "      <td>1.52</td>\n",
       "    </tr>\n",
       "    <tr>\n",
       "      <th>10</th>\n",
       "      <td>Chelsea</td>\n",
       "      <td>1.94</td>\n",
       "      <td>1.96</td>\n",
       "    </tr>\n",
       "    <tr>\n",
       "      <th>11</th>\n",
       "      <td>Manchester City</td>\n",
       "      <td>2.59</td>\n",
       "      <td>2.36</td>\n",
       "    </tr>\n",
       "    <tr>\n",
       "      <th>12</th>\n",
       "      <td>Burnley</td>\n",
       "      <td>1.35</td>\n",
       "      <td>1.00</td>\n",
       "    </tr>\n",
       "    <tr>\n",
       "      <th>13</th>\n",
       "      <td>Brighton and Hove Albion</td>\n",
       "      <td>1.24</td>\n",
       "      <td>1.04</td>\n",
       "    </tr>\n",
       "    <tr>\n",
       "      <th>14</th>\n",
       "      <td>Crystal Palace</td>\n",
       "      <td>1.24</td>\n",
       "      <td>1.04</td>\n",
       "    </tr>\n",
       "  </tbody>\n",
       "</table>\n",
       "</div>"
      ],
      "text/plain": [
       "                   home_team  avg_pts_before  avg_pts_after\n",
       "0          Manchester United            1.91           1.70\n",
       "1           Newcastle United            1.39           1.17\n",
       "2    Wolverhampton Wanderers            1.65           1.48\n",
       "3                    Arsenal            2.09           1.65\n",
       "4                  Liverpool            2.88           1.87\n",
       "5                Southampton            1.09           1.48\n",
       "6            West Ham United            1.39           1.71\n",
       "7          Tottenham Hotspur            1.94           1.92\n",
       "8                    Everton            1.79           1.17\n",
       "9             Leicester City            1.68           1.52\n",
       "10                   Chelsea            1.94           1.96\n",
       "11           Manchester City            2.59           2.36\n",
       "12                   Burnley            1.35           1.00\n",
       "13  Brighton and Hove Albion            1.24           1.04\n",
       "14            Crystal Palace            1.24           1.04"
      ]
     },
     "execution_count": 116,
     "metadata": {},
     "output_type": "execute_result"
    }
   ],
   "source": [
    "home_pre_covid_pts = pre_covid_data.groupby(['home_team']).agg(avg_pts_before = ('home_pts','mean')).loc[stayed_teams].reset_index()\n",
    "home_post_covid_pts = post_covid_data.groupby(['home_team']).agg(avg_pts_after = ('home_pts','mean')).loc[stayed_teams].reset_index()\n",
    "home_df = home_pre_covid_pts.merge(home_post_covid_pts,on='home_team')\n",
    "home_df"
   ]
  },
  {
   "cell_type": "code",
   "execution_count": 117,
   "metadata": {},
   "outputs": [
    {
     "data": {
      "text/html": [
       "<div>\n",
       "<style scoped>\n",
       "    .dataframe tbody tr th:only-of-type {\n",
       "        vertical-align: middle;\n",
       "    }\n",
       "\n",
       "    .dataframe tbody tr th {\n",
       "        vertical-align: top;\n",
       "    }\n",
       "\n",
       "    .dataframe thead th {\n",
       "        text-align: right;\n",
       "    }\n",
       "</style>\n",
       "<table border=\"1\" class=\"dataframe\">\n",
       "  <thead>\n",
       "    <tr style=\"text-align: right;\">\n",
       "      <th></th>\n",
       "      <th>away_team</th>\n",
       "      <th>avg_pts_before</th>\n",
       "      <th>avg_pts_after</th>\n",
       "    </tr>\n",
       "  </thead>\n",
       "  <tbody>\n",
       "    <tr>\n",
       "      <th>0</th>\n",
       "      <td>Manchester United</td>\n",
       "      <td>1.39</td>\n",
       "      <td>2.33</td>\n",
       "    </tr>\n",
       "    <tr>\n",
       "      <th>1</th>\n",
       "      <td>Newcastle United</td>\n",
       "      <td>1.00</td>\n",
       "      <td>1.13</td>\n",
       "    </tr>\n",
       "    <tr>\n",
       "      <th>2</th>\n",
       "      <td>Wolverhampton Wanderers</td>\n",
       "      <td>1.33</td>\n",
       "      <td>1.12</td>\n",
       "    </tr>\n",
       "    <tr>\n",
       "      <th>3</th>\n",
       "      <td>Arsenal</td>\n",
       "      <td>1.22</td>\n",
       "      <td>1.56</td>\n",
       "    </tr>\n",
       "    <tr>\n",
       "      <th>4</th>\n",
       "      <td>Liverpool</td>\n",
       "      <td>2.45</td>\n",
       "      <td>1.79</td>\n",
       "    </tr>\n",
       "    <tr>\n",
       "      <th>5</th>\n",
       "      <td>Southampton</td>\n",
       "      <td>1.09</td>\n",
       "      <td>1.12</td>\n",
       "    </tr>\n",
       "    <tr>\n",
       "      <th>6</th>\n",
       "      <td>West Ham United</td>\n",
       "      <td>0.97</td>\n",
       "      <td>1.57</td>\n",
       "    </tr>\n",
       "    <tr>\n",
       "      <th>7</th>\n",
       "      <td>Tottenham Hotspur</td>\n",
       "      <td>1.41</td>\n",
       "      <td>1.48</td>\n",
       "    </tr>\n",
       "    <tr>\n",
       "      <th>8</th>\n",
       "      <td>Everton</td>\n",
       "      <td>0.94</td>\n",
       "      <td>1.87</td>\n",
       "    </tr>\n",
       "    <tr>\n",
       "      <th>9</th>\n",
       "      <td>Leicester City</td>\n",
       "      <td>1.45</td>\n",
       "      <td>1.67</td>\n",
       "    </tr>\n",
       "    <tr>\n",
       "      <th>10</th>\n",
       "      <td>Chelsea</td>\n",
       "      <td>1.64</td>\n",
       "      <td>1.67</td>\n",
       "    </tr>\n",
       "    <tr>\n",
       "      <th>11</th>\n",
       "      <td>Manchester City</td>\n",
       "      <td>2.12</td>\n",
       "      <td>2.22</td>\n",
       "    </tr>\n",
       "    <tr>\n",
       "      <th>12</th>\n",
       "      <td>Burnley</td>\n",
       "      <td>1.00</td>\n",
       "      <td>1.29</td>\n",
       "    </tr>\n",
       "    <tr>\n",
       "      <th>13</th>\n",
       "      <td>Brighton and Hove Albion</td>\n",
       "      <td>0.71</td>\n",
       "      <td>1.22</td>\n",
       "    </tr>\n",
       "    <tr>\n",
       "      <th>14</th>\n",
       "      <td>Crystal Palace</td>\n",
       "      <td>1.39</td>\n",
       "      <td>1.00</td>\n",
       "    </tr>\n",
       "  </tbody>\n",
       "</table>\n",
       "</div>"
      ],
      "text/plain": [
       "                   away_team  avg_pts_before  avg_pts_after\n",
       "0          Manchester United            1.39           2.33\n",
       "1           Newcastle United            1.00           1.13\n",
       "2    Wolverhampton Wanderers            1.33           1.12\n",
       "3                    Arsenal            1.22           1.56\n",
       "4                  Liverpool            2.45           1.79\n",
       "5                Southampton            1.09           1.12\n",
       "6            West Ham United            0.97           1.57\n",
       "7          Tottenham Hotspur            1.41           1.48\n",
       "8                    Everton            0.94           1.87\n",
       "9             Leicester City            1.45           1.67\n",
       "10                   Chelsea            1.64           1.67\n",
       "11           Manchester City            2.12           2.22\n",
       "12                   Burnley            1.00           1.29\n",
       "13  Brighton and Hove Albion            0.71           1.22\n",
       "14            Crystal Palace            1.39           1.00"
      ]
     },
     "execution_count": 117,
     "metadata": {},
     "output_type": "execute_result"
    }
   ],
   "source": [
    "away_pre_covid_pts = pre_covid_data.groupby(['away_team']).agg(avg_pts_before = ('away_pts','mean')).loc[stayed_teams].reset_index()\n",
    "away_post_covid_pts = post_covid_data.groupby(['away_team']).agg(avg_pts_after = ('away_pts','mean')).loc[stayed_teams].reset_index()\n",
    "away_df = away_pre_covid_pts.merge(away_post_covid_pts,on='away_team')\n",
    "away_df"
   ]
  },
  {
   "cell_type": "code",
   "execution_count": 119,
   "metadata": {},
   "outputs": [],
   "source": [
    "def home_stats(metric):\n",
    "    home_pre_covid_metric = pre_covid_data.groupby(['home_team']).agg({metric:'mean'}).loc[stayed_teams].reset_index()\n",
    "    home_pre_covid_metric = home_pre_covid_metric.rename(columns={metric:'{}_before'.format(metric)})\n",
    "    home_post_covid_metric = post_covid_data.groupby(['home_team']).agg({metric:'mean'}).loc[stayed_teams].reset_index()\n",
    "    home_post_covid_metric = home_post_covid_metric.rename(columns={metric:'{}_after'.format(metric)})\n",
    "    home_df = home_pre_covid_metric.merge(home_post_covid_metric,on='home_team')\n",
    "    return home_df"
   ]
  },
  {
   "cell_type": "code",
   "execution_count": 129,
   "metadata": {},
   "outputs": [],
   "source": [
    "def away_stats(metric):\n",
    "    away_pre_covid_metric = pre_covid_data.groupby(['away_team']).agg({metric:'mean'}).loc[stayed_teams].reset_index()\n",
    "    away_pre_covid_metric = away_pre_covid_metric.rename(columns={metric:'{}_before'.format(metric)})\n",
    "    away_post_covid_metric = post_covid_data.groupby(['away_team']).agg({metric:'mean'}).loc[stayed_teams].reset_index()\n",
    "    away_post_covid_metric = away_post_covid_metric.rename(columns={metric:'{}_after'.format(metric)})\n",
    "    away_df = home_pre_covid_metric.merge(home_post_covid_metric,on='away_team')\n",
    "    return away_df"
   ]
  },
  {
   "cell_type": "code",
   "execution_count": 128,
   "metadata": {},
   "outputs": [
    {
     "data": {
      "text/html": [
       "<div>\n",
       "<style scoped>\n",
       "    .dataframe tbody tr th:only-of-type {\n",
       "        vertical-align: middle;\n",
       "    }\n",
       "\n",
       "    .dataframe tbody tr th {\n",
       "        vertical-align: top;\n",
       "    }\n",
       "\n",
       "    .dataframe thead th {\n",
       "        text-align: right;\n",
       "    }\n",
       "</style>\n",
       "<table border=\"1\" class=\"dataframe\">\n",
       "  <thead>\n",
       "    <tr style=\"text-align: right;\">\n",
       "      <th></th>\n",
       "      <th>home_team</th>\n",
       "      <th>home_pts_before</th>\n",
       "      <th>home_pts_after</th>\n",
       "    </tr>\n",
       "  </thead>\n",
       "  <tbody>\n",
       "    <tr>\n",
       "      <th>0</th>\n",
       "      <td>Manchester United</td>\n",
       "      <td>1.91</td>\n",
       "      <td>1.70</td>\n",
       "    </tr>\n",
       "    <tr>\n",
       "      <th>1</th>\n",
       "      <td>Newcastle United</td>\n",
       "      <td>1.39</td>\n",
       "      <td>1.17</td>\n",
       "    </tr>\n",
       "    <tr>\n",
       "      <th>2</th>\n",
       "      <td>Wolverhampton Wanderers</td>\n",
       "      <td>1.65</td>\n",
       "      <td>1.48</td>\n",
       "    </tr>\n",
       "    <tr>\n",
       "      <th>3</th>\n",
       "      <td>Arsenal</td>\n",
       "      <td>2.09</td>\n",
       "      <td>1.65</td>\n",
       "    </tr>\n",
       "    <tr>\n",
       "      <th>4</th>\n",
       "      <td>Liverpool</td>\n",
       "      <td>2.88</td>\n",
       "      <td>1.87</td>\n",
       "    </tr>\n",
       "    <tr>\n",
       "      <th>5</th>\n",
       "      <td>Southampton</td>\n",
       "      <td>1.09</td>\n",
       "      <td>1.48</td>\n",
       "    </tr>\n",
       "    <tr>\n",
       "      <th>6</th>\n",
       "      <td>West Ham United</td>\n",
       "      <td>1.39</td>\n",
       "      <td>1.71</td>\n",
       "    </tr>\n",
       "    <tr>\n",
       "      <th>7</th>\n",
       "      <td>Tottenham Hotspur</td>\n",
       "      <td>1.94</td>\n",
       "      <td>1.92</td>\n",
       "    </tr>\n",
       "    <tr>\n",
       "      <th>8</th>\n",
       "      <td>Everton</td>\n",
       "      <td>1.79</td>\n",
       "      <td>1.17</td>\n",
       "    </tr>\n",
       "    <tr>\n",
       "      <th>9</th>\n",
       "      <td>Leicester City</td>\n",
       "      <td>1.68</td>\n",
       "      <td>1.52</td>\n",
       "    </tr>\n",
       "    <tr>\n",
       "      <th>10</th>\n",
       "      <td>Chelsea</td>\n",
       "      <td>1.94</td>\n",
       "      <td>1.96</td>\n",
       "    </tr>\n",
       "    <tr>\n",
       "      <th>11</th>\n",
       "      <td>Manchester City</td>\n",
       "      <td>2.59</td>\n",
       "      <td>2.36</td>\n",
       "    </tr>\n",
       "    <tr>\n",
       "      <th>12</th>\n",
       "      <td>Burnley</td>\n",
       "      <td>1.35</td>\n",
       "      <td>1.00</td>\n",
       "    </tr>\n",
       "    <tr>\n",
       "      <th>13</th>\n",
       "      <td>Brighton and Hove Albion</td>\n",
       "      <td>1.24</td>\n",
       "      <td>1.04</td>\n",
       "    </tr>\n",
       "    <tr>\n",
       "      <th>14</th>\n",
       "      <td>Crystal Palace</td>\n",
       "      <td>1.24</td>\n",
       "      <td>1.04</td>\n",
       "    </tr>\n",
       "  </tbody>\n",
       "</table>\n",
       "</div>"
      ],
      "text/plain": [
       "                   home_team  home_pts_before  home_pts_after\n",
       "0          Manchester United             1.91            1.70\n",
       "1           Newcastle United             1.39            1.17\n",
       "2    Wolverhampton Wanderers             1.65            1.48\n",
       "3                    Arsenal             2.09            1.65\n",
       "4                  Liverpool             2.88            1.87\n",
       "5                Southampton             1.09            1.48\n",
       "6            West Ham United             1.39            1.71\n",
       "7          Tottenham Hotspur             1.94            1.92\n",
       "8                    Everton             1.79            1.17\n",
       "9             Leicester City             1.68            1.52\n",
       "10                   Chelsea             1.94            1.96\n",
       "11           Manchester City             2.59            2.36\n",
       "12                   Burnley             1.35            1.00\n",
       "13  Brighton and Hove Albion             1.24            1.04\n",
       "14            Crystal Palace             1.24            1.04"
      ]
     },
     "execution_count": 128,
     "metadata": {},
     "output_type": "execute_result"
    }
   ],
   "source": [
    "home_stats('home_pts')"
   ]
  },
  {
   "cell_type": "code",
   "execution_count": 120,
   "metadata": {},
   "outputs": [
    {
     "data": {
      "text/html": [
       "<div>\n",
       "<style scoped>\n",
       "    .dataframe tbody tr th:only-of-type {\n",
       "        vertical-align: middle;\n",
       "    }\n",
       "\n",
       "    .dataframe tbody tr th {\n",
       "        vertical-align: top;\n",
       "    }\n",
       "\n",
       "    .dataframe thead th {\n",
       "        text-align: right;\n",
       "    }\n",
       "</style>\n",
       "<table border=\"1\" class=\"dataframe\">\n",
       "  <thead>\n",
       "    <tr style=\"text-align: right;\">\n",
       "      <th></th>\n",
       "      <th>home_team</th>\n",
       "      <th>home_possession_%_before</th>\n",
       "      <th>home_possession_%_after</th>\n",
       "    </tr>\n",
       "  </thead>\n",
       "  <tbody>\n",
       "    <tr>\n",
       "      <th>0</th>\n",
       "      <td>Manchester United</td>\n",
       "      <td>55.76</td>\n",
       "      <td>58.85</td>\n",
       "    </tr>\n",
       "    <tr>\n",
       "      <th>1</th>\n",
       "      <td>Newcastle United</td>\n",
       "      <td>41.60</td>\n",
       "      <td>41.93</td>\n",
       "    </tr>\n",
       "    <tr>\n",
       "      <th>2</th>\n",
       "      <td>Wolverhampton Wanderers</td>\n",
       "      <td>48.48</td>\n",
       "      <td>52.39</td>\n",
       "    </tr>\n",
       "    <tr>\n",
       "      <th>3</th>\n",
       "      <td>Arsenal</td>\n",
       "      <td>59.00</td>\n",
       "      <td>52.74</td>\n",
       "    </tr>\n",
       "    <tr>\n",
       "      <th>4</th>\n",
       "      <td>Liverpool</td>\n",
       "      <td>62.85</td>\n",
       "      <td>64.78</td>\n",
       "    </tr>\n",
       "    <tr>\n",
       "      <th>5</th>\n",
       "      <td>Southampton</td>\n",
       "      <td>45.49</td>\n",
       "      <td>52.62</td>\n",
       "    </tr>\n",
       "    <tr>\n",
       "      <th>6</th>\n",
       "      <td>West Ham United</td>\n",
       "      <td>47.63</td>\n",
       "      <td>43.60</td>\n",
       "    </tr>\n",
       "    <tr>\n",
       "      <th>7</th>\n",
       "      <td>Tottenham Hotspur</td>\n",
       "      <td>58.73</td>\n",
       "      <td>50.82</td>\n",
       "    </tr>\n",
       "    <tr>\n",
       "      <th>8</th>\n",
       "      <td>Everton</td>\n",
       "      <td>52.55</td>\n",
       "      <td>47.93</td>\n",
       "    </tr>\n",
       "    <tr>\n",
       "      <th>9</th>\n",
       "      <td>Leicester City</td>\n",
       "      <td>55.70</td>\n",
       "      <td>55.65</td>\n",
       "    </tr>\n",
       "    <tr>\n",
       "      <th>10</th>\n",
       "      <td>Chelsea</td>\n",
       "      <td>62.71</td>\n",
       "      <td>60.49</td>\n",
       "    </tr>\n",
       "    <tr>\n",
       "      <th>11</th>\n",
       "      <td>Manchester City</td>\n",
       "      <td>67.76</td>\n",
       "      <td>66.72</td>\n",
       "    </tr>\n",
       "    <tr>\n",
       "      <th>12</th>\n",
       "      <td>Burnley</td>\n",
       "      <td>42.55</td>\n",
       "      <td>44.67</td>\n",
       "    </tr>\n",
       "    <tr>\n",
       "      <th>13</th>\n",
       "      <td>Brighton and Hove Albion</td>\n",
       "      <td>49.81</td>\n",
       "      <td>51.43</td>\n",
       "    </tr>\n",
       "    <tr>\n",
       "      <th>14</th>\n",
       "      <td>Crystal Palace</td>\n",
       "      <td>45.98</td>\n",
       "      <td>41.80</td>\n",
       "    </tr>\n",
       "  </tbody>\n",
       "</table>\n",
       "</div>"
      ],
      "text/plain": [
       "                   home_team  home_possession_%_before  \\\n",
       "0          Manchester United                     55.76   \n",
       "1           Newcastle United                     41.60   \n",
       "2    Wolverhampton Wanderers                     48.48   \n",
       "3                    Arsenal                     59.00   \n",
       "4                  Liverpool                     62.85   \n",
       "5                Southampton                     45.49   \n",
       "6            West Ham United                     47.63   \n",
       "7          Tottenham Hotspur                     58.73   \n",
       "8                    Everton                     52.55   \n",
       "9             Leicester City                     55.70   \n",
       "10                   Chelsea                     62.71   \n",
       "11           Manchester City                     67.76   \n",
       "12                   Burnley                     42.55   \n",
       "13  Brighton and Hove Albion                     49.81   \n",
       "14            Crystal Palace                     45.98   \n",
       "\n",
       "    home_possession_%_after  \n",
       "0                     58.85  \n",
       "1                     41.93  \n",
       "2                     52.39  \n",
       "3                     52.74  \n",
       "4                     64.78  \n",
       "5                     52.62  \n",
       "6                     43.60  \n",
       "7                     50.82  \n",
       "8                     47.93  \n",
       "9                     55.65  \n",
       "10                    60.49  \n",
       "11                    66.72  \n",
       "12                    44.67  \n",
       "13                    51.43  \n",
       "14                    41.80  "
      ]
     },
     "execution_count": 120,
     "metadata": {},
     "output_type": "execute_result"
    }
   ],
   "source": [
    "home_stats('home_possession_%')"
   ]
  },
  {
   "cell_type": "code",
   "execution_count": 121,
   "metadata": {},
   "outputs": [
    {
     "data": {
      "text/html": [
       "<div>\n",
       "<style scoped>\n",
       "    .dataframe tbody tr th:only-of-type {\n",
       "        vertical-align: middle;\n",
       "    }\n",
       "\n",
       "    .dataframe tbody tr th {\n",
       "        vertical-align: top;\n",
       "    }\n",
       "\n",
       "    .dataframe thead th {\n",
       "        text-align: right;\n",
       "    }\n",
       "</style>\n",
       "<table border=\"1\" class=\"dataframe\">\n",
       "  <thead>\n",
       "    <tr style=\"text-align: right;\">\n",
       "      <th></th>\n",
       "      <th>home_team</th>\n",
       "      <th>home_SoT_%_before</th>\n",
       "      <th>home_SoT_%_after</th>\n",
       "    </tr>\n",
       "  </thead>\n",
       "  <tbody>\n",
       "    <tr>\n",
       "      <th>0</th>\n",
       "      <td>Manchester United</td>\n",
       "      <td>44.37</td>\n",
       "      <td>37.55</td>\n",
       "    </tr>\n",
       "    <tr>\n",
       "      <th>1</th>\n",
       "      <td>Newcastle United</td>\n",
       "      <td>30.58</td>\n",
       "      <td>36.46</td>\n",
       "    </tr>\n",
       "    <tr>\n",
       "      <th>2</th>\n",
       "      <td>Wolverhampton Wanderers</td>\n",
       "      <td>31.02</td>\n",
       "      <td>33.19</td>\n",
       "    </tr>\n",
       "    <tr>\n",
       "      <th>3</th>\n",
       "      <td>Arsenal</td>\n",
       "      <td>37.01</td>\n",
       "      <td>39.07</td>\n",
       "    </tr>\n",
       "    <tr>\n",
       "      <th>4</th>\n",
       "      <td>Liverpool</td>\n",
       "      <td>39.05</td>\n",
       "      <td>37.29</td>\n",
       "    </tr>\n",
       "    <tr>\n",
       "      <th>5</th>\n",
       "      <td>Southampton</td>\n",
       "      <td>36.56</td>\n",
       "      <td>40.81</td>\n",
       "    </tr>\n",
       "    <tr>\n",
       "      <th>6</th>\n",
       "      <td>West Ham United</td>\n",
       "      <td>39.46</td>\n",
       "      <td>37.92</td>\n",
       "    </tr>\n",
       "    <tr>\n",
       "      <th>7</th>\n",
       "      <td>Tottenham Hotspur</td>\n",
       "      <td>35.27</td>\n",
       "      <td>42.51</td>\n",
       "    </tr>\n",
       "    <tr>\n",
       "      <th>8</th>\n",
       "      <td>Everton</td>\n",
       "      <td>34.06</td>\n",
       "      <td>33.68</td>\n",
       "    </tr>\n",
       "    <tr>\n",
       "      <th>9</th>\n",
       "      <td>Leicester City</td>\n",
       "      <td>35.16</td>\n",
       "      <td>36.32</td>\n",
       "    </tr>\n",
       "    <tr>\n",
       "      <th>10</th>\n",
       "      <td>Chelsea</td>\n",
       "      <td>36.39</td>\n",
       "      <td>41.24</td>\n",
       "    </tr>\n",
       "    <tr>\n",
       "      <th>11</th>\n",
       "      <td>Manchester City</td>\n",
       "      <td>35.74</td>\n",
       "      <td>38.94</td>\n",
       "    </tr>\n",
       "    <tr>\n",
       "      <th>12</th>\n",
       "      <td>Burnley</td>\n",
       "      <td>34.64</td>\n",
       "      <td>31.61</td>\n",
       "    </tr>\n",
       "    <tr>\n",
       "      <th>13</th>\n",
       "      <td>Brighton and Hove Albion</td>\n",
       "      <td>27.46</td>\n",
       "      <td>28.17</td>\n",
       "    </tr>\n",
       "    <tr>\n",
       "      <th>14</th>\n",
       "      <td>Crystal Palace</td>\n",
       "      <td>27.36</td>\n",
       "      <td>40.80</td>\n",
       "    </tr>\n",
       "  </tbody>\n",
       "</table>\n",
       "</div>"
      ],
      "text/plain": [
       "                   home_team  home_SoT_%_before  home_SoT_%_after\n",
       "0          Manchester United              44.37             37.55\n",
       "1           Newcastle United              30.58             36.46\n",
       "2    Wolverhampton Wanderers              31.02             33.19\n",
       "3                    Arsenal              37.01             39.07\n",
       "4                  Liverpool              39.05             37.29\n",
       "5                Southampton              36.56             40.81\n",
       "6            West Ham United              39.46             37.92\n",
       "7          Tottenham Hotspur              35.27             42.51\n",
       "8                    Everton              34.06             33.68\n",
       "9             Leicester City              35.16             36.32\n",
       "10                   Chelsea              36.39             41.24\n",
       "11           Manchester City              35.74             38.94\n",
       "12                   Burnley              34.64             31.61\n",
       "13  Brighton and Hove Albion              27.46             28.17\n",
       "14            Crystal Palace              27.36             40.80"
      ]
     },
     "execution_count": 121,
     "metadata": {},
     "output_type": "execute_result"
    }
   ],
   "source": [
    "home_stats('home_SoT_%')"
   ]
  },
  {
   "cell_type": "code",
   "execution_count": 122,
   "metadata": {},
   "outputs": [
    {
     "data": {
      "text/html": [
       "<div>\n",
       "<style scoped>\n",
       "    .dataframe tbody tr th:only-of-type {\n",
       "        vertical-align: middle;\n",
       "    }\n",
       "\n",
       "    .dataframe tbody tr th {\n",
       "        vertical-align: top;\n",
       "    }\n",
       "\n",
       "    .dataframe thead th {\n",
       "        text-align: right;\n",
       "    }\n",
       "</style>\n",
       "<table border=\"1\" class=\"dataframe\">\n",
       "  <thead>\n",
       "    <tr style=\"text-align: right;\">\n",
       "      <th></th>\n",
       "      <th>home_team</th>\n",
       "      <th>home_QuanCR_%_before</th>\n",
       "      <th>home_QuanCR_%_after</th>\n",
       "    </tr>\n",
       "  </thead>\n",
       "  <tbody>\n",
       "    <tr>\n",
       "      <th>0</th>\n",
       "      <td>Manchester United</td>\n",
       "      <td>13.12</td>\n",
       "      <td>13.98</td>\n",
       "    </tr>\n",
       "    <tr>\n",
       "      <th>1</th>\n",
       "      <td>Newcastle United</td>\n",
       "      <td>9.47</td>\n",
       "      <td>13.46</td>\n",
       "    </tr>\n",
       "    <tr>\n",
       "      <th>2</th>\n",
       "      <td>Wolverhampton Wanderers</td>\n",
       "      <td>12.47</td>\n",
       "      <td>8.64</td>\n",
       "    </tr>\n",
       "    <tr>\n",
       "      <th>3</th>\n",
       "      <td>Arsenal</td>\n",
       "      <td>15.34</td>\n",
       "      <td>14.33</td>\n",
       "    </tr>\n",
       "    <tr>\n",
       "      <th>4</th>\n",
       "      <td>Liverpool</td>\n",
       "      <td>16.65</td>\n",
       "      <td>12.62</td>\n",
       "    </tr>\n",
       "    <tr>\n",
       "      <th>5</th>\n",
       "      <td>Southampton</td>\n",
       "      <td>10.54</td>\n",
       "      <td>12.73</td>\n",
       "    </tr>\n",
       "    <tr>\n",
       "      <th>6</th>\n",
       "      <td>West Ham United</td>\n",
       "      <td>12.68</td>\n",
       "      <td>17.62</td>\n",
       "    </tr>\n",
       "    <tr>\n",
       "      <th>7</th>\n",
       "      <td>Tottenham Hotspur</td>\n",
       "      <td>14.61</td>\n",
       "      <td>17.66</td>\n",
       "    </tr>\n",
       "    <tr>\n",
       "      <th>8</th>\n",
       "      <td>Everton</td>\n",
       "      <td>10.22</td>\n",
       "      <td>11.94</td>\n",
       "    </tr>\n",
       "    <tr>\n",
       "      <th>9</th>\n",
       "      <td>Leicester City</td>\n",
       "      <td>11.52</td>\n",
       "      <td>12.54</td>\n",
       "    </tr>\n",
       "    <tr>\n",
       "      <th>10</th>\n",
       "      <td>Chelsea</td>\n",
       "      <td>10.69</td>\n",
       "      <td>11.13</td>\n",
       "    </tr>\n",
       "    <tr>\n",
       "      <th>11</th>\n",
       "      <td>Manchester City</td>\n",
       "      <td>14.21</td>\n",
       "      <td>16.17</td>\n",
       "    </tr>\n",
       "    <tr>\n",
       "      <th>12</th>\n",
       "      <td>Burnley</td>\n",
       "      <td>11.96</td>\n",
       "      <td>8.14</td>\n",
       "    </tr>\n",
       "    <tr>\n",
       "      <th>13</th>\n",
       "      <td>Brighton and Hove Albion</td>\n",
       "      <td>10.58</td>\n",
       "      <td>8.50</td>\n",
       "    </tr>\n",
       "    <tr>\n",
       "      <th>14</th>\n",
       "      <td>Crystal Palace</td>\n",
       "      <td>6.59</td>\n",
       "      <td>18.67</td>\n",
       "    </tr>\n",
       "  </tbody>\n",
       "</table>\n",
       "</div>"
      ],
      "text/plain": [
       "                   home_team  home_QuanCR_%_before  home_QuanCR_%_after\n",
       "0          Manchester United                 13.12                13.98\n",
       "1           Newcastle United                  9.47                13.46\n",
       "2    Wolverhampton Wanderers                 12.47                 8.64\n",
       "3                    Arsenal                 15.34                14.33\n",
       "4                  Liverpool                 16.65                12.62\n",
       "5                Southampton                 10.54                12.73\n",
       "6            West Ham United                 12.68                17.62\n",
       "7          Tottenham Hotspur                 14.61                17.66\n",
       "8                    Everton                 10.22                11.94\n",
       "9             Leicester City                 11.52                12.54\n",
       "10                   Chelsea                 10.69                11.13\n",
       "11           Manchester City                 14.21                16.17\n",
       "12                   Burnley                 11.96                 8.14\n",
       "13  Brighton and Hove Albion                 10.58                 8.50\n",
       "14            Crystal Palace                  6.59                18.67"
      ]
     },
     "execution_count": 122,
     "metadata": {},
     "output_type": "execute_result"
    }
   ],
   "source": [
    "home_stats('home_QuanCR_%')"
   ]
  },
  {
   "cell_type": "code",
   "execution_count": 126,
   "metadata": {},
   "outputs": [
    {
     "data": {
      "text/html": [
       "<div>\n",
       "<style scoped>\n",
       "    .dataframe tbody tr th:only-of-type {\n",
       "        vertical-align: middle;\n",
       "    }\n",
       "\n",
       "    .dataframe tbody tr th {\n",
       "        vertical-align: top;\n",
       "    }\n",
       "\n",
       "    .dataframe thead th {\n",
       "        text-align: right;\n",
       "    }\n",
       "</style>\n",
       "<table border=\"1\" class=\"dataframe\">\n",
       "  <thead>\n",
       "    <tr style=\"text-align: right;\">\n",
       "      <th></th>\n",
       "      <th>home_team</th>\n",
       "      <th>home_QualCR_%_before</th>\n",
       "      <th>home_QualCR_%_after</th>\n",
       "    </tr>\n",
       "  </thead>\n",
       "  <tbody>\n",
       "    <tr>\n",
       "      <th>0</th>\n",
       "      <td>Manchester United</td>\n",
       "      <td>27.96</td>\n",
       "      <td>35.87</td>\n",
       "    </tr>\n",
       "    <tr>\n",
       "      <th>1</th>\n",
       "      <td>Newcastle United</td>\n",
       "      <td>29.05</td>\n",
       "      <td>30.61</td>\n",
       "    </tr>\n",
       "    <tr>\n",
       "      <th>2</th>\n",
       "      <td>Wolverhampton Wanderers</td>\n",
       "      <td>38.27</td>\n",
       "      <td>27.72</td>\n",
       "    </tr>\n",
       "    <tr>\n",
       "      <th>3</th>\n",
       "      <td>Arsenal</td>\n",
       "      <td>42.15</td>\n",
       "      <td>32.54</td>\n",
       "    </tr>\n",
       "    <tr>\n",
       "      <th>4</th>\n",
       "      <td>Liverpool</td>\n",
       "      <td>43.14</td>\n",
       "      <td>29.11</td>\n",
       "    </tr>\n",
       "    <tr>\n",
       "      <th>5</th>\n",
       "      <td>Southampton</td>\n",
       "      <td>30.21</td>\n",
       "      <td>30.14</td>\n",
       "    </tr>\n",
       "    <tr>\n",
       "      <th>6</th>\n",
       "      <td>West Ham United</td>\n",
       "      <td>31.87</td>\n",
       "      <td>41.57</td>\n",
       "    </tr>\n",
       "    <tr>\n",
       "      <th>7</th>\n",
       "      <td>Tottenham Hotspur</td>\n",
       "      <td>37.67</td>\n",
       "      <td>41.83</td>\n",
       "    </tr>\n",
       "    <tr>\n",
       "      <th>8</th>\n",
       "      <td>Everton</td>\n",
       "      <td>31.84</td>\n",
       "      <td>40.60</td>\n",
       "    </tr>\n",
       "    <tr>\n",
       "      <th>9</th>\n",
       "      <td>Leicester City</td>\n",
       "      <td>31.82</td>\n",
       "      <td>32.37</td>\n",
       "    </tr>\n",
       "    <tr>\n",
       "      <th>10</th>\n",
       "      <td>Chelsea</td>\n",
       "      <td>32.38</td>\n",
       "      <td>27.25</td>\n",
       "    </tr>\n",
       "    <tr>\n",
       "      <th>11</th>\n",
       "      <td>Manchester City</td>\n",
       "      <td>38.18</td>\n",
       "      <td>40.66</td>\n",
       "    </tr>\n",
       "    <tr>\n",
       "      <th>12</th>\n",
       "      <td>Burnley</td>\n",
       "      <td>39.20</td>\n",
       "      <td>23.34</td>\n",
       "    </tr>\n",
       "    <tr>\n",
       "      <th>13</th>\n",
       "      <td>Brighton and Hove Albion</td>\n",
       "      <td>32.88</td>\n",
       "      <td>26.25</td>\n",
       "    </tr>\n",
       "    <tr>\n",
       "      <th>14</th>\n",
       "      <td>Crystal Palace</td>\n",
       "      <td>23.80</td>\n",
       "      <td>37.64</td>\n",
       "    </tr>\n",
       "  </tbody>\n",
       "</table>\n",
       "</div>"
      ],
      "text/plain": [
       "                   home_team  home_QualCR_%_before  home_QualCR_%_after\n",
       "0          Manchester United                 27.96                35.87\n",
       "1           Newcastle United                 29.05                30.61\n",
       "2    Wolverhampton Wanderers                 38.27                27.72\n",
       "3                    Arsenal                 42.15                32.54\n",
       "4                  Liverpool                 43.14                29.11\n",
       "5                Southampton                 30.21                30.14\n",
       "6            West Ham United                 31.87                41.57\n",
       "7          Tottenham Hotspur                 37.67                41.83\n",
       "8                    Everton                 31.84                40.60\n",
       "9             Leicester City                 31.82                32.37\n",
       "10                   Chelsea                 32.38                27.25\n",
       "11           Manchester City                 38.18                40.66\n",
       "12                   Burnley                 39.20                23.34\n",
       "13  Brighton and Hove Albion                 32.88                26.25\n",
       "14            Crystal Palace                 23.80                37.64"
      ]
     },
     "execution_count": 126,
     "metadata": {},
     "output_type": "execute_result"
    }
   ],
   "source": [
    "home_stats('home_QualCR_%')"
   ]
  },
  {
   "cell_type": "code",
   "execution_count": 124,
   "metadata": {},
   "outputs": [
    {
     "data": {
      "application/vnd.plotly.v1+json": {
       "config": {
        "plotlyServerURL": "https://plot.ly"
       },
       "data": [
        {
         "mode": "markers",
         "name": "ppg before covid 19",
         "type": "scatter",
         "x": [
          "Manchester United",
          "Newcastle United",
          "Wolverhampton Wanderers",
          "Arsenal",
          "Liverpool",
          "Southampton",
          "West Ham United",
          "Tottenham Hotspur",
          "Everton",
          "Leicester City",
          "Chelsea",
          "Manchester City",
          "Burnley",
          "Brighton and Hove Albion",
          "Crystal Palace"
         ],
         "y": [
          1.911764705882353,
          1.393939393939394,
          1.6470588235294117,
          2.088235294117647,
          2.8823529411764706,
          1.088235294117647,
          1.393939393939394,
          1.9393939393939394,
          1.7878787878787878,
          1.6764705882352942,
          1.9411764705882353,
          2.59375,
          1.3529411764705883,
          1.2424242424242424,
          1.2352941176470589
         ]
        },
        {
         "mode": "markers",
         "name": "ppg after covid 19",
         "type": "scatter",
         "x": [
          "Manchester United",
          "Newcastle United",
          "Wolverhampton Wanderers",
          "Arsenal",
          "Liverpool",
          "Southampton",
          "West Ham United",
          "Tottenham Hotspur",
          "Everton",
          "Leicester City",
          "Chelsea",
          "Manchester City",
          "Burnley",
          "Brighton and Hove Albion",
          "Crystal Palace"
         ],
         "y": [
          1.6956521739130435,
          1.1666666666666667,
          1.4782608695652173,
          1.6521739130434783,
          1.8695652173913044,
          1.4782608695652173,
          1.7083333333333333,
          1.9166666666666667,
          1.1666666666666667,
          1.5217391304347827,
          1.9565217391304348,
          2.36,
          1,
          1.0416666666666667,
          1.0434782608695652
         ]
        }
       ],
       "layout": {
        "template": {
         "data": {
          "bar": [
           {
            "error_x": {
             "color": "#2a3f5f"
            },
            "error_y": {
             "color": "#2a3f5f"
            },
            "marker": {
             "line": {
              "color": "#E5ECF6",
              "width": 0.5
             }
            },
            "type": "bar"
           }
          ],
          "barpolar": [
           {
            "marker": {
             "line": {
              "color": "#E5ECF6",
              "width": 0.5
             }
            },
            "type": "barpolar"
           }
          ],
          "carpet": [
           {
            "aaxis": {
             "endlinecolor": "#2a3f5f",
             "gridcolor": "white",
             "linecolor": "white",
             "minorgridcolor": "white",
             "startlinecolor": "#2a3f5f"
            },
            "baxis": {
             "endlinecolor": "#2a3f5f",
             "gridcolor": "white",
             "linecolor": "white",
             "minorgridcolor": "white",
             "startlinecolor": "#2a3f5f"
            },
            "type": "carpet"
           }
          ],
          "choropleth": [
           {
            "colorbar": {
             "outlinewidth": 0,
             "ticks": ""
            },
            "type": "choropleth"
           }
          ],
          "contour": [
           {
            "colorbar": {
             "outlinewidth": 0,
             "ticks": ""
            },
            "colorscale": [
             [
              0,
              "#0d0887"
             ],
             [
              0.1111111111111111,
              "#46039f"
             ],
             [
              0.2222222222222222,
              "#7201a8"
             ],
             [
              0.3333333333333333,
              "#9c179e"
             ],
             [
              0.4444444444444444,
              "#bd3786"
             ],
             [
              0.5555555555555556,
              "#d8576b"
             ],
             [
              0.6666666666666666,
              "#ed7953"
             ],
             [
              0.7777777777777778,
              "#fb9f3a"
             ],
             [
              0.8888888888888888,
              "#fdca26"
             ],
             [
              1,
              "#f0f921"
             ]
            ],
            "type": "contour"
           }
          ],
          "contourcarpet": [
           {
            "colorbar": {
             "outlinewidth": 0,
             "ticks": ""
            },
            "type": "contourcarpet"
           }
          ],
          "heatmap": [
           {
            "colorbar": {
             "outlinewidth": 0,
             "ticks": ""
            },
            "colorscale": [
             [
              0,
              "#0d0887"
             ],
             [
              0.1111111111111111,
              "#46039f"
             ],
             [
              0.2222222222222222,
              "#7201a8"
             ],
             [
              0.3333333333333333,
              "#9c179e"
             ],
             [
              0.4444444444444444,
              "#bd3786"
             ],
             [
              0.5555555555555556,
              "#d8576b"
             ],
             [
              0.6666666666666666,
              "#ed7953"
             ],
             [
              0.7777777777777778,
              "#fb9f3a"
             ],
             [
              0.8888888888888888,
              "#fdca26"
             ],
             [
              1,
              "#f0f921"
             ]
            ],
            "type": "heatmap"
           }
          ],
          "heatmapgl": [
           {
            "colorbar": {
             "outlinewidth": 0,
             "ticks": ""
            },
            "colorscale": [
             [
              0,
              "#0d0887"
             ],
             [
              0.1111111111111111,
              "#46039f"
             ],
             [
              0.2222222222222222,
              "#7201a8"
             ],
             [
              0.3333333333333333,
              "#9c179e"
             ],
             [
              0.4444444444444444,
              "#bd3786"
             ],
             [
              0.5555555555555556,
              "#d8576b"
             ],
             [
              0.6666666666666666,
              "#ed7953"
             ],
             [
              0.7777777777777778,
              "#fb9f3a"
             ],
             [
              0.8888888888888888,
              "#fdca26"
             ],
             [
              1,
              "#f0f921"
             ]
            ],
            "type": "heatmapgl"
           }
          ],
          "histogram": [
           {
            "marker": {
             "colorbar": {
              "outlinewidth": 0,
              "ticks": ""
             }
            },
            "type": "histogram"
           }
          ],
          "histogram2d": [
           {
            "colorbar": {
             "outlinewidth": 0,
             "ticks": ""
            },
            "colorscale": [
             [
              0,
              "#0d0887"
             ],
             [
              0.1111111111111111,
              "#46039f"
             ],
             [
              0.2222222222222222,
              "#7201a8"
             ],
             [
              0.3333333333333333,
              "#9c179e"
             ],
             [
              0.4444444444444444,
              "#bd3786"
             ],
             [
              0.5555555555555556,
              "#d8576b"
             ],
             [
              0.6666666666666666,
              "#ed7953"
             ],
             [
              0.7777777777777778,
              "#fb9f3a"
             ],
             [
              0.8888888888888888,
              "#fdca26"
             ],
             [
              1,
              "#f0f921"
             ]
            ],
            "type": "histogram2d"
           }
          ],
          "histogram2dcontour": [
           {
            "colorbar": {
             "outlinewidth": 0,
             "ticks": ""
            },
            "colorscale": [
             [
              0,
              "#0d0887"
             ],
             [
              0.1111111111111111,
              "#46039f"
             ],
             [
              0.2222222222222222,
              "#7201a8"
             ],
             [
              0.3333333333333333,
              "#9c179e"
             ],
             [
              0.4444444444444444,
              "#bd3786"
             ],
             [
              0.5555555555555556,
              "#d8576b"
             ],
             [
              0.6666666666666666,
              "#ed7953"
             ],
             [
              0.7777777777777778,
              "#fb9f3a"
             ],
             [
              0.8888888888888888,
              "#fdca26"
             ],
             [
              1,
              "#f0f921"
             ]
            ],
            "type": "histogram2dcontour"
           }
          ],
          "mesh3d": [
           {
            "colorbar": {
             "outlinewidth": 0,
             "ticks": ""
            },
            "type": "mesh3d"
           }
          ],
          "parcoords": [
           {
            "line": {
             "colorbar": {
              "outlinewidth": 0,
              "ticks": ""
             }
            },
            "type": "parcoords"
           }
          ],
          "pie": [
           {
            "automargin": true,
            "type": "pie"
           }
          ],
          "scatter": [
           {
            "marker": {
             "colorbar": {
              "outlinewidth": 0,
              "ticks": ""
             }
            },
            "type": "scatter"
           }
          ],
          "scatter3d": [
           {
            "line": {
             "colorbar": {
              "outlinewidth": 0,
              "ticks": ""
             }
            },
            "marker": {
             "colorbar": {
              "outlinewidth": 0,
              "ticks": ""
             }
            },
            "type": "scatter3d"
           }
          ],
          "scattercarpet": [
           {
            "marker": {
             "colorbar": {
              "outlinewidth": 0,
              "ticks": ""
             }
            },
            "type": "scattercarpet"
           }
          ],
          "scattergeo": [
           {
            "marker": {
             "colorbar": {
              "outlinewidth": 0,
              "ticks": ""
             }
            },
            "type": "scattergeo"
           }
          ],
          "scattergl": [
           {
            "marker": {
             "colorbar": {
              "outlinewidth": 0,
              "ticks": ""
             }
            },
            "type": "scattergl"
           }
          ],
          "scattermapbox": [
           {
            "marker": {
             "colorbar": {
              "outlinewidth": 0,
              "ticks": ""
             }
            },
            "type": "scattermapbox"
           }
          ],
          "scatterpolar": [
           {
            "marker": {
             "colorbar": {
              "outlinewidth": 0,
              "ticks": ""
             }
            },
            "type": "scatterpolar"
           }
          ],
          "scatterpolargl": [
           {
            "marker": {
             "colorbar": {
              "outlinewidth": 0,
              "ticks": ""
             }
            },
            "type": "scatterpolargl"
           }
          ],
          "scatterternary": [
           {
            "marker": {
             "colorbar": {
              "outlinewidth": 0,
              "ticks": ""
             }
            },
            "type": "scatterternary"
           }
          ],
          "surface": [
           {
            "colorbar": {
             "outlinewidth": 0,
             "ticks": ""
            },
            "colorscale": [
             [
              0,
              "#0d0887"
             ],
             [
              0.1111111111111111,
              "#46039f"
             ],
             [
              0.2222222222222222,
              "#7201a8"
             ],
             [
              0.3333333333333333,
              "#9c179e"
             ],
             [
              0.4444444444444444,
              "#bd3786"
             ],
             [
              0.5555555555555556,
              "#d8576b"
             ],
             [
              0.6666666666666666,
              "#ed7953"
             ],
             [
              0.7777777777777778,
              "#fb9f3a"
             ],
             [
              0.8888888888888888,
              "#fdca26"
             ],
             [
              1,
              "#f0f921"
             ]
            ],
            "type": "surface"
           }
          ],
          "table": [
           {
            "cells": {
             "fill": {
              "color": "#EBF0F8"
             },
             "line": {
              "color": "white"
             }
            },
            "header": {
             "fill": {
              "color": "#C8D4E3"
             },
             "line": {
              "color": "white"
             }
            },
            "type": "table"
           }
          ]
         },
         "layout": {
          "annotationdefaults": {
           "arrowcolor": "#2a3f5f",
           "arrowhead": 0,
           "arrowwidth": 1
          },
          "autotypenumbers": "strict",
          "coloraxis": {
           "colorbar": {
            "outlinewidth": 0,
            "ticks": ""
           }
          },
          "colorscale": {
           "diverging": [
            [
             0,
             "#8e0152"
            ],
            [
             0.1,
             "#c51b7d"
            ],
            [
             0.2,
             "#de77ae"
            ],
            [
             0.3,
             "#f1b6da"
            ],
            [
             0.4,
             "#fde0ef"
            ],
            [
             0.5,
             "#f7f7f7"
            ],
            [
             0.6,
             "#e6f5d0"
            ],
            [
             0.7,
             "#b8e186"
            ],
            [
             0.8,
             "#7fbc41"
            ],
            [
             0.9,
             "#4d9221"
            ],
            [
             1,
             "#276419"
            ]
           ],
           "sequential": [
            [
             0,
             "#0d0887"
            ],
            [
             0.1111111111111111,
             "#46039f"
            ],
            [
             0.2222222222222222,
             "#7201a8"
            ],
            [
             0.3333333333333333,
             "#9c179e"
            ],
            [
             0.4444444444444444,
             "#bd3786"
            ],
            [
             0.5555555555555556,
             "#d8576b"
            ],
            [
             0.6666666666666666,
             "#ed7953"
            ],
            [
             0.7777777777777778,
             "#fb9f3a"
            ],
            [
             0.8888888888888888,
             "#fdca26"
            ],
            [
             1,
             "#f0f921"
            ]
           ],
           "sequentialminus": [
            [
             0,
             "#0d0887"
            ],
            [
             0.1111111111111111,
             "#46039f"
            ],
            [
             0.2222222222222222,
             "#7201a8"
            ],
            [
             0.3333333333333333,
             "#9c179e"
            ],
            [
             0.4444444444444444,
             "#bd3786"
            ],
            [
             0.5555555555555556,
             "#d8576b"
            ],
            [
             0.6666666666666666,
             "#ed7953"
            ],
            [
             0.7777777777777778,
             "#fb9f3a"
            ],
            [
             0.8888888888888888,
             "#fdca26"
            ],
            [
             1,
             "#f0f921"
            ]
           ]
          },
          "colorway": [
           "#636efa",
           "#EF553B",
           "#00cc96",
           "#ab63fa",
           "#FFA15A",
           "#19d3f3",
           "#FF6692",
           "#B6E880",
           "#FF97FF",
           "#FECB52"
          ],
          "font": {
           "color": "#2a3f5f"
          },
          "geo": {
           "bgcolor": "white",
           "lakecolor": "white",
           "landcolor": "#E5ECF6",
           "showlakes": true,
           "showland": true,
           "subunitcolor": "white"
          },
          "hoverlabel": {
           "align": "left"
          },
          "hovermode": "closest",
          "mapbox": {
           "style": "light"
          },
          "paper_bgcolor": "white",
          "plot_bgcolor": "#E5ECF6",
          "polar": {
           "angularaxis": {
            "gridcolor": "white",
            "linecolor": "white",
            "ticks": ""
           },
           "bgcolor": "#E5ECF6",
           "radialaxis": {
            "gridcolor": "white",
            "linecolor": "white",
            "ticks": ""
           }
          },
          "scene": {
           "xaxis": {
            "backgroundcolor": "#E5ECF6",
            "gridcolor": "white",
            "gridwidth": 2,
            "linecolor": "white",
            "showbackground": true,
            "ticks": "",
            "zerolinecolor": "white"
           },
           "yaxis": {
            "backgroundcolor": "#E5ECF6",
            "gridcolor": "white",
            "gridwidth": 2,
            "linecolor": "white",
            "showbackground": true,
            "ticks": "",
            "zerolinecolor": "white"
           },
           "zaxis": {
            "backgroundcolor": "#E5ECF6",
            "gridcolor": "white",
            "gridwidth": 2,
            "linecolor": "white",
            "showbackground": true,
            "ticks": "",
            "zerolinecolor": "white"
           }
          },
          "shapedefaults": {
           "line": {
            "color": "#2a3f5f"
           }
          },
          "ternary": {
           "aaxis": {
            "gridcolor": "white",
            "linecolor": "white",
            "ticks": ""
           },
           "baxis": {
            "gridcolor": "white",
            "linecolor": "white",
            "ticks": ""
           },
           "bgcolor": "#E5ECF6",
           "caxis": {
            "gridcolor": "white",
            "linecolor": "white",
            "ticks": ""
           }
          },
          "title": {
           "x": 0.05
          },
          "xaxis": {
           "automargin": true,
           "gridcolor": "white",
           "linecolor": "white",
           "ticks": "",
           "title": {
            "standoff": 15
           },
           "zerolinecolor": "white",
           "zerolinewidth": 2
          },
          "yaxis": {
           "automargin": true,
           "gridcolor": "white",
           "linecolor": "white",
           "ticks": "",
           "title": {
            "standoff": 15
           },
           "zerolinecolor": "white",
           "zerolinewidth": 2
          }
         }
        }
       }
      },
      "text/html": [
       "<div>                            <div id=\"24c95d80-47f8-4cc4-b364-13b2bfdf2c1f\" class=\"plotly-graph-div\" style=\"height:525px; width:100%;\"></div>            <script type=\"text/javascript\">                require([\"plotly\"], function(Plotly) {                    window.PLOTLYENV=window.PLOTLYENV || {};                                    if (document.getElementById(\"24c95d80-47f8-4cc4-b364-13b2bfdf2c1f\")) {                    Plotly.newPlot(                        \"24c95d80-47f8-4cc4-b364-13b2bfdf2c1f\",                        [{\"mode\": \"markers\", \"name\": \"ppg before covid 19\", \"type\": \"scatter\", \"x\": [\"Manchester United\", \"Newcastle United\", \"Wolverhampton Wanderers\", \"Arsenal\", \"Liverpool\", \"Southampton\", \"West Ham United\", \"Tottenham Hotspur\", \"Everton\", \"Leicester City\", \"Chelsea\", \"Manchester City\", \"Burnley\", \"Brighton and Hove Albion\", \"Crystal Palace\"], \"y\": [1.911764705882353, 1.393939393939394, 1.6470588235294117, 2.088235294117647, 2.8823529411764706, 1.088235294117647, 1.393939393939394, 1.9393939393939394, 1.7878787878787878, 1.6764705882352942, 1.9411764705882353, 2.59375, 1.3529411764705883, 1.2424242424242424, 1.2352941176470589]}, {\"mode\": \"markers\", \"name\": \"ppg after covid 19\", \"type\": \"scatter\", \"x\": [\"Manchester United\", \"Newcastle United\", \"Wolverhampton Wanderers\", \"Arsenal\", \"Liverpool\", \"Southampton\", \"West Ham United\", \"Tottenham Hotspur\", \"Everton\", \"Leicester City\", \"Chelsea\", \"Manchester City\", \"Burnley\", \"Brighton and Hove Albion\", \"Crystal Palace\"], \"y\": [1.6956521739130435, 1.1666666666666667, 1.4782608695652173, 1.6521739130434783, 1.8695652173913044, 1.4782608695652173, 1.7083333333333333, 1.9166666666666667, 1.1666666666666667, 1.5217391304347827, 1.9565217391304348, 2.36, 1.0, 1.0416666666666667, 1.0434782608695652]}],                        {\"template\": {\"data\": {\"bar\": [{\"error_x\": {\"color\": \"#2a3f5f\"}, \"error_y\": {\"color\": \"#2a3f5f\"}, \"marker\": {\"line\": {\"color\": \"#E5ECF6\", \"width\": 0.5}}, \"type\": \"bar\"}], \"barpolar\": [{\"marker\": {\"line\": {\"color\": \"#E5ECF6\", \"width\": 0.5}}, \"type\": \"barpolar\"}], \"carpet\": [{\"aaxis\": {\"endlinecolor\": \"#2a3f5f\", \"gridcolor\": \"white\", \"linecolor\": \"white\", \"minorgridcolor\": \"white\", \"startlinecolor\": \"#2a3f5f\"}, \"baxis\": {\"endlinecolor\": \"#2a3f5f\", \"gridcolor\": \"white\", \"linecolor\": \"white\", \"minorgridcolor\": \"white\", \"startlinecolor\": \"#2a3f5f\"}, \"type\": \"carpet\"}], \"choropleth\": [{\"colorbar\": {\"outlinewidth\": 0, \"ticks\": \"\"}, \"type\": \"choropleth\"}], \"contour\": [{\"colorbar\": {\"outlinewidth\": 0, \"ticks\": \"\"}, \"colorscale\": [[0.0, \"#0d0887\"], [0.1111111111111111, \"#46039f\"], [0.2222222222222222, \"#7201a8\"], [0.3333333333333333, \"#9c179e\"], [0.4444444444444444, \"#bd3786\"], [0.5555555555555556, \"#d8576b\"], [0.6666666666666666, \"#ed7953\"], [0.7777777777777778, \"#fb9f3a\"], [0.8888888888888888, \"#fdca26\"], [1.0, \"#f0f921\"]], \"type\": \"contour\"}], \"contourcarpet\": [{\"colorbar\": {\"outlinewidth\": 0, \"ticks\": \"\"}, \"type\": \"contourcarpet\"}], \"heatmap\": [{\"colorbar\": {\"outlinewidth\": 0, \"ticks\": \"\"}, \"colorscale\": [[0.0, \"#0d0887\"], [0.1111111111111111, \"#46039f\"], [0.2222222222222222, \"#7201a8\"], [0.3333333333333333, \"#9c179e\"], [0.4444444444444444, \"#bd3786\"], [0.5555555555555556, \"#d8576b\"], [0.6666666666666666, \"#ed7953\"], [0.7777777777777778, \"#fb9f3a\"], [0.8888888888888888, \"#fdca26\"], [1.0, \"#f0f921\"]], \"type\": \"heatmap\"}], \"heatmapgl\": [{\"colorbar\": {\"outlinewidth\": 0, \"ticks\": \"\"}, \"colorscale\": [[0.0, \"#0d0887\"], [0.1111111111111111, \"#46039f\"], [0.2222222222222222, \"#7201a8\"], [0.3333333333333333, \"#9c179e\"], [0.4444444444444444, \"#bd3786\"], [0.5555555555555556, \"#d8576b\"], [0.6666666666666666, \"#ed7953\"], [0.7777777777777778, \"#fb9f3a\"], [0.8888888888888888, \"#fdca26\"], [1.0, \"#f0f921\"]], \"type\": \"heatmapgl\"}], \"histogram\": [{\"marker\": {\"colorbar\": {\"outlinewidth\": 0, \"ticks\": \"\"}}, \"type\": \"histogram\"}], \"histogram2d\": [{\"colorbar\": {\"outlinewidth\": 0, \"ticks\": \"\"}, \"colorscale\": [[0.0, \"#0d0887\"], [0.1111111111111111, \"#46039f\"], [0.2222222222222222, \"#7201a8\"], [0.3333333333333333, \"#9c179e\"], [0.4444444444444444, \"#bd3786\"], [0.5555555555555556, \"#d8576b\"], [0.6666666666666666, \"#ed7953\"], [0.7777777777777778, \"#fb9f3a\"], [0.8888888888888888, \"#fdca26\"], [1.0, \"#f0f921\"]], \"type\": \"histogram2d\"}], \"histogram2dcontour\": [{\"colorbar\": {\"outlinewidth\": 0, \"ticks\": \"\"}, \"colorscale\": [[0.0, \"#0d0887\"], [0.1111111111111111, \"#46039f\"], [0.2222222222222222, \"#7201a8\"], [0.3333333333333333, \"#9c179e\"], [0.4444444444444444, \"#bd3786\"], [0.5555555555555556, \"#d8576b\"], [0.6666666666666666, \"#ed7953\"], [0.7777777777777778, \"#fb9f3a\"], [0.8888888888888888, \"#fdca26\"], [1.0, \"#f0f921\"]], \"type\": \"histogram2dcontour\"}], \"mesh3d\": [{\"colorbar\": {\"outlinewidth\": 0, \"ticks\": \"\"}, \"type\": \"mesh3d\"}], \"parcoords\": [{\"line\": {\"colorbar\": {\"outlinewidth\": 0, \"ticks\": \"\"}}, \"type\": \"parcoords\"}], \"pie\": [{\"automargin\": true, \"type\": \"pie\"}], \"scatter\": [{\"marker\": {\"colorbar\": {\"outlinewidth\": 0, \"ticks\": \"\"}}, \"type\": \"scatter\"}], \"scatter3d\": [{\"line\": {\"colorbar\": {\"outlinewidth\": 0, \"ticks\": \"\"}}, \"marker\": {\"colorbar\": {\"outlinewidth\": 0, \"ticks\": \"\"}}, \"type\": \"scatter3d\"}], \"scattercarpet\": [{\"marker\": {\"colorbar\": {\"outlinewidth\": 0, \"ticks\": \"\"}}, \"type\": \"scattercarpet\"}], \"scattergeo\": [{\"marker\": {\"colorbar\": {\"outlinewidth\": 0, \"ticks\": \"\"}}, \"type\": \"scattergeo\"}], \"scattergl\": [{\"marker\": {\"colorbar\": {\"outlinewidth\": 0, \"ticks\": \"\"}}, \"type\": \"scattergl\"}], \"scattermapbox\": [{\"marker\": {\"colorbar\": {\"outlinewidth\": 0, \"ticks\": \"\"}}, \"type\": \"scattermapbox\"}], \"scatterpolar\": [{\"marker\": {\"colorbar\": {\"outlinewidth\": 0, \"ticks\": \"\"}}, \"type\": \"scatterpolar\"}], \"scatterpolargl\": [{\"marker\": {\"colorbar\": {\"outlinewidth\": 0, \"ticks\": \"\"}}, \"type\": \"scatterpolargl\"}], \"scatterternary\": [{\"marker\": {\"colorbar\": {\"outlinewidth\": 0, \"ticks\": \"\"}}, \"type\": \"scatterternary\"}], \"surface\": [{\"colorbar\": {\"outlinewidth\": 0, \"ticks\": \"\"}, \"colorscale\": [[0.0, \"#0d0887\"], [0.1111111111111111, \"#46039f\"], [0.2222222222222222, \"#7201a8\"], [0.3333333333333333, \"#9c179e\"], [0.4444444444444444, \"#bd3786\"], [0.5555555555555556, \"#d8576b\"], [0.6666666666666666, \"#ed7953\"], [0.7777777777777778, \"#fb9f3a\"], [0.8888888888888888, \"#fdca26\"], [1.0, \"#f0f921\"]], \"type\": \"surface\"}], \"table\": [{\"cells\": {\"fill\": {\"color\": \"#EBF0F8\"}, \"line\": {\"color\": \"white\"}}, \"header\": {\"fill\": {\"color\": \"#C8D4E3\"}, \"line\": {\"color\": \"white\"}}, \"type\": \"table\"}]}, \"layout\": {\"annotationdefaults\": {\"arrowcolor\": \"#2a3f5f\", \"arrowhead\": 0, \"arrowwidth\": 1}, \"autotypenumbers\": \"strict\", \"coloraxis\": {\"colorbar\": {\"outlinewidth\": 0, \"ticks\": \"\"}}, \"colorscale\": {\"diverging\": [[0, \"#8e0152\"], [0.1, \"#c51b7d\"], [0.2, \"#de77ae\"], [0.3, \"#f1b6da\"], [0.4, \"#fde0ef\"], [0.5, \"#f7f7f7\"], [0.6, \"#e6f5d0\"], [0.7, \"#b8e186\"], [0.8, \"#7fbc41\"], [0.9, \"#4d9221\"], [1, \"#276419\"]], \"sequential\": [[0.0, \"#0d0887\"], [0.1111111111111111, \"#46039f\"], [0.2222222222222222, \"#7201a8\"], [0.3333333333333333, \"#9c179e\"], [0.4444444444444444, \"#bd3786\"], [0.5555555555555556, \"#d8576b\"], [0.6666666666666666, \"#ed7953\"], [0.7777777777777778, \"#fb9f3a\"], [0.8888888888888888, \"#fdca26\"], [1.0, \"#f0f921\"]], \"sequentialminus\": [[0.0, \"#0d0887\"], [0.1111111111111111, \"#46039f\"], [0.2222222222222222, \"#7201a8\"], [0.3333333333333333, \"#9c179e\"], [0.4444444444444444, \"#bd3786\"], [0.5555555555555556, \"#d8576b\"], [0.6666666666666666, \"#ed7953\"], [0.7777777777777778, \"#fb9f3a\"], [0.8888888888888888, \"#fdca26\"], [1.0, \"#f0f921\"]]}, \"colorway\": [\"#636efa\", \"#EF553B\", \"#00cc96\", \"#ab63fa\", \"#FFA15A\", \"#19d3f3\", \"#FF6692\", \"#B6E880\", \"#FF97FF\", \"#FECB52\"], \"font\": {\"color\": \"#2a3f5f\"}, \"geo\": {\"bgcolor\": \"white\", \"lakecolor\": \"white\", \"landcolor\": \"#E5ECF6\", \"showlakes\": true, \"showland\": true, \"subunitcolor\": \"white\"}, \"hoverlabel\": {\"align\": \"left\"}, \"hovermode\": \"closest\", \"mapbox\": {\"style\": \"light\"}, \"paper_bgcolor\": \"white\", \"plot_bgcolor\": \"#E5ECF6\", \"polar\": {\"angularaxis\": {\"gridcolor\": \"white\", \"linecolor\": \"white\", \"ticks\": \"\"}, \"bgcolor\": \"#E5ECF6\", \"radialaxis\": {\"gridcolor\": \"white\", \"linecolor\": \"white\", \"ticks\": \"\"}}, \"scene\": {\"xaxis\": {\"backgroundcolor\": \"#E5ECF6\", \"gridcolor\": \"white\", \"gridwidth\": 2, \"linecolor\": \"white\", \"showbackground\": true, \"ticks\": \"\", \"zerolinecolor\": \"white\"}, \"yaxis\": {\"backgroundcolor\": \"#E5ECF6\", \"gridcolor\": \"white\", \"gridwidth\": 2, \"linecolor\": \"white\", \"showbackground\": true, \"ticks\": \"\", \"zerolinecolor\": \"white\"}, \"zaxis\": {\"backgroundcolor\": \"#E5ECF6\", \"gridcolor\": \"white\", \"gridwidth\": 2, \"linecolor\": \"white\", \"showbackground\": true, \"ticks\": \"\", \"zerolinecolor\": \"white\"}}, \"shapedefaults\": {\"line\": {\"color\": \"#2a3f5f\"}}, \"ternary\": {\"aaxis\": {\"gridcolor\": \"white\", \"linecolor\": \"white\", \"ticks\": \"\"}, \"baxis\": {\"gridcolor\": \"white\", \"linecolor\": \"white\", \"ticks\": \"\"}, \"bgcolor\": \"#E5ECF6\", \"caxis\": {\"gridcolor\": \"white\", \"linecolor\": \"white\", \"ticks\": \"\"}}, \"title\": {\"x\": 0.05}, \"xaxis\": {\"automargin\": true, \"gridcolor\": \"white\", \"linecolor\": \"white\", \"ticks\": \"\", \"title\": {\"standoff\": 15}, \"zerolinecolor\": \"white\", \"zerolinewidth\": 2}, \"yaxis\": {\"automargin\": true, \"gridcolor\": \"white\", \"linecolor\": \"white\", \"ticks\": \"\", \"title\": {\"standoff\": 15}, \"zerolinecolor\": \"white\", \"zerolinewidth\": 2}}}},                        {\"responsive\": true}                    ).then(function(){\n",
       "                            \n",
       "var gd = document.getElementById('24c95d80-47f8-4cc4-b364-13b2bfdf2c1f');\n",
       "var x = new MutationObserver(function (mutations, observer) {{\n",
       "        var display = window.getComputedStyle(gd).display;\n",
       "        if (!display || display === 'none') {{\n",
       "            console.log([gd, 'removed!']);\n",
       "            Plotly.purge(gd);\n",
       "            observer.disconnect();\n",
       "        }}\n",
       "}});\n",
       "\n",
       "// Listen for the removal of the full notebook cells\n",
       "var notebookContainer = gd.closest('#notebook-container');\n",
       "if (notebookContainer) {{\n",
       "    x.observe(notebookContainer, {childList: true});\n",
       "}}\n",
       "\n",
       "// Listen for the clearing of the current output cell\n",
       "var outputEl = gd.closest('.output');\n",
       "if (outputEl) {{\n",
       "    x.observe(outputEl, {childList: true});\n",
       "}}\n",
       "\n",
       "                        })                };                });            </script>        </div>"
      ]
     },
     "metadata": {},
     "output_type": "display_data"
    }
   ],
   "source": [
    "fig = go.Figure()\n",
    "fig.add_trace(go.Scatter(x=home_df['home_team'], y=home_df['avg_pts_before'], mode='markers',name='ppg before covid 19'))\n",
    "fig.add_trace(go.Scatter(x=home_df['home_team'], y=home_df['avg_pts_after'], mode='markers',name='ppg after covid 19'))\n",
    "fig.show()"
   ]
  },
  {
   "cell_type": "code",
   "execution_count": 125,
   "metadata": {},
   "outputs": [
    {
     "data": {
      "application/vnd.plotly.v1+json": {
       "config": {
        "plotlyServerURL": "https://plot.ly"
       },
       "data": [
        {
         "mode": "markers",
         "name": "ppg before covid 19",
         "type": "scatter",
         "x": [
          "Manchester United",
          "Newcastle United",
          "Wolverhampton Wanderers",
          "Arsenal",
          "Liverpool",
          "Southampton",
          "West Ham United",
          "Tottenham Hotspur",
          "Everton",
          "Leicester City",
          "Chelsea",
          "Manchester City",
          "Burnley",
          "Brighton and Hove Albion",
          "Crystal Palace"
         ],
         "y": [
          1.393939393939394,
          1,
          1.3333333333333333,
          1.21875,
          2.4545454545454546,
          1.0909090909090908,
          0.9705882352941176,
          1.411764705882353,
          0.9411764705882353,
          1.4545454545454546,
          1.6363636363636365,
          2.1176470588235294,
          1,
          0.7058823529411765,
          1.393939393939394
         ]
        },
        {
         "mode": "markers",
         "name": "ppg after covid 19",
         "type": "scatter",
         "x": [
          "Manchester United",
          "Newcastle United",
          "Wolverhampton Wanderers",
          "Arsenal",
          "Liverpool",
          "Southampton",
          "West Ham United",
          "Tottenham Hotspur",
          "Everton",
          "Leicester City",
          "Chelsea",
          "Manchester City",
          "Burnley",
          "Brighton and Hove Albion",
          "Crystal Palace"
         ],
         "y": [
          2.3333333333333335,
          1.1304347826086956,
          1.125,
          1.56,
          1.7916666666666667,
          1.125,
          1.565217391304348,
          1.4782608695652173,
          1.8695652173913044,
          1.6666666666666667,
          1.6666666666666667,
          2.217391304347826,
          1.2916666666666667,
          1.2173913043478262,
          1
         ]
        }
       ],
       "layout": {
        "template": {
         "data": {
          "bar": [
           {
            "error_x": {
             "color": "#2a3f5f"
            },
            "error_y": {
             "color": "#2a3f5f"
            },
            "marker": {
             "line": {
              "color": "#E5ECF6",
              "width": 0.5
             }
            },
            "type": "bar"
           }
          ],
          "barpolar": [
           {
            "marker": {
             "line": {
              "color": "#E5ECF6",
              "width": 0.5
             }
            },
            "type": "barpolar"
           }
          ],
          "carpet": [
           {
            "aaxis": {
             "endlinecolor": "#2a3f5f",
             "gridcolor": "white",
             "linecolor": "white",
             "minorgridcolor": "white",
             "startlinecolor": "#2a3f5f"
            },
            "baxis": {
             "endlinecolor": "#2a3f5f",
             "gridcolor": "white",
             "linecolor": "white",
             "minorgridcolor": "white",
             "startlinecolor": "#2a3f5f"
            },
            "type": "carpet"
           }
          ],
          "choropleth": [
           {
            "colorbar": {
             "outlinewidth": 0,
             "ticks": ""
            },
            "type": "choropleth"
           }
          ],
          "contour": [
           {
            "colorbar": {
             "outlinewidth": 0,
             "ticks": ""
            },
            "colorscale": [
             [
              0,
              "#0d0887"
             ],
             [
              0.1111111111111111,
              "#46039f"
             ],
             [
              0.2222222222222222,
              "#7201a8"
             ],
             [
              0.3333333333333333,
              "#9c179e"
             ],
             [
              0.4444444444444444,
              "#bd3786"
             ],
             [
              0.5555555555555556,
              "#d8576b"
             ],
             [
              0.6666666666666666,
              "#ed7953"
             ],
             [
              0.7777777777777778,
              "#fb9f3a"
             ],
             [
              0.8888888888888888,
              "#fdca26"
             ],
             [
              1,
              "#f0f921"
             ]
            ],
            "type": "contour"
           }
          ],
          "contourcarpet": [
           {
            "colorbar": {
             "outlinewidth": 0,
             "ticks": ""
            },
            "type": "contourcarpet"
           }
          ],
          "heatmap": [
           {
            "colorbar": {
             "outlinewidth": 0,
             "ticks": ""
            },
            "colorscale": [
             [
              0,
              "#0d0887"
             ],
             [
              0.1111111111111111,
              "#46039f"
             ],
             [
              0.2222222222222222,
              "#7201a8"
             ],
             [
              0.3333333333333333,
              "#9c179e"
             ],
             [
              0.4444444444444444,
              "#bd3786"
             ],
             [
              0.5555555555555556,
              "#d8576b"
             ],
             [
              0.6666666666666666,
              "#ed7953"
             ],
             [
              0.7777777777777778,
              "#fb9f3a"
             ],
             [
              0.8888888888888888,
              "#fdca26"
             ],
             [
              1,
              "#f0f921"
             ]
            ],
            "type": "heatmap"
           }
          ],
          "heatmapgl": [
           {
            "colorbar": {
             "outlinewidth": 0,
             "ticks": ""
            },
            "colorscale": [
             [
              0,
              "#0d0887"
             ],
             [
              0.1111111111111111,
              "#46039f"
             ],
             [
              0.2222222222222222,
              "#7201a8"
             ],
             [
              0.3333333333333333,
              "#9c179e"
             ],
             [
              0.4444444444444444,
              "#bd3786"
             ],
             [
              0.5555555555555556,
              "#d8576b"
             ],
             [
              0.6666666666666666,
              "#ed7953"
             ],
             [
              0.7777777777777778,
              "#fb9f3a"
             ],
             [
              0.8888888888888888,
              "#fdca26"
             ],
             [
              1,
              "#f0f921"
             ]
            ],
            "type": "heatmapgl"
           }
          ],
          "histogram": [
           {
            "marker": {
             "colorbar": {
              "outlinewidth": 0,
              "ticks": ""
             }
            },
            "type": "histogram"
           }
          ],
          "histogram2d": [
           {
            "colorbar": {
             "outlinewidth": 0,
             "ticks": ""
            },
            "colorscale": [
             [
              0,
              "#0d0887"
             ],
             [
              0.1111111111111111,
              "#46039f"
             ],
             [
              0.2222222222222222,
              "#7201a8"
             ],
             [
              0.3333333333333333,
              "#9c179e"
             ],
             [
              0.4444444444444444,
              "#bd3786"
             ],
             [
              0.5555555555555556,
              "#d8576b"
             ],
             [
              0.6666666666666666,
              "#ed7953"
             ],
             [
              0.7777777777777778,
              "#fb9f3a"
             ],
             [
              0.8888888888888888,
              "#fdca26"
             ],
             [
              1,
              "#f0f921"
             ]
            ],
            "type": "histogram2d"
           }
          ],
          "histogram2dcontour": [
           {
            "colorbar": {
             "outlinewidth": 0,
             "ticks": ""
            },
            "colorscale": [
             [
              0,
              "#0d0887"
             ],
             [
              0.1111111111111111,
              "#46039f"
             ],
             [
              0.2222222222222222,
              "#7201a8"
             ],
             [
              0.3333333333333333,
              "#9c179e"
             ],
             [
              0.4444444444444444,
              "#bd3786"
             ],
             [
              0.5555555555555556,
              "#d8576b"
             ],
             [
              0.6666666666666666,
              "#ed7953"
             ],
             [
              0.7777777777777778,
              "#fb9f3a"
             ],
             [
              0.8888888888888888,
              "#fdca26"
             ],
             [
              1,
              "#f0f921"
             ]
            ],
            "type": "histogram2dcontour"
           }
          ],
          "mesh3d": [
           {
            "colorbar": {
             "outlinewidth": 0,
             "ticks": ""
            },
            "type": "mesh3d"
           }
          ],
          "parcoords": [
           {
            "line": {
             "colorbar": {
              "outlinewidth": 0,
              "ticks": ""
             }
            },
            "type": "parcoords"
           }
          ],
          "pie": [
           {
            "automargin": true,
            "type": "pie"
           }
          ],
          "scatter": [
           {
            "marker": {
             "colorbar": {
              "outlinewidth": 0,
              "ticks": ""
             }
            },
            "type": "scatter"
           }
          ],
          "scatter3d": [
           {
            "line": {
             "colorbar": {
              "outlinewidth": 0,
              "ticks": ""
             }
            },
            "marker": {
             "colorbar": {
              "outlinewidth": 0,
              "ticks": ""
             }
            },
            "type": "scatter3d"
           }
          ],
          "scattercarpet": [
           {
            "marker": {
             "colorbar": {
              "outlinewidth": 0,
              "ticks": ""
             }
            },
            "type": "scattercarpet"
           }
          ],
          "scattergeo": [
           {
            "marker": {
             "colorbar": {
              "outlinewidth": 0,
              "ticks": ""
             }
            },
            "type": "scattergeo"
           }
          ],
          "scattergl": [
           {
            "marker": {
             "colorbar": {
              "outlinewidth": 0,
              "ticks": ""
             }
            },
            "type": "scattergl"
           }
          ],
          "scattermapbox": [
           {
            "marker": {
             "colorbar": {
              "outlinewidth": 0,
              "ticks": ""
             }
            },
            "type": "scattermapbox"
           }
          ],
          "scatterpolar": [
           {
            "marker": {
             "colorbar": {
              "outlinewidth": 0,
              "ticks": ""
             }
            },
            "type": "scatterpolar"
           }
          ],
          "scatterpolargl": [
           {
            "marker": {
             "colorbar": {
              "outlinewidth": 0,
              "ticks": ""
             }
            },
            "type": "scatterpolargl"
           }
          ],
          "scatterternary": [
           {
            "marker": {
             "colorbar": {
              "outlinewidth": 0,
              "ticks": ""
             }
            },
            "type": "scatterternary"
           }
          ],
          "surface": [
           {
            "colorbar": {
             "outlinewidth": 0,
             "ticks": ""
            },
            "colorscale": [
             [
              0,
              "#0d0887"
             ],
             [
              0.1111111111111111,
              "#46039f"
             ],
             [
              0.2222222222222222,
              "#7201a8"
             ],
             [
              0.3333333333333333,
              "#9c179e"
             ],
             [
              0.4444444444444444,
              "#bd3786"
             ],
             [
              0.5555555555555556,
              "#d8576b"
             ],
             [
              0.6666666666666666,
              "#ed7953"
             ],
             [
              0.7777777777777778,
              "#fb9f3a"
             ],
             [
              0.8888888888888888,
              "#fdca26"
             ],
             [
              1,
              "#f0f921"
             ]
            ],
            "type": "surface"
           }
          ],
          "table": [
           {
            "cells": {
             "fill": {
              "color": "#EBF0F8"
             },
             "line": {
              "color": "white"
             }
            },
            "header": {
             "fill": {
              "color": "#C8D4E3"
             },
             "line": {
              "color": "white"
             }
            },
            "type": "table"
           }
          ]
         },
         "layout": {
          "annotationdefaults": {
           "arrowcolor": "#2a3f5f",
           "arrowhead": 0,
           "arrowwidth": 1
          },
          "autotypenumbers": "strict",
          "coloraxis": {
           "colorbar": {
            "outlinewidth": 0,
            "ticks": ""
           }
          },
          "colorscale": {
           "diverging": [
            [
             0,
             "#8e0152"
            ],
            [
             0.1,
             "#c51b7d"
            ],
            [
             0.2,
             "#de77ae"
            ],
            [
             0.3,
             "#f1b6da"
            ],
            [
             0.4,
             "#fde0ef"
            ],
            [
             0.5,
             "#f7f7f7"
            ],
            [
             0.6,
             "#e6f5d0"
            ],
            [
             0.7,
             "#b8e186"
            ],
            [
             0.8,
             "#7fbc41"
            ],
            [
             0.9,
             "#4d9221"
            ],
            [
             1,
             "#276419"
            ]
           ],
           "sequential": [
            [
             0,
             "#0d0887"
            ],
            [
             0.1111111111111111,
             "#46039f"
            ],
            [
             0.2222222222222222,
             "#7201a8"
            ],
            [
             0.3333333333333333,
             "#9c179e"
            ],
            [
             0.4444444444444444,
             "#bd3786"
            ],
            [
             0.5555555555555556,
             "#d8576b"
            ],
            [
             0.6666666666666666,
             "#ed7953"
            ],
            [
             0.7777777777777778,
             "#fb9f3a"
            ],
            [
             0.8888888888888888,
             "#fdca26"
            ],
            [
             1,
             "#f0f921"
            ]
           ],
           "sequentialminus": [
            [
             0,
             "#0d0887"
            ],
            [
             0.1111111111111111,
             "#46039f"
            ],
            [
             0.2222222222222222,
             "#7201a8"
            ],
            [
             0.3333333333333333,
             "#9c179e"
            ],
            [
             0.4444444444444444,
             "#bd3786"
            ],
            [
             0.5555555555555556,
             "#d8576b"
            ],
            [
             0.6666666666666666,
             "#ed7953"
            ],
            [
             0.7777777777777778,
             "#fb9f3a"
            ],
            [
             0.8888888888888888,
             "#fdca26"
            ],
            [
             1,
             "#f0f921"
            ]
           ]
          },
          "colorway": [
           "#636efa",
           "#EF553B",
           "#00cc96",
           "#ab63fa",
           "#FFA15A",
           "#19d3f3",
           "#FF6692",
           "#B6E880",
           "#FF97FF",
           "#FECB52"
          ],
          "font": {
           "color": "#2a3f5f"
          },
          "geo": {
           "bgcolor": "white",
           "lakecolor": "white",
           "landcolor": "#E5ECF6",
           "showlakes": true,
           "showland": true,
           "subunitcolor": "white"
          },
          "hoverlabel": {
           "align": "left"
          },
          "hovermode": "closest",
          "mapbox": {
           "style": "light"
          },
          "paper_bgcolor": "white",
          "plot_bgcolor": "#E5ECF6",
          "polar": {
           "angularaxis": {
            "gridcolor": "white",
            "linecolor": "white",
            "ticks": ""
           },
           "bgcolor": "#E5ECF6",
           "radialaxis": {
            "gridcolor": "white",
            "linecolor": "white",
            "ticks": ""
           }
          },
          "scene": {
           "xaxis": {
            "backgroundcolor": "#E5ECF6",
            "gridcolor": "white",
            "gridwidth": 2,
            "linecolor": "white",
            "showbackground": true,
            "ticks": "",
            "zerolinecolor": "white"
           },
           "yaxis": {
            "backgroundcolor": "#E5ECF6",
            "gridcolor": "white",
            "gridwidth": 2,
            "linecolor": "white",
            "showbackground": true,
            "ticks": "",
            "zerolinecolor": "white"
           },
           "zaxis": {
            "backgroundcolor": "#E5ECF6",
            "gridcolor": "white",
            "gridwidth": 2,
            "linecolor": "white",
            "showbackground": true,
            "ticks": "",
            "zerolinecolor": "white"
           }
          },
          "shapedefaults": {
           "line": {
            "color": "#2a3f5f"
           }
          },
          "ternary": {
           "aaxis": {
            "gridcolor": "white",
            "linecolor": "white",
            "ticks": ""
           },
           "baxis": {
            "gridcolor": "white",
            "linecolor": "white",
            "ticks": ""
           },
           "bgcolor": "#E5ECF6",
           "caxis": {
            "gridcolor": "white",
            "linecolor": "white",
            "ticks": ""
           }
          },
          "title": {
           "x": 0.05
          },
          "xaxis": {
           "automargin": true,
           "gridcolor": "white",
           "linecolor": "white",
           "ticks": "",
           "title": {
            "standoff": 15
           },
           "zerolinecolor": "white",
           "zerolinewidth": 2
          },
          "yaxis": {
           "automargin": true,
           "gridcolor": "white",
           "linecolor": "white",
           "ticks": "",
           "title": {
            "standoff": 15
           },
           "zerolinecolor": "white",
           "zerolinewidth": 2
          }
         }
        }
       }
      },
      "text/html": [
       "<div>                            <div id=\"ae839e4d-343e-4457-82a5-870500468d16\" class=\"plotly-graph-div\" style=\"height:525px; width:100%;\"></div>            <script type=\"text/javascript\">                require([\"plotly\"], function(Plotly) {                    window.PLOTLYENV=window.PLOTLYENV || {};                                    if (document.getElementById(\"ae839e4d-343e-4457-82a5-870500468d16\")) {                    Plotly.newPlot(                        \"ae839e4d-343e-4457-82a5-870500468d16\",                        [{\"mode\": \"markers\", \"name\": \"ppg before covid 19\", \"type\": \"scatter\", \"x\": [\"Manchester United\", \"Newcastle United\", \"Wolverhampton Wanderers\", \"Arsenal\", \"Liverpool\", \"Southampton\", \"West Ham United\", \"Tottenham Hotspur\", \"Everton\", \"Leicester City\", \"Chelsea\", \"Manchester City\", \"Burnley\", \"Brighton and Hove Albion\", \"Crystal Palace\"], \"y\": [1.393939393939394, 1.0, 1.3333333333333333, 1.21875, 2.4545454545454546, 1.0909090909090908, 0.9705882352941176, 1.411764705882353, 0.9411764705882353, 1.4545454545454546, 1.6363636363636365, 2.1176470588235294, 1.0, 0.7058823529411765, 1.393939393939394]}, {\"mode\": \"markers\", \"name\": \"ppg after covid 19\", \"type\": \"scatter\", \"x\": [\"Manchester United\", \"Newcastle United\", \"Wolverhampton Wanderers\", \"Arsenal\", \"Liverpool\", \"Southampton\", \"West Ham United\", \"Tottenham Hotspur\", \"Everton\", \"Leicester City\", \"Chelsea\", \"Manchester City\", \"Burnley\", \"Brighton and Hove Albion\", \"Crystal Palace\"], \"y\": [2.3333333333333335, 1.1304347826086956, 1.125, 1.56, 1.7916666666666667, 1.125, 1.565217391304348, 1.4782608695652173, 1.8695652173913044, 1.6666666666666667, 1.6666666666666667, 2.217391304347826, 1.2916666666666667, 1.2173913043478262, 1.0]}],                        {\"template\": {\"data\": {\"bar\": [{\"error_x\": {\"color\": \"#2a3f5f\"}, \"error_y\": {\"color\": \"#2a3f5f\"}, \"marker\": {\"line\": {\"color\": \"#E5ECF6\", \"width\": 0.5}}, \"type\": \"bar\"}], \"barpolar\": [{\"marker\": {\"line\": {\"color\": \"#E5ECF6\", \"width\": 0.5}}, \"type\": \"barpolar\"}], \"carpet\": [{\"aaxis\": {\"endlinecolor\": \"#2a3f5f\", \"gridcolor\": \"white\", \"linecolor\": \"white\", \"minorgridcolor\": \"white\", \"startlinecolor\": \"#2a3f5f\"}, \"baxis\": {\"endlinecolor\": \"#2a3f5f\", \"gridcolor\": \"white\", \"linecolor\": \"white\", \"minorgridcolor\": \"white\", \"startlinecolor\": \"#2a3f5f\"}, \"type\": \"carpet\"}], \"choropleth\": [{\"colorbar\": {\"outlinewidth\": 0, \"ticks\": \"\"}, \"type\": \"choropleth\"}], \"contour\": [{\"colorbar\": {\"outlinewidth\": 0, \"ticks\": \"\"}, \"colorscale\": [[0.0, \"#0d0887\"], [0.1111111111111111, \"#46039f\"], [0.2222222222222222, \"#7201a8\"], [0.3333333333333333, \"#9c179e\"], [0.4444444444444444, \"#bd3786\"], [0.5555555555555556, \"#d8576b\"], [0.6666666666666666, \"#ed7953\"], [0.7777777777777778, \"#fb9f3a\"], [0.8888888888888888, \"#fdca26\"], [1.0, \"#f0f921\"]], \"type\": \"contour\"}], \"contourcarpet\": [{\"colorbar\": {\"outlinewidth\": 0, \"ticks\": \"\"}, \"type\": \"contourcarpet\"}], \"heatmap\": [{\"colorbar\": {\"outlinewidth\": 0, \"ticks\": \"\"}, \"colorscale\": [[0.0, \"#0d0887\"], [0.1111111111111111, \"#46039f\"], [0.2222222222222222, \"#7201a8\"], [0.3333333333333333, \"#9c179e\"], [0.4444444444444444, \"#bd3786\"], [0.5555555555555556, \"#d8576b\"], [0.6666666666666666, \"#ed7953\"], [0.7777777777777778, \"#fb9f3a\"], [0.8888888888888888, \"#fdca26\"], [1.0, \"#f0f921\"]], \"type\": \"heatmap\"}], \"heatmapgl\": [{\"colorbar\": {\"outlinewidth\": 0, \"ticks\": \"\"}, \"colorscale\": [[0.0, \"#0d0887\"], [0.1111111111111111, \"#46039f\"], [0.2222222222222222, \"#7201a8\"], [0.3333333333333333, \"#9c179e\"], [0.4444444444444444, \"#bd3786\"], [0.5555555555555556, \"#d8576b\"], [0.6666666666666666, \"#ed7953\"], [0.7777777777777778, \"#fb9f3a\"], [0.8888888888888888, \"#fdca26\"], [1.0, \"#f0f921\"]], \"type\": \"heatmapgl\"}], \"histogram\": [{\"marker\": {\"colorbar\": {\"outlinewidth\": 0, \"ticks\": \"\"}}, \"type\": \"histogram\"}], \"histogram2d\": [{\"colorbar\": {\"outlinewidth\": 0, \"ticks\": \"\"}, \"colorscale\": [[0.0, \"#0d0887\"], [0.1111111111111111, \"#46039f\"], [0.2222222222222222, \"#7201a8\"], [0.3333333333333333, \"#9c179e\"], [0.4444444444444444, \"#bd3786\"], [0.5555555555555556, \"#d8576b\"], [0.6666666666666666, \"#ed7953\"], [0.7777777777777778, \"#fb9f3a\"], [0.8888888888888888, \"#fdca26\"], [1.0, \"#f0f921\"]], \"type\": \"histogram2d\"}], \"histogram2dcontour\": [{\"colorbar\": {\"outlinewidth\": 0, \"ticks\": \"\"}, \"colorscale\": [[0.0, \"#0d0887\"], [0.1111111111111111, \"#46039f\"], [0.2222222222222222, \"#7201a8\"], [0.3333333333333333, \"#9c179e\"], [0.4444444444444444, \"#bd3786\"], [0.5555555555555556, \"#d8576b\"], [0.6666666666666666, \"#ed7953\"], [0.7777777777777778, \"#fb9f3a\"], [0.8888888888888888, \"#fdca26\"], [1.0, \"#f0f921\"]], \"type\": \"histogram2dcontour\"}], \"mesh3d\": [{\"colorbar\": {\"outlinewidth\": 0, \"ticks\": \"\"}, \"type\": \"mesh3d\"}], \"parcoords\": [{\"line\": {\"colorbar\": {\"outlinewidth\": 0, \"ticks\": \"\"}}, \"type\": \"parcoords\"}], \"pie\": [{\"automargin\": true, \"type\": \"pie\"}], \"scatter\": [{\"marker\": {\"colorbar\": {\"outlinewidth\": 0, \"ticks\": \"\"}}, \"type\": \"scatter\"}], \"scatter3d\": [{\"line\": {\"colorbar\": {\"outlinewidth\": 0, \"ticks\": \"\"}}, \"marker\": {\"colorbar\": {\"outlinewidth\": 0, \"ticks\": \"\"}}, \"type\": \"scatter3d\"}], \"scattercarpet\": [{\"marker\": {\"colorbar\": {\"outlinewidth\": 0, \"ticks\": \"\"}}, \"type\": \"scattercarpet\"}], \"scattergeo\": [{\"marker\": {\"colorbar\": {\"outlinewidth\": 0, \"ticks\": \"\"}}, \"type\": \"scattergeo\"}], \"scattergl\": [{\"marker\": {\"colorbar\": {\"outlinewidth\": 0, \"ticks\": \"\"}}, \"type\": \"scattergl\"}], \"scattermapbox\": [{\"marker\": {\"colorbar\": {\"outlinewidth\": 0, \"ticks\": \"\"}}, \"type\": \"scattermapbox\"}], \"scatterpolar\": [{\"marker\": {\"colorbar\": {\"outlinewidth\": 0, \"ticks\": \"\"}}, \"type\": \"scatterpolar\"}], \"scatterpolargl\": [{\"marker\": {\"colorbar\": {\"outlinewidth\": 0, \"ticks\": \"\"}}, \"type\": \"scatterpolargl\"}], \"scatterternary\": [{\"marker\": {\"colorbar\": {\"outlinewidth\": 0, \"ticks\": \"\"}}, \"type\": \"scatterternary\"}], \"surface\": [{\"colorbar\": {\"outlinewidth\": 0, \"ticks\": \"\"}, \"colorscale\": [[0.0, \"#0d0887\"], [0.1111111111111111, \"#46039f\"], [0.2222222222222222, \"#7201a8\"], [0.3333333333333333, \"#9c179e\"], [0.4444444444444444, \"#bd3786\"], [0.5555555555555556, \"#d8576b\"], [0.6666666666666666, \"#ed7953\"], [0.7777777777777778, \"#fb9f3a\"], [0.8888888888888888, \"#fdca26\"], [1.0, \"#f0f921\"]], \"type\": \"surface\"}], \"table\": [{\"cells\": {\"fill\": {\"color\": \"#EBF0F8\"}, \"line\": {\"color\": \"white\"}}, \"header\": {\"fill\": {\"color\": \"#C8D4E3\"}, \"line\": {\"color\": \"white\"}}, \"type\": \"table\"}]}, \"layout\": {\"annotationdefaults\": {\"arrowcolor\": \"#2a3f5f\", \"arrowhead\": 0, \"arrowwidth\": 1}, \"autotypenumbers\": \"strict\", \"coloraxis\": {\"colorbar\": {\"outlinewidth\": 0, \"ticks\": \"\"}}, \"colorscale\": {\"diverging\": [[0, \"#8e0152\"], [0.1, \"#c51b7d\"], [0.2, \"#de77ae\"], [0.3, \"#f1b6da\"], [0.4, \"#fde0ef\"], [0.5, \"#f7f7f7\"], [0.6, \"#e6f5d0\"], [0.7, \"#b8e186\"], [0.8, \"#7fbc41\"], [0.9, \"#4d9221\"], [1, \"#276419\"]], \"sequential\": [[0.0, \"#0d0887\"], [0.1111111111111111, \"#46039f\"], [0.2222222222222222, \"#7201a8\"], [0.3333333333333333, \"#9c179e\"], [0.4444444444444444, \"#bd3786\"], [0.5555555555555556, \"#d8576b\"], [0.6666666666666666, \"#ed7953\"], [0.7777777777777778, \"#fb9f3a\"], [0.8888888888888888, \"#fdca26\"], [1.0, \"#f0f921\"]], \"sequentialminus\": [[0.0, \"#0d0887\"], [0.1111111111111111, \"#46039f\"], [0.2222222222222222, \"#7201a8\"], [0.3333333333333333, \"#9c179e\"], [0.4444444444444444, \"#bd3786\"], [0.5555555555555556, \"#d8576b\"], [0.6666666666666666, \"#ed7953\"], [0.7777777777777778, \"#fb9f3a\"], [0.8888888888888888, \"#fdca26\"], [1.0, \"#f0f921\"]]}, \"colorway\": [\"#636efa\", \"#EF553B\", \"#00cc96\", \"#ab63fa\", \"#FFA15A\", \"#19d3f3\", \"#FF6692\", \"#B6E880\", \"#FF97FF\", \"#FECB52\"], \"font\": {\"color\": \"#2a3f5f\"}, \"geo\": {\"bgcolor\": \"white\", \"lakecolor\": \"white\", \"landcolor\": \"#E5ECF6\", \"showlakes\": true, \"showland\": true, \"subunitcolor\": \"white\"}, \"hoverlabel\": {\"align\": \"left\"}, \"hovermode\": \"closest\", \"mapbox\": {\"style\": \"light\"}, \"paper_bgcolor\": \"white\", \"plot_bgcolor\": \"#E5ECF6\", \"polar\": {\"angularaxis\": {\"gridcolor\": \"white\", \"linecolor\": \"white\", \"ticks\": \"\"}, \"bgcolor\": \"#E5ECF6\", \"radialaxis\": {\"gridcolor\": \"white\", \"linecolor\": \"white\", \"ticks\": \"\"}}, \"scene\": {\"xaxis\": {\"backgroundcolor\": \"#E5ECF6\", \"gridcolor\": \"white\", \"gridwidth\": 2, \"linecolor\": \"white\", \"showbackground\": true, \"ticks\": \"\", \"zerolinecolor\": \"white\"}, \"yaxis\": {\"backgroundcolor\": \"#E5ECF6\", \"gridcolor\": \"white\", \"gridwidth\": 2, \"linecolor\": \"white\", \"showbackground\": true, \"ticks\": \"\", \"zerolinecolor\": \"white\"}, \"zaxis\": {\"backgroundcolor\": \"#E5ECF6\", \"gridcolor\": \"white\", \"gridwidth\": 2, \"linecolor\": \"white\", \"showbackground\": true, \"ticks\": \"\", \"zerolinecolor\": \"white\"}}, \"shapedefaults\": {\"line\": {\"color\": \"#2a3f5f\"}}, \"ternary\": {\"aaxis\": {\"gridcolor\": \"white\", \"linecolor\": \"white\", \"ticks\": \"\"}, \"baxis\": {\"gridcolor\": \"white\", \"linecolor\": \"white\", \"ticks\": \"\"}, \"bgcolor\": \"#E5ECF6\", \"caxis\": {\"gridcolor\": \"white\", \"linecolor\": \"white\", \"ticks\": \"\"}}, \"title\": {\"x\": 0.05}, \"xaxis\": {\"automargin\": true, \"gridcolor\": \"white\", \"linecolor\": \"white\", \"ticks\": \"\", \"title\": {\"standoff\": 15}, \"zerolinecolor\": \"white\", \"zerolinewidth\": 2}, \"yaxis\": {\"automargin\": true, \"gridcolor\": \"white\", \"linecolor\": \"white\", \"ticks\": \"\", \"title\": {\"standoff\": 15}, \"zerolinecolor\": \"white\", \"zerolinewidth\": 2}}}},                        {\"responsive\": true}                    ).then(function(){\n",
       "                            \n",
       "var gd = document.getElementById('ae839e4d-343e-4457-82a5-870500468d16');\n",
       "var x = new MutationObserver(function (mutations, observer) {{\n",
       "        var display = window.getComputedStyle(gd).display;\n",
       "        if (!display || display === 'none') {{\n",
       "            console.log([gd, 'removed!']);\n",
       "            Plotly.purge(gd);\n",
       "            observer.disconnect();\n",
       "        }}\n",
       "}});\n",
       "\n",
       "// Listen for the removal of the full notebook cells\n",
       "var notebookContainer = gd.closest('#notebook-container');\n",
       "if (notebookContainer) {{\n",
       "    x.observe(notebookContainer, {childList: true});\n",
       "}}\n",
       "\n",
       "// Listen for the clearing of the current output cell\n",
       "var outputEl = gd.closest('.output');\n",
       "if (outputEl) {{\n",
       "    x.observe(outputEl, {childList: true});\n",
       "}}\n",
       "\n",
       "                        })                };                });            </script>        </div>"
      ]
     },
     "metadata": {},
     "output_type": "display_data"
    }
   ],
   "source": [
    "fig = go.Figure()\n",
    "fig.add_trace(go.Scatter(x=away_df['away_team'], y=away_df['avg_pts_before'], mode='markers',name='ppg before covid 19'))\n",
    "fig.add_trace(go.Scatter(x=away_df['away_team'], y=away_df['avg_pts_after'], mode='markers',name='ppg after covid 19'))\n",
    "fig.show()"
   ]
  }
 ],
 "metadata": {
  "kernelspec": {
   "display_name": "Python 3",
   "language": "python",
   "name": "python3"
  },
  "language_info": {
   "codemirror_mode": {
    "name": "ipython",
    "version": 3
   },
   "file_extension": ".py",
   "mimetype": "text/x-python",
   "name": "python",
   "nbconvert_exporter": "python",
   "pygments_lexer": "ipython3",
   "version": "3.8.5"
  }
 },
 "nbformat": 4,
 "nbformat_minor": 4
}
