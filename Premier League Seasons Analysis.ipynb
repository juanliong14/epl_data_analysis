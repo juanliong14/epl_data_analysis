{
 "cells": [
  {
   "cell_type": "markdown",
   "metadata": {},
   "source": [
    "## Import Libraries"
   ]
  },
  {
   "cell_type": "code",
   "execution_count": 1,
   "metadata": {},
   "outputs": [],
   "source": [
    "import pandas as pd\n",
    "import plotly.graph_objects as go\n",
    "\n",
    "#Set float number just have two decimals\n",
    "pd.set_option('display.float_format','{:.2f}' .format)\n",
    "#Set option display max columns\n",
    "pd.options.display.max_columns=999"
   ]
  },
  {
   "cell_type": "markdown",
   "metadata": {},
   "source": [
    "## Load and Concat Dataset"
   ]
  },
  {
   "cell_type": "code",
   "execution_count": 2,
   "metadata": {},
   "outputs": [],
   "source": [
    "df1 = pd.read_csv('Premier_league_18_19.csv')\n",
    "df2 = pd.read_csv('Premier_league_19_20.csv')\n",
    "df3 = pd.read_csv('Premier_league_20_21.csv')"
   ]
  },
  {
   "cell_type": "code",
   "execution_count": 3,
   "metadata": {},
   "outputs": [
    {
     "data": {
      "text/html": [
       "<div>\n",
       "<style scoped>\n",
       "    .dataframe tbody tr th:only-of-type {\n",
       "        vertical-align: middle;\n",
       "    }\n",
       "\n",
       "    .dataframe tbody tr th {\n",
       "        vertical-align: top;\n",
       "    }\n",
       "\n",
       "    .dataframe thead th {\n",
       "        text-align: right;\n",
       "    }\n",
       "</style>\n",
       "<table border=\"1\" class=\"dataframe\">\n",
       "  <thead>\n",
       "    <tr style=\"text-align: right;\">\n",
       "      <th></th>\n",
       "      <th>date</th>\n",
       "      <th>home_team</th>\n",
       "      <th>away_team</th>\n",
       "      <th>home_score</th>\n",
       "      <th>away_score</th>\n",
       "      <th>home_possession_%</th>\n",
       "      <th>away_possession_%</th>\n",
       "      <th>home_shots_on_target</th>\n",
       "      <th>away_shots_on_target</th>\n",
       "      <th>home_shots</th>\n",
       "      <th>away_shots</th>\n",
       "      <th>home_touches</th>\n",
       "      <th>away_touches</th>\n",
       "      <th>home_passes</th>\n",
       "      <th>away_passes</th>\n",
       "      <th>home_tackles</th>\n",
       "      <th>away_tackles</th>\n",
       "      <th>home_clearances</th>\n",
       "      <th>away_clearances</th>\n",
       "      <th>home_corners</th>\n",
       "      <th>away_corners</th>\n",
       "      <th>home_offsides</th>\n",
       "      <th>away_offsides</th>\n",
       "      <th>home_yellow_cards</th>\n",
       "      <th>away_yellow_cards</th>\n",
       "      <th>home_red_cards</th>\n",
       "      <th>away_red_cards</th>\n",
       "      <th>home_fouls_conceded</th>\n",
       "      <th>away_fouls_conceded</th>\n",
       "    </tr>\n",
       "  </thead>\n",
       "  <tbody>\n",
       "    <tr>\n",
       "      <th>0</th>\n",
       "      <td>08/12/2018</td>\n",
       "      <td>Arsenal</td>\n",
       "      <td>Manchester City</td>\n",
       "      <td>0</td>\n",
       "      <td>2</td>\n",
       "      <td>42.00</td>\n",
       "      <td>58.00</td>\n",
       "      <td>3.00</td>\n",
       "      <td>8.00</td>\n",
       "      <td>9.00</td>\n",
       "      <td>17.00</td>\n",
       "      <td>593.00</td>\n",
       "      <td>734.00</td>\n",
       "      <td>401.00</td>\n",
       "      <td>555.00</td>\n",
       "      <td>22.00</td>\n",
       "      <td>6.00</td>\n",
       "      <td>23.00</td>\n",
       "      <td>9.00</td>\n",
       "      <td>2.00</td>\n",
       "      <td>9.00</td>\n",
       "      <td>7.00</td>\n",
       "      <td>2.00</td>\n",
       "      <td>2.00</td>\n",
       "      <td>2.00</td>\n",
       "      <td>0.00</td>\n",
       "      <td>0.00</td>\n",
       "      <td>11.00</td>\n",
       "      <td>14.00</td>\n",
       "    </tr>\n",
       "    <tr>\n",
       "      <th>1</th>\n",
       "      <td>08/11/2018</td>\n",
       "      <td>AFC Bournemouth</td>\n",
       "      <td>Cardiff City</td>\n",
       "      <td>2</td>\n",
       "      <td>0</td>\n",
       "      <td>62.90</td>\n",
       "      <td>37.10</td>\n",
       "      <td>4.00</td>\n",
       "      <td>1.00</td>\n",
       "      <td>12.00</td>\n",
       "      <td>10.00</td>\n",
       "      <td>711.00</td>\n",
       "      <td>483.00</td>\n",
       "      <td>502.00</td>\n",
       "      <td>287.00</td>\n",
       "      <td>11.00</td>\n",
       "      <td>22.00</td>\n",
       "      <td>37.00</td>\n",
       "      <td>30.00</td>\n",
       "      <td>7.00</td>\n",
       "      <td>4.00</td>\n",
       "      <td>0.00</td>\n",
       "      <td>2.00</td>\n",
       "      <td>1.00</td>\n",
       "      <td>1.00</td>\n",
       "      <td>0.00</td>\n",
       "      <td>0.00</td>\n",
       "      <td>11.00</td>\n",
       "      <td>9.00</td>\n",
       "    </tr>\n",
       "    <tr>\n",
       "      <th>2</th>\n",
       "      <td>08/11/2018</td>\n",
       "      <td>Fulham</td>\n",
       "      <td>Crystal Palace</td>\n",
       "      <td>0</td>\n",
       "      <td>2</td>\n",
       "      <td>66.30</td>\n",
       "      <td>33.70</td>\n",
       "      <td>6.00</td>\n",
       "      <td>10.00</td>\n",
       "      <td>15.00</td>\n",
       "      <td>12.00</td>\n",
       "      <td>893.00</td>\n",
       "      <td>564.00</td>\n",
       "      <td>672.00</td>\n",
       "      <td>347.00</td>\n",
       "      <td>25.00</td>\n",
       "      <td>21.00</td>\n",
       "      <td>22.00</td>\n",
       "      <td>30.00</td>\n",
       "      <td>5.00</td>\n",
       "      <td>5.00</td>\n",
       "      <td>2.00</td>\n",
       "      <td>3.00</td>\n",
       "      <td>1.00</td>\n",
       "      <td>2.00</td>\n",
       "      <td>0.00</td>\n",
       "      <td>0.00</td>\n",
       "      <td>9.00</td>\n",
       "      <td>11.00</td>\n",
       "    </tr>\n",
       "    <tr>\n",
       "      <th>3</th>\n",
       "      <td>08/11/2018</td>\n",
       "      <td>Huddersfield Town</td>\n",
       "      <td>Chelsea</td>\n",
       "      <td>0</td>\n",
       "      <td>3</td>\n",
       "      <td>37.20</td>\n",
       "      <td>62.80</td>\n",
       "      <td>1.00</td>\n",
       "      <td>4.00</td>\n",
       "      <td>6.00</td>\n",
       "      <td>13.00</td>\n",
       "      <td>550.00</td>\n",
       "      <td>856.00</td>\n",
       "      <td>372.00</td>\n",
       "      <td>658.00</td>\n",
       "      <td>25.00</td>\n",
       "      <td>12.00</td>\n",
       "      <td>13.00</td>\n",
       "      <td>21.00</td>\n",
       "      <td>2.00</td>\n",
       "      <td>5.00</td>\n",
       "      <td>2.00</td>\n",
       "      <td>1.00</td>\n",
       "      <td>2.00</td>\n",
       "      <td>1.00</td>\n",
       "      <td>0.00</td>\n",
       "      <td>0.00</td>\n",
       "      <td>9.00</td>\n",
       "      <td>8.00</td>\n",
       "    </tr>\n",
       "    <tr>\n",
       "      <th>4</th>\n",
       "      <td>08/12/2018</td>\n",
       "      <td>Liverpool</td>\n",
       "      <td>West Ham United</td>\n",
       "      <td>4</td>\n",
       "      <td>0</td>\n",
       "      <td>64.80</td>\n",
       "      <td>35.20</td>\n",
       "      <td>8.00</td>\n",
       "      <td>2.00</td>\n",
       "      <td>18.00</td>\n",
       "      <td>5.00</td>\n",
       "      <td>843.00</td>\n",
       "      <td>551.00</td>\n",
       "      <td>673.00</td>\n",
       "      <td>360.00</td>\n",
       "      <td>19.00</td>\n",
       "      <td>23.00</td>\n",
       "      <td>8.00</td>\n",
       "      <td>20.00</td>\n",
       "      <td>5.00</td>\n",
       "      <td>4.00</td>\n",
       "      <td>5.00</td>\n",
       "      <td>3.00</td>\n",
       "      <td>1.00</td>\n",
       "      <td>2.00</td>\n",
       "      <td>0.00</td>\n",
       "      <td>0.00</td>\n",
       "      <td>14.00</td>\n",
       "      <td>9.00</td>\n",
       "    </tr>\n",
       "  </tbody>\n",
       "</table>\n",
       "</div>"
      ],
      "text/plain": [
       "         date          home_team        away_team  home_score  away_score  \\\n",
       "0  08/12/2018            Arsenal  Manchester City           0           2   \n",
       "1  08/11/2018    AFC Bournemouth     Cardiff City           2           0   \n",
       "2  08/11/2018             Fulham   Crystal Palace           0           2   \n",
       "3  08/11/2018  Huddersfield Town          Chelsea           0           3   \n",
       "4  08/12/2018          Liverpool  West Ham United           4           0   \n",
       "\n",
       "   home_possession_%  away_possession_%  home_shots_on_target  \\\n",
       "0              42.00              58.00                  3.00   \n",
       "1              62.90              37.10                  4.00   \n",
       "2              66.30              33.70                  6.00   \n",
       "3              37.20              62.80                  1.00   \n",
       "4              64.80              35.20                  8.00   \n",
       "\n",
       "   away_shots_on_target  home_shots  away_shots  home_touches  away_touches  \\\n",
       "0                  8.00        9.00       17.00        593.00        734.00   \n",
       "1                  1.00       12.00       10.00        711.00        483.00   \n",
       "2                 10.00       15.00       12.00        893.00        564.00   \n",
       "3                  4.00        6.00       13.00        550.00        856.00   \n",
       "4                  2.00       18.00        5.00        843.00        551.00   \n",
       "\n",
       "   home_passes  away_passes  home_tackles  away_tackles  home_clearances  \\\n",
       "0       401.00       555.00         22.00          6.00            23.00   \n",
       "1       502.00       287.00         11.00         22.00            37.00   \n",
       "2       672.00       347.00         25.00         21.00            22.00   \n",
       "3       372.00       658.00         25.00         12.00            13.00   \n",
       "4       673.00       360.00         19.00         23.00             8.00   \n",
       "\n",
       "   away_clearances  home_corners  away_corners  home_offsides  away_offsides  \\\n",
       "0             9.00          2.00          9.00           7.00           2.00   \n",
       "1            30.00          7.00          4.00           0.00           2.00   \n",
       "2            30.00          5.00          5.00           2.00           3.00   \n",
       "3            21.00          2.00          5.00           2.00           1.00   \n",
       "4            20.00          5.00          4.00           5.00           3.00   \n",
       "\n",
       "   home_yellow_cards  away_yellow_cards  home_red_cards  away_red_cards  \\\n",
       "0               2.00               2.00            0.00            0.00   \n",
       "1               1.00               1.00            0.00            0.00   \n",
       "2               1.00               2.00            0.00            0.00   \n",
       "3               2.00               1.00            0.00            0.00   \n",
       "4               1.00               2.00            0.00            0.00   \n",
       "\n",
       "   home_fouls_conceded  away_fouls_conceded  \n",
       "0                11.00                14.00  \n",
       "1                11.00                 9.00  \n",
       "2                 9.00                11.00  \n",
       "3                 9.00                 8.00  \n",
       "4                14.00                 9.00  "
      ]
     },
     "execution_count": 3,
     "metadata": {},
     "output_type": "execute_result"
    }
   ],
   "source": [
    "df = pd.concat([df1,df2,df3])\n",
    "df.head()"
   ]
  },
  {
   "cell_type": "markdown",
   "metadata": {},
   "source": [
    " ## Data Manipulation"
   ]
  },
  {
   "cell_type": "code",
   "execution_count": 4,
   "metadata": {
    "scrolled": false
   },
   "outputs": [
    {
     "name": "stdout",
     "output_type": "stream",
     "text": [
      "<class 'pandas.core.frame.DataFrame'>\n",
      "Int64Index: 1140 entries, 0 to 379\n",
      "Data columns (total 29 columns):\n",
      " #   Column                Non-Null Count  Dtype  \n",
      "---  ------                --------------  -----  \n",
      " 0   date                  1140 non-null   object \n",
      " 1   home_team             1140 non-null   object \n",
      " 2   away_team             1140 non-null   object \n",
      " 3   home_score            1140 non-null   int64  \n",
      " 4   away_score            1140 non-null   int64  \n",
      " 5   home_possession_%     1140 non-null   float64\n",
      " 6   away_possession_%     1140 non-null   float64\n",
      " 7   home_shots_on_target  1140 non-null   float64\n",
      " 8   away_shots_on_target  1140 non-null   float64\n",
      " 9   home_shots            1140 non-null   float64\n",
      " 10  away_shots            1140 non-null   float64\n",
      " 11  home_touches          1140 non-null   float64\n",
      " 12  away_touches          1140 non-null   float64\n",
      " 13  home_passes           1140 non-null   float64\n",
      " 14  away_passes           1140 non-null   float64\n",
      " 15  home_tackles          1140 non-null   float64\n",
      " 16  away_tackles          1140 non-null   float64\n",
      " 17  home_clearances       1140 non-null   float64\n",
      " 18  away_clearances       1140 non-null   float64\n",
      " 19  home_corners          1140 non-null   float64\n",
      " 20  away_corners          1140 non-null   float64\n",
      " 21  home_offsides         1140 non-null   float64\n",
      " 22  away_offsides         1140 non-null   float64\n",
      " 23  home_yellow_cards     1140 non-null   float64\n",
      " 24  away_yellow_cards     1140 non-null   float64\n",
      " 25  home_red_cards        1140 non-null   float64\n",
      " 26  away_red_cards        1140 non-null   float64\n",
      " 27  home_fouls_conceded   1140 non-null   float64\n",
      " 28  away_fouls_conceded   1140 non-null   float64\n",
      "dtypes: float64(24), int64(2), object(3)\n",
      "memory usage: 267.2+ KB\n"
     ]
    }
   ],
   "source": [
    "df.info()"
   ]
  },
  {
   "cell_type": "markdown",
   "metadata": {},
   "source": [
    "### Handling Datetime Column"
   ]
  },
  {
   "cell_type": "code",
   "execution_count": 5,
   "metadata": {},
   "outputs": [
    {
     "name": "stdout",
     "output_type": "stream",
     "text": [
      "<class 'pandas.core.frame.DataFrame'>\n",
      "Int64Index: 1140 entries, 0 to 379\n",
      "Data columns (total 29 columns):\n",
      " #   Column                Non-Null Count  Dtype         \n",
      "---  ------                --------------  -----         \n",
      " 0   date                  1140 non-null   datetime64[ns]\n",
      " 1   home_team             1140 non-null   object        \n",
      " 2   away_team             1140 non-null   object        \n",
      " 3   home_score            1140 non-null   int64         \n",
      " 4   away_score            1140 non-null   int64         \n",
      " 5   home_possession_%     1140 non-null   float64       \n",
      " 6   away_possession_%     1140 non-null   float64       \n",
      " 7   home_shots_on_target  1140 non-null   float64       \n",
      " 8   away_shots_on_target  1140 non-null   float64       \n",
      " 9   home_shots            1140 non-null   float64       \n",
      " 10  away_shots            1140 non-null   float64       \n",
      " 11  home_touches          1140 non-null   float64       \n",
      " 12  away_touches          1140 non-null   float64       \n",
      " 13  home_passes           1140 non-null   float64       \n",
      " 14  away_passes           1140 non-null   float64       \n",
      " 15  home_tackles          1140 non-null   float64       \n",
      " 16  away_tackles          1140 non-null   float64       \n",
      " 17  home_clearances       1140 non-null   float64       \n",
      " 18  away_clearances       1140 non-null   float64       \n",
      " 19  home_corners          1140 non-null   float64       \n",
      " 20  away_corners          1140 non-null   float64       \n",
      " 21  home_offsides         1140 non-null   float64       \n",
      " 22  away_offsides         1140 non-null   float64       \n",
      " 23  home_yellow_cards     1140 non-null   float64       \n",
      " 24  away_yellow_cards     1140 non-null   float64       \n",
      " 25  home_red_cards        1140 non-null   float64       \n",
      " 26  away_red_cards        1140 non-null   float64       \n",
      " 27  home_fouls_conceded   1140 non-null   float64       \n",
      " 28  away_fouls_conceded   1140 non-null   float64       \n",
      "dtypes: datetime64[ns](1), float64(24), int64(2), object(2)\n",
      "memory usage: 267.2+ KB\n"
     ]
    }
   ],
   "source": [
    "#convert 'date' column datatype to datetime\n",
    "df['date'] = pd.to_datetime(df['date'], format='%m/%d/%Y')\n",
    "df.info()"
   ]
  },
  {
   "cell_type": "markdown",
   "metadata": {},
   "source": [
    "### Sorting Dataframe "
   ]
  },
  {
   "cell_type": "code",
   "execution_count": 6,
   "metadata": {},
   "outputs": [
    {
     "data": {
      "text/html": [
       "<div>\n",
       "<style scoped>\n",
       "    .dataframe tbody tr th:only-of-type {\n",
       "        vertical-align: middle;\n",
       "    }\n",
       "\n",
       "    .dataframe tbody tr th {\n",
       "        vertical-align: top;\n",
       "    }\n",
       "\n",
       "    .dataframe thead th {\n",
       "        text-align: right;\n",
       "    }\n",
       "</style>\n",
       "<table border=\"1\" class=\"dataframe\">\n",
       "  <thead>\n",
       "    <tr style=\"text-align: right;\">\n",
       "      <th></th>\n",
       "      <th>date</th>\n",
       "      <th>home_team</th>\n",
       "      <th>away_team</th>\n",
       "      <th>home_score</th>\n",
       "      <th>away_score</th>\n",
       "      <th>home_possession_%</th>\n",
       "      <th>away_possession_%</th>\n",
       "      <th>home_shots_on_target</th>\n",
       "      <th>away_shots_on_target</th>\n",
       "      <th>home_shots</th>\n",
       "      <th>away_shots</th>\n",
       "      <th>home_touches</th>\n",
       "      <th>away_touches</th>\n",
       "      <th>home_passes</th>\n",
       "      <th>away_passes</th>\n",
       "      <th>home_tackles</th>\n",
       "      <th>away_tackles</th>\n",
       "      <th>home_clearances</th>\n",
       "      <th>away_clearances</th>\n",
       "      <th>home_corners</th>\n",
       "      <th>away_corners</th>\n",
       "      <th>home_offsides</th>\n",
       "      <th>away_offsides</th>\n",
       "      <th>home_yellow_cards</th>\n",
       "      <th>away_yellow_cards</th>\n",
       "      <th>home_red_cards</th>\n",
       "      <th>away_red_cards</th>\n",
       "      <th>home_fouls_conceded</th>\n",
       "      <th>away_fouls_conceded</th>\n",
       "    </tr>\n",
       "  </thead>\n",
       "  <tbody>\n",
       "    <tr>\n",
       "      <th>0</th>\n",
       "      <td>2018-08-11</td>\n",
       "      <td>AFC Bournemouth</td>\n",
       "      <td>Cardiff City</td>\n",
       "      <td>2</td>\n",
       "      <td>0</td>\n",
       "      <td>62.90</td>\n",
       "      <td>37.10</td>\n",
       "      <td>4.00</td>\n",
       "      <td>1.00</td>\n",
       "      <td>12.00</td>\n",
       "      <td>10.00</td>\n",
       "      <td>711.00</td>\n",
       "      <td>483.00</td>\n",
       "      <td>502.00</td>\n",
       "      <td>287.00</td>\n",
       "      <td>11.00</td>\n",
       "      <td>22.00</td>\n",
       "      <td>37.00</td>\n",
       "      <td>30.00</td>\n",
       "      <td>7.00</td>\n",
       "      <td>4.00</td>\n",
       "      <td>0.00</td>\n",
       "      <td>2.00</td>\n",
       "      <td>1.00</td>\n",
       "      <td>1.00</td>\n",
       "      <td>0.00</td>\n",
       "      <td>0.00</td>\n",
       "      <td>11.00</td>\n",
       "      <td>9.00</td>\n",
       "    </tr>\n",
       "    <tr>\n",
       "      <th>1</th>\n",
       "      <td>2018-08-11</td>\n",
       "      <td>Fulham</td>\n",
       "      <td>Crystal Palace</td>\n",
       "      <td>0</td>\n",
       "      <td>2</td>\n",
       "      <td>66.30</td>\n",
       "      <td>33.70</td>\n",
       "      <td>6.00</td>\n",
       "      <td>10.00</td>\n",
       "      <td>15.00</td>\n",
       "      <td>12.00</td>\n",
       "      <td>893.00</td>\n",
       "      <td>564.00</td>\n",
       "      <td>672.00</td>\n",
       "      <td>347.00</td>\n",
       "      <td>25.00</td>\n",
       "      <td>21.00</td>\n",
       "      <td>22.00</td>\n",
       "      <td>30.00</td>\n",
       "      <td>5.00</td>\n",
       "      <td>5.00</td>\n",
       "      <td>2.00</td>\n",
       "      <td>3.00</td>\n",
       "      <td>1.00</td>\n",
       "      <td>2.00</td>\n",
       "      <td>0.00</td>\n",
       "      <td>0.00</td>\n",
       "      <td>9.00</td>\n",
       "      <td>11.00</td>\n",
       "    </tr>\n",
       "    <tr>\n",
       "      <th>2</th>\n",
       "      <td>2018-08-11</td>\n",
       "      <td>Huddersfield Town</td>\n",
       "      <td>Chelsea</td>\n",
       "      <td>0</td>\n",
       "      <td>3</td>\n",
       "      <td>37.20</td>\n",
       "      <td>62.80</td>\n",
       "      <td>1.00</td>\n",
       "      <td>4.00</td>\n",
       "      <td>6.00</td>\n",
       "      <td>13.00</td>\n",
       "      <td>550.00</td>\n",
       "      <td>856.00</td>\n",
       "      <td>372.00</td>\n",
       "      <td>658.00</td>\n",
       "      <td>25.00</td>\n",
       "      <td>12.00</td>\n",
       "      <td>13.00</td>\n",
       "      <td>21.00</td>\n",
       "      <td>2.00</td>\n",
       "      <td>5.00</td>\n",
       "      <td>2.00</td>\n",
       "      <td>1.00</td>\n",
       "      <td>2.00</td>\n",
       "      <td>1.00</td>\n",
       "      <td>0.00</td>\n",
       "      <td>0.00</td>\n",
       "      <td>9.00</td>\n",
       "      <td>8.00</td>\n",
       "    </tr>\n",
       "    <tr>\n",
       "      <th>3</th>\n",
       "      <td>2018-08-11</td>\n",
       "      <td>Manchester United</td>\n",
       "      <td>Leicester City</td>\n",
       "      <td>2</td>\n",
       "      <td>1</td>\n",
       "      <td>46.30</td>\n",
       "      <td>53.70</td>\n",
       "      <td>6.00</td>\n",
       "      <td>4.00</td>\n",
       "      <td>8.00</td>\n",
       "      <td>13.00</td>\n",
       "      <td>697.00</td>\n",
       "      <td>744.00</td>\n",
       "      <td>485.00</td>\n",
       "      <td>543.00</td>\n",
       "      <td>26.00</td>\n",
       "      <td>14.00</td>\n",
       "      <td>37.00</td>\n",
       "      <td>14.00</td>\n",
       "      <td>2.00</td>\n",
       "      <td>5.00</td>\n",
       "      <td>4.00</td>\n",
       "      <td>2.00</td>\n",
       "      <td>2.00</td>\n",
       "      <td>1.00</td>\n",
       "      <td>0.00</td>\n",
       "      <td>0.00</td>\n",
       "      <td>11.00</td>\n",
       "      <td>8.00</td>\n",
       "    </tr>\n",
       "    <tr>\n",
       "      <th>4</th>\n",
       "      <td>2018-08-11</td>\n",
       "      <td>Newcastle United</td>\n",
       "      <td>Tottenham Hotspur</td>\n",
       "      <td>1</td>\n",
       "      <td>2</td>\n",
       "      <td>40.40</td>\n",
       "      <td>59.60</td>\n",
       "      <td>2.00</td>\n",
       "      <td>5.00</td>\n",
       "      <td>15.00</td>\n",
       "      <td>15.00</td>\n",
       "      <td>622.00</td>\n",
       "      <td>809.00</td>\n",
       "      <td>387.00</td>\n",
       "      <td>573.00</td>\n",
       "      <td>15.00</td>\n",
       "      <td>27.00</td>\n",
       "      <td>17.00</td>\n",
       "      <td>43.00</td>\n",
       "      <td>3.00</td>\n",
       "      <td>5.00</td>\n",
       "      <td>1.00</td>\n",
       "      <td>0.00</td>\n",
       "      <td>2.00</td>\n",
       "      <td>2.00</td>\n",
       "      <td>0.00</td>\n",
       "      <td>0.00</td>\n",
       "      <td>11.00</td>\n",
       "      <td>12.00</td>\n",
       "    </tr>\n",
       "    <tr>\n",
       "      <th>...</th>\n",
       "      <td>...</td>\n",
       "      <td>...</td>\n",
       "      <td>...</td>\n",
       "      <td>...</td>\n",
       "      <td>...</td>\n",
       "      <td>...</td>\n",
       "      <td>...</td>\n",
       "      <td>...</td>\n",
       "      <td>...</td>\n",
       "      <td>...</td>\n",
       "      <td>...</td>\n",
       "      <td>...</td>\n",
       "      <td>...</td>\n",
       "      <td>...</td>\n",
       "      <td>...</td>\n",
       "      <td>...</td>\n",
       "      <td>...</td>\n",
       "      <td>...</td>\n",
       "      <td>...</td>\n",
       "      <td>...</td>\n",
       "      <td>...</td>\n",
       "      <td>...</td>\n",
       "      <td>...</td>\n",
       "      <td>...</td>\n",
       "      <td>...</td>\n",
       "      <td>...</td>\n",
       "      <td>...</td>\n",
       "      <td>...</td>\n",
       "      <td>...</td>\n",
       "    </tr>\n",
       "    <tr>\n",
       "      <th>1135</th>\n",
       "      <td>2021-05-23</td>\n",
       "      <td>Fulham</td>\n",
       "      <td>Newcastle United</td>\n",
       "      <td>0</td>\n",
       "      <td>2</td>\n",
       "      <td>64.30</td>\n",
       "      <td>35.70</td>\n",
       "      <td>0.00</td>\n",
       "      <td>4.00</td>\n",
       "      <td>14.00</td>\n",
       "      <td>10.00</td>\n",
       "      <td>778.00</td>\n",
       "      <td>517.00</td>\n",
       "      <td>596.00</td>\n",
       "      <td>333.00</td>\n",
       "      <td>18.00</td>\n",
       "      <td>13.00</td>\n",
       "      <td>13.00</td>\n",
       "      <td>30.00</td>\n",
       "      <td>5.00</td>\n",
       "      <td>4.00</td>\n",
       "      <td>1.00</td>\n",
       "      <td>0.00</td>\n",
       "      <td>1.00</td>\n",
       "      <td>0.00</td>\n",
       "      <td>0.00</td>\n",
       "      <td>0.00</td>\n",
       "      <td>12.00</td>\n",
       "      <td>6.00</td>\n",
       "    </tr>\n",
       "    <tr>\n",
       "      <th>1136</th>\n",
       "      <td>2021-05-23</td>\n",
       "      <td>Arsenal</td>\n",
       "      <td>Brighton and Hove Albion</td>\n",
       "      <td>2</td>\n",
       "      <td>0</td>\n",
       "      <td>53.90</td>\n",
       "      <td>46.10</td>\n",
       "      <td>5.00</td>\n",
       "      <td>1.00</td>\n",
       "      <td>16.00</td>\n",
       "      <td>5.00</td>\n",
       "      <td>727.00</td>\n",
       "      <td>645.00</td>\n",
       "      <td>565.00</td>\n",
       "      <td>489.00</td>\n",
       "      <td>14.00</td>\n",
       "      <td>17.00</td>\n",
       "      <td>10.00</td>\n",
       "      <td>18.00</td>\n",
       "      <td>11.00</td>\n",
       "      <td>3.00</td>\n",
       "      <td>2.00</td>\n",
       "      <td>1.00</td>\n",
       "      <td>0.00</td>\n",
       "      <td>0.00</td>\n",
       "      <td>0.00</td>\n",
       "      <td>0.00</td>\n",
       "      <td>10.00</td>\n",
       "      <td>8.00</td>\n",
       "    </tr>\n",
       "    <tr>\n",
       "      <th>1137</th>\n",
       "      <td>2021-05-23</td>\n",
       "      <td>West Ham United</td>\n",
       "      <td>Southampton</td>\n",
       "      <td>3</td>\n",
       "      <td>0</td>\n",
       "      <td>36.90</td>\n",
       "      <td>63.10</td>\n",
       "      <td>7.00</td>\n",
       "      <td>5.00</td>\n",
       "      <td>14.00</td>\n",
       "      <td>17.00</td>\n",
       "      <td>483.00</td>\n",
       "      <td>715.00</td>\n",
       "      <td>300.00</td>\n",
       "      <td>534.00</td>\n",
       "      <td>12.00</td>\n",
       "      <td>23.00</td>\n",
       "      <td>12.00</td>\n",
       "      <td>11.00</td>\n",
       "      <td>2.00</td>\n",
       "      <td>3.00</td>\n",
       "      <td>5.00</td>\n",
       "      <td>2.00</td>\n",
       "      <td>0.00</td>\n",
       "      <td>3.00</td>\n",
       "      <td>0.00</td>\n",
       "      <td>0.00</td>\n",
       "      <td>5.00</td>\n",
       "      <td>9.00</td>\n",
       "    </tr>\n",
       "    <tr>\n",
       "      <th>1138</th>\n",
       "      <td>2021-05-23</td>\n",
       "      <td>Leeds United</td>\n",
       "      <td>West Bromwich Albion</td>\n",
       "      <td>3</td>\n",
       "      <td>1</td>\n",
       "      <td>64.40</td>\n",
       "      <td>35.60</td>\n",
       "      <td>9.00</td>\n",
       "      <td>5.00</td>\n",
       "      <td>17.00</td>\n",
       "      <td>14.00</td>\n",
       "      <td>685.00</td>\n",
       "      <td>465.00</td>\n",
       "      <td>499.00</td>\n",
       "      <td>268.00</td>\n",
       "      <td>21.00</td>\n",
       "      <td>19.00</td>\n",
       "      <td>11.00</td>\n",
       "      <td>17.00</td>\n",
       "      <td>8.00</td>\n",
       "      <td>3.00</td>\n",
       "      <td>3.00</td>\n",
       "      <td>3.00</td>\n",
       "      <td>2.00</td>\n",
       "      <td>1.00</td>\n",
       "      <td>0.00</td>\n",
       "      <td>0.00</td>\n",
       "      <td>12.00</td>\n",
       "      <td>12.00</td>\n",
       "    </tr>\n",
       "    <tr>\n",
       "      <th>1139</th>\n",
       "      <td>2021-05-23</td>\n",
       "      <td>Wolverhampton Wanderers</td>\n",
       "      <td>Manchester United</td>\n",
       "      <td>1</td>\n",
       "      <td>2</td>\n",
       "      <td>57.20</td>\n",
       "      <td>42.80</td>\n",
       "      <td>4.00</td>\n",
       "      <td>4.00</td>\n",
       "      <td>14.00</td>\n",
       "      <td>9.00</td>\n",
       "      <td>744.00</td>\n",
       "      <td>634.00</td>\n",
       "      <td>571.00</td>\n",
       "      <td>440.00</td>\n",
       "      <td>19.00</td>\n",
       "      <td>14.00</td>\n",
       "      <td>7.00</td>\n",
       "      <td>26.00</td>\n",
       "      <td>6.00</td>\n",
       "      <td>2.00</td>\n",
       "      <td>1.00</td>\n",
       "      <td>1.00</td>\n",
       "      <td>4.00</td>\n",
       "      <td>1.00</td>\n",
       "      <td>0.00</td>\n",
       "      <td>0.00</td>\n",
       "      <td>14.00</td>\n",
       "      <td>3.00</td>\n",
       "    </tr>\n",
       "  </tbody>\n",
       "</table>\n",
       "<p>1140 rows × 29 columns</p>\n",
       "</div>"
      ],
      "text/plain": [
       "           date                home_team                 away_team  \\\n",
       "0    2018-08-11          AFC Bournemouth              Cardiff City   \n",
       "1    2018-08-11                   Fulham            Crystal Palace   \n",
       "2    2018-08-11        Huddersfield Town                   Chelsea   \n",
       "3    2018-08-11        Manchester United            Leicester City   \n",
       "4    2018-08-11         Newcastle United         Tottenham Hotspur   \n",
       "...         ...                      ...                       ...   \n",
       "1135 2021-05-23                   Fulham          Newcastle United   \n",
       "1136 2021-05-23                  Arsenal  Brighton and Hove Albion   \n",
       "1137 2021-05-23          West Ham United               Southampton   \n",
       "1138 2021-05-23             Leeds United      West Bromwich Albion   \n",
       "1139 2021-05-23  Wolverhampton Wanderers         Manchester United   \n",
       "\n",
       "      home_score  away_score  home_possession_%  away_possession_%  \\\n",
       "0              2           0              62.90              37.10   \n",
       "1              0           2              66.30              33.70   \n",
       "2              0           3              37.20              62.80   \n",
       "3              2           1              46.30              53.70   \n",
       "4              1           2              40.40              59.60   \n",
       "...          ...         ...                ...                ...   \n",
       "1135           0           2              64.30              35.70   \n",
       "1136           2           0              53.90              46.10   \n",
       "1137           3           0              36.90              63.10   \n",
       "1138           3           1              64.40              35.60   \n",
       "1139           1           2              57.20              42.80   \n",
       "\n",
       "      home_shots_on_target  away_shots_on_target  home_shots  away_shots  \\\n",
       "0                     4.00                  1.00       12.00       10.00   \n",
       "1                     6.00                 10.00       15.00       12.00   \n",
       "2                     1.00                  4.00        6.00       13.00   \n",
       "3                     6.00                  4.00        8.00       13.00   \n",
       "4                     2.00                  5.00       15.00       15.00   \n",
       "...                    ...                   ...         ...         ...   \n",
       "1135                  0.00                  4.00       14.00       10.00   \n",
       "1136                  5.00                  1.00       16.00        5.00   \n",
       "1137                  7.00                  5.00       14.00       17.00   \n",
       "1138                  9.00                  5.00       17.00       14.00   \n",
       "1139                  4.00                  4.00       14.00        9.00   \n",
       "\n",
       "      home_touches  away_touches  home_passes  away_passes  home_tackles  \\\n",
       "0           711.00        483.00       502.00       287.00         11.00   \n",
       "1           893.00        564.00       672.00       347.00         25.00   \n",
       "2           550.00        856.00       372.00       658.00         25.00   \n",
       "3           697.00        744.00       485.00       543.00         26.00   \n",
       "4           622.00        809.00       387.00       573.00         15.00   \n",
       "...            ...           ...          ...          ...           ...   \n",
       "1135        778.00        517.00       596.00       333.00         18.00   \n",
       "1136        727.00        645.00       565.00       489.00         14.00   \n",
       "1137        483.00        715.00       300.00       534.00         12.00   \n",
       "1138        685.00        465.00       499.00       268.00         21.00   \n",
       "1139        744.00        634.00       571.00       440.00         19.00   \n",
       "\n",
       "      away_tackles  home_clearances  away_clearances  home_corners  \\\n",
       "0            22.00            37.00            30.00          7.00   \n",
       "1            21.00            22.00            30.00          5.00   \n",
       "2            12.00            13.00            21.00          2.00   \n",
       "3            14.00            37.00            14.00          2.00   \n",
       "4            27.00            17.00            43.00          3.00   \n",
       "...            ...              ...              ...           ...   \n",
       "1135         13.00            13.00            30.00          5.00   \n",
       "1136         17.00            10.00            18.00         11.00   \n",
       "1137         23.00            12.00            11.00          2.00   \n",
       "1138         19.00            11.00            17.00          8.00   \n",
       "1139         14.00             7.00            26.00          6.00   \n",
       "\n",
       "      away_corners  home_offsides  away_offsides  home_yellow_cards  \\\n",
       "0             4.00           0.00           2.00               1.00   \n",
       "1             5.00           2.00           3.00               1.00   \n",
       "2             5.00           2.00           1.00               2.00   \n",
       "3             5.00           4.00           2.00               2.00   \n",
       "4             5.00           1.00           0.00               2.00   \n",
       "...            ...            ...            ...                ...   \n",
       "1135          4.00           1.00           0.00               1.00   \n",
       "1136          3.00           2.00           1.00               0.00   \n",
       "1137          3.00           5.00           2.00               0.00   \n",
       "1138          3.00           3.00           3.00               2.00   \n",
       "1139          2.00           1.00           1.00               4.00   \n",
       "\n",
       "      away_yellow_cards  home_red_cards  away_red_cards  home_fouls_conceded  \\\n",
       "0                  1.00            0.00            0.00                11.00   \n",
       "1                  2.00            0.00            0.00                 9.00   \n",
       "2                  1.00            0.00            0.00                 9.00   \n",
       "3                  1.00            0.00            0.00                11.00   \n",
       "4                  2.00            0.00            0.00                11.00   \n",
       "...                 ...             ...             ...                  ...   \n",
       "1135               0.00            0.00            0.00                12.00   \n",
       "1136               0.00            0.00            0.00                10.00   \n",
       "1137               3.00            0.00            0.00                 5.00   \n",
       "1138               1.00            0.00            0.00                12.00   \n",
       "1139               1.00            0.00            0.00                14.00   \n",
       "\n",
       "      away_fouls_conceded  \n",
       "0                    9.00  \n",
       "1                   11.00  \n",
       "2                    8.00  \n",
       "3                    8.00  \n",
       "4                   12.00  \n",
       "...                   ...  \n",
       "1135                 6.00  \n",
       "1136                 8.00  \n",
       "1137                 9.00  \n",
       "1138                12.00  \n",
       "1139                 3.00  \n",
       "\n",
       "[1140 rows x 29 columns]"
      ]
     },
     "execution_count": 6,
     "metadata": {},
     "output_type": "execute_result"
    }
   ],
   "source": [
    "#sorting dataframe by the date\n",
    "df = df.sort_values(by='date', ascending=True, ignore_index=True)\n",
    "df"
   ]
  },
  {
   "cell_type": "markdown",
   "metadata": {},
   "source": [
    "### Dropping, Adding, and Renaming Columns"
   ]
  },
  {
   "cell_type": "code",
   "execution_count": 7,
   "metadata": {},
   "outputs": [],
   "source": [
    "#Dropping columns that will not be used for analysis\n",
    "drop_cols = ['home_touches','away_touches', \n",
    "             'home_passes', 'away_passes', \n",
    "             'home_tackles', 'away_tackles', \n",
    "             'home_clearances', 'away_clearances', \n",
    "             'home_corners', 'away_corners',\n",
    "             'home_offsides', 'away_offsides', \n",
    "             'home_yellow_cards', 'away_yellow_cards', \n",
    "             'home_red_cards', 'away_red_cards', \n",
    "             'home_fouls_conceded', 'away_fouls_conceded']\n",
    "df = df.drop(drop_cols, axis=1)"
   ]
  },
  {
   "cell_type": "code",
   "execution_count": 8,
   "metadata": {},
   "outputs": [],
   "source": [
    "#Renaming home_score and away_score to home_goals and away_goals\n",
    "df=df.rename({'home_score':'home_goals', 'away_score':'away_goals'}, axis=1)\n",
    "\n",
    "#Renaming home_shots_on_target and home_shots_on_target to home_SoT and away_SoT\n",
    "df=df.rename({'home_shots_on_target':'home_SoT', 'away_shots_on_target':'away_SoT'}, axis=1)"
   ]
  },
  {
   "cell_type": "markdown",
   "metadata": {},
   "source": [
    "Adding some variables of team performance metrics to be analyzed:\n",
    "- Shot on Target % (SoT_%) = Shots on Target / Shots (Home/Away)\n",
    "- Quantity Conversion Rate (QuanCR) = Goals / Shots (Home/Away)\n",
    "- Quality Conversion Rate (QualCR) = Goals / Shots on Target (Home/Away)\n",
    "- Points per game (ppg) = 3 if a team win, 1 if a match draw, 0 if a team lose\n",
    "- Win rate (win_rate) = 100 if a team win in a match, 0 if they lose or draw (Home/Away)"
   ]
  },
  {
   "cell_type": "code",
   "execution_count": 9,
   "metadata": {},
   "outputs": [],
   "source": [
    "df['home_SoT_%']= df['home_SoT']/df['home_shots']*100\n",
    "df['away_SoT_%']= df['away_SoT']/df['away_shots']*100\n",
    "df['home_QuanCR'] = df['home_goals']/df['home_shots']*100\n",
    "df['away_QuanCR'] = df['away_goals']/df['away_shots']*100\n",
    "df['home_QualCR'] = df['home_goals']/df['home_SoT']*100\n",
    "df['away_QualCR'] = df['away_goals']/df['away_SoT']*100\n",
    "\n",
    "for i in range(len(df)):\n",
    "    if df.loc[i,'home_goals']>df.loc[i,'away_goals']:\n",
    "        df.loc[i,'home_ppg'] = 3\n",
    "        df.loc[i,'away_ppg'] = 0\n",
    "    elif df.loc[i,'home_goals']==df.loc[i,'away_goals']:\n",
    "        df.loc[i,'home_ppg'] = 1\n",
    "        df.loc[i,'away_ppg'] = 1\n",
    "    else:\n",
    "        df.loc[i,'home_ppg'] = 0\n",
    "        df.loc[i,'away_ppg'] = 3\n",
    "        \n",
    "df.loc[df['home_goals']>df['away_goals'], 'home_win_rate'] = 100\n",
    "df.loc[df['home_goals']<df['away_goals'], 'home_win_rate'] = 0\n",
    "df.loc[df['home_goals']==df['away_goals'], 'home_win_rate'] = 0\n",
    "\n",
    "df.loc[df['away_goals']>df['home_goals'], 'away_win_rate'] = 100\n",
    "df.loc[df['away_goals']<df['home_goals'], 'away_win_rate'] = 0\n",
    "df.loc[df['away_goals']==df['home_goals'], 'away_win_rate'] = 0\n",
    "#There will be nan value, a product of 0/0. Replace or fill the na value with 0.\n",
    "df = df.fillna(0, axis=1)"
   ]
  },
  {
   "cell_type": "code",
   "execution_count": 10,
   "metadata": {},
   "outputs": [
    {
     "data": {
      "text/html": [
       "<div>\n",
       "<style scoped>\n",
       "    .dataframe tbody tr th:only-of-type {\n",
       "        vertical-align: middle;\n",
       "    }\n",
       "\n",
       "    .dataframe tbody tr th {\n",
       "        vertical-align: top;\n",
       "    }\n",
       "\n",
       "    .dataframe thead th {\n",
       "        text-align: right;\n",
       "    }\n",
       "</style>\n",
       "<table border=\"1\" class=\"dataframe\">\n",
       "  <thead>\n",
       "    <tr style=\"text-align: right;\">\n",
       "      <th></th>\n",
       "      <th>date</th>\n",
       "      <th>home_team</th>\n",
       "      <th>away_team</th>\n",
       "      <th>home_goals</th>\n",
       "      <th>away_goals</th>\n",
       "      <th>home_possession_%</th>\n",
       "      <th>away_possession_%</th>\n",
       "      <th>home_SoT</th>\n",
       "      <th>away_SoT</th>\n",
       "      <th>home_shots</th>\n",
       "      <th>away_shots</th>\n",
       "      <th>home_SoT_%</th>\n",
       "      <th>away_SoT_%</th>\n",
       "      <th>home_QuanCR</th>\n",
       "      <th>away_QuanCR</th>\n",
       "      <th>home_QualCR</th>\n",
       "      <th>away_QualCR</th>\n",
       "      <th>home_ppg</th>\n",
       "      <th>away_ppg</th>\n",
       "      <th>home_win_rate</th>\n",
       "      <th>away_win_rate</th>\n",
       "    </tr>\n",
       "  </thead>\n",
       "  <tbody>\n",
       "    <tr>\n",
       "      <th>0</th>\n",
       "      <td>2018-08-11</td>\n",
       "      <td>AFC Bournemouth</td>\n",
       "      <td>Cardiff City</td>\n",
       "      <td>2</td>\n",
       "      <td>0</td>\n",
       "      <td>62.90</td>\n",
       "      <td>37.10</td>\n",
       "      <td>4.00</td>\n",
       "      <td>1.00</td>\n",
       "      <td>12.00</td>\n",
       "      <td>10.00</td>\n",
       "      <td>33.33</td>\n",
       "      <td>10.00</td>\n",
       "      <td>16.67</td>\n",
       "      <td>0.00</td>\n",
       "      <td>50.00</td>\n",
       "      <td>0.00</td>\n",
       "      <td>3.00</td>\n",
       "      <td>0.00</td>\n",
       "      <td>100.00</td>\n",
       "      <td>0.00</td>\n",
       "    </tr>\n",
       "    <tr>\n",
       "      <th>1</th>\n",
       "      <td>2018-08-11</td>\n",
       "      <td>Fulham</td>\n",
       "      <td>Crystal Palace</td>\n",
       "      <td>0</td>\n",
       "      <td>2</td>\n",
       "      <td>66.30</td>\n",
       "      <td>33.70</td>\n",
       "      <td>6.00</td>\n",
       "      <td>10.00</td>\n",
       "      <td>15.00</td>\n",
       "      <td>12.00</td>\n",
       "      <td>40.00</td>\n",
       "      <td>83.33</td>\n",
       "      <td>0.00</td>\n",
       "      <td>16.67</td>\n",
       "      <td>0.00</td>\n",
       "      <td>20.00</td>\n",
       "      <td>0.00</td>\n",
       "      <td>3.00</td>\n",
       "      <td>0.00</td>\n",
       "      <td>100.00</td>\n",
       "    </tr>\n",
       "    <tr>\n",
       "      <th>2</th>\n",
       "      <td>2018-08-11</td>\n",
       "      <td>Huddersfield Town</td>\n",
       "      <td>Chelsea</td>\n",
       "      <td>0</td>\n",
       "      <td>3</td>\n",
       "      <td>37.20</td>\n",
       "      <td>62.80</td>\n",
       "      <td>1.00</td>\n",
       "      <td>4.00</td>\n",
       "      <td>6.00</td>\n",
       "      <td>13.00</td>\n",
       "      <td>16.67</td>\n",
       "      <td>30.77</td>\n",
       "      <td>0.00</td>\n",
       "      <td>23.08</td>\n",
       "      <td>0.00</td>\n",
       "      <td>75.00</td>\n",
       "      <td>0.00</td>\n",
       "      <td>3.00</td>\n",
       "      <td>0.00</td>\n",
       "      <td>100.00</td>\n",
       "    </tr>\n",
       "    <tr>\n",
       "      <th>3</th>\n",
       "      <td>2018-08-11</td>\n",
       "      <td>Manchester United</td>\n",
       "      <td>Leicester City</td>\n",
       "      <td>2</td>\n",
       "      <td>1</td>\n",
       "      <td>46.30</td>\n",
       "      <td>53.70</td>\n",
       "      <td>6.00</td>\n",
       "      <td>4.00</td>\n",
       "      <td>8.00</td>\n",
       "      <td>13.00</td>\n",
       "      <td>75.00</td>\n",
       "      <td>30.77</td>\n",
       "      <td>25.00</td>\n",
       "      <td>7.69</td>\n",
       "      <td>33.33</td>\n",
       "      <td>25.00</td>\n",
       "      <td>3.00</td>\n",
       "      <td>0.00</td>\n",
       "      <td>100.00</td>\n",
       "      <td>0.00</td>\n",
       "    </tr>\n",
       "    <tr>\n",
       "      <th>4</th>\n",
       "      <td>2018-08-11</td>\n",
       "      <td>Newcastle United</td>\n",
       "      <td>Tottenham Hotspur</td>\n",
       "      <td>1</td>\n",
       "      <td>2</td>\n",
       "      <td>40.40</td>\n",
       "      <td>59.60</td>\n",
       "      <td>2.00</td>\n",
       "      <td>5.00</td>\n",
       "      <td>15.00</td>\n",
       "      <td>15.00</td>\n",
       "      <td>13.33</td>\n",
       "      <td>33.33</td>\n",
       "      <td>6.67</td>\n",
       "      <td>13.33</td>\n",
       "      <td>50.00</td>\n",
       "      <td>40.00</td>\n",
       "      <td>0.00</td>\n",
       "      <td>3.00</td>\n",
       "      <td>0.00</td>\n",
       "      <td>100.00</td>\n",
       "    </tr>\n",
       "  </tbody>\n",
       "</table>\n",
       "</div>"
      ],
      "text/plain": [
       "        date          home_team          away_team  home_goals  away_goals  \\\n",
       "0 2018-08-11    AFC Bournemouth       Cardiff City           2           0   \n",
       "1 2018-08-11             Fulham     Crystal Palace           0           2   \n",
       "2 2018-08-11  Huddersfield Town            Chelsea           0           3   \n",
       "3 2018-08-11  Manchester United     Leicester City           2           1   \n",
       "4 2018-08-11   Newcastle United  Tottenham Hotspur           1           2   \n",
       "\n",
       "   home_possession_%  away_possession_%  home_SoT  away_SoT  home_shots  \\\n",
       "0              62.90              37.10      4.00      1.00       12.00   \n",
       "1              66.30              33.70      6.00     10.00       15.00   \n",
       "2              37.20              62.80      1.00      4.00        6.00   \n",
       "3              46.30              53.70      6.00      4.00        8.00   \n",
       "4              40.40              59.60      2.00      5.00       15.00   \n",
       "\n",
       "   away_shots  home_SoT_%  away_SoT_%  home_QuanCR  away_QuanCR  home_QualCR  \\\n",
       "0       10.00       33.33       10.00        16.67         0.00        50.00   \n",
       "1       12.00       40.00       83.33         0.00        16.67         0.00   \n",
       "2       13.00       16.67       30.77         0.00        23.08         0.00   \n",
       "3       13.00       75.00       30.77        25.00         7.69        33.33   \n",
       "4       15.00       13.33       33.33         6.67        13.33        50.00   \n",
       "\n",
       "   away_QualCR  home_ppg  away_ppg  home_win_rate  away_win_rate  \n",
       "0         0.00      3.00      0.00         100.00           0.00  \n",
       "1        20.00      0.00      3.00           0.00         100.00  \n",
       "2        75.00      0.00      3.00           0.00         100.00  \n",
       "3        25.00      3.00      0.00         100.00           0.00  \n",
       "4        40.00      0.00      3.00           0.00         100.00  "
      ]
     },
     "execution_count": 10,
     "metadata": {},
     "output_type": "execute_result"
    }
   ],
   "source": [
    "df.head()"
   ]
  },
  {
   "cell_type": "markdown",
   "metadata": {},
   "source": [
    "### Pre Attendance Prohibition and Post Attendance Prohibition Data Manipulation"
   ]
  },
  {
   "cell_type": "markdown",
   "metadata": {},
   "source": [
    "Last matchweek before covid-19 attendance/crowd prohibition: \n",
    "   Matchweek 29: 10 March 2020 Leicester vs Aston Villa"
   ]
  },
  {
   "cell_type": "code",
   "execution_count": 11,
   "metadata": {},
   "outputs": [],
   "source": [
    "#last match before covid-19 suspension\n",
    "last_idx = df.loc[df['date']=='2020-03-10'].index[0]"
   ]
  },
  {
   "cell_type": "code",
   "execution_count": 12,
   "metadata": {},
   "outputs": [],
   "source": [
    "#partitioning data before and after covid-19 suspension\n",
    "pre_covid_data = df[:last_idx+1]\n",
    "post_covid_data = df[last_idx+1:]"
   ]
  },
  {
   "cell_type": "markdown",
   "metadata": {},
   "source": [
    "To make analysis from 3 EPL seasons, we only take teams that played in those all 3 seasons and eliminate data of teams that didn't.\n",
    "\n",
    "2018/2019 relegated teams:\n",
    "- Fulham\n",
    "- Cardiff City\n",
    "- Huddersfield Town\n",
    "\n",
    "2019/2020 promoted teams:\n",
    "- Norwich City\n",
    "- Sheffield Utd\n",
    "- Aston Villa\n",
    "\n",
    "2019/2020 relegated teams:\n",
    "- Bournemouth\n",
    "- Watford\n",
    "- Norwich City\n",
    "\n",
    "2020/2021 promoted teams:\n",
    "- Leeds Utd\n",
    "- West Brom\n",
    "- Fulham"
   ]
  },
  {
   "cell_type": "code",
   "execution_count": 13,
   "metadata": {},
   "outputs": [],
   "source": [
    "all_teams = list(df['home_team'].unique())\n",
    "relegated_promoted_teams = ['Fulham', 'Huddersfield Town', 'Cardiff City', \n",
    "                  'Norwich City', 'Sheffield United', 'Aston Villa', \n",
    "                  'AFC Bournemouth', 'Watford', 'Leeds United', 'West Bromwich Albion']\n",
    "\n",
    "#stayed_teams = list(set(all_teams)-set(relegated_promoted_teams))\n",
    "stayed_teams = [team for team in all_teams if team not in relegated_promoted_teams]"
   ]
  },
  {
   "cell_type": "code",
   "execution_count": 14,
   "metadata": {},
   "outputs": [
    {
     "data": {
      "text/plain": [
       "\"home_pre_covid_pts = pre_covid_data.groupby(['home_team']).agg(avg_pts_before = ('home_ppg','mean')).loc[stayed_teams].reset_index()\\nhome_post_covid_pts = post_covid_data.groupby(['home_team']).agg(avg_pts_after = ('home_ppg','mean')).loc[stayed_teams].reset_index()\\nhome_df = home_pre_covid_pts.merge(home_post_covid_pts,on='home_team')\\nhome_df\""
      ]
     },
     "execution_count": 14,
     "metadata": {},
     "output_type": "execute_result"
    }
   ],
   "source": [
    "'''home_pre_covid_pts = pre_covid_data.groupby(['home_team']).agg(avg_pts_before = ('home_ppg','mean')).loc[stayed_teams].reset_index()\n",
    "home_post_covid_pts = post_covid_data.groupby(['home_team']).agg(avg_pts_after = ('home_ppg','mean')).loc[stayed_teams].reset_index()\n",
    "home_df = home_pre_covid_pts.merge(home_post_covid_pts,on='home_team')\n",
    "home_df'''"
   ]
  },
  {
   "cell_type": "code",
   "execution_count": 15,
   "metadata": {},
   "outputs": [
    {
     "data": {
      "text/plain": [
       "\"away_pre_covid_pts = pre_covid_data.groupby(['away_team']).agg(avg_pts_before = ('away_ppg','mean')).loc[stayed_teams].reset_index()\\naway_post_covid_pts = post_covid_data.groupby(['away_team']).agg(avg_pts_after = ('away_ppg','mean')).loc[stayed_teams].reset_index()\\naway_df = away_pre_covid_pts.merge(away_post_covid_pts,on='away_team')\\naway_df\""
      ]
     },
     "execution_count": 15,
     "metadata": {},
     "output_type": "execute_result"
    }
   ],
   "source": [
    "'''away_pre_covid_pts = pre_covid_data.groupby(['away_team']).agg(avg_pts_before = ('away_ppg','mean')).loc[stayed_teams].reset_index()\n",
    "away_post_covid_pts = post_covid_data.groupby(['away_team']).agg(avg_pts_after = ('away_ppg','mean')).loc[stayed_teams].reset_index()\n",
    "away_df = away_pre_covid_pts.merge(away_post_covid_pts,on='away_team')\n",
    "away_df'''"
   ]
  },
  {
   "cell_type": "markdown",
   "metadata": {},
   "source": [
    "#### Create home and away statistics function"
   ]
  },
  {
   "cell_type": "code",
   "execution_count": 16,
   "metadata": {},
   "outputs": [],
   "source": [
    "def home_stats(stat, team, summary=True):\n",
    "    #aggregating team playing at home before and after attendance prohibition\n",
    "    home_pre_covid_stat = pre_covid_data.groupby(['home_team']).agg({stat:'mean'}).loc[team].reset_index()\n",
    "    home_pre_covid_stat = home_pre_covid_stat.rename(columns={stat:'{}_before'.format(stat)})\n",
    "    home_post_covid_stat = post_covid_data.groupby(['home_team']).agg({stat:'mean'}).loc[team].reset_index()\n",
    "    home_post_covid_stat = home_post_covid_stat.rename(columns={stat:'{}_after'.format(stat)})\n",
    "    \n",
    "    #merge df of before and after attendance prohibition\n",
    "    home_df = home_pre_covid_stat.merge(home_post_covid_stat,on='home_team')\n",
    "    \n",
    "    #extract the 'changes' of team performance before and after attendance prohibition when playing at home\n",
    "    home_df['changes'] = home_df.iloc[:,2] - home_df.iloc[:,1]\n",
    "    \n",
    "    #rate_of_change_% = changes/stats before attendance prohibition*100\n",
    "    home_df['rate_of_change_%'] = home_df.iloc[:,3]/home_df.iloc[:,1]*100\n",
    "    \n",
    "    #sort dataframe by 'changes' ascending\n",
    "    home_df = home_df.sort_values(by='changes', ascending=True).reset_index(drop=True)\n",
    "    \n",
    "    #Summary of average stats changes of all teams\n",
    "    if summary==True:\n",
    "        \n",
    "        effect_categories= []\n",
    "        #Summary of attendance prohibition effect to team stats\n",
    "        for i in home_df['rate_of_change_%']:\n",
    "            if i>5:\n",
    "                effect_categories.append('positively affected')\n",
    "            elif i<-5:\n",
    "                effect_categories.append('negatively affected')\n",
    "            else:\n",
    "                effect_categories.append('relatively unaffected')\n",
    "        effect_categories=pd.Series(effect_categories).value_counts()\n",
    "        \n",
    "        #Summary of average stats changes of all teams\n",
    "        avg_rate_of_change = round(sum(home_df['rate_of_change_%'])/len(home_df['rate_of_change_%']),2)\n",
    "        \n",
    "        #Print the summary text\n",
    "        print('After attendance prohibition, the average {} rate_of_change is {}%.'.format(stat, avg_rate_of_change, end=''))\n",
    "        print('There are {} clubs are {}, {} {}, and {} {}.'.format(effect_categories.values[0], effect_categories.index[0],\n",
    "                                                                   effect_categories.values[1], effect_categories.index[1],\n",
    "                                                                   effect_categories.values[2], effect_categories.index[2]))\n",
    "        \n",
    "    return home_df"
   ]
  },
  {
   "cell_type": "code",
   "execution_count": 17,
   "metadata": {},
   "outputs": [],
   "source": [
    "def away_stats(stat,team, summary=True):\n",
    "    #aggregating team playing at away match before and after attendance prohibition\n",
    "    away_pre_covid_stat = pre_covid_data.groupby(['away_team']).agg({stat:'mean'}).loc[team].reset_index()\n",
    "    away_pre_covid_stat = away_pre_covid_stat.rename(columns={stat:'{}_before'.format(stat)})\n",
    "    away_post_covid_stat = post_covid_data.groupby(['away_team']).agg({stat:'mean'}).loc[team].reset_index()\n",
    "    away_post_covid_stat = away_post_covid_stat.rename(columns={stat:'{}_after'.format(stat)})\n",
    "    \n",
    "    #merge df of before and after lockdown\n",
    "    away_df = away_pre_covid_stat.merge(away_post_covid_stat,on='away_team')\n",
    "    \n",
    "    #extract the 'changes' of team performance before and after attendance prohibition when playing at away stadium\n",
    "    away_df['changes'] = away_df.iloc[:,2] - away_df.iloc[:,1]\n",
    "    \n",
    "    #rate_of_change_% = changes/stats before crowd attendance prohibition*100\n",
    "    away_df['rate_of_change_%'] = away_df.iloc[:,3]/away_df.iloc[:,1]*100\n",
    "    \n",
    "    #sort dataframe by 'changes' ascending\n",
    "    away_df = away_df.sort_values(by='changes', ascending=True).reset_index(drop=True)\n",
    "    \n",
    "    #Summary of average stats changes of all teams\n",
    "    if summary==True:\n",
    "        \n",
    "        effect_categories= []\n",
    "        #Summary of attendance prohibition effect to team stats\n",
    "        for i in away_df['rate_of_change_%']:\n",
    "            if i>5:\n",
    "                effect_categories.append('positively affected')\n",
    "            elif i<-5:\n",
    "                effect_categories.append('negatively affected')\n",
    "            else:\n",
    "                effect_categories.append('relatively unaffected')\n",
    "        effect_categories=pd.Series(effect_categories).value_counts()\n",
    "        \n",
    "        #Summary of average stats changes of all teams\n",
    "        avg_rate_of_change = round(sum(away_df['rate_of_change_%'])/len(away_df['rate_of_change_%']),2)\n",
    "        \n",
    "        #Print the summary text\n",
    "        print('After attendance prohibition, the average {} rate_of_change is {}%.'.format(stat, avg_rate_of_change, end=''))\n",
    "        print('There are {} clubs are {}, {} {}, and {} {}.'.format(effect_categories.values[0], effect_categories.index[0],\n",
    "                                                                   effect_categories.values[1], effect_categories.index[1],\n",
    "                                                                   effect_categories.values[2], effect_categories.index[2]))\n",
    "    \n",
    "    return away_df"
   ]
  },
  {
   "cell_type": "markdown",
   "metadata": {},
   "source": [
    "We must categorized the changes of stats after attendance prohibition to conclude if a team stats are affected by it or not. The categories will be positively affected, negatively affected, and relatively unaffected. However we don't want to categorize a -0.01 change of stats into negatively affected because the change is not meaningful. Hence, we will use a threshold value to define an effect meaningful or not.  \n",
    "\n",
    "With the threshold of 5%, we categorized rate_of_change_% of each team into 3 categories to conclude if a team stats affected by attendance prohibition or not because we:\n",
    "1. **Positively affected** if the rate_of_change_% >5%\n",
    "2. **Negatively affected** if the rate_of_change_% < -5%\n",
    "3. **Relatively unaffected** if the rate_of_change_% between <= -5% and >= 5%"
   ]
  },
  {
   "cell_type": "markdown",
   "metadata": {},
   "source": [
    "The stats are categorized into 2 categories:\n",
    "1. Result stats: win rate, points per game (ppg), goals per game (gpg)\n",
    "2. Performance stats: Possession, shots, shots on target (SoT), shots on target percentage(SoT_%), Quality Goal Conversion Rate (QualCR), Quantity Goal Conversion Rate (QuanCR)\n"
   ]
  },
  {
   "cell_type": "markdown",
   "metadata": {},
   "source": [
    "#### RESULT STATS"
   ]
  },
  {
   "cell_type": "markdown",
   "metadata": {},
   "source": [
    "##### 1. Win Rate"
   ]
  },
  {
   "cell_type": "code",
   "execution_count": 18,
   "metadata": {},
   "outputs": [
    {
     "name": "stdout",
     "output_type": "stream",
     "text": [
      "After attendance prohibition, the average home_win_rate rate_of_change is -11.1%.\n",
      "There are 9 clubs are negatively affected, 4 relatively unaffected, and 2 positively affected.\n"
     ]
    },
    {
     "data": {
      "text/html": [
       "<div>\n",
       "<style scoped>\n",
       "    .dataframe tbody tr th:only-of-type {\n",
       "        vertical-align: middle;\n",
       "    }\n",
       "\n",
       "    .dataframe tbody tr th {\n",
       "        vertical-align: top;\n",
       "    }\n",
       "\n",
       "    .dataframe thead th {\n",
       "        text-align: right;\n",
       "    }\n",
       "</style>\n",
       "<table border=\"1\" class=\"dataframe\">\n",
       "  <thead>\n",
       "    <tr style=\"text-align: right;\">\n",
       "      <th></th>\n",
       "      <th>home_team</th>\n",
       "      <th>home_win_rate_before</th>\n",
       "      <th>home_win_rate_after</th>\n",
       "      <th>changes</th>\n",
       "      <th>rate_of_change_%</th>\n",
       "    </tr>\n",
       "  </thead>\n",
       "  <tbody>\n",
       "    <tr>\n",
       "      <th>0</th>\n",
       "      <td>Liverpool</td>\n",
       "      <td>94.12</td>\n",
       "      <td>56.52</td>\n",
       "      <td>-37.60</td>\n",
       "      <td>-39.95</td>\n",
       "    </tr>\n",
       "    <tr>\n",
       "      <th>1</th>\n",
       "      <td>Everton</td>\n",
       "      <td>51.52</td>\n",
       "      <td>29.17</td>\n",
       "      <td>-22.35</td>\n",
       "      <td>-43.38</td>\n",
       "    </tr>\n",
       "    <tr>\n",
       "      <th>2</th>\n",
       "      <td>Burnley</td>\n",
       "      <td>41.18</td>\n",
       "      <td>21.74</td>\n",
       "      <td>-19.44</td>\n",
       "      <td>-47.20</td>\n",
       "    </tr>\n",
       "    <tr>\n",
       "      <th>3</th>\n",
       "      <td>Arsenal</td>\n",
       "      <td>61.76</td>\n",
       "      <td>47.83</td>\n",
       "      <td>-13.94</td>\n",
       "      <td>-22.57</td>\n",
       "    </tr>\n",
       "    <tr>\n",
       "      <th>4</th>\n",
       "      <td>Newcastle United</td>\n",
       "      <td>39.39</td>\n",
       "      <td>29.17</td>\n",
       "      <td>-10.23</td>\n",
       "      <td>-25.96</td>\n",
       "    </tr>\n",
       "    <tr>\n",
       "      <th>5</th>\n",
       "      <td>Brighton and Hove Albion</td>\n",
       "      <td>30.30</td>\n",
       "      <td>20.83</td>\n",
       "      <td>-9.47</td>\n",
       "      <td>-31.25</td>\n",
       "    </tr>\n",
       "    <tr>\n",
       "      <th>6</th>\n",
       "      <td>Manchester City</td>\n",
       "      <td>84.38</td>\n",
       "      <td>76.00</td>\n",
       "      <td>-8.38</td>\n",
       "      <td>-9.93</td>\n",
       "    </tr>\n",
       "    <tr>\n",
       "      <th>7</th>\n",
       "      <td>Crystal Palace</td>\n",
       "      <td>32.35</td>\n",
       "      <td>26.09</td>\n",
       "      <td>-6.27</td>\n",
       "      <td>-19.37</td>\n",
       "    </tr>\n",
       "    <tr>\n",
       "      <th>8</th>\n",
       "      <td>Manchester United</td>\n",
       "      <td>52.94</td>\n",
       "      <td>47.83</td>\n",
       "      <td>-5.12</td>\n",
       "      <td>-9.66</td>\n",
       "    </tr>\n",
       "    <tr>\n",
       "      <th>9</th>\n",
       "      <td>Tottenham Hotspur</td>\n",
       "      <td>60.61</td>\n",
       "      <td>58.33</td>\n",
       "      <td>-2.27</td>\n",
       "      <td>-3.75</td>\n",
       "    </tr>\n",
       "    <tr>\n",
       "      <th>10</th>\n",
       "      <td>Leicester City</td>\n",
       "      <td>50.00</td>\n",
       "      <td>47.83</td>\n",
       "      <td>-2.17</td>\n",
       "      <td>-4.35</td>\n",
       "    </tr>\n",
       "    <tr>\n",
       "      <th>11</th>\n",
       "      <td>Wolverhampton Wanderers</td>\n",
       "      <td>44.12</td>\n",
       "      <td>43.48</td>\n",
       "      <td>-0.64</td>\n",
       "      <td>-1.45</td>\n",
       "    </tr>\n",
       "    <tr>\n",
       "      <th>12</th>\n",
       "      <td>Chelsea</td>\n",
       "      <td>55.88</td>\n",
       "      <td>56.52</td>\n",
       "      <td>0.64</td>\n",
       "      <td>1.14</td>\n",
       "    </tr>\n",
       "    <tr>\n",
       "      <th>13</th>\n",
       "      <td>West Ham United</td>\n",
       "      <td>39.39</td>\n",
       "      <td>50.00</td>\n",
       "      <td>10.61</td>\n",
       "      <td>26.92</td>\n",
       "    </tr>\n",
       "    <tr>\n",
       "      <th>14</th>\n",
       "      <td>Southampton</td>\n",
       "      <td>26.47</td>\n",
       "      <td>43.48</td>\n",
       "      <td>17.01</td>\n",
       "      <td>64.25</td>\n",
       "    </tr>\n",
       "  </tbody>\n",
       "</table>\n",
       "</div>"
      ],
      "text/plain": [
       "                   home_team  home_win_rate_before  home_win_rate_after  \\\n",
       "0                  Liverpool                 94.12                56.52   \n",
       "1                    Everton                 51.52                29.17   \n",
       "2                    Burnley                 41.18                21.74   \n",
       "3                    Arsenal                 61.76                47.83   \n",
       "4           Newcastle United                 39.39                29.17   \n",
       "5   Brighton and Hove Albion                 30.30                20.83   \n",
       "6            Manchester City                 84.38                76.00   \n",
       "7             Crystal Palace                 32.35                26.09   \n",
       "8          Manchester United                 52.94                47.83   \n",
       "9          Tottenham Hotspur                 60.61                58.33   \n",
       "10            Leicester City                 50.00                47.83   \n",
       "11   Wolverhampton Wanderers                 44.12                43.48   \n",
       "12                   Chelsea                 55.88                56.52   \n",
       "13           West Ham United                 39.39                50.00   \n",
       "14               Southampton                 26.47                43.48   \n",
       "\n",
       "    changes  rate_of_change_%  \n",
       "0    -37.60            -39.95  \n",
       "1    -22.35            -43.38  \n",
       "2    -19.44            -47.20  \n",
       "3    -13.94            -22.57  \n",
       "4    -10.23            -25.96  \n",
       "5     -9.47            -31.25  \n",
       "6     -8.38             -9.93  \n",
       "7     -6.27            -19.37  \n",
       "8     -5.12             -9.66  \n",
       "9     -2.27             -3.75  \n",
       "10    -2.17             -4.35  \n",
       "11    -0.64             -1.45  \n",
       "12     0.64              1.14  \n",
       "13    10.61             26.92  \n",
       "14    17.01             64.25  "
      ]
     },
     "execution_count": 18,
     "metadata": {},
     "output_type": "execute_result"
    }
   ],
   "source": [
    "home_win_rate = home_stats('home_win_rate', stayed_teams)\n",
    "home_win_rate"
   ]
  },
  {
   "cell_type": "markdown",
   "metadata": {},
   "source": [
    "Information obtained from home_win_rate dataframe:\n",
    "- 12 out of 15  clubs had dropped win rate (9 clubs dropped significantly) with average of -11.1% rate_of_change after crowd suspension when playing at home ground\n",
    "- Liverpool suffers the most from crowd suspension, with  -37.60 win rate dropped when playing at home."
   ]
  },
  {
   "cell_type": "code",
   "execution_count": 19,
   "metadata": {},
   "outputs": [
    {
     "name": "stdout",
     "output_type": "stream",
     "text": [
      "After attendance prohibition, the average away_win_rate rate_of_change is 31.21%.\n",
      "There are 8 clubs are positively affected, 4 relatively unaffected, and 3 negatively affected.\n"
     ]
    },
    {
     "data": {
      "text/html": [
       "<div>\n",
       "<style scoped>\n",
       "    .dataframe tbody tr th:only-of-type {\n",
       "        vertical-align: middle;\n",
       "    }\n",
       "\n",
       "    .dataframe tbody tr th {\n",
       "        vertical-align: top;\n",
       "    }\n",
       "\n",
       "    .dataframe thead th {\n",
       "        text-align: right;\n",
       "    }\n",
       "</style>\n",
       "<table border=\"1\" class=\"dataframe\">\n",
       "  <thead>\n",
       "    <tr style=\"text-align: right;\">\n",
       "      <th></th>\n",
       "      <th>away_team</th>\n",
       "      <th>away_win_rate_before</th>\n",
       "      <th>away_win_rate_after</th>\n",
       "      <th>changes</th>\n",
       "      <th>rate_of_change_%</th>\n",
       "    </tr>\n",
       "  </thead>\n",
       "  <tbody>\n",
       "    <tr>\n",
       "      <th>0</th>\n",
       "      <td>Liverpool</td>\n",
       "      <td>75.76</td>\n",
       "      <td>50.00</td>\n",
       "      <td>-25.76</td>\n",
       "      <td>-34.00</td>\n",
       "    </tr>\n",
       "    <tr>\n",
       "      <th>1</th>\n",
       "      <td>Crystal Palace</td>\n",
       "      <td>39.39</td>\n",
       "      <td>29.17</td>\n",
       "      <td>-10.23</td>\n",
       "      <td>-25.96</td>\n",
       "    </tr>\n",
       "    <tr>\n",
       "      <th>2</th>\n",
       "      <td>Wolverhampton Wanderers</td>\n",
       "      <td>33.33</td>\n",
       "      <td>29.17</td>\n",
       "      <td>-4.17</td>\n",
       "      <td>-12.50</td>\n",
       "    </tr>\n",
       "    <tr>\n",
       "      <th>3</th>\n",
       "      <td>Tottenham Hotspur</td>\n",
       "      <td>41.18</td>\n",
       "      <td>39.13</td>\n",
       "      <td>-2.05</td>\n",
       "      <td>-4.97</td>\n",
       "    </tr>\n",
       "    <tr>\n",
       "      <th>4</th>\n",
       "      <td>Southampton</td>\n",
       "      <td>30.30</td>\n",
       "      <td>29.17</td>\n",
       "      <td>-1.14</td>\n",
       "      <td>-3.75</td>\n",
       "    </tr>\n",
       "    <tr>\n",
       "      <th>5</th>\n",
       "      <td>Chelsea</td>\n",
       "      <td>48.48</td>\n",
       "      <td>50.00</td>\n",
       "      <td>1.52</td>\n",
       "      <td>3.13</td>\n",
       "    </tr>\n",
       "    <tr>\n",
       "      <th>6</th>\n",
       "      <td>Manchester City</td>\n",
       "      <td>67.65</td>\n",
       "      <td>69.57</td>\n",
       "      <td>1.92</td>\n",
       "      <td>2.84</td>\n",
       "    </tr>\n",
       "    <tr>\n",
       "      <th>7</th>\n",
       "      <td>Leicester City</td>\n",
       "      <td>42.42</td>\n",
       "      <td>45.83</td>\n",
       "      <td>3.41</td>\n",
       "      <td>8.04</td>\n",
       "    </tr>\n",
       "    <tr>\n",
       "      <th>8</th>\n",
       "      <td>Newcastle United</td>\n",
       "      <td>23.53</td>\n",
       "      <td>30.43</td>\n",
       "      <td>6.91</td>\n",
       "      <td>29.35</td>\n",
       "    </tr>\n",
       "    <tr>\n",
       "      <th>9</th>\n",
       "      <td>Burnley</td>\n",
       "      <td>24.24</td>\n",
       "      <td>37.50</td>\n",
       "      <td>13.26</td>\n",
       "      <td>54.69</td>\n",
       "    </tr>\n",
       "    <tr>\n",
       "      <th>10</th>\n",
       "      <td>Brighton and Hove Albion</td>\n",
       "      <td>14.71</td>\n",
       "      <td>30.43</td>\n",
       "      <td>15.73</td>\n",
       "      <td>106.96</td>\n",
       "    </tr>\n",
       "    <tr>\n",
       "      <th>11</th>\n",
       "      <td>West Ham United</td>\n",
       "      <td>26.47</td>\n",
       "      <td>43.48</td>\n",
       "      <td>17.01</td>\n",
       "      <td>64.25</td>\n",
       "    </tr>\n",
       "    <tr>\n",
       "      <th>12</th>\n",
       "      <td>Arsenal</td>\n",
       "      <td>28.12</td>\n",
       "      <td>48.00</td>\n",
       "      <td>19.88</td>\n",
       "      <td>70.67</td>\n",
       "    </tr>\n",
       "    <tr>\n",
       "      <th>13</th>\n",
       "      <td>Manchester United</td>\n",
       "      <td>39.39</td>\n",
       "      <td>66.67</td>\n",
       "      <td>27.27</td>\n",
       "      <td>69.23</td>\n",
       "    </tr>\n",
       "    <tr>\n",
       "      <th>14</th>\n",
       "      <td>Everton</td>\n",
       "      <td>23.53</td>\n",
       "      <td>56.52</td>\n",
       "      <td>32.99</td>\n",
       "      <td>140.22</td>\n",
       "    </tr>\n",
       "  </tbody>\n",
       "</table>\n",
       "</div>"
      ],
      "text/plain": [
       "                   away_team  away_win_rate_before  away_win_rate_after  \\\n",
       "0                  Liverpool                 75.76                50.00   \n",
       "1             Crystal Palace                 39.39                29.17   \n",
       "2    Wolverhampton Wanderers                 33.33                29.17   \n",
       "3          Tottenham Hotspur                 41.18                39.13   \n",
       "4                Southampton                 30.30                29.17   \n",
       "5                    Chelsea                 48.48                50.00   \n",
       "6            Manchester City                 67.65                69.57   \n",
       "7             Leicester City                 42.42                45.83   \n",
       "8           Newcastle United                 23.53                30.43   \n",
       "9                    Burnley                 24.24                37.50   \n",
       "10  Brighton and Hove Albion                 14.71                30.43   \n",
       "11           West Ham United                 26.47                43.48   \n",
       "12                   Arsenal                 28.12                48.00   \n",
       "13         Manchester United                 39.39                66.67   \n",
       "14                   Everton                 23.53                56.52   \n",
       "\n",
       "    changes  rate_of_change_%  \n",
       "0    -25.76            -34.00  \n",
       "1    -10.23            -25.96  \n",
       "2     -4.17            -12.50  \n",
       "3     -2.05             -4.97  \n",
       "4     -1.14             -3.75  \n",
       "5      1.52              3.13  \n",
       "6      1.92              2.84  \n",
       "7      3.41              8.04  \n",
       "8      6.91             29.35  \n",
       "9     13.26             54.69  \n",
       "10    15.73            106.96  \n",
       "11    17.01             64.25  \n",
       "12    19.88             70.67  \n",
       "13    27.27             69.23  \n",
       "14    32.99            140.22  "
      ]
     },
     "execution_count": 19,
     "metadata": {},
     "output_type": "execute_result"
    }
   ],
   "source": [
    "away_stats('away_win_rate', stayed_teams)"
   ]
  },
  {
   "cell_type": "markdown",
   "metadata": {},
   "source": [
    "Information obtained from home_win_rate dataframe:\n",
    "- 8 out of 15  clubs had increased win rate significantly with average of 31.21% rate_of_change after crowd suspension when playing at away ground\n",
    "- Liverpool had dropped win rate significantly both in home and away ground.\n",
    "- Manchester United and Everton are the teams who had the most increased win rate at away ground after crowd suspension."
   ]
  },
  {
   "cell_type": "markdown",
   "metadata": {},
   "source": [
    "##### 2. Points per Game"
   ]
  },
  {
   "cell_type": "code",
   "execution_count": 20,
   "metadata": {},
   "outputs": [
    {
     "name": "stdout",
     "output_type": "stream",
     "text": [
      "After attendance prohibition, the average home_ppg rate_of_change is -9.77%.\n",
      "There are 11 clubs are negatively affected, 2 relatively unaffected, and 2 positively affected.\n"
     ]
    },
    {
     "data": {
      "text/html": [
       "<div>\n",
       "<style scoped>\n",
       "    .dataframe tbody tr th:only-of-type {\n",
       "        vertical-align: middle;\n",
       "    }\n",
       "\n",
       "    .dataframe tbody tr th {\n",
       "        vertical-align: top;\n",
       "    }\n",
       "\n",
       "    .dataframe thead th {\n",
       "        text-align: right;\n",
       "    }\n",
       "</style>\n",
       "<table border=\"1\" class=\"dataframe\">\n",
       "  <thead>\n",
       "    <tr style=\"text-align: right;\">\n",
       "      <th></th>\n",
       "      <th>home_team</th>\n",
       "      <th>home_ppg_before</th>\n",
       "      <th>home_ppg_after</th>\n",
       "      <th>changes</th>\n",
       "      <th>rate_of_change_%</th>\n",
       "    </tr>\n",
       "  </thead>\n",
       "  <tbody>\n",
       "    <tr>\n",
       "      <th>0</th>\n",
       "      <td>Liverpool</td>\n",
       "      <td>2.88</td>\n",
       "      <td>1.87</td>\n",
       "      <td>-1.01</td>\n",
       "      <td>-35.14</td>\n",
       "    </tr>\n",
       "    <tr>\n",
       "      <th>1</th>\n",
       "      <td>Everton</td>\n",
       "      <td>1.79</td>\n",
       "      <td>1.17</td>\n",
       "      <td>-0.62</td>\n",
       "      <td>-34.75</td>\n",
       "    </tr>\n",
       "    <tr>\n",
       "      <th>2</th>\n",
       "      <td>Arsenal</td>\n",
       "      <td>2.09</td>\n",
       "      <td>1.65</td>\n",
       "      <td>-0.44</td>\n",
       "      <td>-20.88</td>\n",
       "    </tr>\n",
       "    <tr>\n",
       "      <th>3</th>\n",
       "      <td>Burnley</td>\n",
       "      <td>1.35</td>\n",
       "      <td>1.00</td>\n",
       "      <td>-0.35</td>\n",
       "      <td>-26.09</td>\n",
       "    </tr>\n",
       "    <tr>\n",
       "      <th>4</th>\n",
       "      <td>Manchester City</td>\n",
       "      <td>2.59</td>\n",
       "      <td>2.36</td>\n",
       "      <td>-0.23</td>\n",
       "      <td>-9.01</td>\n",
       "    </tr>\n",
       "    <tr>\n",
       "      <th>5</th>\n",
       "      <td>Newcastle United</td>\n",
       "      <td>1.39</td>\n",
       "      <td>1.17</td>\n",
       "      <td>-0.23</td>\n",
       "      <td>-16.30</td>\n",
       "    </tr>\n",
       "    <tr>\n",
       "      <th>6</th>\n",
       "      <td>Manchester United</td>\n",
       "      <td>1.91</td>\n",
       "      <td>1.70</td>\n",
       "      <td>-0.22</td>\n",
       "      <td>-11.30</td>\n",
       "    </tr>\n",
       "    <tr>\n",
       "      <th>7</th>\n",
       "      <td>Brighton and Hove Albion</td>\n",
       "      <td>1.24</td>\n",
       "      <td>1.04</td>\n",
       "      <td>-0.20</td>\n",
       "      <td>-16.16</td>\n",
       "    </tr>\n",
       "    <tr>\n",
       "      <th>8</th>\n",
       "      <td>Crystal Palace</td>\n",
       "      <td>1.24</td>\n",
       "      <td>1.04</td>\n",
       "      <td>-0.19</td>\n",
       "      <td>-15.53</td>\n",
       "    </tr>\n",
       "    <tr>\n",
       "      <th>9</th>\n",
       "      <td>Wolverhampton Wanderers</td>\n",
       "      <td>1.65</td>\n",
       "      <td>1.48</td>\n",
       "      <td>-0.17</td>\n",
       "      <td>-10.25</td>\n",
       "    </tr>\n",
       "    <tr>\n",
       "      <th>10</th>\n",
       "      <td>Leicester City</td>\n",
       "      <td>1.68</td>\n",
       "      <td>1.52</td>\n",
       "      <td>-0.15</td>\n",
       "      <td>-9.23</td>\n",
       "    </tr>\n",
       "    <tr>\n",
       "      <th>11</th>\n",
       "      <td>Tottenham Hotspur</td>\n",
       "      <td>1.94</td>\n",
       "      <td>1.92</td>\n",
       "      <td>-0.02</td>\n",
       "      <td>-1.17</td>\n",
       "    </tr>\n",
       "    <tr>\n",
       "      <th>12</th>\n",
       "      <td>Chelsea</td>\n",
       "      <td>1.94</td>\n",
       "      <td>1.96</td>\n",
       "      <td>0.02</td>\n",
       "      <td>0.79</td>\n",
       "    </tr>\n",
       "    <tr>\n",
       "      <th>13</th>\n",
       "      <td>West Ham United</td>\n",
       "      <td>1.39</td>\n",
       "      <td>1.71</td>\n",
       "      <td>0.31</td>\n",
       "      <td>22.55</td>\n",
       "    </tr>\n",
       "    <tr>\n",
       "      <th>14</th>\n",
       "      <td>Southampton</td>\n",
       "      <td>1.09</td>\n",
       "      <td>1.48</td>\n",
       "      <td>0.39</td>\n",
       "      <td>35.84</td>\n",
       "    </tr>\n",
       "  </tbody>\n",
       "</table>\n",
       "</div>"
      ],
      "text/plain": [
       "                   home_team  home_ppg_before  home_ppg_after  changes  \\\n",
       "0                  Liverpool             2.88            1.87    -1.01   \n",
       "1                    Everton             1.79            1.17    -0.62   \n",
       "2                    Arsenal             2.09            1.65    -0.44   \n",
       "3                    Burnley             1.35            1.00    -0.35   \n",
       "4            Manchester City             2.59            2.36    -0.23   \n",
       "5           Newcastle United             1.39            1.17    -0.23   \n",
       "6          Manchester United             1.91            1.70    -0.22   \n",
       "7   Brighton and Hove Albion             1.24            1.04    -0.20   \n",
       "8             Crystal Palace             1.24            1.04    -0.19   \n",
       "9    Wolverhampton Wanderers             1.65            1.48    -0.17   \n",
       "10            Leicester City             1.68            1.52    -0.15   \n",
       "11         Tottenham Hotspur             1.94            1.92    -0.02   \n",
       "12                   Chelsea             1.94            1.96     0.02   \n",
       "13           West Ham United             1.39            1.71     0.31   \n",
       "14               Southampton             1.09            1.48     0.39   \n",
       "\n",
       "    rate_of_change_%  \n",
       "0             -35.14  \n",
       "1             -34.75  \n",
       "2             -20.88  \n",
       "3             -26.09  \n",
       "4              -9.01  \n",
       "5             -16.30  \n",
       "6             -11.30  \n",
       "7             -16.16  \n",
       "8             -15.53  \n",
       "9             -10.25  \n",
       "10             -9.23  \n",
       "11             -1.17  \n",
       "12              0.79  \n",
       "13             22.55  \n",
       "14             35.84  "
      ]
     },
     "execution_count": 20,
     "metadata": {},
     "output_type": "execute_result"
    }
   ],
   "source": [
    "home_ppg = home_stats('home_ppg', stayed_teams)\n",
    "home_ppg"
   ]
  },
  {
   "cell_type": "markdown",
   "metadata": {},
   "source": [
    "Information obtained from home_ppg dataframe:\n",
    "- 11 out of 15 (~73.33%) clubs had decreased points significantly per game, with average of -9.77% rate_of_change  after crowd suspension when playing at home ground\n",
    "- Liverpool suffers the most from crowd suspension, having decreased 1.01 points per game\n",
    "- Tottenham Hotspur and Chelsea home points per game did not get affected by crowd suspension with only slightly changes "
   ]
  },
  {
   "cell_type": "code",
   "execution_count": 21,
   "metadata": {},
   "outputs": [
    {
     "name": "stdout",
     "output_type": "stream",
     "text": [
      "After attendance prohibition, the average away_ppg rate_of_change is 21.87%.\n",
      "There are 8 clubs are positively affected, 4 relatively unaffected, and 3 negatively affected.\n"
     ]
    },
    {
     "data": {
      "text/html": [
       "<div>\n",
       "<style scoped>\n",
       "    .dataframe tbody tr th:only-of-type {\n",
       "        vertical-align: middle;\n",
       "    }\n",
       "\n",
       "    .dataframe tbody tr th {\n",
       "        vertical-align: top;\n",
       "    }\n",
       "\n",
       "    .dataframe thead th {\n",
       "        text-align: right;\n",
       "    }\n",
       "</style>\n",
       "<table border=\"1\" class=\"dataframe\">\n",
       "  <thead>\n",
       "    <tr style=\"text-align: right;\">\n",
       "      <th></th>\n",
       "      <th>away_team</th>\n",
       "      <th>away_ppg_before</th>\n",
       "      <th>away_ppg_after</th>\n",
       "      <th>changes</th>\n",
       "      <th>rate_of_change_%</th>\n",
       "    </tr>\n",
       "  </thead>\n",
       "  <tbody>\n",
       "    <tr>\n",
       "      <th>0</th>\n",
       "      <td>Liverpool</td>\n",
       "      <td>2.45</td>\n",
       "      <td>1.79</td>\n",
       "      <td>-0.66</td>\n",
       "      <td>-27.01</td>\n",
       "    </tr>\n",
       "    <tr>\n",
       "      <th>1</th>\n",
       "      <td>Crystal Palace</td>\n",
       "      <td>1.39</td>\n",
       "      <td>1.00</td>\n",
       "      <td>-0.39</td>\n",
       "      <td>-28.26</td>\n",
       "    </tr>\n",
       "    <tr>\n",
       "      <th>2</th>\n",
       "      <td>Wolverhampton Wanderers</td>\n",
       "      <td>1.33</td>\n",
       "      <td>1.12</td>\n",
       "      <td>-0.21</td>\n",
       "      <td>-15.62</td>\n",
       "    </tr>\n",
       "    <tr>\n",
       "      <th>3</th>\n",
       "      <td>Chelsea</td>\n",
       "      <td>1.64</td>\n",
       "      <td>1.67</td>\n",
       "      <td>0.03</td>\n",
       "      <td>1.85</td>\n",
       "    </tr>\n",
       "    <tr>\n",
       "      <th>4</th>\n",
       "      <td>Southampton</td>\n",
       "      <td>1.09</td>\n",
       "      <td>1.12</td>\n",
       "      <td>0.03</td>\n",
       "      <td>3.13</td>\n",
       "    </tr>\n",
       "    <tr>\n",
       "      <th>5</th>\n",
       "      <td>Tottenham Hotspur</td>\n",
       "      <td>1.41</td>\n",
       "      <td>1.48</td>\n",
       "      <td>0.07</td>\n",
       "      <td>4.71</td>\n",
       "    </tr>\n",
       "    <tr>\n",
       "      <th>6</th>\n",
       "      <td>Manchester City</td>\n",
       "      <td>2.12</td>\n",
       "      <td>2.22</td>\n",
       "      <td>0.10</td>\n",
       "      <td>4.71</td>\n",
       "    </tr>\n",
       "    <tr>\n",
       "      <th>7</th>\n",
       "      <td>Newcastle United</td>\n",
       "      <td>1.00</td>\n",
       "      <td>1.13</td>\n",
       "      <td>0.13</td>\n",
       "      <td>13.04</td>\n",
       "    </tr>\n",
       "    <tr>\n",
       "      <th>8</th>\n",
       "      <td>Leicester City</td>\n",
       "      <td>1.45</td>\n",
       "      <td>1.67</td>\n",
       "      <td>0.21</td>\n",
       "      <td>14.58</td>\n",
       "    </tr>\n",
       "    <tr>\n",
       "      <th>9</th>\n",
       "      <td>Burnley</td>\n",
       "      <td>1.00</td>\n",
       "      <td>1.29</td>\n",
       "      <td>0.29</td>\n",
       "      <td>29.17</td>\n",
       "    </tr>\n",
       "    <tr>\n",
       "      <th>10</th>\n",
       "      <td>Arsenal</td>\n",
       "      <td>1.22</td>\n",
       "      <td>1.56</td>\n",
       "      <td>0.34</td>\n",
       "      <td>28.00</td>\n",
       "    </tr>\n",
       "    <tr>\n",
       "      <th>11</th>\n",
       "      <td>Brighton and Hove Albion</td>\n",
       "      <td>0.71</td>\n",
       "      <td>1.22</td>\n",
       "      <td>0.51</td>\n",
       "      <td>72.46</td>\n",
       "    </tr>\n",
       "    <tr>\n",
       "      <th>12</th>\n",
       "      <td>West Ham United</td>\n",
       "      <td>0.97</td>\n",
       "      <td>1.57</td>\n",
       "      <td>0.59</td>\n",
       "      <td>61.26</td>\n",
       "    </tr>\n",
       "    <tr>\n",
       "      <th>13</th>\n",
       "      <td>Everton</td>\n",
       "      <td>0.94</td>\n",
       "      <td>1.87</td>\n",
       "      <td>0.93</td>\n",
       "      <td>98.64</td>\n",
       "    </tr>\n",
       "    <tr>\n",
       "      <th>14</th>\n",
       "      <td>Manchester United</td>\n",
       "      <td>1.39</td>\n",
       "      <td>2.33</td>\n",
       "      <td>0.94</td>\n",
       "      <td>67.39</td>\n",
       "    </tr>\n",
       "  </tbody>\n",
       "</table>\n",
       "</div>"
      ],
      "text/plain": [
       "                   away_team  away_ppg_before  away_ppg_after  changes  \\\n",
       "0                  Liverpool             2.45            1.79    -0.66   \n",
       "1             Crystal Palace             1.39            1.00    -0.39   \n",
       "2    Wolverhampton Wanderers             1.33            1.12    -0.21   \n",
       "3                    Chelsea             1.64            1.67     0.03   \n",
       "4                Southampton             1.09            1.12     0.03   \n",
       "5          Tottenham Hotspur             1.41            1.48     0.07   \n",
       "6            Manchester City             2.12            2.22     0.10   \n",
       "7           Newcastle United             1.00            1.13     0.13   \n",
       "8             Leicester City             1.45            1.67     0.21   \n",
       "9                    Burnley             1.00            1.29     0.29   \n",
       "10                   Arsenal             1.22            1.56     0.34   \n",
       "11  Brighton and Hove Albion             0.71            1.22     0.51   \n",
       "12           West Ham United             0.97            1.57     0.59   \n",
       "13                   Everton             0.94            1.87     0.93   \n",
       "14         Manchester United             1.39            2.33     0.94   \n",
       "\n",
       "    rate_of_change_%  \n",
       "0             -27.01  \n",
       "1             -28.26  \n",
       "2             -15.62  \n",
       "3               1.85  \n",
       "4               3.13  \n",
       "5               4.71  \n",
       "6               4.71  \n",
       "7              13.04  \n",
       "8              14.58  \n",
       "9              29.17  \n",
       "10             28.00  \n",
       "11             72.46  \n",
       "12             61.26  \n",
       "13             98.64  \n",
       "14             67.39  "
      ]
     },
     "execution_count": 21,
     "metadata": {},
     "output_type": "execute_result"
    }
   ],
   "source": [
    "away_ppg = away_stats('away_ppg', stayed_teams)\n",
    "away_ppg"
   ]
  },
  {
   "cell_type": "markdown",
   "metadata": {},
   "source": [
    "Information obtained from away_ppg dataframe:\n",
    "- The crowd suspension effect is parallel.  As a result of dropping points per game for home team, 12 out of 15 clubs had increased points per game (8 clubs increased significantly), with average_rate_of_change 21.87% after crowd suspension when playing at away ground\n",
    "- Unlike majority of clubs that got this increasing away ppg advantage, 3 clubs; Liverpool, Wolverhampton Wanderers and Crystal Palace  were having decreased away ppg with Liverpool had the most decreased ppg (-0.66)\n",
    "- Manchester United gained the most points per game (+0.94) from this away ppg advantage."
   ]
  },
  {
   "cell_type": "markdown",
   "metadata": {},
   "source": [
    "#####  3. Goals per game"
   ]
  },
  {
   "cell_type": "code",
   "execution_count": 22,
   "metadata": {},
   "outputs": [
    {
     "name": "stdout",
     "output_type": "stream",
     "text": [
      "After attendance prohibition, the average home_goals rate_of_change is -5.36%.\n",
      "There are 6 clubs are negatively affected, 5 positively affected, and 4 relatively unaffected.\n"
     ]
    },
    {
     "data": {
      "text/html": [
       "<div>\n",
       "<style scoped>\n",
       "    .dataframe tbody tr th:only-of-type {\n",
       "        vertical-align: middle;\n",
       "    }\n",
       "\n",
       "    .dataframe tbody tr th {\n",
       "        vertical-align: top;\n",
       "    }\n",
       "\n",
       "    .dataframe thead th {\n",
       "        text-align: right;\n",
       "    }\n",
       "</style>\n",
       "<table border=\"1\" class=\"dataframe\">\n",
       "  <thead>\n",
       "    <tr style=\"text-align: right;\">\n",
       "      <th></th>\n",
       "      <th>home_team</th>\n",
       "      <th>home_goals_before</th>\n",
       "      <th>home_goals_after</th>\n",
       "      <th>changes</th>\n",
       "      <th>rate_of_change_%</th>\n",
       "    </tr>\n",
       "  </thead>\n",
       "  <tbody>\n",
       "    <tr>\n",
       "      <th>0</th>\n",
       "      <td>Liverpool</td>\n",
       "      <td>2.79</td>\n",
       "      <td>1.78</td>\n",
       "      <td>-1.01</td>\n",
       "      <td>-36.20</td>\n",
       "    </tr>\n",
       "    <tr>\n",
       "      <th>1</th>\n",
       "      <td>Arsenal</td>\n",
       "      <td>2.00</td>\n",
       "      <td>1.48</td>\n",
       "      <td>-0.52</td>\n",
       "      <td>-26.09</td>\n",
       "    </tr>\n",
       "    <tr>\n",
       "      <th>2</th>\n",
       "      <td>Burnley</td>\n",
       "      <td>1.29</td>\n",
       "      <td>0.78</td>\n",
       "      <td>-0.51</td>\n",
       "      <td>-39.53</td>\n",
       "    </tr>\n",
       "    <tr>\n",
       "      <th>3</th>\n",
       "      <td>Everton</td>\n",
       "      <td>1.48</td>\n",
       "      <td>1.21</td>\n",
       "      <td>-0.28</td>\n",
       "      <td>-18.62</td>\n",
       "    </tr>\n",
       "    <tr>\n",
       "      <th>4</th>\n",
       "      <td>Wolverhampton Wanderers</td>\n",
       "      <td>1.44</td>\n",
       "      <td>1.17</td>\n",
       "      <td>-0.27</td>\n",
       "      <td>-18.54</td>\n",
       "    </tr>\n",
       "    <tr>\n",
       "      <th>5</th>\n",
       "      <td>Manchester City</td>\n",
       "      <td>2.81</td>\n",
       "      <td>2.68</td>\n",
       "      <td>-0.13</td>\n",
       "      <td>-4.71</td>\n",
       "    </tr>\n",
       "    <tr>\n",
       "      <th>6</th>\n",
       "      <td>Chelsea</td>\n",
       "      <td>1.79</td>\n",
       "      <td>1.70</td>\n",
       "      <td>-0.10</td>\n",
       "      <td>-5.49</td>\n",
       "    </tr>\n",
       "    <tr>\n",
       "      <th>7</th>\n",
       "      <td>Brighton and Hove Albion</td>\n",
       "      <td>1.09</td>\n",
       "      <td>1.04</td>\n",
       "      <td>-0.05</td>\n",
       "      <td>-4.51</td>\n",
       "    </tr>\n",
       "    <tr>\n",
       "      <th>8</th>\n",
       "      <td>West Ham United</td>\n",
       "      <td>1.67</td>\n",
       "      <td>1.62</td>\n",
       "      <td>-0.04</td>\n",
       "      <td>-2.50</td>\n",
       "    </tr>\n",
       "    <tr>\n",
       "      <th>9</th>\n",
       "      <td>Tottenham Hotspur</td>\n",
       "      <td>1.85</td>\n",
       "      <td>1.83</td>\n",
       "      <td>-0.02</td>\n",
       "      <td>-0.82</td>\n",
       "    </tr>\n",
       "    <tr>\n",
       "      <th>10</th>\n",
       "      <td>Crystal Palace</td>\n",
       "      <td>0.91</td>\n",
       "      <td>1.00</td>\n",
       "      <td>0.09</td>\n",
       "      <td>9.68</td>\n",
       "    </tr>\n",
       "    <tr>\n",
       "      <th>11</th>\n",
       "      <td>Leicester City</td>\n",
       "      <td>1.59</td>\n",
       "      <td>1.70</td>\n",
       "      <td>0.11</td>\n",
       "      <td>6.76</td>\n",
       "    </tr>\n",
       "    <tr>\n",
       "      <th>12</th>\n",
       "      <td>Southampton</td>\n",
       "      <td>1.26</td>\n",
       "      <td>1.43</td>\n",
       "      <td>0.17</td>\n",
       "      <td>13.45</td>\n",
       "    </tr>\n",
       "    <tr>\n",
       "      <th>13</th>\n",
       "      <td>Manchester United</td>\n",
       "      <td>1.82</td>\n",
       "      <td>2.13</td>\n",
       "      <td>0.31</td>\n",
       "      <td>16.83</td>\n",
       "    </tr>\n",
       "    <tr>\n",
       "      <th>14</th>\n",
       "      <td>Newcastle United</td>\n",
       "      <td>1.09</td>\n",
       "      <td>1.42</td>\n",
       "      <td>0.33</td>\n",
       "      <td>29.86</td>\n",
       "    </tr>\n",
       "  </tbody>\n",
       "</table>\n",
       "</div>"
      ],
      "text/plain": [
       "                   home_team  home_goals_before  home_goals_after  changes  \\\n",
       "0                  Liverpool               2.79              1.78    -1.01   \n",
       "1                    Arsenal               2.00              1.48    -0.52   \n",
       "2                    Burnley               1.29              0.78    -0.51   \n",
       "3                    Everton               1.48              1.21    -0.28   \n",
       "4    Wolverhampton Wanderers               1.44              1.17    -0.27   \n",
       "5            Manchester City               2.81              2.68    -0.13   \n",
       "6                    Chelsea               1.79              1.70    -0.10   \n",
       "7   Brighton and Hove Albion               1.09              1.04    -0.05   \n",
       "8            West Ham United               1.67              1.62    -0.04   \n",
       "9          Tottenham Hotspur               1.85              1.83    -0.02   \n",
       "10            Crystal Palace               0.91              1.00     0.09   \n",
       "11            Leicester City               1.59              1.70     0.11   \n",
       "12               Southampton               1.26              1.43     0.17   \n",
       "13         Manchester United               1.82              2.13     0.31   \n",
       "14          Newcastle United               1.09              1.42     0.33   \n",
       "\n",
       "    rate_of_change_%  \n",
       "0             -36.20  \n",
       "1             -26.09  \n",
       "2             -39.53  \n",
       "3             -18.62  \n",
       "4             -18.54  \n",
       "5              -4.71  \n",
       "6              -5.49  \n",
       "7              -4.51  \n",
       "8              -2.50  \n",
       "9              -0.82  \n",
       "10              9.68  \n",
       "11              6.76  \n",
       "12             13.45  \n",
       "13             16.83  \n",
       "14             29.86  "
      ]
     },
     "execution_count": 22,
     "metadata": {},
     "output_type": "execute_result"
    }
   ],
   "source": [
    "#Goals per game (gpg) =average team goals in a match\n",
    "home_gpg = home_stats('home_goals', stayed_teams)\n",
    "home_gpg"
   ]
  },
  {
   "cell_type": "markdown",
   "metadata": {},
   "source": [
    "Information obtained from home_gpg dataframe:\n",
    "- 6 out of 15  clubs significantly had decreased goals per game, with average of -5.36% rate_of_change  after crowd suspension when playing at home ground\n",
    "- Liverpool had the most dropped goals per game when playing at home (-1.01 goals per game) after crowd suspension"
   ]
  },
  {
   "cell_type": "code",
   "execution_count": 23,
   "metadata": {},
   "outputs": [
    {
     "name": "stdout",
     "output_type": "stream",
     "text": [
      "After attendance prohibition, the average away_goals rate_of_change is 4.53%.\n",
      "There are 7 clubs are positively affected, 5 negatively affected, and 3 relatively unaffected.\n"
     ]
    },
    {
     "data": {
      "text/html": [
       "<div>\n",
       "<style scoped>\n",
       "    .dataframe tbody tr th:only-of-type {\n",
       "        vertical-align: middle;\n",
       "    }\n",
       "\n",
       "    .dataframe tbody tr th {\n",
       "        vertical-align: top;\n",
       "    }\n",
       "\n",
       "    .dataframe thead th {\n",
       "        text-align: right;\n",
       "    }\n",
       "</style>\n",
       "<table border=\"1\" class=\"dataframe\">\n",
       "  <thead>\n",
       "    <tr style=\"text-align: right;\">\n",
       "      <th></th>\n",
       "      <th>away_team</th>\n",
       "      <th>away_goals_before</th>\n",
       "      <th>away_goals_after</th>\n",
       "      <th>changes</th>\n",
       "      <th>rate_of_change_%</th>\n",
       "    </tr>\n",
       "  </thead>\n",
       "  <tbody>\n",
       "    <tr>\n",
       "      <th>0</th>\n",
       "      <td>Crystal Palace</td>\n",
       "      <td>1.39</td>\n",
       "      <td>0.96</td>\n",
       "      <td>-0.44</td>\n",
       "      <td>-31.25</td>\n",
       "    </tr>\n",
       "    <tr>\n",
       "      <th>1</th>\n",
       "      <td>Wolverhampton Wanderers</td>\n",
       "      <td>1.18</td>\n",
       "      <td>0.79</td>\n",
       "      <td>-0.39</td>\n",
       "      <td>-33.01</td>\n",
       "    </tr>\n",
       "    <tr>\n",
       "      <th>2</th>\n",
       "      <td>Everton</td>\n",
       "      <td>1.24</td>\n",
       "      <td>1.09</td>\n",
       "      <td>-0.15</td>\n",
       "      <td>-12.01</td>\n",
       "    </tr>\n",
       "    <tr>\n",
       "      <th>3</th>\n",
       "      <td>Leicester City</td>\n",
       "      <td>1.67</td>\n",
       "      <td>1.58</td>\n",
       "      <td>-0.08</td>\n",
       "      <td>-5.00</td>\n",
       "    </tr>\n",
       "    <tr>\n",
       "      <th>4</th>\n",
       "      <td>Chelsea</td>\n",
       "      <td>1.61</td>\n",
       "      <td>1.54</td>\n",
       "      <td>-0.06</td>\n",
       "      <td>-4.01</td>\n",
       "    </tr>\n",
       "    <tr>\n",
       "      <th>5</th>\n",
       "      <td>Burnley</td>\n",
       "      <td>1.06</td>\n",
       "      <td>1.00</td>\n",
       "      <td>-0.06</td>\n",
       "      <td>-5.71</td>\n",
       "    </tr>\n",
       "    <tr>\n",
       "      <th>6</th>\n",
       "      <td>Manchester City</td>\n",
       "      <td>2.15</td>\n",
       "      <td>2.17</td>\n",
       "      <td>0.03</td>\n",
       "      <td>1.25</td>\n",
       "    </tr>\n",
       "    <tr>\n",
       "      <th>7</th>\n",
       "      <td>Brighton and Hove Albion</td>\n",
       "      <td>0.91</td>\n",
       "      <td>0.96</td>\n",
       "      <td>0.04</td>\n",
       "      <td>4.91</td>\n",
       "    </tr>\n",
       "    <tr>\n",
       "      <th>8</th>\n",
       "      <td>Arsenal</td>\n",
       "      <td>1.41</td>\n",
       "      <td>1.48</td>\n",
       "      <td>0.07</td>\n",
       "      <td>5.24</td>\n",
       "    </tr>\n",
       "    <tr>\n",
       "      <th>9</th>\n",
       "      <td>Tottenham Hotspur</td>\n",
       "      <td>1.56</td>\n",
       "      <td>1.65</td>\n",
       "      <td>0.09</td>\n",
       "      <td>5.99</td>\n",
       "    </tr>\n",
       "    <tr>\n",
       "      <th>10</th>\n",
       "      <td>Liverpool</td>\n",
       "      <td>1.82</td>\n",
       "      <td>1.92</td>\n",
       "      <td>0.10</td>\n",
       "      <td>5.42</td>\n",
       "    </tr>\n",
       "    <tr>\n",
       "      <th>11</th>\n",
       "      <td>Southampton</td>\n",
       "      <td>1.12</td>\n",
       "      <td>1.25</td>\n",
       "      <td>0.13</td>\n",
       "      <td>11.49</td>\n",
       "    </tr>\n",
       "    <tr>\n",
       "      <th>12</th>\n",
       "      <td>Newcastle United</td>\n",
       "      <td>0.91</td>\n",
       "      <td>1.09</td>\n",
       "      <td>0.18</td>\n",
       "      <td>19.21</td>\n",
       "    </tr>\n",
       "    <tr>\n",
       "      <th>13</th>\n",
       "      <td>Manchester United</td>\n",
       "      <td>1.42</td>\n",
       "      <td>1.92</td>\n",
       "      <td>0.49</td>\n",
       "      <td>34.57</td>\n",
       "    </tr>\n",
       "    <tr>\n",
       "      <th>14</th>\n",
       "      <td>West Ham United</td>\n",
       "      <td>0.94</td>\n",
       "      <td>1.61</td>\n",
       "      <td>0.67</td>\n",
       "      <td>70.92</td>\n",
       "    </tr>\n",
       "  </tbody>\n",
       "</table>\n",
       "</div>"
      ],
      "text/plain": [
       "                   away_team  away_goals_before  away_goals_after  changes  \\\n",
       "0             Crystal Palace               1.39              0.96    -0.44   \n",
       "1    Wolverhampton Wanderers               1.18              0.79    -0.39   \n",
       "2                    Everton               1.24              1.09    -0.15   \n",
       "3             Leicester City               1.67              1.58    -0.08   \n",
       "4                    Chelsea               1.61              1.54    -0.06   \n",
       "5                    Burnley               1.06              1.00    -0.06   \n",
       "6            Manchester City               2.15              2.17     0.03   \n",
       "7   Brighton and Hove Albion               0.91              0.96     0.04   \n",
       "8                    Arsenal               1.41              1.48     0.07   \n",
       "9          Tottenham Hotspur               1.56              1.65     0.09   \n",
       "10                 Liverpool               1.82              1.92     0.10   \n",
       "11               Southampton               1.12              1.25     0.13   \n",
       "12          Newcastle United               0.91              1.09     0.18   \n",
       "13         Manchester United               1.42              1.92     0.49   \n",
       "14           West Ham United               0.94              1.61     0.67   \n",
       "\n",
       "    rate_of_change_%  \n",
       "0             -31.25  \n",
       "1             -33.01  \n",
       "2             -12.01  \n",
       "3              -5.00  \n",
       "4              -4.01  \n",
       "5              -5.71  \n",
       "6               1.25  \n",
       "7               4.91  \n",
       "8               5.24  \n",
       "9               5.99  \n",
       "10              5.42  \n",
       "11             11.49  \n",
       "12             19.21  \n",
       "13             34.57  \n",
       "14             70.92  "
      ]
     },
     "execution_count": 23,
     "metadata": {},
     "output_type": "execute_result"
    }
   ],
   "source": [
    "away_gpg = away_stats('away_goals', stayed_teams)\n",
    "away_gpg"
   ]
  },
  {
   "cell_type": "markdown",
   "metadata": {},
   "source": [
    "Information obtained from away_gpg dataframe:\n",
    "- 7 out of 15  clubs significantly had increased goals per game, with average of 4.53% rate_of_change  after crowd suspension when playing at away ground\n",
    "- West Ham United had the most increased goals per game when playing at away (+0.67 goals per game) after crowd suspension"
   ]
  },
  {
   "cell_type": "markdown",
   "metadata": {},
   "source": [
    "#### PERFORMANCE STATS"
   ]
  },
  {
   "cell_type": "markdown",
   "metadata": {},
   "source": [
    "##### 1. Shots"
   ]
  },
  {
   "cell_type": "code",
   "execution_count": 24,
   "metadata": {},
   "outputs": [
    {
     "name": "stdout",
     "output_type": "stream",
     "text": [
      "After attendance prohibition, the average home_shots rate_of_change is -9.82%.\n",
      "There are 13 clubs are negatively affected, 1 relatively unaffected, and 1 positively affected.\n"
     ]
    },
    {
     "data": {
      "text/html": [
       "<div>\n",
       "<style scoped>\n",
       "    .dataframe tbody tr th:only-of-type {\n",
       "        vertical-align: middle;\n",
       "    }\n",
       "\n",
       "    .dataframe tbody tr th {\n",
       "        vertical-align: top;\n",
       "    }\n",
       "\n",
       "    .dataframe thead th {\n",
       "        text-align: right;\n",
       "    }\n",
       "</style>\n",
       "<table border=\"1\" class=\"dataframe\">\n",
       "  <thead>\n",
       "    <tr style=\"text-align: right;\">\n",
       "      <th></th>\n",
       "      <th>home_team</th>\n",
       "      <th>home_shots_before</th>\n",
       "      <th>home_shots_after</th>\n",
       "      <th>changes</th>\n",
       "      <th>rate_of_change_%</th>\n",
       "    </tr>\n",
       "  </thead>\n",
       "  <tbody>\n",
       "    <tr>\n",
       "      <th>0</th>\n",
       "      <td>Crystal Palace</td>\n",
       "      <td>13.79</td>\n",
       "      <td>9.48</td>\n",
       "      <td>-4.32</td>\n",
       "      <td>-31.29</td>\n",
       "    </tr>\n",
       "    <tr>\n",
       "      <th>1</th>\n",
       "      <td>Everton</td>\n",
       "      <td>14.61</td>\n",
       "      <td>11.08</td>\n",
       "      <td>-3.52</td>\n",
       "      <td>-24.12</td>\n",
       "    </tr>\n",
       "    <tr>\n",
       "      <th>2</th>\n",
       "      <td>Manchester City</td>\n",
       "      <td>20.81</td>\n",
       "      <td>17.68</td>\n",
       "      <td>-3.13</td>\n",
       "      <td>-15.05</td>\n",
       "    </tr>\n",
       "    <tr>\n",
       "      <th>3</th>\n",
       "      <td>Tottenham Hotspur</td>\n",
       "      <td>15.00</td>\n",
       "      <td>12.17</td>\n",
       "      <td>-2.83</td>\n",
       "      <td>-18.89</td>\n",
       "    </tr>\n",
       "    <tr>\n",
       "      <th>4</th>\n",
       "      <td>Chelsea</td>\n",
       "      <td>17.29</td>\n",
       "      <td>15.30</td>\n",
       "      <td>-1.99</td>\n",
       "      <td>-11.51</td>\n",
       "    </tr>\n",
       "    <tr>\n",
       "      <th>5</th>\n",
       "      <td>Leicester City</td>\n",
       "      <td>14.94</td>\n",
       "      <td>13.00</td>\n",
       "      <td>-1.94</td>\n",
       "      <td>-12.99</td>\n",
       "    </tr>\n",
       "    <tr>\n",
       "      <th>6</th>\n",
       "      <td>Burnley</td>\n",
       "      <td>11.50</td>\n",
       "      <td>10.30</td>\n",
       "      <td>-1.20</td>\n",
       "      <td>-10.40</td>\n",
       "    </tr>\n",
       "    <tr>\n",
       "      <th>7</th>\n",
       "      <td>Manchester United</td>\n",
       "      <td>15.62</td>\n",
       "      <td>14.43</td>\n",
       "      <td>-1.18</td>\n",
       "      <td>-7.57</td>\n",
       "    </tr>\n",
       "    <tr>\n",
       "      <th>8</th>\n",
       "      <td>Newcastle United</td>\n",
       "      <td>13.36</td>\n",
       "      <td>12.21</td>\n",
       "      <td>-1.16</td>\n",
       "      <td>-8.65</td>\n",
       "    </tr>\n",
       "    <tr>\n",
       "      <th>9</th>\n",
       "      <td>Arsenal</td>\n",
       "      <td>13.15</td>\n",
       "      <td>12.17</td>\n",
       "      <td>-0.97</td>\n",
       "      <td>-7.40</td>\n",
       "    </tr>\n",
       "    <tr>\n",
       "      <th>10</th>\n",
       "      <td>Liverpool</td>\n",
       "      <td>17.35</td>\n",
       "      <td>16.39</td>\n",
       "      <td>-0.96</td>\n",
       "      <td>-5.54</td>\n",
       "    </tr>\n",
       "    <tr>\n",
       "      <th>11</th>\n",
       "      <td>West Ham United</td>\n",
       "      <td>12.36</td>\n",
       "      <td>11.58</td>\n",
       "      <td>-0.78</td>\n",
       "      <td>-6.31</td>\n",
       "    </tr>\n",
       "    <tr>\n",
       "      <th>12</th>\n",
       "      <td>Southampton</td>\n",
       "      <td>13.03</td>\n",
       "      <td>12.30</td>\n",
       "      <td>-0.73</td>\n",
       "      <td>-5.56</td>\n",
       "    </tr>\n",
       "    <tr>\n",
       "      <th>13</th>\n",
       "      <td>Wolverhampton Wanderers</td>\n",
       "      <td>13.53</td>\n",
       "      <td>13.70</td>\n",
       "      <td>0.17</td>\n",
       "      <td>1.23</td>\n",
       "    </tr>\n",
       "    <tr>\n",
       "      <th>14</th>\n",
       "      <td>Brighton and Hove Albion</td>\n",
       "      <td>12.06</td>\n",
       "      <td>14.08</td>\n",
       "      <td>2.02</td>\n",
       "      <td>16.77</td>\n",
       "    </tr>\n",
       "  </tbody>\n",
       "</table>\n",
       "</div>"
      ],
      "text/plain": [
       "                   home_team  home_shots_before  home_shots_after  changes  \\\n",
       "0             Crystal Palace              13.79              9.48    -4.32   \n",
       "1                    Everton              14.61             11.08    -3.52   \n",
       "2            Manchester City              20.81             17.68    -3.13   \n",
       "3          Tottenham Hotspur              15.00             12.17    -2.83   \n",
       "4                    Chelsea              17.29             15.30    -1.99   \n",
       "5             Leicester City              14.94             13.00    -1.94   \n",
       "6                    Burnley              11.50             10.30    -1.20   \n",
       "7          Manchester United              15.62             14.43    -1.18   \n",
       "8           Newcastle United              13.36             12.21    -1.16   \n",
       "9                    Arsenal              13.15             12.17    -0.97   \n",
       "10                 Liverpool              17.35             16.39    -0.96   \n",
       "11           West Ham United              12.36             11.58    -0.78   \n",
       "12               Southampton              13.03             12.30    -0.73   \n",
       "13   Wolverhampton Wanderers              13.53             13.70     0.17   \n",
       "14  Brighton and Hove Albion              12.06             14.08     2.02   \n",
       "\n",
       "    rate_of_change_%  \n",
       "0             -31.29  \n",
       "1             -24.12  \n",
       "2             -15.05  \n",
       "3             -18.89  \n",
       "4             -11.51  \n",
       "5             -12.99  \n",
       "6             -10.40  \n",
       "7              -7.57  \n",
       "8              -8.65  \n",
       "9              -7.40  \n",
       "10             -5.54  \n",
       "11             -6.31  \n",
       "12             -5.56  \n",
       "13              1.23  \n",
       "14             16.77  "
      ]
     },
     "execution_count": 24,
     "metadata": {},
     "output_type": "execute_result"
    }
   ],
   "source": [
    "home_shots = home_stats('home_shots', stayed_teams)\n",
    "home_shots"
   ]
  },
  {
   "cell_type": "code",
   "execution_count": 25,
   "metadata": {},
   "outputs": [
    {
     "name": "stdout",
     "output_type": "stream",
     "text": [
      "After attendance prohibition, the average away_shots rate_of_change is 0.92%.\n",
      "There are 6 clubs are relatively unaffected, 5 positively affected, and 4 negatively affected.\n"
     ]
    },
    {
     "data": {
      "text/html": [
       "<div>\n",
       "<style scoped>\n",
       "    .dataframe tbody tr th:only-of-type {\n",
       "        vertical-align: middle;\n",
       "    }\n",
       "\n",
       "    .dataframe tbody tr th {\n",
       "        vertical-align: top;\n",
       "    }\n",
       "\n",
       "    .dataframe thead th {\n",
       "        text-align: right;\n",
       "    }\n",
       "</style>\n",
       "<table border=\"1\" class=\"dataframe\">\n",
       "  <thead>\n",
       "    <tr style=\"text-align: right;\">\n",
       "      <th></th>\n",
       "      <th>away_team</th>\n",
       "      <th>away_shots_before</th>\n",
       "      <th>away_shots_after</th>\n",
       "      <th>changes</th>\n",
       "      <th>rate_of_change_%</th>\n",
       "    </tr>\n",
       "  </thead>\n",
       "  <tbody>\n",
       "    <tr>\n",
       "      <th>0</th>\n",
       "      <td>Everton</td>\n",
       "      <td>11.85</td>\n",
       "      <td>9.39</td>\n",
       "      <td>-2.46</td>\n",
       "      <td>-20.77</td>\n",
       "    </tr>\n",
       "    <tr>\n",
       "      <th>1</th>\n",
       "      <td>Wolverhampton Wanderers</td>\n",
       "      <td>11.79</td>\n",
       "      <td>9.88</td>\n",
       "      <td>-1.91</td>\n",
       "      <td>-16.23</td>\n",
       "    </tr>\n",
       "    <tr>\n",
       "      <th>2</th>\n",
       "      <td>Southampton</td>\n",
       "      <td>12.45</td>\n",
       "      <td>11.21</td>\n",
       "      <td>-1.25</td>\n",
       "      <td>-10.01</td>\n",
       "    </tr>\n",
       "    <tr>\n",
       "      <th>3</th>\n",
       "      <td>Tottenham Hotspur</td>\n",
       "      <td>11.59</td>\n",
       "      <td>10.57</td>\n",
       "      <td>-1.02</td>\n",
       "      <td>-8.83</td>\n",
       "    </tr>\n",
       "    <tr>\n",
       "      <th>4</th>\n",
       "      <td>Manchester City</td>\n",
       "      <td>16.41</td>\n",
       "      <td>15.70</td>\n",
       "      <td>-0.72</td>\n",
       "      <td>-4.36</td>\n",
       "    </tr>\n",
       "    <tr>\n",
       "      <th>5</th>\n",
       "      <td>Chelsea</td>\n",
       "      <td>15.15</td>\n",
       "      <td>14.50</td>\n",
       "      <td>-0.65</td>\n",
       "      <td>-4.30</td>\n",
       "    </tr>\n",
       "    <tr>\n",
       "      <th>6</th>\n",
       "      <td>Crystal Palace</td>\n",
       "      <td>9.42</td>\n",
       "      <td>9.17</td>\n",
       "      <td>-0.26</td>\n",
       "      <td>-2.73</td>\n",
       "    </tr>\n",
       "    <tr>\n",
       "      <th>7</th>\n",
       "      <td>Newcastle United</td>\n",
       "      <td>8.97</td>\n",
       "      <td>8.83</td>\n",
       "      <td>-0.14</td>\n",
       "      <td>-1.61</td>\n",
       "    </tr>\n",
       "    <tr>\n",
       "      <th>8</th>\n",
       "      <td>Brighton and Hove Albion</td>\n",
       "      <td>10.26</td>\n",
       "      <td>10.22</td>\n",
       "      <td>-0.05</td>\n",
       "      <td>-0.46</td>\n",
       "    </tr>\n",
       "    <tr>\n",
       "      <th>9</th>\n",
       "      <td>Manchester United</td>\n",
       "      <td>12.85</td>\n",
       "      <td>12.88</td>\n",
       "      <td>0.03</td>\n",
       "      <td>0.21</td>\n",
       "    </tr>\n",
       "    <tr>\n",
       "      <th>10</th>\n",
       "      <td>Arsenal</td>\n",
       "      <td>10.38</td>\n",
       "      <td>10.92</td>\n",
       "      <td>0.54</td>\n",
       "      <td>5.25</td>\n",
       "    </tr>\n",
       "    <tr>\n",
       "      <th>11</th>\n",
       "      <td>Leicester City</td>\n",
       "      <td>12.48</td>\n",
       "      <td>13.38</td>\n",
       "      <td>0.89</td>\n",
       "      <td>7.13</td>\n",
       "    </tr>\n",
       "    <tr>\n",
       "      <th>12</th>\n",
       "      <td>Burnley</td>\n",
       "      <td>8.18</td>\n",
       "      <td>9.71</td>\n",
       "      <td>1.53</td>\n",
       "      <td>18.66</td>\n",
       "    </tr>\n",
       "    <tr>\n",
       "      <th>13</th>\n",
       "      <td>Liverpool</td>\n",
       "      <td>13.24</td>\n",
       "      <td>15.42</td>\n",
       "      <td>2.17</td>\n",
       "      <td>16.42</td>\n",
       "    </tr>\n",
       "    <tr>\n",
       "      <th>14</th>\n",
       "      <td>West Ham United</td>\n",
       "      <td>9.82</td>\n",
       "      <td>13.30</td>\n",
       "      <td>3.48</td>\n",
       "      <td>35.43</td>\n",
       "    </tr>\n",
       "  </tbody>\n",
       "</table>\n",
       "</div>"
      ],
      "text/plain": [
       "                   away_team  away_shots_before  away_shots_after  changes  \\\n",
       "0                    Everton              11.85              9.39    -2.46   \n",
       "1    Wolverhampton Wanderers              11.79              9.88    -1.91   \n",
       "2                Southampton              12.45             11.21    -1.25   \n",
       "3          Tottenham Hotspur              11.59             10.57    -1.02   \n",
       "4            Manchester City              16.41             15.70    -0.72   \n",
       "5                    Chelsea              15.15             14.50    -0.65   \n",
       "6             Crystal Palace               9.42              9.17    -0.26   \n",
       "7           Newcastle United               8.97              8.83    -0.14   \n",
       "8   Brighton and Hove Albion              10.26             10.22    -0.05   \n",
       "9          Manchester United              12.85             12.88     0.03   \n",
       "10                   Arsenal              10.38             10.92     0.54   \n",
       "11            Leicester City              12.48             13.38     0.89   \n",
       "12                   Burnley               8.18              9.71     1.53   \n",
       "13                 Liverpool              13.24             15.42     2.17   \n",
       "14           West Ham United               9.82             13.30     3.48   \n",
       "\n",
       "    rate_of_change_%  \n",
       "0             -20.77  \n",
       "1             -16.23  \n",
       "2             -10.01  \n",
       "3              -8.83  \n",
       "4              -4.36  \n",
       "5              -4.30  \n",
       "6              -2.73  \n",
       "7              -1.61  \n",
       "8              -0.46  \n",
       "9               0.21  \n",
       "10              5.25  \n",
       "11              7.13  \n",
       "12             18.66  \n",
       "13             16.42  \n",
       "14             35.43  "
      ]
     },
     "execution_count": 25,
     "metadata": {},
     "output_type": "execute_result"
    }
   ],
   "source": [
    "away_shots = away_stats('away_shots', stayed_teams)\n",
    "away_shots"
   ]
  },
  {
   "cell_type": "markdown",
   "metadata": {},
   "source": [
    "##### 2. Shots on Target"
   ]
  },
  {
   "cell_type": "code",
   "execution_count": 26,
   "metadata": {},
   "outputs": [
    {
     "name": "stdout",
     "output_type": "stream",
     "text": [
      "After attendance prohibition, the average home_SoT rate_of_change is -5.51%.\n",
      "There are 9 clubs are negatively affected, 3 relatively unaffected, and 3 positively affected.\n"
     ]
    },
    {
     "data": {
      "text/html": [
       "<div>\n",
       "<style scoped>\n",
       "    .dataframe tbody tr th:only-of-type {\n",
       "        vertical-align: middle;\n",
       "    }\n",
       "\n",
       "    .dataframe tbody tr th {\n",
       "        vertical-align: top;\n",
       "    }\n",
       "\n",
       "    .dataframe thead th {\n",
       "        text-align: right;\n",
       "    }\n",
       "</style>\n",
       "<table border=\"1\" class=\"dataframe\">\n",
       "  <thead>\n",
       "    <tr style=\"text-align: right;\">\n",
       "      <th></th>\n",
       "      <th>home_team</th>\n",
       "      <th>home_SoT_before</th>\n",
       "      <th>home_SoT_after</th>\n",
       "      <th>changes</th>\n",
       "      <th>rate_of_change_%</th>\n",
       "    </tr>\n",
       "  </thead>\n",
       "  <tbody>\n",
       "    <tr>\n",
       "      <th>0</th>\n",
       "      <td>Everton</td>\n",
       "      <td>4.94</td>\n",
       "      <td>3.79</td>\n",
       "      <td>-1.15</td>\n",
       "      <td>-23.24</td>\n",
       "    </tr>\n",
       "    <tr>\n",
       "      <th>1</th>\n",
       "      <td>West Ham United</td>\n",
       "      <td>4.88</td>\n",
       "      <td>4.04</td>\n",
       "      <td>-0.84</td>\n",
       "      <td>-17.16</td>\n",
       "    </tr>\n",
       "    <tr>\n",
       "      <th>2</th>\n",
       "      <td>Liverpool</td>\n",
       "      <td>6.71</td>\n",
       "      <td>5.91</td>\n",
       "      <td>-0.79</td>\n",
       "      <td>-11.82</td>\n",
       "    </tr>\n",
       "    <tr>\n",
       "      <th>3</th>\n",
       "      <td>Manchester United</td>\n",
       "      <td>6.47</td>\n",
       "      <td>5.70</td>\n",
       "      <td>-0.77</td>\n",
       "      <td>-11.98</td>\n",
       "    </tr>\n",
       "    <tr>\n",
       "      <th>4</th>\n",
       "      <td>Burnley</td>\n",
       "      <td>4.00</td>\n",
       "      <td>3.26</td>\n",
       "      <td>-0.74</td>\n",
       "      <td>-18.48</td>\n",
       "    </tr>\n",
       "    <tr>\n",
       "      <th>5</th>\n",
       "      <td>Manchester City</td>\n",
       "      <td>7.38</td>\n",
       "      <td>6.68</td>\n",
       "      <td>-0.70</td>\n",
       "      <td>-9.42</td>\n",
       "    </tr>\n",
       "    <tr>\n",
       "      <th>6</th>\n",
       "      <td>Arsenal</td>\n",
       "      <td>4.88</td>\n",
       "      <td>4.30</td>\n",
       "      <td>-0.58</td>\n",
       "      <td>-11.84</td>\n",
       "    </tr>\n",
       "    <tr>\n",
       "      <th>7</th>\n",
       "      <td>Crystal Palace</td>\n",
       "      <td>3.82</td>\n",
       "      <td>3.26</td>\n",
       "      <td>-0.56</td>\n",
       "      <td>-14.72</td>\n",
       "    </tr>\n",
       "    <tr>\n",
       "      <th>8</th>\n",
       "      <td>Leicester City</td>\n",
       "      <td>5.06</td>\n",
       "      <td>4.78</td>\n",
       "      <td>-0.28</td>\n",
       "      <td>-5.46</td>\n",
       "    </tr>\n",
       "    <tr>\n",
       "      <th>9</th>\n",
       "      <td>Chelsea</td>\n",
       "      <td>6.21</td>\n",
       "      <td>6.13</td>\n",
       "      <td>-0.08</td>\n",
       "      <td>-1.22</td>\n",
       "    </tr>\n",
       "    <tr>\n",
       "      <th>10</th>\n",
       "      <td>Newcastle United</td>\n",
       "      <td>4.06</td>\n",
       "      <td>4.25</td>\n",
       "      <td>0.19</td>\n",
       "      <td>4.66</td>\n",
       "    </tr>\n",
       "    <tr>\n",
       "      <th>11</th>\n",
       "      <td>Tottenham Hotspur</td>\n",
       "      <td>4.94</td>\n",
       "      <td>5.17</td>\n",
       "      <td>0.23</td>\n",
       "      <td>4.60</td>\n",
       "    </tr>\n",
       "    <tr>\n",
       "      <th>12</th>\n",
       "      <td>Wolverhampton Wanderers</td>\n",
       "      <td>4.18</td>\n",
       "      <td>4.52</td>\n",
       "      <td>0.35</td>\n",
       "      <td>8.27</td>\n",
       "    </tr>\n",
       "    <tr>\n",
       "      <th>13</th>\n",
       "      <td>Southampton</td>\n",
       "      <td>4.38</td>\n",
       "      <td>4.83</td>\n",
       "      <td>0.44</td>\n",
       "      <td>10.13</td>\n",
       "    </tr>\n",
       "    <tr>\n",
       "      <th>14</th>\n",
       "      <td>Brighton and Hove Albion</td>\n",
       "      <td>3.33</td>\n",
       "      <td>3.83</td>\n",
       "      <td>0.50</td>\n",
       "      <td>15.00</td>\n",
       "    </tr>\n",
       "  </tbody>\n",
       "</table>\n",
       "</div>"
      ],
      "text/plain": [
       "                   home_team  home_SoT_before  home_SoT_after  changes  \\\n",
       "0                    Everton             4.94            3.79    -1.15   \n",
       "1            West Ham United             4.88            4.04    -0.84   \n",
       "2                  Liverpool             6.71            5.91    -0.79   \n",
       "3          Manchester United             6.47            5.70    -0.77   \n",
       "4                    Burnley             4.00            3.26    -0.74   \n",
       "5            Manchester City             7.38            6.68    -0.70   \n",
       "6                    Arsenal             4.88            4.30    -0.58   \n",
       "7             Crystal Palace             3.82            3.26    -0.56   \n",
       "8             Leicester City             5.06            4.78    -0.28   \n",
       "9                    Chelsea             6.21            6.13    -0.08   \n",
       "10          Newcastle United             4.06            4.25     0.19   \n",
       "11         Tottenham Hotspur             4.94            5.17     0.23   \n",
       "12   Wolverhampton Wanderers             4.18            4.52     0.35   \n",
       "13               Southampton             4.38            4.83     0.44   \n",
       "14  Brighton and Hove Albion             3.33            3.83     0.50   \n",
       "\n",
       "    rate_of_change_%  \n",
       "0             -23.24  \n",
       "1             -17.16  \n",
       "2             -11.82  \n",
       "3             -11.98  \n",
       "4             -18.48  \n",
       "5              -9.42  \n",
       "6             -11.84  \n",
       "7             -14.72  \n",
       "8              -5.46  \n",
       "9              -1.22  \n",
       "10              4.66  \n",
       "11              4.60  \n",
       "12              8.27  \n",
       "13             10.13  \n",
       "14             15.00  "
      ]
     },
     "execution_count": 26,
     "metadata": {},
     "output_type": "execute_result"
    }
   ],
   "source": [
    "home_SoT = home_stats('home_SoT', stayed_teams)\n",
    "home_SoT"
   ]
  },
  {
   "cell_type": "code",
   "execution_count": 27,
   "metadata": {},
   "outputs": [
    {
     "name": "stdout",
     "output_type": "stream",
     "text": [
      "After attendance prohibition, the average away_SoT rate_of_change is 1.4%.\n",
      "There are 7 clubs are positively affected, 6 negatively affected, and 2 relatively unaffected.\n"
     ]
    },
    {
     "data": {
      "text/html": [
       "<div>\n",
       "<style scoped>\n",
       "    .dataframe tbody tr th:only-of-type {\n",
       "        vertical-align: middle;\n",
       "    }\n",
       "\n",
       "    .dataframe tbody tr th {\n",
       "        vertical-align: top;\n",
       "    }\n",
       "\n",
       "    .dataframe thead th {\n",
       "        text-align: right;\n",
       "    }\n",
       "</style>\n",
       "<table border=\"1\" class=\"dataframe\">\n",
       "  <thead>\n",
       "    <tr style=\"text-align: right;\">\n",
       "      <th></th>\n",
       "      <th>away_team</th>\n",
       "      <th>away_SoT_before</th>\n",
       "      <th>away_SoT_after</th>\n",
       "      <th>changes</th>\n",
       "      <th>rate_of_change_%</th>\n",
       "    </tr>\n",
       "  </thead>\n",
       "  <tbody>\n",
       "    <tr>\n",
       "      <th>0</th>\n",
       "      <td>Tottenham Hotspur</td>\n",
       "      <td>4.59</td>\n",
       "      <td>3.57</td>\n",
       "      <td>-1.02</td>\n",
       "      <td>-22.30</td>\n",
       "    </tr>\n",
       "    <tr>\n",
       "      <th>1</th>\n",
       "      <td>Manchester City</td>\n",
       "      <td>6.35</td>\n",
       "      <td>5.43</td>\n",
       "      <td>-0.92</td>\n",
       "      <td>-14.45</td>\n",
       "    </tr>\n",
       "    <tr>\n",
       "      <th>2</th>\n",
       "      <td>Wolverhampton Wanderers</td>\n",
       "      <td>3.88</td>\n",
       "      <td>3.33</td>\n",
       "      <td>-0.55</td>\n",
       "      <td>-14.06</td>\n",
       "    </tr>\n",
       "    <tr>\n",
       "      <th>3</th>\n",
       "      <td>Everton</td>\n",
       "      <td>4.15</td>\n",
       "      <td>3.65</td>\n",
       "      <td>-0.49</td>\n",
       "      <td>-11.93</td>\n",
       "    </tr>\n",
       "    <tr>\n",
       "      <th>4</th>\n",
       "      <td>Leicester City</td>\n",
       "      <td>5.03</td>\n",
       "      <td>4.67</td>\n",
       "      <td>-0.36</td>\n",
       "      <td>-7.23</td>\n",
       "    </tr>\n",
       "    <tr>\n",
       "      <th>5</th>\n",
       "      <td>Brighton and Hove Albion</td>\n",
       "      <td>3.50</td>\n",
       "      <td>3.17</td>\n",
       "      <td>-0.33</td>\n",
       "      <td>-9.32</td>\n",
       "    </tr>\n",
       "    <tr>\n",
       "      <th>6</th>\n",
       "      <td>Crystal Palace</td>\n",
       "      <td>3.39</td>\n",
       "      <td>3.46</td>\n",
       "      <td>0.06</td>\n",
       "      <td>1.90</td>\n",
       "    </tr>\n",
       "    <tr>\n",
       "      <th>7</th>\n",
       "      <td>Southampton</td>\n",
       "      <td>4.36</td>\n",
       "      <td>4.46</td>\n",
       "      <td>0.09</td>\n",
       "      <td>2.17</td>\n",
       "    </tr>\n",
       "    <tr>\n",
       "      <th>8</th>\n",
       "      <td>Newcastle United</td>\n",
       "      <td>3.09</td>\n",
       "      <td>3.30</td>\n",
       "      <td>0.22</td>\n",
       "      <td>7.00</td>\n",
       "    </tr>\n",
       "    <tr>\n",
       "      <th>9</th>\n",
       "      <td>Arsenal</td>\n",
       "      <td>3.53</td>\n",
       "      <td>3.80</td>\n",
       "      <td>0.27</td>\n",
       "      <td>7.61</td>\n",
       "    </tr>\n",
       "    <tr>\n",
       "      <th>10</th>\n",
       "      <td>Liverpool</td>\n",
       "      <td>5.27</td>\n",
       "      <td>5.54</td>\n",
       "      <td>0.27</td>\n",
       "      <td>5.10</td>\n",
       "    </tr>\n",
       "    <tr>\n",
       "      <th>11</th>\n",
       "      <td>Manchester United</td>\n",
       "      <td>5.18</td>\n",
       "      <td>5.50</td>\n",
       "      <td>0.32</td>\n",
       "      <td>6.14</td>\n",
       "    </tr>\n",
       "    <tr>\n",
       "      <th>12</th>\n",
       "      <td>Chelsea</td>\n",
       "      <td>4.73</td>\n",
       "      <td>5.12</td>\n",
       "      <td>0.40</td>\n",
       "      <td>8.41</td>\n",
       "    </tr>\n",
       "    <tr>\n",
       "      <th>13</th>\n",
       "      <td>West Ham United</td>\n",
       "      <td>3.65</td>\n",
       "      <td>4.48</td>\n",
       "      <td>0.83</td>\n",
       "      <td>22.79</td>\n",
       "    </tr>\n",
       "    <tr>\n",
       "      <th>14</th>\n",
       "      <td>Burnley</td>\n",
       "      <td>2.55</td>\n",
       "      <td>3.54</td>\n",
       "      <td>1.00</td>\n",
       "      <td>39.14</td>\n",
       "    </tr>\n",
       "  </tbody>\n",
       "</table>\n",
       "</div>"
      ],
      "text/plain": [
       "                   away_team  away_SoT_before  away_SoT_after  changes  \\\n",
       "0          Tottenham Hotspur             4.59            3.57    -1.02   \n",
       "1            Manchester City             6.35            5.43    -0.92   \n",
       "2    Wolverhampton Wanderers             3.88            3.33    -0.55   \n",
       "3                    Everton             4.15            3.65    -0.49   \n",
       "4             Leicester City             5.03            4.67    -0.36   \n",
       "5   Brighton and Hove Albion             3.50            3.17    -0.33   \n",
       "6             Crystal Palace             3.39            3.46     0.06   \n",
       "7                Southampton             4.36            4.46     0.09   \n",
       "8           Newcastle United             3.09            3.30     0.22   \n",
       "9                    Arsenal             3.53            3.80     0.27   \n",
       "10                 Liverpool             5.27            5.54     0.27   \n",
       "11         Manchester United             5.18            5.50     0.32   \n",
       "12                   Chelsea             4.73            5.12     0.40   \n",
       "13           West Ham United             3.65            4.48     0.83   \n",
       "14                   Burnley             2.55            3.54     1.00   \n",
       "\n",
       "    rate_of_change_%  \n",
       "0             -22.30  \n",
       "1             -14.45  \n",
       "2             -14.06  \n",
       "3             -11.93  \n",
       "4              -7.23  \n",
       "5              -9.32  \n",
       "6               1.90  \n",
       "7               2.17  \n",
       "8               7.00  \n",
       "9               7.61  \n",
       "10              5.10  \n",
       "11              6.14  \n",
       "12              8.41  \n",
       "13             22.79  \n",
       "14             39.14  "
      ]
     },
     "execution_count": 27,
     "metadata": {},
     "output_type": "execute_result"
    }
   ],
   "source": [
    "away_SoT = away_stats('away_SoT', stayed_teams)\n",
    "away_SoT"
   ]
  },
  {
   "cell_type": "markdown",
   "metadata": {},
   "source": [
    "##### 3. Shots on Target Percentage"
   ]
  },
  {
   "cell_type": "code",
   "execution_count": 28,
   "metadata": {},
   "outputs": [
    {
     "name": "stdout",
     "output_type": "stream",
     "text": [
      "After attendance prohibition, the average home_SoT_% rate_of_change is 7.17%.\n",
      "There are 8 clubs are positively affected, 5 relatively unaffected, and 2 negatively affected.\n"
     ]
    },
    {
     "data": {
      "text/html": [
       "<div>\n",
       "<style scoped>\n",
       "    .dataframe tbody tr th:only-of-type {\n",
       "        vertical-align: middle;\n",
       "    }\n",
       "\n",
       "    .dataframe tbody tr th {\n",
       "        vertical-align: top;\n",
       "    }\n",
       "\n",
       "    .dataframe thead th {\n",
       "        text-align: right;\n",
       "    }\n",
       "</style>\n",
       "<table border=\"1\" class=\"dataframe\">\n",
       "  <thead>\n",
       "    <tr style=\"text-align: right;\">\n",
       "      <th></th>\n",
       "      <th>home_team</th>\n",
       "      <th>home_SoT_%_before</th>\n",
       "      <th>home_SoT_%_after</th>\n",
       "      <th>changes</th>\n",
       "      <th>rate_of_change_%</th>\n",
       "    </tr>\n",
       "  </thead>\n",
       "  <tbody>\n",
       "    <tr>\n",
       "      <th>0</th>\n",
       "      <td>Manchester United</td>\n",
       "      <td>44.37</td>\n",
       "      <td>37.55</td>\n",
       "      <td>-6.82</td>\n",
       "      <td>-15.36</td>\n",
       "    </tr>\n",
       "    <tr>\n",
       "      <th>1</th>\n",
       "      <td>Burnley</td>\n",
       "      <td>34.64</td>\n",
       "      <td>31.61</td>\n",
       "      <td>-3.03</td>\n",
       "      <td>-8.74</td>\n",
       "    </tr>\n",
       "    <tr>\n",
       "      <th>2</th>\n",
       "      <td>Liverpool</td>\n",
       "      <td>39.05</td>\n",
       "      <td>37.29</td>\n",
       "      <td>-1.76</td>\n",
       "      <td>-4.51</td>\n",
       "    </tr>\n",
       "    <tr>\n",
       "      <th>3</th>\n",
       "      <td>West Ham United</td>\n",
       "      <td>39.46</td>\n",
       "      <td>37.92</td>\n",
       "      <td>-1.54</td>\n",
       "      <td>-3.90</td>\n",
       "    </tr>\n",
       "    <tr>\n",
       "      <th>4</th>\n",
       "      <td>Everton</td>\n",
       "      <td>34.06</td>\n",
       "      <td>33.68</td>\n",
       "      <td>-0.38</td>\n",
       "      <td>-1.13</td>\n",
       "    </tr>\n",
       "    <tr>\n",
       "      <th>5</th>\n",
       "      <td>Brighton and Hove Albion</td>\n",
       "      <td>27.46</td>\n",
       "      <td>28.17</td>\n",
       "      <td>0.71</td>\n",
       "      <td>2.58</td>\n",
       "    </tr>\n",
       "    <tr>\n",
       "      <th>6</th>\n",
       "      <td>Leicester City</td>\n",
       "      <td>35.16</td>\n",
       "      <td>36.32</td>\n",
       "      <td>1.16</td>\n",
       "      <td>3.29</td>\n",
       "    </tr>\n",
       "    <tr>\n",
       "      <th>7</th>\n",
       "      <td>Arsenal</td>\n",
       "      <td>37.01</td>\n",
       "      <td>39.07</td>\n",
       "      <td>2.06</td>\n",
       "      <td>5.56</td>\n",
       "    </tr>\n",
       "    <tr>\n",
       "      <th>8</th>\n",
       "      <td>Wolverhampton Wanderers</td>\n",
       "      <td>31.02</td>\n",
       "      <td>33.19</td>\n",
       "      <td>2.17</td>\n",
       "      <td>7.00</td>\n",
       "    </tr>\n",
       "    <tr>\n",
       "      <th>9</th>\n",
       "      <td>Manchester City</td>\n",
       "      <td>35.74</td>\n",
       "      <td>38.94</td>\n",
       "      <td>3.20</td>\n",
       "      <td>8.95</td>\n",
       "    </tr>\n",
       "    <tr>\n",
       "      <th>10</th>\n",
       "      <td>Southampton</td>\n",
       "      <td>36.56</td>\n",
       "      <td>40.81</td>\n",
       "      <td>4.25</td>\n",
       "      <td>11.62</td>\n",
       "    </tr>\n",
       "    <tr>\n",
       "      <th>11</th>\n",
       "      <td>Chelsea</td>\n",
       "      <td>36.39</td>\n",
       "      <td>41.24</td>\n",
       "      <td>4.84</td>\n",
       "      <td>13.30</td>\n",
       "    </tr>\n",
       "    <tr>\n",
       "      <th>12</th>\n",
       "      <td>Newcastle United</td>\n",
       "      <td>30.58</td>\n",
       "      <td>36.46</td>\n",
       "      <td>5.88</td>\n",
       "      <td>19.23</td>\n",
       "    </tr>\n",
       "    <tr>\n",
       "      <th>13</th>\n",
       "      <td>Tottenham Hotspur</td>\n",
       "      <td>35.27</td>\n",
       "      <td>42.51</td>\n",
       "      <td>7.25</td>\n",
       "      <td>20.55</td>\n",
       "    </tr>\n",
       "    <tr>\n",
       "      <th>14</th>\n",
       "      <td>Crystal Palace</td>\n",
       "      <td>27.36</td>\n",
       "      <td>40.80</td>\n",
       "      <td>13.45</td>\n",
       "      <td>49.14</td>\n",
       "    </tr>\n",
       "  </tbody>\n",
       "</table>\n",
       "</div>"
      ],
      "text/plain": [
       "                   home_team  home_SoT_%_before  home_SoT_%_after  changes  \\\n",
       "0          Manchester United              44.37             37.55    -6.82   \n",
       "1                    Burnley              34.64             31.61    -3.03   \n",
       "2                  Liverpool              39.05             37.29    -1.76   \n",
       "3            West Ham United              39.46             37.92    -1.54   \n",
       "4                    Everton              34.06             33.68    -0.38   \n",
       "5   Brighton and Hove Albion              27.46             28.17     0.71   \n",
       "6             Leicester City              35.16             36.32     1.16   \n",
       "7                    Arsenal              37.01             39.07     2.06   \n",
       "8    Wolverhampton Wanderers              31.02             33.19     2.17   \n",
       "9            Manchester City              35.74             38.94     3.20   \n",
       "10               Southampton              36.56             40.81     4.25   \n",
       "11                   Chelsea              36.39             41.24     4.84   \n",
       "12          Newcastle United              30.58             36.46     5.88   \n",
       "13         Tottenham Hotspur              35.27             42.51     7.25   \n",
       "14            Crystal Palace              27.36             40.80    13.45   \n",
       "\n",
       "    rate_of_change_%  \n",
       "0             -15.36  \n",
       "1              -8.74  \n",
       "2              -4.51  \n",
       "3              -3.90  \n",
       "4              -1.13  \n",
       "5               2.58  \n",
       "6               3.29  \n",
       "7               5.56  \n",
       "8               7.00  \n",
       "9               8.95  \n",
       "10             11.62  \n",
       "11             13.30  \n",
       "12             19.23  \n",
       "13             20.55  \n",
       "14             49.14  "
      ]
     },
     "execution_count": 28,
     "metadata": {},
     "output_type": "execute_result"
    }
   ],
   "source": [
    "home_SoT = home_stats('home_SoT_%', stayed_teams)\n",
    "home_SoT "
   ]
  },
  {
   "cell_type": "markdown",
   "metadata": {},
   "source": [
    "Information obtained from home_SoT (shots on target percentage of home team) dataframe:\n",
    "- 8 out of 15  clubs significantly had increased shots on target percentage, with average of 7.17% rate_of_change  after crowd suspension when playing at home ground\n",
    "- 2 teams who had the most significant changes of SoT percentage at home are Crystal Palace and Manchester United. Crystal Palace SoT percentage significantly increased and Manchester United SoT percentage significantly dropped."
   ]
  },
  {
   "cell_type": "code",
   "execution_count": 29,
   "metadata": {},
   "outputs": [
    {
     "name": "stdout",
     "output_type": "stream",
     "text": [
      "After attendance prohibition, the average away_SoT_% rate_of_change is 0.61%.\n",
      "There are 6 clubs are negatively affected, 6 positively affected, and 3 relatively unaffected.\n"
     ]
    },
    {
     "data": {
      "text/html": [
       "<div>\n",
       "<style scoped>\n",
       "    .dataframe tbody tr th:only-of-type {\n",
       "        vertical-align: middle;\n",
       "    }\n",
       "\n",
       "    .dataframe tbody tr th {\n",
       "        vertical-align: top;\n",
       "    }\n",
       "\n",
       "    .dataframe thead th {\n",
       "        text-align: right;\n",
       "    }\n",
       "</style>\n",
       "<table border=\"1\" class=\"dataframe\">\n",
       "  <thead>\n",
       "    <tr style=\"text-align: right;\">\n",
       "      <th></th>\n",
       "      <th>away_team</th>\n",
       "      <th>away_SoT_%_before</th>\n",
       "      <th>away_SoT_%_after</th>\n",
       "      <th>changes</th>\n",
       "      <th>rate_of_change_%</th>\n",
       "    </tr>\n",
       "  </thead>\n",
       "  <tbody>\n",
       "    <tr>\n",
       "      <th>0</th>\n",
       "      <td>Tottenham Hotspur</td>\n",
       "      <td>40.65</td>\n",
       "      <td>34.87</td>\n",
       "      <td>-5.78</td>\n",
       "      <td>-14.22</td>\n",
       "    </tr>\n",
       "    <tr>\n",
       "      <th>1</th>\n",
       "      <td>West Ham United</td>\n",
       "      <td>37.73</td>\n",
       "      <td>33.06</td>\n",
       "      <td>-4.68</td>\n",
       "      <td>-12.39</td>\n",
       "    </tr>\n",
       "    <tr>\n",
       "      <th>2</th>\n",
       "      <td>Liverpool</td>\n",
       "      <td>39.90</td>\n",
       "      <td>36.62</td>\n",
       "      <td>-3.29</td>\n",
       "      <td>-8.24</td>\n",
       "    </tr>\n",
       "    <tr>\n",
       "      <th>3</th>\n",
       "      <td>Manchester City</td>\n",
       "      <td>40.14</td>\n",
       "      <td>37.85</td>\n",
       "      <td>-2.30</td>\n",
       "      <td>-5.72</td>\n",
       "    </tr>\n",
       "    <tr>\n",
       "      <th>4</th>\n",
       "      <td>Arsenal</td>\n",
       "      <td>36.90</td>\n",
       "      <td>34.64</td>\n",
       "      <td>-2.26</td>\n",
       "      <td>-6.12</td>\n",
       "    </tr>\n",
       "    <tr>\n",
       "      <th>5</th>\n",
       "      <td>Crystal Palace</td>\n",
       "      <td>37.69</td>\n",
       "      <td>35.48</td>\n",
       "      <td>-2.22</td>\n",
       "      <td>-5.88</td>\n",
       "    </tr>\n",
       "    <tr>\n",
       "      <th>6</th>\n",
       "      <td>Leicester City</td>\n",
       "      <td>39.59</td>\n",
       "      <td>38.06</td>\n",
       "      <td>-1.53</td>\n",
       "      <td>-3.86</td>\n",
       "    </tr>\n",
       "    <tr>\n",
       "      <th>7</th>\n",
       "      <td>Brighton and Hove Albion</td>\n",
       "      <td>33.80</td>\n",
       "      <td>33.08</td>\n",
       "      <td>-0.72</td>\n",
       "      <td>-2.12</td>\n",
       "    </tr>\n",
       "    <tr>\n",
       "      <th>8</th>\n",
       "      <td>Wolverhampton Wanderers</td>\n",
       "      <td>32.64</td>\n",
       "      <td>32.74</td>\n",
       "      <td>0.10</td>\n",
       "      <td>0.31</td>\n",
       "    </tr>\n",
       "    <tr>\n",
       "      <th>9</th>\n",
       "      <td>Southampton</td>\n",
       "      <td>37.03</td>\n",
       "      <td>40.20</td>\n",
       "      <td>3.17</td>\n",
       "      <td>8.56</td>\n",
       "    </tr>\n",
       "    <tr>\n",
       "      <th>10</th>\n",
       "      <td>Manchester United</td>\n",
       "      <td>39.96</td>\n",
       "      <td>43.61</td>\n",
       "      <td>3.65</td>\n",
       "      <td>9.14</td>\n",
       "    </tr>\n",
       "    <tr>\n",
       "      <th>11</th>\n",
       "      <td>Newcastle United</td>\n",
       "      <td>33.48</td>\n",
       "      <td>37.22</td>\n",
       "      <td>3.74</td>\n",
       "      <td>11.17</td>\n",
       "    </tr>\n",
       "    <tr>\n",
       "      <th>12</th>\n",
       "      <td>Chelsea</td>\n",
       "      <td>32.08</td>\n",
       "      <td>35.87</td>\n",
       "      <td>3.78</td>\n",
       "      <td>11.79</td>\n",
       "    </tr>\n",
       "    <tr>\n",
       "      <th>13</th>\n",
       "      <td>Everton</td>\n",
       "      <td>35.13</td>\n",
       "      <td>39.46</td>\n",
       "      <td>4.34</td>\n",
       "      <td>12.35</td>\n",
       "    </tr>\n",
       "    <tr>\n",
       "      <th>14</th>\n",
       "      <td>Burnley</td>\n",
       "      <td>30.85</td>\n",
       "      <td>35.28</td>\n",
       "      <td>4.43</td>\n",
       "      <td>14.37</td>\n",
       "    </tr>\n",
       "  </tbody>\n",
       "</table>\n",
       "</div>"
      ],
      "text/plain": [
       "                   away_team  away_SoT_%_before  away_SoT_%_after  changes  \\\n",
       "0          Tottenham Hotspur              40.65             34.87    -5.78   \n",
       "1            West Ham United              37.73             33.06    -4.68   \n",
       "2                  Liverpool              39.90             36.62    -3.29   \n",
       "3            Manchester City              40.14             37.85    -2.30   \n",
       "4                    Arsenal              36.90             34.64    -2.26   \n",
       "5             Crystal Palace              37.69             35.48    -2.22   \n",
       "6             Leicester City              39.59             38.06    -1.53   \n",
       "7   Brighton and Hove Albion              33.80             33.08    -0.72   \n",
       "8    Wolverhampton Wanderers              32.64             32.74     0.10   \n",
       "9                Southampton              37.03             40.20     3.17   \n",
       "10         Manchester United              39.96             43.61     3.65   \n",
       "11          Newcastle United              33.48             37.22     3.74   \n",
       "12                   Chelsea              32.08             35.87     3.78   \n",
       "13                   Everton              35.13             39.46     4.34   \n",
       "14                   Burnley              30.85             35.28     4.43   \n",
       "\n",
       "    rate_of_change_%  \n",
       "0             -14.22  \n",
       "1             -12.39  \n",
       "2              -8.24  \n",
       "3              -5.72  \n",
       "4              -6.12  \n",
       "5              -5.88  \n",
       "6              -3.86  \n",
       "7              -2.12  \n",
       "8               0.31  \n",
       "9               8.56  \n",
       "10              9.14  \n",
       "11             11.17  \n",
       "12             11.79  \n",
       "13             12.35  \n",
       "14             14.37  "
      ]
     },
     "execution_count": 29,
     "metadata": {},
     "output_type": "execute_result"
    }
   ],
   "source": [
    "away_SoT= away_stats('away_SoT_%', stayed_teams)\n",
    "away_SoT"
   ]
  },
  {
   "cell_type": "markdown",
   "metadata": {},
   "source": [
    "Information obtained from home_SoT (shots on target percentage of home team) dataframe:\n",
    "- 2 teams who had the most significant changes of SoT percentage at away are Burnley and Tottenham Hotspur. Burnley SoT percentage significantly increased and Tottenham Hotspur SoT percentage significantly dropped"
   ]
  },
  {
   "cell_type": "markdown",
   "metadata": {},
   "source": [
    "##### 4. Quantity Conversion Rate"
   ]
  },
  {
   "cell_type": "markdown",
   "metadata": {},
   "source": [
    "Quantity conversion rate is goal conversion rate from all shots created (shots on target + shots off target)."
   ]
  },
  {
   "cell_type": "code",
   "execution_count": 30,
   "metadata": {},
   "outputs": [
    {
     "name": "stdout",
     "output_type": "stream",
     "text": [
      "After attendance prohibition, the average home_QuanCR rate_of_change is 16.2%.\n",
      "There are 9 clubs are positively affected, 5 negatively affected, and 1 relatively unaffected.\n"
     ]
    },
    {
     "data": {
      "text/html": [
       "<div>\n",
       "<style scoped>\n",
       "    .dataframe tbody tr th:only-of-type {\n",
       "        vertical-align: middle;\n",
       "    }\n",
       "\n",
       "    .dataframe tbody tr th {\n",
       "        vertical-align: top;\n",
       "    }\n",
       "\n",
       "    .dataframe thead th {\n",
       "        text-align: right;\n",
       "    }\n",
       "</style>\n",
       "<table border=\"1\" class=\"dataframe\">\n",
       "  <thead>\n",
       "    <tr style=\"text-align: right;\">\n",
       "      <th></th>\n",
       "      <th>home_team</th>\n",
       "      <th>home_QuanCR_before</th>\n",
       "      <th>home_QuanCR_after</th>\n",
       "      <th>changes</th>\n",
       "      <th>rate_of_change_%</th>\n",
       "    </tr>\n",
       "  </thead>\n",
       "  <tbody>\n",
       "    <tr>\n",
       "      <th>0</th>\n",
       "      <td>Liverpool</td>\n",
       "      <td>16.65</td>\n",
       "      <td>12.62</td>\n",
       "      <td>-4.03</td>\n",
       "      <td>-24.20</td>\n",
       "    </tr>\n",
       "    <tr>\n",
       "      <th>1</th>\n",
       "      <td>Wolverhampton Wanderers</td>\n",
       "      <td>12.47</td>\n",
       "      <td>8.64</td>\n",
       "      <td>-3.84</td>\n",
       "      <td>-30.77</td>\n",
       "    </tr>\n",
       "    <tr>\n",
       "      <th>2</th>\n",
       "      <td>Burnley</td>\n",
       "      <td>11.96</td>\n",
       "      <td>8.14</td>\n",
       "      <td>-3.82</td>\n",
       "      <td>-31.96</td>\n",
       "    </tr>\n",
       "    <tr>\n",
       "      <th>3</th>\n",
       "      <td>Brighton and Hove Albion</td>\n",
       "      <td>10.58</td>\n",
       "      <td>8.50</td>\n",
       "      <td>-2.08</td>\n",
       "      <td>-19.67</td>\n",
       "    </tr>\n",
       "    <tr>\n",
       "      <th>4</th>\n",
       "      <td>Arsenal</td>\n",
       "      <td>15.34</td>\n",
       "      <td>14.33</td>\n",
       "      <td>-1.01</td>\n",
       "      <td>-6.58</td>\n",
       "    </tr>\n",
       "    <tr>\n",
       "      <th>5</th>\n",
       "      <td>Chelsea</td>\n",
       "      <td>10.69</td>\n",
       "      <td>11.13</td>\n",
       "      <td>0.44</td>\n",
       "      <td>4.13</td>\n",
       "    </tr>\n",
       "    <tr>\n",
       "      <th>6</th>\n",
       "      <td>Manchester United</td>\n",
       "      <td>13.12</td>\n",
       "      <td>13.98</td>\n",
       "      <td>0.86</td>\n",
       "      <td>6.52</td>\n",
       "    </tr>\n",
       "    <tr>\n",
       "      <th>7</th>\n",
       "      <td>Leicester City</td>\n",
       "      <td>11.52</td>\n",
       "      <td>12.54</td>\n",
       "      <td>1.01</td>\n",
       "      <td>8.80</td>\n",
       "    </tr>\n",
       "    <tr>\n",
       "      <th>8</th>\n",
       "      <td>Everton</td>\n",
       "      <td>10.22</td>\n",
       "      <td>11.94</td>\n",
       "      <td>1.71</td>\n",
       "      <td>16.75</td>\n",
       "    </tr>\n",
       "    <tr>\n",
       "      <th>9</th>\n",
       "      <td>Manchester City</td>\n",
       "      <td>14.21</td>\n",
       "      <td>16.17</td>\n",
       "      <td>1.95</td>\n",
       "      <td>13.75</td>\n",
       "    </tr>\n",
       "    <tr>\n",
       "      <th>10</th>\n",
       "      <td>Southampton</td>\n",
       "      <td>10.54</td>\n",
       "      <td>12.73</td>\n",
       "      <td>2.19</td>\n",
       "      <td>20.79</td>\n",
       "    </tr>\n",
       "    <tr>\n",
       "      <th>11</th>\n",
       "      <td>Tottenham Hotspur</td>\n",
       "      <td>14.61</td>\n",
       "      <td>17.66</td>\n",
       "      <td>3.04</td>\n",
       "      <td>20.84</td>\n",
       "    </tr>\n",
       "    <tr>\n",
       "      <th>12</th>\n",
       "      <td>Newcastle United</td>\n",
       "      <td>9.47</td>\n",
       "      <td>13.46</td>\n",
       "      <td>3.99</td>\n",
       "      <td>42.12</td>\n",
       "    </tr>\n",
       "    <tr>\n",
       "      <th>13</th>\n",
       "      <td>West Ham United</td>\n",
       "      <td>12.68</td>\n",
       "      <td>17.62</td>\n",
       "      <td>4.94</td>\n",
       "      <td>38.93</td>\n",
       "    </tr>\n",
       "    <tr>\n",
       "      <th>14</th>\n",
       "      <td>Crystal Palace</td>\n",
       "      <td>6.59</td>\n",
       "      <td>18.67</td>\n",
       "      <td>12.09</td>\n",
       "      <td>183.57</td>\n",
       "    </tr>\n",
       "  </tbody>\n",
       "</table>\n",
       "</div>"
      ],
      "text/plain": [
       "                   home_team  home_QuanCR_before  home_QuanCR_after  changes  \\\n",
       "0                  Liverpool               16.65              12.62    -4.03   \n",
       "1    Wolverhampton Wanderers               12.47               8.64    -3.84   \n",
       "2                    Burnley               11.96               8.14    -3.82   \n",
       "3   Brighton and Hove Albion               10.58               8.50    -2.08   \n",
       "4                    Arsenal               15.34              14.33    -1.01   \n",
       "5                    Chelsea               10.69              11.13     0.44   \n",
       "6          Manchester United               13.12              13.98     0.86   \n",
       "7             Leicester City               11.52              12.54     1.01   \n",
       "8                    Everton               10.22              11.94     1.71   \n",
       "9            Manchester City               14.21              16.17     1.95   \n",
       "10               Southampton               10.54              12.73     2.19   \n",
       "11         Tottenham Hotspur               14.61              17.66     3.04   \n",
       "12          Newcastle United                9.47              13.46     3.99   \n",
       "13           West Ham United               12.68              17.62     4.94   \n",
       "14            Crystal Palace                6.59              18.67    12.09   \n",
       "\n",
       "    rate_of_change_%  \n",
       "0             -24.20  \n",
       "1             -30.77  \n",
       "2             -31.96  \n",
       "3             -19.67  \n",
       "4              -6.58  \n",
       "5               4.13  \n",
       "6               6.52  \n",
       "7               8.80  \n",
       "8              16.75  \n",
       "9              13.75  \n",
       "10             20.79  \n",
       "11             20.84  \n",
       "12             42.12  \n",
       "13             38.93  \n",
       "14            183.57  "
      ]
     },
     "execution_count": 30,
     "metadata": {},
     "output_type": "execute_result"
    }
   ],
   "source": [
    "home_QuanCR = home_stats('home_QuanCR', stayed_teams)\n",
    "home_QuanCR"
   ]
  },
  {
   "cell_type": "markdown",
   "metadata": {},
   "source": [
    "Information obtained from home_QuanCR (quantity conversion rate of home team) dataframe:\n",
    "\n",
    "- 9 out of 15  clubs significantly had increased quantity goal conversion rate, with average of 16.2% rate_of_change  after crowd suspension when playing at home ground.\n",
    "- Crystal Palace has the most significantly increased quantity conversion rate at home after crowd suspension (12.09%)\n",
    "- Liverpool has the most significantly dropped quantity conversion rate at home after crowd suspension (-4.03%)"
   ]
  },
  {
   "cell_type": "code",
   "execution_count": 31,
   "metadata": {},
   "outputs": [
    {
     "name": "stdout",
     "output_type": "stream",
     "text": [
      "After attendance prohibition, the average away_QuanCR rate_of_change is -1.09%.\n",
      "There are 7 clubs are positively affected, 5 negatively affected, and 3 relatively unaffected.\n"
     ]
    },
    {
     "data": {
      "text/html": [
       "<div>\n",
       "<style scoped>\n",
       "    .dataframe tbody tr th:only-of-type {\n",
       "        vertical-align: middle;\n",
       "    }\n",
       "\n",
       "    .dataframe tbody tr th {\n",
       "        vertical-align: top;\n",
       "    }\n",
       "\n",
       "    .dataframe thead th {\n",
       "        text-align: right;\n",
       "    }\n",
       "</style>\n",
       "<table border=\"1\" class=\"dataframe\">\n",
       "  <thead>\n",
       "    <tr style=\"text-align: right;\">\n",
       "      <th></th>\n",
       "      <th>away_team</th>\n",
       "      <th>away_QuanCR_before</th>\n",
       "      <th>away_QuanCR_after</th>\n",
       "      <th>changes</th>\n",
       "      <th>rate_of_change_%</th>\n",
       "    </tr>\n",
       "  </thead>\n",
       "  <tbody>\n",
       "    <tr>\n",
       "      <th>0</th>\n",
       "      <td>Burnley</td>\n",
       "      <td>16.21</td>\n",
       "      <td>9.09</td>\n",
       "      <td>-7.11</td>\n",
       "      <td>-43.88</td>\n",
       "    </tr>\n",
       "    <tr>\n",
       "      <th>1</th>\n",
       "      <td>Crystal Palace</td>\n",
       "      <td>17.15</td>\n",
       "      <td>11.49</td>\n",
       "      <td>-5.66</td>\n",
       "      <td>-32.98</td>\n",
       "    </tr>\n",
       "    <tr>\n",
       "      <th>2</th>\n",
       "      <td>Wolverhampton Wanderers</td>\n",
       "      <td>11.97</td>\n",
       "      <td>7.75</td>\n",
       "      <td>-4.22</td>\n",
       "      <td>-35.25</td>\n",
       "    </tr>\n",
       "    <tr>\n",
       "      <th>3</th>\n",
       "      <td>Arsenal</td>\n",
       "      <td>16.29</td>\n",
       "      <td>14.22</td>\n",
       "      <td>-2.08</td>\n",
       "      <td>-12.75</td>\n",
       "    </tr>\n",
       "    <tr>\n",
       "      <th>4</th>\n",
       "      <td>Liverpool</td>\n",
       "      <td>14.07</td>\n",
       "      <td>12.55</td>\n",
       "      <td>-1.51</td>\n",
       "      <td>-10.75</td>\n",
       "    </tr>\n",
       "    <tr>\n",
       "      <th>5</th>\n",
       "      <td>Chelsea</td>\n",
       "      <td>10.90</td>\n",
       "      <td>10.99</td>\n",
       "      <td>0.09</td>\n",
       "      <td>0.81</td>\n",
       "    </tr>\n",
       "    <tr>\n",
       "      <th>6</th>\n",
       "      <td>Newcastle United</td>\n",
       "      <td>10.09</td>\n",
       "      <td>10.36</td>\n",
       "      <td>0.27</td>\n",
       "      <td>2.68</td>\n",
       "    </tr>\n",
       "    <tr>\n",
       "      <th>7</th>\n",
       "      <td>Tottenham Hotspur</td>\n",
       "      <td>14.91</td>\n",
       "      <td>15.44</td>\n",
       "      <td>0.53</td>\n",
       "      <td>3.55</td>\n",
       "    </tr>\n",
       "    <tr>\n",
       "      <th>8</th>\n",
       "      <td>Brighton and Hove Albion</td>\n",
       "      <td>9.82</td>\n",
       "      <td>10.42</td>\n",
       "      <td>0.60</td>\n",
       "      <td>6.11</td>\n",
       "    </tr>\n",
       "    <tr>\n",
       "      <th>9</th>\n",
       "      <td>Leicester City</td>\n",
       "      <td>13.87</td>\n",
       "      <td>14.79</td>\n",
       "      <td>0.92</td>\n",
       "      <td>6.66</td>\n",
       "    </tr>\n",
       "    <tr>\n",
       "      <th>10</th>\n",
       "      <td>Southampton</td>\n",
       "      <td>10.14</td>\n",
       "      <td>11.13</td>\n",
       "      <td>0.99</td>\n",
       "      <td>9.80</td>\n",
       "    </tr>\n",
       "    <tr>\n",
       "      <th>11</th>\n",
       "      <td>Manchester City</td>\n",
       "      <td>13.88</td>\n",
       "      <td>15.65</td>\n",
       "      <td>1.77</td>\n",
       "      <td>12.74</td>\n",
       "    </tr>\n",
       "    <tr>\n",
       "      <th>12</th>\n",
       "      <td>West Ham United</td>\n",
       "      <td>9.65</td>\n",
       "      <td>11.47</td>\n",
       "      <td>1.82</td>\n",
       "      <td>18.87</td>\n",
       "    </tr>\n",
       "    <tr>\n",
       "      <th>13</th>\n",
       "      <td>Everton</td>\n",
       "      <td>10.49</td>\n",
       "      <td>13.05</td>\n",
       "      <td>2.55</td>\n",
       "      <td>24.35</td>\n",
       "    </tr>\n",
       "    <tr>\n",
       "      <th>14</th>\n",
       "      <td>Manchester United</td>\n",
       "      <td>11.76</td>\n",
       "      <td>15.73</td>\n",
       "      <td>3.97</td>\n",
       "      <td>33.72</td>\n",
       "    </tr>\n",
       "  </tbody>\n",
       "</table>\n",
       "</div>"
      ],
      "text/plain": [
       "                   away_team  away_QuanCR_before  away_QuanCR_after  changes  \\\n",
       "0                    Burnley               16.21               9.09    -7.11   \n",
       "1             Crystal Palace               17.15              11.49    -5.66   \n",
       "2    Wolverhampton Wanderers               11.97               7.75    -4.22   \n",
       "3                    Arsenal               16.29              14.22    -2.08   \n",
       "4                  Liverpool               14.07              12.55    -1.51   \n",
       "5                    Chelsea               10.90              10.99     0.09   \n",
       "6           Newcastle United               10.09              10.36     0.27   \n",
       "7          Tottenham Hotspur               14.91              15.44     0.53   \n",
       "8   Brighton and Hove Albion                9.82              10.42     0.60   \n",
       "9             Leicester City               13.87              14.79     0.92   \n",
       "10               Southampton               10.14              11.13     0.99   \n",
       "11           Manchester City               13.88              15.65     1.77   \n",
       "12           West Ham United                9.65              11.47     1.82   \n",
       "13                   Everton               10.49              13.05     2.55   \n",
       "14         Manchester United               11.76              15.73     3.97   \n",
       "\n",
       "    rate_of_change_%  \n",
       "0             -43.88  \n",
       "1             -32.98  \n",
       "2             -35.25  \n",
       "3             -12.75  \n",
       "4             -10.75  \n",
       "5               0.81  \n",
       "6               2.68  \n",
       "7               3.55  \n",
       "8               6.11  \n",
       "9               6.66  \n",
       "10              9.80  \n",
       "11             12.74  \n",
       "12             18.87  \n",
       "13             24.35  \n",
       "14             33.72  "
      ]
     },
     "execution_count": 31,
     "metadata": {},
     "output_type": "execute_result"
    }
   ],
   "source": [
    "away_QuanCR = away_stats('away_QuanCR', stayed_teams)\n",
    "away_QuanCR"
   ]
  },
  {
   "cell_type": "markdown",
   "metadata": {},
   "source": [
    "Information obtained from away_QuanCR (quantity conversion rate of away team) dataframe:\n",
    "- Manchester United has the most significantly increased quantity conversion rate at away after crowd suspension\n",
    "- Burnley has the most significantly dropped quantity conversion rate at home after crowd suspension"
   ]
  },
  {
   "cell_type": "markdown",
   "metadata": {},
   "source": [
    "##### 5. Quality Conversion Rate"
   ]
  },
  {
   "cell_type": "markdown",
   "metadata": {},
   "source": [
    "Quality conversion rate is goal conversion rate from shots on target (excluding shots off target)."
   ]
  },
  {
   "cell_type": "code",
   "execution_count": 32,
   "metadata": {},
   "outputs": [
    {
     "name": "stdout",
     "output_type": "stream",
     "text": [
      "After attendance prohibition, the average home_QualCR rate_of_change is 0.63%.\n",
      "There are 7 clubs are positively affected, 6 negatively affected, and 2 relatively unaffected.\n"
     ]
    },
    {
     "data": {
      "text/html": [
       "<div>\n",
       "<style scoped>\n",
       "    .dataframe tbody tr th:only-of-type {\n",
       "        vertical-align: middle;\n",
       "    }\n",
       "\n",
       "    .dataframe tbody tr th {\n",
       "        vertical-align: top;\n",
       "    }\n",
       "\n",
       "    .dataframe thead th {\n",
       "        text-align: right;\n",
       "    }\n",
       "</style>\n",
       "<table border=\"1\" class=\"dataframe\">\n",
       "  <thead>\n",
       "    <tr style=\"text-align: right;\">\n",
       "      <th></th>\n",
       "      <th>home_team</th>\n",
       "      <th>home_QualCR_before</th>\n",
       "      <th>home_QualCR_after</th>\n",
       "      <th>changes</th>\n",
       "      <th>rate_of_change_%</th>\n",
       "    </tr>\n",
       "  </thead>\n",
       "  <tbody>\n",
       "    <tr>\n",
       "      <th>0</th>\n",
       "      <td>Burnley</td>\n",
       "      <td>39.20</td>\n",
       "      <td>23.34</td>\n",
       "      <td>-15.85</td>\n",
       "      <td>-40.45</td>\n",
       "    </tr>\n",
       "    <tr>\n",
       "      <th>1</th>\n",
       "      <td>Liverpool</td>\n",
       "      <td>43.14</td>\n",
       "      <td>29.11</td>\n",
       "      <td>-14.03</td>\n",
       "      <td>-32.53</td>\n",
       "    </tr>\n",
       "    <tr>\n",
       "      <th>2</th>\n",
       "      <td>Wolverhampton Wanderers</td>\n",
       "      <td>38.27</td>\n",
       "      <td>27.72</td>\n",
       "      <td>-10.55</td>\n",
       "      <td>-27.56</td>\n",
       "    </tr>\n",
       "    <tr>\n",
       "      <th>3</th>\n",
       "      <td>Arsenal</td>\n",
       "      <td>42.15</td>\n",
       "      <td>32.54</td>\n",
       "      <td>-9.62</td>\n",
       "      <td>-22.81</td>\n",
       "    </tr>\n",
       "    <tr>\n",
       "      <th>4</th>\n",
       "      <td>Brighton and Hove Albion</td>\n",
       "      <td>32.88</td>\n",
       "      <td>26.25</td>\n",
       "      <td>-6.63</td>\n",
       "      <td>-20.16</td>\n",
       "    </tr>\n",
       "    <tr>\n",
       "      <th>5</th>\n",
       "      <td>Chelsea</td>\n",
       "      <td>32.38</td>\n",
       "      <td>27.25</td>\n",
       "      <td>-5.13</td>\n",
       "      <td>-15.84</td>\n",
       "    </tr>\n",
       "    <tr>\n",
       "      <th>6</th>\n",
       "      <td>Southampton</td>\n",
       "      <td>30.21</td>\n",
       "      <td>30.14</td>\n",
       "      <td>-0.07</td>\n",
       "      <td>-0.22</td>\n",
       "    </tr>\n",
       "    <tr>\n",
       "      <th>7</th>\n",
       "      <td>Leicester City</td>\n",
       "      <td>31.82</td>\n",
       "      <td>32.37</td>\n",
       "      <td>0.55</td>\n",
       "      <td>1.72</td>\n",
       "    </tr>\n",
       "    <tr>\n",
       "      <th>8</th>\n",
       "      <td>Newcastle United</td>\n",
       "      <td>29.05</td>\n",
       "      <td>30.61</td>\n",
       "      <td>1.56</td>\n",
       "      <td>5.35</td>\n",
       "    </tr>\n",
       "    <tr>\n",
       "      <th>9</th>\n",
       "      <td>Manchester City</td>\n",
       "      <td>38.18</td>\n",
       "      <td>40.66</td>\n",
       "      <td>2.48</td>\n",
       "      <td>6.49</td>\n",
       "    </tr>\n",
       "    <tr>\n",
       "      <th>10</th>\n",
       "      <td>Tottenham Hotspur</td>\n",
       "      <td>37.67</td>\n",
       "      <td>41.83</td>\n",
       "      <td>4.16</td>\n",
       "      <td>11.05</td>\n",
       "    </tr>\n",
       "    <tr>\n",
       "      <th>11</th>\n",
       "      <td>Manchester United</td>\n",
       "      <td>27.96</td>\n",
       "      <td>35.87</td>\n",
       "      <td>7.92</td>\n",
       "      <td>28.32</td>\n",
       "    </tr>\n",
       "    <tr>\n",
       "      <th>12</th>\n",
       "      <td>Everton</td>\n",
       "      <td>31.84</td>\n",
       "      <td>40.60</td>\n",
       "      <td>8.76</td>\n",
       "      <td>27.51</td>\n",
       "    </tr>\n",
       "    <tr>\n",
       "      <th>13</th>\n",
       "      <td>West Ham United</td>\n",
       "      <td>31.87</td>\n",
       "      <td>41.57</td>\n",
       "      <td>9.69</td>\n",
       "      <td>30.42</td>\n",
       "    </tr>\n",
       "    <tr>\n",
       "      <th>14</th>\n",
       "      <td>Crystal Palace</td>\n",
       "      <td>23.80</td>\n",
       "      <td>37.64</td>\n",
       "      <td>13.85</td>\n",
       "      <td>58.18</td>\n",
       "    </tr>\n",
       "  </tbody>\n",
       "</table>\n",
       "</div>"
      ],
      "text/plain": [
       "                   home_team  home_QualCR_before  home_QualCR_after  changes  \\\n",
       "0                    Burnley               39.20              23.34   -15.85   \n",
       "1                  Liverpool               43.14              29.11   -14.03   \n",
       "2    Wolverhampton Wanderers               38.27              27.72   -10.55   \n",
       "3                    Arsenal               42.15              32.54    -9.62   \n",
       "4   Brighton and Hove Albion               32.88              26.25    -6.63   \n",
       "5                    Chelsea               32.38              27.25    -5.13   \n",
       "6                Southampton               30.21              30.14    -0.07   \n",
       "7             Leicester City               31.82              32.37     0.55   \n",
       "8           Newcastle United               29.05              30.61     1.56   \n",
       "9            Manchester City               38.18              40.66     2.48   \n",
       "10         Tottenham Hotspur               37.67              41.83     4.16   \n",
       "11         Manchester United               27.96              35.87     7.92   \n",
       "12                   Everton               31.84              40.60     8.76   \n",
       "13           West Ham United               31.87              41.57     9.69   \n",
       "14            Crystal Palace               23.80              37.64    13.85   \n",
       "\n",
       "    rate_of_change_%  \n",
       "0             -40.45  \n",
       "1             -32.53  \n",
       "2             -27.56  \n",
       "3             -22.81  \n",
       "4             -20.16  \n",
       "5             -15.84  \n",
       "6              -0.22  \n",
       "7               1.72  \n",
       "8               5.35  \n",
       "9               6.49  \n",
       "10             11.05  \n",
       "11             28.32  \n",
       "12             27.51  \n",
       "13             30.42  \n",
       "14             58.18  "
      ]
     },
     "execution_count": 32,
     "metadata": {},
     "output_type": "execute_result"
    }
   ],
   "source": [
    "home_QualCR = home_stats('home_QualCR', stayed_teams)\n",
    "home_QualCR "
   ]
  },
  {
   "cell_type": "markdown",
   "metadata": {},
   "source": [
    "Information obtained from home_QualCR (quality conversion rate of home team) dataframe:\n",
    "- Crystal Palace has the most significantly increased quality conversion rate at home after crowd suspension \n",
    "- Burnley and Liverpool have the most significantly dropped quality conversion rate at home after crowd suspension "
   ]
  },
  {
   "cell_type": "code",
   "execution_count": 33,
   "metadata": {},
   "outputs": [
    {
     "name": "stdout",
     "output_type": "stream",
     "text": [
      "After attendance prohibition, the average away_QualCR rate_of_change is 0.84%.\n",
      "There are 7 clubs are positively affected, 6 negatively affected, and 2 relatively unaffected.\n"
     ]
    },
    {
     "data": {
      "text/html": [
       "<div>\n",
       "<style scoped>\n",
       "    .dataframe tbody tr th:only-of-type {\n",
       "        vertical-align: middle;\n",
       "    }\n",
       "\n",
       "    .dataframe tbody tr th {\n",
       "        vertical-align: top;\n",
       "    }\n",
       "\n",
       "    .dataframe thead th {\n",
       "        text-align: right;\n",
       "    }\n",
       "</style>\n",
       "<table border=\"1\" class=\"dataframe\">\n",
       "  <thead>\n",
       "    <tr style=\"text-align: right;\">\n",
       "      <th></th>\n",
       "      <th>away_team</th>\n",
       "      <th>away_QualCR_before</th>\n",
       "      <th>away_QualCR_after</th>\n",
       "      <th>changes</th>\n",
       "      <th>rate_of_change_%</th>\n",
       "    </tr>\n",
       "  </thead>\n",
       "  <tbody>\n",
       "    <tr>\n",
       "      <th>0</th>\n",
       "      <td>Burnley</td>\n",
       "      <td>37.83</td>\n",
       "      <td>23.28</td>\n",
       "      <td>-14.54</td>\n",
       "      <td>-38.45</td>\n",
       "    </tr>\n",
       "    <tr>\n",
       "      <th>1</th>\n",
       "      <td>Crystal Palace</td>\n",
       "      <td>42.34</td>\n",
       "      <td>28.53</td>\n",
       "      <td>-13.81</td>\n",
       "      <td>-32.62</td>\n",
       "    </tr>\n",
       "    <tr>\n",
       "      <th>2</th>\n",
       "      <td>Wolverhampton Wanderers</td>\n",
       "      <td>32.07</td>\n",
       "      <td>23.06</td>\n",
       "      <td>-9.02</td>\n",
       "      <td>-28.11</td>\n",
       "    </tr>\n",
       "    <tr>\n",
       "      <th>3</th>\n",
       "      <td>Arsenal</td>\n",
       "      <td>40.90</td>\n",
       "      <td>34.65</td>\n",
       "      <td>-6.26</td>\n",
       "      <td>-15.30</td>\n",
       "    </tr>\n",
       "    <tr>\n",
       "      <th>4</th>\n",
       "      <td>Chelsea</td>\n",
       "      <td>35.21</td>\n",
       "      <td>30.73</td>\n",
       "      <td>-4.48</td>\n",
       "      <td>-12.72</td>\n",
       "    </tr>\n",
       "    <tr>\n",
       "      <th>5</th>\n",
       "      <td>Liverpool</td>\n",
       "      <td>34.80</td>\n",
       "      <td>32.88</td>\n",
       "      <td>-1.92</td>\n",
       "      <td>-5.51</td>\n",
       "    </tr>\n",
       "    <tr>\n",
       "      <th>6</th>\n",
       "      <td>Newcastle United</td>\n",
       "      <td>30.13</td>\n",
       "      <td>29.38</td>\n",
       "      <td>-0.75</td>\n",
       "      <td>-2.48</td>\n",
       "    </tr>\n",
       "    <tr>\n",
       "      <th>7</th>\n",
       "      <td>Leicester City</td>\n",
       "      <td>34.25</td>\n",
       "      <td>35.37</td>\n",
       "      <td>1.12</td>\n",
       "      <td>3.28</td>\n",
       "    </tr>\n",
       "    <tr>\n",
       "      <th>8</th>\n",
       "      <td>Everton</td>\n",
       "      <td>28.04</td>\n",
       "      <td>29.83</td>\n",
       "      <td>1.80</td>\n",
       "      <td>6.40</td>\n",
       "    </tr>\n",
       "    <tr>\n",
       "      <th>9</th>\n",
       "      <td>Southampton</td>\n",
       "      <td>25.36</td>\n",
       "      <td>28.67</td>\n",
       "      <td>3.31</td>\n",
       "      <td>13.07</td>\n",
       "    </tr>\n",
       "    <tr>\n",
       "      <th>10</th>\n",
       "      <td>Manchester United</td>\n",
       "      <td>29.93</td>\n",
       "      <td>34.70</td>\n",
       "      <td>4.77</td>\n",
       "      <td>15.95</td>\n",
       "    </tr>\n",
       "    <tr>\n",
       "      <th>11</th>\n",
       "      <td>Tottenham Hotspur</td>\n",
       "      <td>36.28</td>\n",
       "      <td>41.16</td>\n",
       "      <td>4.88</td>\n",
       "      <td>13.45</td>\n",
       "    </tr>\n",
       "    <tr>\n",
       "      <th>12</th>\n",
       "      <td>Brighton and Hove Albion</td>\n",
       "      <td>22.79</td>\n",
       "      <td>30.07</td>\n",
       "      <td>7.29</td>\n",
       "      <td>31.98</td>\n",
       "    </tr>\n",
       "    <tr>\n",
       "      <th>13</th>\n",
       "      <td>Manchester City</td>\n",
       "      <td>32.87</td>\n",
       "      <td>40.71</td>\n",
       "      <td>7.84</td>\n",
       "      <td>23.86</td>\n",
       "    </tr>\n",
       "    <tr>\n",
       "      <th>14</th>\n",
       "      <td>West Ham United</td>\n",
       "      <td>21.63</td>\n",
       "      <td>30.23</td>\n",
       "      <td>8.60</td>\n",
       "      <td>39.75</td>\n",
       "    </tr>\n",
       "  </tbody>\n",
       "</table>\n",
       "</div>"
      ],
      "text/plain": [
       "                   away_team  away_QualCR_before  away_QualCR_after  changes  \\\n",
       "0                    Burnley               37.83              23.28   -14.54   \n",
       "1             Crystal Palace               42.34              28.53   -13.81   \n",
       "2    Wolverhampton Wanderers               32.07              23.06    -9.02   \n",
       "3                    Arsenal               40.90              34.65    -6.26   \n",
       "4                    Chelsea               35.21              30.73    -4.48   \n",
       "5                  Liverpool               34.80              32.88    -1.92   \n",
       "6           Newcastle United               30.13              29.38    -0.75   \n",
       "7             Leicester City               34.25              35.37     1.12   \n",
       "8                    Everton               28.04              29.83     1.80   \n",
       "9                Southampton               25.36              28.67     3.31   \n",
       "10         Manchester United               29.93              34.70     4.77   \n",
       "11         Tottenham Hotspur               36.28              41.16     4.88   \n",
       "12  Brighton and Hove Albion               22.79              30.07     7.29   \n",
       "13           Manchester City               32.87              40.71     7.84   \n",
       "14           West Ham United               21.63              30.23     8.60   \n",
       "\n",
       "    rate_of_change_%  \n",
       "0             -38.45  \n",
       "1             -32.62  \n",
       "2             -28.11  \n",
       "3             -15.30  \n",
       "4             -12.72  \n",
       "5              -5.51  \n",
       "6              -2.48  \n",
       "7               3.28  \n",
       "8               6.40  \n",
       "9              13.07  \n",
       "10             15.95  \n",
       "11             13.45  \n",
       "12             31.98  \n",
       "13             23.86  \n",
       "14             39.75  "
      ]
     },
     "execution_count": 33,
     "metadata": {},
     "output_type": "execute_result"
    }
   ],
   "source": [
    "away_QualCR = away_stats('away_QualCR', stayed_teams)\n",
    "away_QualCR"
   ]
  },
  {
   "cell_type": "markdown",
   "metadata": {},
   "source": [
    "Information obtained from home_QualCR (quality conversion rate of home team) dataframe:\n",
    "- West Ham has the most significantly increased quality conversion rate at away after crowd suspension \n",
    "- Burnley and Crystal Palace have the most significantly dropped quality conversion rate at away after crowd suspension "
   ]
  },
  {
   "cell_type": "markdown",
   "metadata": {},
   "source": [
    "##### 6. Possession"
   ]
  },
  {
   "cell_type": "code",
   "execution_count": 34,
   "metadata": {},
   "outputs": [
    {
     "name": "stdout",
     "output_type": "stream",
     "text": [
      "After attendance prohibition, the average home_possession_% rate_of_change is -0.95%.\n",
      "There are 7 clubs are relatively unaffected, 5 negatively affected, and 3 positively affected.\n"
     ]
    },
    {
     "data": {
      "text/html": [
       "<div>\n",
       "<style scoped>\n",
       "    .dataframe tbody tr th:only-of-type {\n",
       "        vertical-align: middle;\n",
       "    }\n",
       "\n",
       "    .dataframe tbody tr th {\n",
       "        vertical-align: top;\n",
       "    }\n",
       "\n",
       "    .dataframe thead th {\n",
       "        text-align: right;\n",
       "    }\n",
       "</style>\n",
       "<table border=\"1\" class=\"dataframe\">\n",
       "  <thead>\n",
       "    <tr style=\"text-align: right;\">\n",
       "      <th></th>\n",
       "      <th>home_team</th>\n",
       "      <th>home_possession_%_before</th>\n",
       "      <th>home_possession_%_after</th>\n",
       "      <th>changes</th>\n",
       "      <th>rate_of_change_%</th>\n",
       "    </tr>\n",
       "  </thead>\n",
       "  <tbody>\n",
       "    <tr>\n",
       "      <th>0</th>\n",
       "      <td>Tottenham Hotspur</td>\n",
       "      <td>58.73</td>\n",
       "      <td>50.82</td>\n",
       "      <td>-7.91</td>\n",
       "      <td>-13.47</td>\n",
       "    </tr>\n",
       "    <tr>\n",
       "      <th>1</th>\n",
       "      <td>Arsenal</td>\n",
       "      <td>59.00</td>\n",
       "      <td>52.74</td>\n",
       "      <td>-6.26</td>\n",
       "      <td>-10.60</td>\n",
       "    </tr>\n",
       "    <tr>\n",
       "      <th>2</th>\n",
       "      <td>Everton</td>\n",
       "      <td>52.55</td>\n",
       "      <td>47.93</td>\n",
       "      <td>-4.63</td>\n",
       "      <td>-8.80</td>\n",
       "    </tr>\n",
       "    <tr>\n",
       "      <th>3</th>\n",
       "      <td>Crystal Palace</td>\n",
       "      <td>45.98</td>\n",
       "      <td>41.80</td>\n",
       "      <td>-4.18</td>\n",
       "      <td>-9.09</td>\n",
       "    </tr>\n",
       "    <tr>\n",
       "      <th>4</th>\n",
       "      <td>West Ham United</td>\n",
       "      <td>47.63</td>\n",
       "      <td>43.60</td>\n",
       "      <td>-4.03</td>\n",
       "      <td>-8.45</td>\n",
       "    </tr>\n",
       "    <tr>\n",
       "      <th>5</th>\n",
       "      <td>Chelsea</td>\n",
       "      <td>62.71</td>\n",
       "      <td>60.49</td>\n",
       "      <td>-2.21</td>\n",
       "      <td>-3.53</td>\n",
       "    </tr>\n",
       "    <tr>\n",
       "      <th>6</th>\n",
       "      <td>Manchester City</td>\n",
       "      <td>67.76</td>\n",
       "      <td>66.72</td>\n",
       "      <td>-1.04</td>\n",
       "      <td>-1.54</td>\n",
       "    </tr>\n",
       "    <tr>\n",
       "      <th>7</th>\n",
       "      <td>Leicester City</td>\n",
       "      <td>55.70</td>\n",
       "      <td>55.65</td>\n",
       "      <td>-0.04</td>\n",
       "      <td>-0.08</td>\n",
       "    </tr>\n",
       "    <tr>\n",
       "      <th>8</th>\n",
       "      <td>Newcastle United</td>\n",
       "      <td>41.60</td>\n",
       "      <td>41.93</td>\n",
       "      <td>0.33</td>\n",
       "      <td>0.80</td>\n",
       "    </tr>\n",
       "    <tr>\n",
       "      <th>9</th>\n",
       "      <td>Brighton and Hove Albion</td>\n",
       "      <td>49.81</td>\n",
       "      <td>51.43</td>\n",
       "      <td>1.61</td>\n",
       "      <td>3.24</td>\n",
       "    </tr>\n",
       "    <tr>\n",
       "      <th>10</th>\n",
       "      <td>Liverpool</td>\n",
       "      <td>62.85</td>\n",
       "      <td>64.78</td>\n",
       "      <td>1.93</td>\n",
       "      <td>3.06</td>\n",
       "    </tr>\n",
       "    <tr>\n",
       "      <th>11</th>\n",
       "      <td>Burnley</td>\n",
       "      <td>42.55</td>\n",
       "      <td>44.67</td>\n",
       "      <td>2.12</td>\n",
       "      <td>4.98</td>\n",
       "    </tr>\n",
       "    <tr>\n",
       "      <th>12</th>\n",
       "      <td>Manchester United</td>\n",
       "      <td>55.76</td>\n",
       "      <td>58.85</td>\n",
       "      <td>3.09</td>\n",
       "      <td>5.54</td>\n",
       "    </tr>\n",
       "    <tr>\n",
       "      <th>13</th>\n",
       "      <td>Wolverhampton Wanderers</td>\n",
       "      <td>48.48</td>\n",
       "      <td>52.39</td>\n",
       "      <td>3.91</td>\n",
       "      <td>8.07</td>\n",
       "    </tr>\n",
       "    <tr>\n",
       "      <th>14</th>\n",
       "      <td>Southampton</td>\n",
       "      <td>45.49</td>\n",
       "      <td>52.62</td>\n",
       "      <td>7.13</td>\n",
       "      <td>15.67</td>\n",
       "    </tr>\n",
       "  </tbody>\n",
       "</table>\n",
       "</div>"
      ],
      "text/plain": [
       "                   home_team  home_possession_%_before  \\\n",
       "0          Tottenham Hotspur                     58.73   \n",
       "1                    Arsenal                     59.00   \n",
       "2                    Everton                     52.55   \n",
       "3             Crystal Palace                     45.98   \n",
       "4            West Ham United                     47.63   \n",
       "5                    Chelsea                     62.71   \n",
       "6            Manchester City                     67.76   \n",
       "7             Leicester City                     55.70   \n",
       "8           Newcastle United                     41.60   \n",
       "9   Brighton and Hove Albion                     49.81   \n",
       "10                 Liverpool                     62.85   \n",
       "11                   Burnley                     42.55   \n",
       "12         Manchester United                     55.76   \n",
       "13   Wolverhampton Wanderers                     48.48   \n",
       "14               Southampton                     45.49   \n",
       "\n",
       "    home_possession_%_after  changes  rate_of_change_%  \n",
       "0                     50.82    -7.91            -13.47  \n",
       "1                     52.74    -6.26            -10.60  \n",
       "2                     47.93    -4.63             -8.80  \n",
       "3                     41.80    -4.18             -9.09  \n",
       "4                     43.60    -4.03             -8.45  \n",
       "5                     60.49    -2.21             -3.53  \n",
       "6                     66.72    -1.04             -1.54  \n",
       "7                     55.65    -0.04             -0.08  \n",
       "8                     41.93     0.33              0.80  \n",
       "9                     51.43     1.61              3.24  \n",
       "10                    64.78     1.93              3.06  \n",
       "11                    44.67     2.12              4.98  \n",
       "12                    58.85     3.09              5.54  \n",
       "13                    52.39     3.91              8.07  \n",
       "14                    52.62     7.13             15.67  "
      ]
     },
     "execution_count": 34,
     "metadata": {},
     "output_type": "execute_result"
    }
   ],
   "source": [
    "home_poss = home_stats('home_possession_%', stayed_teams)\n",
    "home_poss"
   ]
  },
  {
   "cell_type": "code",
   "execution_count": 35,
   "metadata": {},
   "outputs": [
    {
     "name": "stdout",
     "output_type": "stream",
     "text": [
      "After attendance prohibition, the average away_possession_% rate_of_change is 0.43%.\n",
      "There are 7 clubs are relatively unaffected, 4 negatively affected, and 4 positively affected.\n"
     ]
    },
    {
     "data": {
      "text/html": [
       "<div>\n",
       "<style scoped>\n",
       "    .dataframe tbody tr th:only-of-type {\n",
       "        vertical-align: middle;\n",
       "    }\n",
       "\n",
       "    .dataframe tbody tr th {\n",
       "        vertical-align: top;\n",
       "    }\n",
       "\n",
       "    .dataframe thead th {\n",
       "        text-align: right;\n",
       "    }\n",
       "</style>\n",
       "<table border=\"1\" class=\"dataframe\">\n",
       "  <thead>\n",
       "    <tr style=\"text-align: right;\">\n",
       "      <th></th>\n",
       "      <th>away_team</th>\n",
       "      <th>away_possession_%_before</th>\n",
       "      <th>away_possession_%_after</th>\n",
       "      <th>changes</th>\n",
       "      <th>rate_of_change_%</th>\n",
       "    </tr>\n",
       "  </thead>\n",
       "  <tbody>\n",
       "    <tr>\n",
       "      <th>0</th>\n",
       "      <td>Everton</td>\n",
       "      <td>49.26</td>\n",
       "      <td>45.14</td>\n",
       "      <td>-4.12</td>\n",
       "      <td>-8.37</td>\n",
       "    </tr>\n",
       "    <tr>\n",
       "      <th>1</th>\n",
       "      <td>Manchester City</td>\n",
       "      <td>66.74</td>\n",
       "      <td>62.74</td>\n",
       "      <td>-4.00</td>\n",
       "      <td>-6.00</td>\n",
       "    </tr>\n",
       "    <tr>\n",
       "      <th>2</th>\n",
       "      <td>West Ham United</td>\n",
       "      <td>45.55</td>\n",
       "      <td>42.45</td>\n",
       "      <td>-3.10</td>\n",
       "      <td>-6.81</td>\n",
       "    </tr>\n",
       "    <tr>\n",
       "      <th>3</th>\n",
       "      <td>Crystal Palace</td>\n",
       "      <td>43.43</td>\n",
       "      <td>40.45</td>\n",
       "      <td>-2.98</td>\n",
       "      <td>-6.86</td>\n",
       "    </tr>\n",
       "    <tr>\n",
       "      <th>4</th>\n",
       "      <td>Arsenal</td>\n",
       "      <td>55.41</td>\n",
       "      <td>52.71</td>\n",
       "      <td>-2.69</td>\n",
       "      <td>-4.86</td>\n",
       "    </tr>\n",
       "    <tr>\n",
       "      <th>5</th>\n",
       "      <td>Tottenham Hotspur</td>\n",
       "      <td>54.25</td>\n",
       "      <td>51.94</td>\n",
       "      <td>-2.31</td>\n",
       "      <td>-4.26</td>\n",
       "    </tr>\n",
       "    <tr>\n",
       "      <th>6</th>\n",
       "      <td>Liverpool</td>\n",
       "      <td>62.07</td>\n",
       "      <td>61.16</td>\n",
       "      <td>-0.91</td>\n",
       "      <td>-1.46</td>\n",
       "    </tr>\n",
       "    <tr>\n",
       "      <th>7</th>\n",
       "      <td>Brighton and Hove Albion</td>\n",
       "      <td>46.15</td>\n",
       "      <td>46.90</td>\n",
       "      <td>0.75</td>\n",
       "      <td>1.62</td>\n",
       "    </tr>\n",
       "    <tr>\n",
       "      <th>8</th>\n",
       "      <td>Newcastle United</td>\n",
       "      <td>35.99</td>\n",
       "      <td>36.77</td>\n",
       "      <td>0.78</td>\n",
       "      <td>2.18</td>\n",
       "    </tr>\n",
       "    <tr>\n",
       "      <th>9</th>\n",
       "      <td>Manchester United</td>\n",
       "      <td>53.54</td>\n",
       "      <td>54.75</td>\n",
       "      <td>1.22</td>\n",
       "      <td>2.27</td>\n",
       "    </tr>\n",
       "    <tr>\n",
       "      <th>10</th>\n",
       "      <td>Chelsea</td>\n",
       "      <td>61.21</td>\n",
       "      <td>62.85</td>\n",
       "      <td>1.64</td>\n",
       "      <td>2.67</td>\n",
       "    </tr>\n",
       "    <tr>\n",
       "      <th>11</th>\n",
       "      <td>Burnley</td>\n",
       "      <td>38.42</td>\n",
       "      <td>40.45</td>\n",
       "      <td>2.03</td>\n",
       "      <td>5.28</td>\n",
       "    </tr>\n",
       "    <tr>\n",
       "      <th>12</th>\n",
       "      <td>Wolverhampton Wanderers</td>\n",
       "      <td>45.12</td>\n",
       "      <td>47.54</td>\n",
       "      <td>2.43</td>\n",
       "      <td>5.38</td>\n",
       "    </tr>\n",
       "    <tr>\n",
       "      <th>13</th>\n",
       "      <td>Leicester City</td>\n",
       "      <td>51.19</td>\n",
       "      <td>55.57</td>\n",
       "      <td>4.37</td>\n",
       "      <td>8.54</td>\n",
       "    </tr>\n",
       "    <tr>\n",
       "      <th>14</th>\n",
       "      <td>Southampton</td>\n",
       "      <td>44.78</td>\n",
       "      <td>52.43</td>\n",
       "      <td>7.65</td>\n",
       "      <td>17.08</td>\n",
       "    </tr>\n",
       "  </tbody>\n",
       "</table>\n",
       "</div>"
      ],
      "text/plain": [
       "                   away_team  away_possession_%_before  \\\n",
       "0                    Everton                     49.26   \n",
       "1            Manchester City                     66.74   \n",
       "2            West Ham United                     45.55   \n",
       "3             Crystal Palace                     43.43   \n",
       "4                    Arsenal                     55.41   \n",
       "5          Tottenham Hotspur                     54.25   \n",
       "6                  Liverpool                     62.07   \n",
       "7   Brighton and Hove Albion                     46.15   \n",
       "8           Newcastle United                     35.99   \n",
       "9          Manchester United                     53.54   \n",
       "10                   Chelsea                     61.21   \n",
       "11                   Burnley                     38.42   \n",
       "12   Wolverhampton Wanderers                     45.12   \n",
       "13            Leicester City                     51.19   \n",
       "14               Southampton                     44.78   \n",
       "\n",
       "    away_possession_%_after  changes  rate_of_change_%  \n",
       "0                     45.14    -4.12             -8.37  \n",
       "1                     62.74    -4.00             -6.00  \n",
       "2                     42.45    -3.10             -6.81  \n",
       "3                     40.45    -2.98             -6.86  \n",
       "4                     52.71    -2.69             -4.86  \n",
       "5                     51.94    -2.31             -4.26  \n",
       "6                     61.16    -0.91             -1.46  \n",
       "7                     46.90     0.75              1.62  \n",
       "8                     36.77     0.78              2.18  \n",
       "9                     54.75     1.22              2.27  \n",
       "10                    62.85     1.64              2.67  \n",
       "11                    40.45     2.03              5.28  \n",
       "12                    47.54     2.43              5.38  \n",
       "13                    55.57     4.37              8.54  \n",
       "14                    52.43     7.65             17.08  "
      ]
     },
     "execution_count": 35,
     "metadata": {},
     "output_type": "execute_result"
    }
   ],
   "source": [
    "away_stats('away_possession_%', stayed_teams)"
   ]
  },
  {
   "cell_type": "markdown",
   "metadata": {},
   "source": [
    "Conclusions and insights from stats comparison before and after attendance prohibition:\n",
    "1. For results stats, we can conclude straight-forwardly that home result decreases and followed by increases of away result.\n",
    "2. For performance stats, in general home performance became worse in quantity but better in quality. Away performs slightly better after covid-19 while some stats relatively unaffected.\n",
    "3. Generally home stats became worse after covid-19 interruption. But interestingly, this does not translates to better away stats, which means the absence of the home crowd heavily impacted home performance but not necessarily made away team performs better.\n",
    "4. While number of home shots and shots on target have decreased, the quality of the shot increased as reflected on increased SoT%, Quan_CR and Qual_CR\n",
    "5. Attendance prohibition did not affect a lot on ball possession "
   ]
  },
  {
   "cell_type": "markdown",
   "metadata": {},
   "source": [
    "## Visualization"
   ]
  },
  {
   "cell_type": "code",
   "execution_count": 96,
   "metadata": {},
   "outputs": [],
   "source": [
    "def home_stat_viz(stat, team, summary):\n",
    "    fig = go.Figure(data=[\n",
    "        go.Bar(name= stat+' before crowd suspension', \n",
    "               x=home_stats(stat,team, summary)['home_team'], \n",
    "               y=home_stats(stat,team, summary)[stat+'_before'],\n",
    "               marker_color='mediumspringgreen',\n",
    "               text=home_stats(stat,team, summary)[stat+'_before'], \n",
    "               textposition='auto',\n",
    "               texttemplate='%{text:.3s}'),\n",
    "         go.Bar(name=stat+' after crowd suspension', \n",
    "                x=home_stats(stat,team, summary)['home_team'], \n",
    "                y=home_stats(stat,team, summary)[stat+'_after'],\n",
    "                marker_color='lightsalmon',\n",
    "                text=home_stats(stat,team, summary)[stat+'_after'],\n",
    "                textposition='auto',\n",
    "                texttemplate='%{text:.3s}')\n",
    "    ])\n",
    "    # Customize layour\n",
    "    fig.update_layout(barmode='group',\n",
    "                      title={\n",
    "                            'text': '{} of Premier League Clubs Before and After Crowd Suspension'.format(stat),\n",
    "                            'y':0.9,\n",
    "                            'x':0,\n",
    "                            'xanchor': 'left',\n",
    "                            'yanchor': 'top'},\n",
    "                      xaxis=dict(\n",
    "                                    showline=True,\n",
    "                                    showgrid=False,\n",
    "                                    showticklabels=True,\n",
    "                                    linewidth=2,\n",
    "                                    ticks='outside',\n",
    "                                    tickfont=dict(family='Arial',\n",
    "                                                  size=12\n",
    "                                    ),\n",
    "                                ),\n",
    "                        yaxis=dict(\n",
    "                                        showgrid=False,\n",
    "                                        zeroline=True,\n",
    "                                        showline=True,\n",
    "                                        showticklabels=True,\n",
    "                                    ),\n",
    "                        autosize=True,\n",
    "                        margin=dict(\n",
    "                                        autoexpand=True,\n",
    "                                        l=0,\n",
    "                                        r=0,\n",
    "                                        t=80,\n",
    "                                    ),\n",
    "                        plot_bgcolor='azure')\n",
    "    fig.show()"
   ]
  },
  {
   "cell_type": "code",
   "execution_count": 106,
   "metadata": {},
   "outputs": [],
   "source": [
    "def away_stat_viz(stat, team, summary):\n",
    "    fig = go.Figure(data=[\n",
    "        go.Bar(name= stat+' before crowd suspension', \n",
    "               x=away_stats(stat,team, summary)['away_team'], \n",
    "               y=away_stats(stat,team, summary)[stat+'_before'],\n",
    "               marker_color='mediumspringgreen',\n",
    "               text=away_stats(stat,team, summary)[stat+'_before'], \n",
    "               textposition='auto',\n",
    "               texttemplate='%{text:.3s}'),\n",
    "         go.Bar(name=stat+' after crowd suspension', \n",
    "                x=away_stats(stat,team, summary)['away_team'], \n",
    "                y=away_stats(stat,team, summary)[stat+'_after'],\n",
    "                marker_color='lightsalmon',\n",
    "                text=away_stats(stat,team, summary)[stat+'_after'],\n",
    "                textposition='auto',\n",
    "                texttemplate='%{text:.3s}')\n",
    "    ])\n",
    "    # Customize layour\n",
    "    fig.update_layout(barmode='group',\n",
    "                      title={\n",
    "                            'text': '{} of Premier League Clubs Before and After Crowd Suspension'.format(stat),\n",
    "                            'y':0.9,\n",
    "                            'x':0,\n",
    "                            'xanchor': 'left',\n",
    "                            'yanchor': 'top'},\n",
    "                      xaxis=dict(\n",
    "                                    showline=True,\n",
    "                                    showgrid=False,\n",
    "                                    showticklabels=True,\n",
    "                                    linewidth=2,\n",
    "                                    ticks='outside',\n",
    "                                    tickfont=dict(family='Arial',\n",
    "                                                  size=12\n",
    "                                    ),\n",
    "                                ),\n",
    "                        yaxis=dict(\n",
    "                                        showgrid=False,\n",
    "                                        zeroline=True,\n",
    "                                        showline=True,\n",
    "                                        showticklabels=True,\n",
    "                                    ),\n",
    "                        autosize=True,\n",
    "                        margin=dict(\n",
    "                                        autoexpand=True,\n",
    "                                        l=0,\n",
    "                                        r=0,\n",
    "                                        t=80,\n",
    "                                    ),\n",
    "                        plot_bgcolor='azure')\n",
    "    fig.show()"
   ]
  },
  {
   "cell_type": "markdown",
   "metadata": {},
   "source": [
    "### Result Stats Visualization"
   ]
  },
  {
   "cell_type": "markdown",
   "metadata": {},
   "source": [
    "#### Home Stats"
   ]
  },
  {
   "cell_type": "code",
   "execution_count": 101,
   "metadata": {},
   "outputs": [
    {
     "data": {
      "application/vnd.plotly.v1+json": {
       "config": {
        "plotlyServerURL": "https://plot.ly"
       },
       "data": [
        {
         "marker": {
          "color": "mediumspringgreen"
         },
         "name": "home_ppg before crowd suspension",
         "text": [
          2.8823529411764706,
          1.7878787878787878,
          2.088235294117647,
          1.3529411764705883,
          2.59375,
          1.393939393939394,
          1.911764705882353,
          1.2424242424242424,
          1.2352941176470589,
          1.6470588235294117,
          1.6764705882352942,
          1.9393939393939394,
          1.9411764705882353,
          1.393939393939394,
          1.088235294117647
         ],
         "textposition": "auto",
         "texttemplate": "%{text:.3s}",
         "type": "bar",
         "x": [
          "Liverpool",
          "Everton",
          "Arsenal",
          "Burnley",
          "Manchester City",
          "Newcastle United",
          "Manchester United",
          "Brighton and Hove Albion",
          "Crystal Palace",
          "Wolverhampton Wanderers",
          "Leicester City",
          "Tottenham Hotspur",
          "Chelsea",
          "West Ham United",
          "Southampton"
         ],
         "y": [
          2.8823529411764706,
          1.7878787878787878,
          2.088235294117647,
          1.3529411764705883,
          2.59375,
          1.393939393939394,
          1.911764705882353,
          1.2424242424242424,
          1.2352941176470589,
          1.6470588235294117,
          1.6764705882352942,
          1.9393939393939394,
          1.9411764705882353,
          1.393939393939394,
          1.088235294117647
         ]
        },
        {
         "marker": {
          "color": "lightsalmon"
         },
         "name": "home_ppg after crowd suspension",
         "text": [
          1.8695652173913044,
          1.1666666666666667,
          1.6521739130434783,
          1,
          2.36,
          1.1666666666666667,
          1.6956521739130435,
          1.0416666666666667,
          1.0434782608695652,
          1.4782608695652173,
          1.5217391304347827,
          1.9166666666666667,
          1.9565217391304348,
          1.7083333333333333,
          1.4782608695652173
         ],
         "textposition": "auto",
         "texttemplate": "%{text:.3s}",
         "type": "bar",
         "x": [
          "Liverpool",
          "Everton",
          "Arsenal",
          "Burnley",
          "Manchester City",
          "Newcastle United",
          "Manchester United",
          "Brighton and Hove Albion",
          "Crystal Palace",
          "Wolverhampton Wanderers",
          "Leicester City",
          "Tottenham Hotspur",
          "Chelsea",
          "West Ham United",
          "Southampton"
         ],
         "y": [
          1.8695652173913044,
          1.1666666666666667,
          1.6521739130434783,
          1,
          2.36,
          1.1666666666666667,
          1.6956521739130435,
          1.0416666666666667,
          1.0434782608695652,
          1.4782608695652173,
          1.5217391304347827,
          1.9166666666666667,
          1.9565217391304348,
          1.7083333333333333,
          1.4782608695652173
         ]
        }
       ],
       "layout": {
        "autosize": true,
        "barmode": "group",
        "margin": {
         "autoexpand": true,
         "l": 0,
         "r": 0,
         "t": 80
        },
        "plot_bgcolor": "azure",
        "template": {
         "data": {
          "bar": [
           {
            "error_x": {
             "color": "#2a3f5f"
            },
            "error_y": {
             "color": "#2a3f5f"
            },
            "marker": {
             "line": {
              "color": "#E5ECF6",
              "width": 0.5
             }
            },
            "type": "bar"
           }
          ],
          "barpolar": [
           {
            "marker": {
             "line": {
              "color": "#E5ECF6",
              "width": 0.5
             }
            },
            "type": "barpolar"
           }
          ],
          "carpet": [
           {
            "aaxis": {
             "endlinecolor": "#2a3f5f",
             "gridcolor": "white",
             "linecolor": "white",
             "minorgridcolor": "white",
             "startlinecolor": "#2a3f5f"
            },
            "baxis": {
             "endlinecolor": "#2a3f5f",
             "gridcolor": "white",
             "linecolor": "white",
             "minorgridcolor": "white",
             "startlinecolor": "#2a3f5f"
            },
            "type": "carpet"
           }
          ],
          "choropleth": [
           {
            "colorbar": {
             "outlinewidth": 0,
             "ticks": ""
            },
            "type": "choropleth"
           }
          ],
          "contour": [
           {
            "colorbar": {
             "outlinewidth": 0,
             "ticks": ""
            },
            "colorscale": [
             [
              0,
              "#0d0887"
             ],
             [
              0.1111111111111111,
              "#46039f"
             ],
             [
              0.2222222222222222,
              "#7201a8"
             ],
             [
              0.3333333333333333,
              "#9c179e"
             ],
             [
              0.4444444444444444,
              "#bd3786"
             ],
             [
              0.5555555555555556,
              "#d8576b"
             ],
             [
              0.6666666666666666,
              "#ed7953"
             ],
             [
              0.7777777777777778,
              "#fb9f3a"
             ],
             [
              0.8888888888888888,
              "#fdca26"
             ],
             [
              1,
              "#f0f921"
             ]
            ],
            "type": "contour"
           }
          ],
          "contourcarpet": [
           {
            "colorbar": {
             "outlinewidth": 0,
             "ticks": ""
            },
            "type": "contourcarpet"
           }
          ],
          "heatmap": [
           {
            "colorbar": {
             "outlinewidth": 0,
             "ticks": ""
            },
            "colorscale": [
             [
              0,
              "#0d0887"
             ],
             [
              0.1111111111111111,
              "#46039f"
             ],
             [
              0.2222222222222222,
              "#7201a8"
             ],
             [
              0.3333333333333333,
              "#9c179e"
             ],
             [
              0.4444444444444444,
              "#bd3786"
             ],
             [
              0.5555555555555556,
              "#d8576b"
             ],
             [
              0.6666666666666666,
              "#ed7953"
             ],
             [
              0.7777777777777778,
              "#fb9f3a"
             ],
             [
              0.8888888888888888,
              "#fdca26"
             ],
             [
              1,
              "#f0f921"
             ]
            ],
            "type": "heatmap"
           }
          ],
          "heatmapgl": [
           {
            "colorbar": {
             "outlinewidth": 0,
             "ticks": ""
            },
            "colorscale": [
             [
              0,
              "#0d0887"
             ],
             [
              0.1111111111111111,
              "#46039f"
             ],
             [
              0.2222222222222222,
              "#7201a8"
             ],
             [
              0.3333333333333333,
              "#9c179e"
             ],
             [
              0.4444444444444444,
              "#bd3786"
             ],
             [
              0.5555555555555556,
              "#d8576b"
             ],
             [
              0.6666666666666666,
              "#ed7953"
             ],
             [
              0.7777777777777778,
              "#fb9f3a"
             ],
             [
              0.8888888888888888,
              "#fdca26"
             ],
             [
              1,
              "#f0f921"
             ]
            ],
            "type": "heatmapgl"
           }
          ],
          "histogram": [
           {
            "marker": {
             "colorbar": {
              "outlinewidth": 0,
              "ticks": ""
             }
            },
            "type": "histogram"
           }
          ],
          "histogram2d": [
           {
            "colorbar": {
             "outlinewidth": 0,
             "ticks": ""
            },
            "colorscale": [
             [
              0,
              "#0d0887"
             ],
             [
              0.1111111111111111,
              "#46039f"
             ],
             [
              0.2222222222222222,
              "#7201a8"
             ],
             [
              0.3333333333333333,
              "#9c179e"
             ],
             [
              0.4444444444444444,
              "#bd3786"
             ],
             [
              0.5555555555555556,
              "#d8576b"
             ],
             [
              0.6666666666666666,
              "#ed7953"
             ],
             [
              0.7777777777777778,
              "#fb9f3a"
             ],
             [
              0.8888888888888888,
              "#fdca26"
             ],
             [
              1,
              "#f0f921"
             ]
            ],
            "type": "histogram2d"
           }
          ],
          "histogram2dcontour": [
           {
            "colorbar": {
             "outlinewidth": 0,
             "ticks": ""
            },
            "colorscale": [
             [
              0,
              "#0d0887"
             ],
             [
              0.1111111111111111,
              "#46039f"
             ],
             [
              0.2222222222222222,
              "#7201a8"
             ],
             [
              0.3333333333333333,
              "#9c179e"
             ],
             [
              0.4444444444444444,
              "#bd3786"
             ],
             [
              0.5555555555555556,
              "#d8576b"
             ],
             [
              0.6666666666666666,
              "#ed7953"
             ],
             [
              0.7777777777777778,
              "#fb9f3a"
             ],
             [
              0.8888888888888888,
              "#fdca26"
             ],
             [
              1,
              "#f0f921"
             ]
            ],
            "type": "histogram2dcontour"
           }
          ],
          "mesh3d": [
           {
            "colorbar": {
             "outlinewidth": 0,
             "ticks": ""
            },
            "type": "mesh3d"
           }
          ],
          "parcoords": [
           {
            "line": {
             "colorbar": {
              "outlinewidth": 0,
              "ticks": ""
             }
            },
            "type": "parcoords"
           }
          ],
          "pie": [
           {
            "automargin": true,
            "type": "pie"
           }
          ],
          "scatter": [
           {
            "marker": {
             "colorbar": {
              "outlinewidth": 0,
              "ticks": ""
             }
            },
            "type": "scatter"
           }
          ],
          "scatter3d": [
           {
            "line": {
             "colorbar": {
              "outlinewidth": 0,
              "ticks": ""
             }
            },
            "marker": {
             "colorbar": {
              "outlinewidth": 0,
              "ticks": ""
             }
            },
            "type": "scatter3d"
           }
          ],
          "scattercarpet": [
           {
            "marker": {
             "colorbar": {
              "outlinewidth": 0,
              "ticks": ""
             }
            },
            "type": "scattercarpet"
           }
          ],
          "scattergeo": [
           {
            "marker": {
             "colorbar": {
              "outlinewidth": 0,
              "ticks": ""
             }
            },
            "type": "scattergeo"
           }
          ],
          "scattergl": [
           {
            "marker": {
             "colorbar": {
              "outlinewidth": 0,
              "ticks": ""
             }
            },
            "type": "scattergl"
           }
          ],
          "scattermapbox": [
           {
            "marker": {
             "colorbar": {
              "outlinewidth": 0,
              "ticks": ""
             }
            },
            "type": "scattermapbox"
           }
          ],
          "scatterpolar": [
           {
            "marker": {
             "colorbar": {
              "outlinewidth": 0,
              "ticks": ""
             }
            },
            "type": "scatterpolar"
           }
          ],
          "scatterpolargl": [
           {
            "marker": {
             "colorbar": {
              "outlinewidth": 0,
              "ticks": ""
             }
            },
            "type": "scatterpolargl"
           }
          ],
          "scatterternary": [
           {
            "marker": {
             "colorbar": {
              "outlinewidth": 0,
              "ticks": ""
             }
            },
            "type": "scatterternary"
           }
          ],
          "surface": [
           {
            "colorbar": {
             "outlinewidth": 0,
             "ticks": ""
            },
            "colorscale": [
             [
              0,
              "#0d0887"
             ],
             [
              0.1111111111111111,
              "#46039f"
             ],
             [
              0.2222222222222222,
              "#7201a8"
             ],
             [
              0.3333333333333333,
              "#9c179e"
             ],
             [
              0.4444444444444444,
              "#bd3786"
             ],
             [
              0.5555555555555556,
              "#d8576b"
             ],
             [
              0.6666666666666666,
              "#ed7953"
             ],
             [
              0.7777777777777778,
              "#fb9f3a"
             ],
             [
              0.8888888888888888,
              "#fdca26"
             ],
             [
              1,
              "#f0f921"
             ]
            ],
            "type": "surface"
           }
          ],
          "table": [
           {
            "cells": {
             "fill": {
              "color": "#EBF0F8"
             },
             "line": {
              "color": "white"
             }
            },
            "header": {
             "fill": {
              "color": "#C8D4E3"
             },
             "line": {
              "color": "white"
             }
            },
            "type": "table"
           }
          ]
         },
         "layout": {
          "annotationdefaults": {
           "arrowcolor": "#2a3f5f",
           "arrowhead": 0,
           "arrowwidth": 1
          },
          "autotypenumbers": "strict",
          "coloraxis": {
           "colorbar": {
            "outlinewidth": 0,
            "ticks": ""
           }
          },
          "colorscale": {
           "diverging": [
            [
             0,
             "#8e0152"
            ],
            [
             0.1,
             "#c51b7d"
            ],
            [
             0.2,
             "#de77ae"
            ],
            [
             0.3,
             "#f1b6da"
            ],
            [
             0.4,
             "#fde0ef"
            ],
            [
             0.5,
             "#f7f7f7"
            ],
            [
             0.6,
             "#e6f5d0"
            ],
            [
             0.7,
             "#b8e186"
            ],
            [
             0.8,
             "#7fbc41"
            ],
            [
             0.9,
             "#4d9221"
            ],
            [
             1,
             "#276419"
            ]
           ],
           "sequential": [
            [
             0,
             "#0d0887"
            ],
            [
             0.1111111111111111,
             "#46039f"
            ],
            [
             0.2222222222222222,
             "#7201a8"
            ],
            [
             0.3333333333333333,
             "#9c179e"
            ],
            [
             0.4444444444444444,
             "#bd3786"
            ],
            [
             0.5555555555555556,
             "#d8576b"
            ],
            [
             0.6666666666666666,
             "#ed7953"
            ],
            [
             0.7777777777777778,
             "#fb9f3a"
            ],
            [
             0.8888888888888888,
             "#fdca26"
            ],
            [
             1,
             "#f0f921"
            ]
           ],
           "sequentialminus": [
            [
             0,
             "#0d0887"
            ],
            [
             0.1111111111111111,
             "#46039f"
            ],
            [
             0.2222222222222222,
             "#7201a8"
            ],
            [
             0.3333333333333333,
             "#9c179e"
            ],
            [
             0.4444444444444444,
             "#bd3786"
            ],
            [
             0.5555555555555556,
             "#d8576b"
            ],
            [
             0.6666666666666666,
             "#ed7953"
            ],
            [
             0.7777777777777778,
             "#fb9f3a"
            ],
            [
             0.8888888888888888,
             "#fdca26"
            ],
            [
             1,
             "#f0f921"
            ]
           ]
          },
          "colorway": [
           "#636efa",
           "#EF553B",
           "#00cc96",
           "#ab63fa",
           "#FFA15A",
           "#19d3f3",
           "#FF6692",
           "#B6E880",
           "#FF97FF",
           "#FECB52"
          ],
          "font": {
           "color": "#2a3f5f"
          },
          "geo": {
           "bgcolor": "white",
           "lakecolor": "white",
           "landcolor": "#E5ECF6",
           "showlakes": true,
           "showland": true,
           "subunitcolor": "white"
          },
          "hoverlabel": {
           "align": "left"
          },
          "hovermode": "closest",
          "mapbox": {
           "style": "light"
          },
          "paper_bgcolor": "white",
          "plot_bgcolor": "#E5ECF6",
          "polar": {
           "angularaxis": {
            "gridcolor": "white",
            "linecolor": "white",
            "ticks": ""
           },
           "bgcolor": "#E5ECF6",
           "radialaxis": {
            "gridcolor": "white",
            "linecolor": "white",
            "ticks": ""
           }
          },
          "scene": {
           "xaxis": {
            "backgroundcolor": "#E5ECF6",
            "gridcolor": "white",
            "gridwidth": 2,
            "linecolor": "white",
            "showbackground": true,
            "ticks": "",
            "zerolinecolor": "white"
           },
           "yaxis": {
            "backgroundcolor": "#E5ECF6",
            "gridcolor": "white",
            "gridwidth": 2,
            "linecolor": "white",
            "showbackground": true,
            "ticks": "",
            "zerolinecolor": "white"
           },
           "zaxis": {
            "backgroundcolor": "#E5ECF6",
            "gridcolor": "white",
            "gridwidth": 2,
            "linecolor": "white",
            "showbackground": true,
            "ticks": "",
            "zerolinecolor": "white"
           }
          },
          "shapedefaults": {
           "line": {
            "color": "#2a3f5f"
           }
          },
          "ternary": {
           "aaxis": {
            "gridcolor": "white",
            "linecolor": "white",
            "ticks": ""
           },
           "baxis": {
            "gridcolor": "white",
            "linecolor": "white",
            "ticks": ""
           },
           "bgcolor": "#E5ECF6",
           "caxis": {
            "gridcolor": "white",
            "linecolor": "white",
            "ticks": ""
           }
          },
          "title": {
           "x": 0.05
          },
          "xaxis": {
           "automargin": true,
           "gridcolor": "white",
           "linecolor": "white",
           "ticks": "",
           "title": {
            "standoff": 15
           },
           "zerolinecolor": "white",
           "zerolinewidth": 2
          },
          "yaxis": {
           "automargin": true,
           "gridcolor": "white",
           "linecolor": "white",
           "ticks": "",
           "title": {
            "standoff": 15
           },
           "zerolinecolor": "white",
           "zerolinewidth": 2
          }
         }
        },
        "title": {
         "text": "home_ppg of Premier League Clubs Before and After Crowd Suspension",
         "x": 0,
         "xanchor": "left",
         "y": 0.9,
         "yanchor": "top"
        },
        "xaxis": {
         "linewidth": 2,
         "showgrid": false,
         "showline": true,
         "showticklabels": true,
         "tickfont": {
          "family": "Arial",
          "size": 12
         },
         "ticks": "outside"
        },
        "yaxis": {
         "showgrid": false,
         "showline": true,
         "showticklabels": true,
         "zeroline": true
        }
       }
      },
      "text/html": [
       "<div>                            <div id=\"94267b50-1029-4f54-a30d-00aaa9217536\" class=\"plotly-graph-div\" style=\"height:525px; width:100%;\"></div>            <script type=\"text/javascript\">                require([\"plotly\"], function(Plotly) {                    window.PLOTLYENV=window.PLOTLYENV || {};                                    if (document.getElementById(\"94267b50-1029-4f54-a30d-00aaa9217536\")) {                    Plotly.newPlot(                        \"94267b50-1029-4f54-a30d-00aaa9217536\",                        [{\"marker\": {\"color\": \"mediumspringgreen\"}, \"name\": \"home_ppg before crowd suspension\", \"text\": [2.8823529411764706, 1.7878787878787878, 2.088235294117647, 1.3529411764705883, 2.59375, 1.393939393939394, 1.911764705882353, 1.2424242424242424, 1.2352941176470589, 1.6470588235294117, 1.6764705882352942, 1.9393939393939394, 1.9411764705882353, 1.393939393939394, 1.088235294117647], \"textposition\": \"auto\", \"texttemplate\": \"%{text:.3s}\", \"type\": \"bar\", \"x\": [\"Liverpool\", \"Everton\", \"Arsenal\", \"Burnley\", \"Manchester City\", \"Newcastle United\", \"Manchester United\", \"Brighton and Hove Albion\", \"Crystal Palace\", \"Wolverhampton Wanderers\", \"Leicester City\", \"Tottenham Hotspur\", \"Chelsea\", \"West Ham United\", \"Southampton\"], \"y\": [2.8823529411764706, 1.7878787878787878, 2.088235294117647, 1.3529411764705883, 2.59375, 1.393939393939394, 1.911764705882353, 1.2424242424242424, 1.2352941176470589, 1.6470588235294117, 1.6764705882352942, 1.9393939393939394, 1.9411764705882353, 1.393939393939394, 1.088235294117647]}, {\"marker\": {\"color\": \"lightsalmon\"}, \"name\": \"home_ppg after crowd suspension\", \"text\": [1.8695652173913044, 1.1666666666666667, 1.6521739130434783, 1.0, 2.36, 1.1666666666666667, 1.6956521739130435, 1.0416666666666667, 1.0434782608695652, 1.4782608695652173, 1.5217391304347827, 1.9166666666666667, 1.9565217391304348, 1.7083333333333333, 1.4782608695652173], \"textposition\": \"auto\", \"texttemplate\": \"%{text:.3s}\", \"type\": \"bar\", \"x\": [\"Liverpool\", \"Everton\", \"Arsenal\", \"Burnley\", \"Manchester City\", \"Newcastle United\", \"Manchester United\", \"Brighton and Hove Albion\", \"Crystal Palace\", \"Wolverhampton Wanderers\", \"Leicester City\", \"Tottenham Hotspur\", \"Chelsea\", \"West Ham United\", \"Southampton\"], \"y\": [1.8695652173913044, 1.1666666666666667, 1.6521739130434783, 1.0, 2.36, 1.1666666666666667, 1.6956521739130435, 1.0416666666666667, 1.0434782608695652, 1.4782608695652173, 1.5217391304347827, 1.9166666666666667, 1.9565217391304348, 1.7083333333333333, 1.4782608695652173]}],                        {\"autosize\": true, \"barmode\": \"group\", \"margin\": {\"autoexpand\": true, \"l\": 0, \"r\": 0, \"t\": 80}, \"plot_bgcolor\": \"azure\", \"template\": {\"data\": {\"bar\": [{\"error_x\": {\"color\": \"#2a3f5f\"}, \"error_y\": {\"color\": \"#2a3f5f\"}, \"marker\": {\"line\": {\"color\": \"#E5ECF6\", \"width\": 0.5}}, \"type\": \"bar\"}], \"barpolar\": [{\"marker\": {\"line\": {\"color\": \"#E5ECF6\", \"width\": 0.5}}, \"type\": \"barpolar\"}], \"carpet\": [{\"aaxis\": {\"endlinecolor\": \"#2a3f5f\", \"gridcolor\": \"white\", \"linecolor\": \"white\", \"minorgridcolor\": \"white\", \"startlinecolor\": \"#2a3f5f\"}, \"baxis\": {\"endlinecolor\": \"#2a3f5f\", \"gridcolor\": \"white\", \"linecolor\": \"white\", \"minorgridcolor\": \"white\", \"startlinecolor\": \"#2a3f5f\"}, \"type\": \"carpet\"}], \"choropleth\": [{\"colorbar\": {\"outlinewidth\": 0, \"ticks\": \"\"}, \"type\": \"choropleth\"}], \"contour\": [{\"colorbar\": {\"outlinewidth\": 0, \"ticks\": \"\"}, \"colorscale\": [[0.0, \"#0d0887\"], [0.1111111111111111, \"#46039f\"], [0.2222222222222222, \"#7201a8\"], [0.3333333333333333, \"#9c179e\"], [0.4444444444444444, \"#bd3786\"], [0.5555555555555556, \"#d8576b\"], [0.6666666666666666, \"#ed7953\"], [0.7777777777777778, \"#fb9f3a\"], [0.8888888888888888, \"#fdca26\"], [1.0, \"#f0f921\"]], \"type\": \"contour\"}], \"contourcarpet\": [{\"colorbar\": {\"outlinewidth\": 0, \"ticks\": \"\"}, \"type\": \"contourcarpet\"}], \"heatmap\": [{\"colorbar\": {\"outlinewidth\": 0, \"ticks\": \"\"}, \"colorscale\": [[0.0, \"#0d0887\"], [0.1111111111111111, \"#46039f\"], [0.2222222222222222, \"#7201a8\"], [0.3333333333333333, \"#9c179e\"], [0.4444444444444444, \"#bd3786\"], [0.5555555555555556, \"#d8576b\"], [0.6666666666666666, \"#ed7953\"], [0.7777777777777778, \"#fb9f3a\"], [0.8888888888888888, \"#fdca26\"], [1.0, \"#f0f921\"]], \"type\": \"heatmap\"}], \"heatmapgl\": [{\"colorbar\": {\"outlinewidth\": 0, \"ticks\": \"\"}, \"colorscale\": [[0.0, \"#0d0887\"], [0.1111111111111111, \"#46039f\"], [0.2222222222222222, \"#7201a8\"], [0.3333333333333333, \"#9c179e\"], [0.4444444444444444, \"#bd3786\"], [0.5555555555555556, \"#d8576b\"], [0.6666666666666666, \"#ed7953\"], [0.7777777777777778, \"#fb9f3a\"], [0.8888888888888888, \"#fdca26\"], [1.0, \"#f0f921\"]], \"type\": \"heatmapgl\"}], \"histogram\": [{\"marker\": {\"colorbar\": {\"outlinewidth\": 0, \"ticks\": \"\"}}, \"type\": \"histogram\"}], \"histogram2d\": [{\"colorbar\": {\"outlinewidth\": 0, \"ticks\": \"\"}, \"colorscale\": [[0.0, \"#0d0887\"], [0.1111111111111111, \"#46039f\"], [0.2222222222222222, \"#7201a8\"], [0.3333333333333333, \"#9c179e\"], [0.4444444444444444, \"#bd3786\"], [0.5555555555555556, \"#d8576b\"], [0.6666666666666666, \"#ed7953\"], [0.7777777777777778, \"#fb9f3a\"], [0.8888888888888888, \"#fdca26\"], [1.0, \"#f0f921\"]], \"type\": \"histogram2d\"}], \"histogram2dcontour\": [{\"colorbar\": {\"outlinewidth\": 0, \"ticks\": \"\"}, \"colorscale\": [[0.0, \"#0d0887\"], [0.1111111111111111, \"#46039f\"], [0.2222222222222222, \"#7201a8\"], [0.3333333333333333, \"#9c179e\"], [0.4444444444444444, \"#bd3786\"], [0.5555555555555556, \"#d8576b\"], [0.6666666666666666, \"#ed7953\"], [0.7777777777777778, \"#fb9f3a\"], [0.8888888888888888, \"#fdca26\"], [1.0, \"#f0f921\"]], \"type\": \"histogram2dcontour\"}], \"mesh3d\": [{\"colorbar\": {\"outlinewidth\": 0, \"ticks\": \"\"}, \"type\": \"mesh3d\"}], \"parcoords\": [{\"line\": {\"colorbar\": {\"outlinewidth\": 0, \"ticks\": \"\"}}, \"type\": \"parcoords\"}], \"pie\": [{\"automargin\": true, \"type\": \"pie\"}], \"scatter\": [{\"marker\": {\"colorbar\": {\"outlinewidth\": 0, \"ticks\": \"\"}}, \"type\": \"scatter\"}], \"scatter3d\": [{\"line\": {\"colorbar\": {\"outlinewidth\": 0, \"ticks\": \"\"}}, \"marker\": {\"colorbar\": {\"outlinewidth\": 0, \"ticks\": \"\"}}, \"type\": \"scatter3d\"}], \"scattercarpet\": [{\"marker\": {\"colorbar\": {\"outlinewidth\": 0, \"ticks\": \"\"}}, \"type\": \"scattercarpet\"}], \"scattergeo\": [{\"marker\": {\"colorbar\": {\"outlinewidth\": 0, \"ticks\": \"\"}}, \"type\": \"scattergeo\"}], \"scattergl\": [{\"marker\": {\"colorbar\": {\"outlinewidth\": 0, \"ticks\": \"\"}}, \"type\": \"scattergl\"}], \"scattermapbox\": [{\"marker\": {\"colorbar\": {\"outlinewidth\": 0, \"ticks\": \"\"}}, \"type\": \"scattermapbox\"}], \"scatterpolar\": [{\"marker\": {\"colorbar\": {\"outlinewidth\": 0, \"ticks\": \"\"}}, \"type\": \"scatterpolar\"}], \"scatterpolargl\": [{\"marker\": {\"colorbar\": {\"outlinewidth\": 0, \"ticks\": \"\"}}, \"type\": \"scatterpolargl\"}], \"scatterternary\": [{\"marker\": {\"colorbar\": {\"outlinewidth\": 0, \"ticks\": \"\"}}, \"type\": \"scatterternary\"}], \"surface\": [{\"colorbar\": {\"outlinewidth\": 0, \"ticks\": \"\"}, \"colorscale\": [[0.0, \"#0d0887\"], [0.1111111111111111, \"#46039f\"], [0.2222222222222222, \"#7201a8\"], [0.3333333333333333, \"#9c179e\"], [0.4444444444444444, \"#bd3786\"], [0.5555555555555556, \"#d8576b\"], [0.6666666666666666, \"#ed7953\"], [0.7777777777777778, \"#fb9f3a\"], [0.8888888888888888, \"#fdca26\"], [1.0, \"#f0f921\"]], \"type\": \"surface\"}], \"table\": [{\"cells\": {\"fill\": {\"color\": \"#EBF0F8\"}, \"line\": {\"color\": \"white\"}}, \"header\": {\"fill\": {\"color\": \"#C8D4E3\"}, \"line\": {\"color\": \"white\"}}, \"type\": \"table\"}]}, \"layout\": {\"annotationdefaults\": {\"arrowcolor\": \"#2a3f5f\", \"arrowhead\": 0, \"arrowwidth\": 1}, \"autotypenumbers\": \"strict\", \"coloraxis\": {\"colorbar\": {\"outlinewidth\": 0, \"ticks\": \"\"}}, \"colorscale\": {\"diverging\": [[0, \"#8e0152\"], [0.1, \"#c51b7d\"], [0.2, \"#de77ae\"], [0.3, \"#f1b6da\"], [0.4, \"#fde0ef\"], [0.5, \"#f7f7f7\"], [0.6, \"#e6f5d0\"], [0.7, \"#b8e186\"], [0.8, \"#7fbc41\"], [0.9, \"#4d9221\"], [1, \"#276419\"]], \"sequential\": [[0.0, \"#0d0887\"], [0.1111111111111111, \"#46039f\"], [0.2222222222222222, \"#7201a8\"], [0.3333333333333333, \"#9c179e\"], [0.4444444444444444, \"#bd3786\"], [0.5555555555555556, \"#d8576b\"], [0.6666666666666666, \"#ed7953\"], [0.7777777777777778, \"#fb9f3a\"], [0.8888888888888888, \"#fdca26\"], [1.0, \"#f0f921\"]], \"sequentialminus\": [[0.0, \"#0d0887\"], [0.1111111111111111, \"#46039f\"], [0.2222222222222222, \"#7201a8\"], [0.3333333333333333, \"#9c179e\"], [0.4444444444444444, \"#bd3786\"], [0.5555555555555556, \"#d8576b\"], [0.6666666666666666, \"#ed7953\"], [0.7777777777777778, \"#fb9f3a\"], [0.8888888888888888, \"#fdca26\"], [1.0, \"#f0f921\"]]}, \"colorway\": [\"#636efa\", \"#EF553B\", \"#00cc96\", \"#ab63fa\", \"#FFA15A\", \"#19d3f3\", \"#FF6692\", \"#B6E880\", \"#FF97FF\", \"#FECB52\"], \"font\": {\"color\": \"#2a3f5f\"}, \"geo\": {\"bgcolor\": \"white\", \"lakecolor\": \"white\", \"landcolor\": \"#E5ECF6\", \"showlakes\": true, \"showland\": true, \"subunitcolor\": \"white\"}, \"hoverlabel\": {\"align\": \"left\"}, \"hovermode\": \"closest\", \"mapbox\": {\"style\": \"light\"}, \"paper_bgcolor\": \"white\", \"plot_bgcolor\": \"#E5ECF6\", \"polar\": {\"angularaxis\": {\"gridcolor\": \"white\", \"linecolor\": \"white\", \"ticks\": \"\"}, \"bgcolor\": \"#E5ECF6\", \"radialaxis\": {\"gridcolor\": \"white\", \"linecolor\": \"white\", \"ticks\": \"\"}}, \"scene\": {\"xaxis\": {\"backgroundcolor\": \"#E5ECF6\", \"gridcolor\": \"white\", \"gridwidth\": 2, \"linecolor\": \"white\", \"showbackground\": true, \"ticks\": \"\", \"zerolinecolor\": \"white\"}, \"yaxis\": {\"backgroundcolor\": \"#E5ECF6\", \"gridcolor\": \"white\", \"gridwidth\": 2, \"linecolor\": \"white\", \"showbackground\": true, \"ticks\": \"\", \"zerolinecolor\": \"white\"}, \"zaxis\": {\"backgroundcolor\": \"#E5ECF6\", \"gridcolor\": \"white\", \"gridwidth\": 2, \"linecolor\": \"white\", \"showbackground\": true, \"ticks\": \"\", \"zerolinecolor\": \"white\"}}, \"shapedefaults\": {\"line\": {\"color\": \"#2a3f5f\"}}, \"ternary\": {\"aaxis\": {\"gridcolor\": \"white\", \"linecolor\": \"white\", \"ticks\": \"\"}, \"baxis\": {\"gridcolor\": \"white\", \"linecolor\": \"white\", \"ticks\": \"\"}, \"bgcolor\": \"#E5ECF6\", \"caxis\": {\"gridcolor\": \"white\", \"linecolor\": \"white\", \"ticks\": \"\"}}, \"title\": {\"x\": 0.05}, \"xaxis\": {\"automargin\": true, \"gridcolor\": \"white\", \"linecolor\": \"white\", \"ticks\": \"\", \"title\": {\"standoff\": 15}, \"zerolinecolor\": \"white\", \"zerolinewidth\": 2}, \"yaxis\": {\"automargin\": true, \"gridcolor\": \"white\", \"linecolor\": \"white\", \"ticks\": \"\", \"title\": {\"standoff\": 15}, \"zerolinecolor\": \"white\", \"zerolinewidth\": 2}}}, \"title\": {\"text\": \"home_ppg of Premier League Clubs Before and After Crowd Suspension\", \"x\": 0, \"xanchor\": \"left\", \"y\": 0.9, \"yanchor\": \"top\"}, \"xaxis\": {\"linewidth\": 2, \"showgrid\": false, \"showline\": true, \"showticklabels\": true, \"tickfont\": {\"family\": \"Arial\", \"size\": 12}, \"ticks\": \"outside\"}, \"yaxis\": {\"showgrid\": false, \"showline\": true, \"showticklabels\": true, \"zeroline\": true}},                        {\"responsive\": true}                    ).then(function(){\n",
       "                            \n",
       "var gd = document.getElementById('94267b50-1029-4f54-a30d-00aaa9217536');\n",
       "var x = new MutationObserver(function (mutations, observer) {{\n",
       "        var display = window.getComputedStyle(gd).display;\n",
       "        if (!display || display === 'none') {{\n",
       "            console.log([gd, 'removed!']);\n",
       "            Plotly.purge(gd);\n",
       "            observer.disconnect();\n",
       "        }}\n",
       "}});\n",
       "\n",
       "// Listen for the removal of the full notebook cells\n",
       "var notebookContainer = gd.closest('#notebook-container');\n",
       "if (notebookContainer) {{\n",
       "    x.observe(notebookContainer, {childList: true});\n",
       "}}\n",
       "\n",
       "// Listen for the clearing of the current output cell\n",
       "var outputEl = gd.closest('.output');\n",
       "if (outputEl) {{\n",
       "    x.observe(outputEl, {childList: true});\n",
       "}}\n",
       "\n",
       "                        })                };                });            </script>        </div>"
      ]
     },
     "metadata": {},
     "output_type": "display_data"
    }
   ],
   "source": [
    "home_stat_viz('home_ppg', stayed_teams, summary=False)"
   ]
  },
  {
   "cell_type": "code",
   "execution_count": 102,
   "metadata": {},
   "outputs": [
    {
     "data": {
      "application/vnd.plotly.v1+json": {
       "config": {
        "plotlyServerURL": "https://plot.ly"
       },
       "data": [
        {
         "marker": {
          "color": "mediumspringgreen"
         },
         "name": "home_win_rate before crowd suspension",
         "text": [
          94.11764705882354,
          51.515151515151516,
          41.1764705882353,
          61.76470588235294,
          39.39393939393939,
          30.303030303030305,
          84.375,
          32.35294117647059,
          52.94117647058823,
          60.60606060606061,
          50,
          44.11764705882353,
          55.88235294117647,
          39.39393939393939,
          26.470588235294116
         ],
         "textposition": "auto",
         "texttemplate": "%{text:.3s}",
         "type": "bar",
         "x": [
          "Liverpool",
          "Everton",
          "Burnley",
          "Arsenal",
          "Newcastle United",
          "Brighton and Hove Albion",
          "Manchester City",
          "Crystal Palace",
          "Manchester United",
          "Tottenham Hotspur",
          "Leicester City",
          "Wolverhampton Wanderers",
          "Chelsea",
          "West Ham United",
          "Southampton"
         ],
         "y": [
          94.11764705882354,
          51.515151515151516,
          41.1764705882353,
          61.76470588235294,
          39.39393939393939,
          30.303030303030305,
          84.375,
          32.35294117647059,
          52.94117647058823,
          60.60606060606061,
          50,
          44.11764705882353,
          55.88235294117647,
          39.39393939393939,
          26.470588235294116
         ]
        },
        {
         "marker": {
          "color": "lightsalmon"
         },
         "name": "home_win_rate after crowd suspension",
         "text": [
          56.52173913043478,
          29.166666666666668,
          21.73913043478261,
          47.82608695652174,
          29.166666666666668,
          20.833333333333332,
          76,
          26.08695652173913,
          47.82608695652174,
          58.333333333333336,
          47.82608695652174,
          43.47826086956522,
          56.52173913043478,
          50,
          43.47826086956522
         ],
         "textposition": "auto",
         "texttemplate": "%{text:.3s}",
         "type": "bar",
         "x": [
          "Liverpool",
          "Everton",
          "Burnley",
          "Arsenal",
          "Newcastle United",
          "Brighton and Hove Albion",
          "Manchester City",
          "Crystal Palace",
          "Manchester United",
          "Tottenham Hotspur",
          "Leicester City",
          "Wolverhampton Wanderers",
          "Chelsea",
          "West Ham United",
          "Southampton"
         ],
         "y": [
          56.52173913043478,
          29.166666666666668,
          21.73913043478261,
          47.82608695652174,
          29.166666666666668,
          20.833333333333332,
          76,
          26.08695652173913,
          47.82608695652174,
          58.333333333333336,
          47.82608695652174,
          43.47826086956522,
          56.52173913043478,
          50,
          43.47826086956522
         ]
        }
       ],
       "layout": {
        "autosize": true,
        "barmode": "group",
        "margin": {
         "autoexpand": true,
         "l": 0,
         "r": 0,
         "t": 80
        },
        "plot_bgcolor": "azure",
        "template": {
         "data": {
          "bar": [
           {
            "error_x": {
             "color": "#2a3f5f"
            },
            "error_y": {
             "color": "#2a3f5f"
            },
            "marker": {
             "line": {
              "color": "#E5ECF6",
              "width": 0.5
             }
            },
            "type": "bar"
           }
          ],
          "barpolar": [
           {
            "marker": {
             "line": {
              "color": "#E5ECF6",
              "width": 0.5
             }
            },
            "type": "barpolar"
           }
          ],
          "carpet": [
           {
            "aaxis": {
             "endlinecolor": "#2a3f5f",
             "gridcolor": "white",
             "linecolor": "white",
             "minorgridcolor": "white",
             "startlinecolor": "#2a3f5f"
            },
            "baxis": {
             "endlinecolor": "#2a3f5f",
             "gridcolor": "white",
             "linecolor": "white",
             "minorgridcolor": "white",
             "startlinecolor": "#2a3f5f"
            },
            "type": "carpet"
           }
          ],
          "choropleth": [
           {
            "colorbar": {
             "outlinewidth": 0,
             "ticks": ""
            },
            "type": "choropleth"
           }
          ],
          "contour": [
           {
            "colorbar": {
             "outlinewidth": 0,
             "ticks": ""
            },
            "colorscale": [
             [
              0,
              "#0d0887"
             ],
             [
              0.1111111111111111,
              "#46039f"
             ],
             [
              0.2222222222222222,
              "#7201a8"
             ],
             [
              0.3333333333333333,
              "#9c179e"
             ],
             [
              0.4444444444444444,
              "#bd3786"
             ],
             [
              0.5555555555555556,
              "#d8576b"
             ],
             [
              0.6666666666666666,
              "#ed7953"
             ],
             [
              0.7777777777777778,
              "#fb9f3a"
             ],
             [
              0.8888888888888888,
              "#fdca26"
             ],
             [
              1,
              "#f0f921"
             ]
            ],
            "type": "contour"
           }
          ],
          "contourcarpet": [
           {
            "colorbar": {
             "outlinewidth": 0,
             "ticks": ""
            },
            "type": "contourcarpet"
           }
          ],
          "heatmap": [
           {
            "colorbar": {
             "outlinewidth": 0,
             "ticks": ""
            },
            "colorscale": [
             [
              0,
              "#0d0887"
             ],
             [
              0.1111111111111111,
              "#46039f"
             ],
             [
              0.2222222222222222,
              "#7201a8"
             ],
             [
              0.3333333333333333,
              "#9c179e"
             ],
             [
              0.4444444444444444,
              "#bd3786"
             ],
             [
              0.5555555555555556,
              "#d8576b"
             ],
             [
              0.6666666666666666,
              "#ed7953"
             ],
             [
              0.7777777777777778,
              "#fb9f3a"
             ],
             [
              0.8888888888888888,
              "#fdca26"
             ],
             [
              1,
              "#f0f921"
             ]
            ],
            "type": "heatmap"
           }
          ],
          "heatmapgl": [
           {
            "colorbar": {
             "outlinewidth": 0,
             "ticks": ""
            },
            "colorscale": [
             [
              0,
              "#0d0887"
             ],
             [
              0.1111111111111111,
              "#46039f"
             ],
             [
              0.2222222222222222,
              "#7201a8"
             ],
             [
              0.3333333333333333,
              "#9c179e"
             ],
             [
              0.4444444444444444,
              "#bd3786"
             ],
             [
              0.5555555555555556,
              "#d8576b"
             ],
             [
              0.6666666666666666,
              "#ed7953"
             ],
             [
              0.7777777777777778,
              "#fb9f3a"
             ],
             [
              0.8888888888888888,
              "#fdca26"
             ],
             [
              1,
              "#f0f921"
             ]
            ],
            "type": "heatmapgl"
           }
          ],
          "histogram": [
           {
            "marker": {
             "colorbar": {
              "outlinewidth": 0,
              "ticks": ""
             }
            },
            "type": "histogram"
           }
          ],
          "histogram2d": [
           {
            "colorbar": {
             "outlinewidth": 0,
             "ticks": ""
            },
            "colorscale": [
             [
              0,
              "#0d0887"
             ],
             [
              0.1111111111111111,
              "#46039f"
             ],
             [
              0.2222222222222222,
              "#7201a8"
             ],
             [
              0.3333333333333333,
              "#9c179e"
             ],
             [
              0.4444444444444444,
              "#bd3786"
             ],
             [
              0.5555555555555556,
              "#d8576b"
             ],
             [
              0.6666666666666666,
              "#ed7953"
             ],
             [
              0.7777777777777778,
              "#fb9f3a"
             ],
             [
              0.8888888888888888,
              "#fdca26"
             ],
             [
              1,
              "#f0f921"
             ]
            ],
            "type": "histogram2d"
           }
          ],
          "histogram2dcontour": [
           {
            "colorbar": {
             "outlinewidth": 0,
             "ticks": ""
            },
            "colorscale": [
             [
              0,
              "#0d0887"
             ],
             [
              0.1111111111111111,
              "#46039f"
             ],
             [
              0.2222222222222222,
              "#7201a8"
             ],
             [
              0.3333333333333333,
              "#9c179e"
             ],
             [
              0.4444444444444444,
              "#bd3786"
             ],
             [
              0.5555555555555556,
              "#d8576b"
             ],
             [
              0.6666666666666666,
              "#ed7953"
             ],
             [
              0.7777777777777778,
              "#fb9f3a"
             ],
             [
              0.8888888888888888,
              "#fdca26"
             ],
             [
              1,
              "#f0f921"
             ]
            ],
            "type": "histogram2dcontour"
           }
          ],
          "mesh3d": [
           {
            "colorbar": {
             "outlinewidth": 0,
             "ticks": ""
            },
            "type": "mesh3d"
           }
          ],
          "parcoords": [
           {
            "line": {
             "colorbar": {
              "outlinewidth": 0,
              "ticks": ""
             }
            },
            "type": "parcoords"
           }
          ],
          "pie": [
           {
            "automargin": true,
            "type": "pie"
           }
          ],
          "scatter": [
           {
            "marker": {
             "colorbar": {
              "outlinewidth": 0,
              "ticks": ""
             }
            },
            "type": "scatter"
           }
          ],
          "scatter3d": [
           {
            "line": {
             "colorbar": {
              "outlinewidth": 0,
              "ticks": ""
             }
            },
            "marker": {
             "colorbar": {
              "outlinewidth": 0,
              "ticks": ""
             }
            },
            "type": "scatter3d"
           }
          ],
          "scattercarpet": [
           {
            "marker": {
             "colorbar": {
              "outlinewidth": 0,
              "ticks": ""
             }
            },
            "type": "scattercarpet"
           }
          ],
          "scattergeo": [
           {
            "marker": {
             "colorbar": {
              "outlinewidth": 0,
              "ticks": ""
             }
            },
            "type": "scattergeo"
           }
          ],
          "scattergl": [
           {
            "marker": {
             "colorbar": {
              "outlinewidth": 0,
              "ticks": ""
             }
            },
            "type": "scattergl"
           }
          ],
          "scattermapbox": [
           {
            "marker": {
             "colorbar": {
              "outlinewidth": 0,
              "ticks": ""
             }
            },
            "type": "scattermapbox"
           }
          ],
          "scatterpolar": [
           {
            "marker": {
             "colorbar": {
              "outlinewidth": 0,
              "ticks": ""
             }
            },
            "type": "scatterpolar"
           }
          ],
          "scatterpolargl": [
           {
            "marker": {
             "colorbar": {
              "outlinewidth": 0,
              "ticks": ""
             }
            },
            "type": "scatterpolargl"
           }
          ],
          "scatterternary": [
           {
            "marker": {
             "colorbar": {
              "outlinewidth": 0,
              "ticks": ""
             }
            },
            "type": "scatterternary"
           }
          ],
          "surface": [
           {
            "colorbar": {
             "outlinewidth": 0,
             "ticks": ""
            },
            "colorscale": [
             [
              0,
              "#0d0887"
             ],
             [
              0.1111111111111111,
              "#46039f"
             ],
             [
              0.2222222222222222,
              "#7201a8"
             ],
             [
              0.3333333333333333,
              "#9c179e"
             ],
             [
              0.4444444444444444,
              "#bd3786"
             ],
             [
              0.5555555555555556,
              "#d8576b"
             ],
             [
              0.6666666666666666,
              "#ed7953"
             ],
             [
              0.7777777777777778,
              "#fb9f3a"
             ],
             [
              0.8888888888888888,
              "#fdca26"
             ],
             [
              1,
              "#f0f921"
             ]
            ],
            "type": "surface"
           }
          ],
          "table": [
           {
            "cells": {
             "fill": {
              "color": "#EBF0F8"
             },
             "line": {
              "color": "white"
             }
            },
            "header": {
             "fill": {
              "color": "#C8D4E3"
             },
             "line": {
              "color": "white"
             }
            },
            "type": "table"
           }
          ]
         },
         "layout": {
          "annotationdefaults": {
           "arrowcolor": "#2a3f5f",
           "arrowhead": 0,
           "arrowwidth": 1
          },
          "autotypenumbers": "strict",
          "coloraxis": {
           "colorbar": {
            "outlinewidth": 0,
            "ticks": ""
           }
          },
          "colorscale": {
           "diverging": [
            [
             0,
             "#8e0152"
            ],
            [
             0.1,
             "#c51b7d"
            ],
            [
             0.2,
             "#de77ae"
            ],
            [
             0.3,
             "#f1b6da"
            ],
            [
             0.4,
             "#fde0ef"
            ],
            [
             0.5,
             "#f7f7f7"
            ],
            [
             0.6,
             "#e6f5d0"
            ],
            [
             0.7,
             "#b8e186"
            ],
            [
             0.8,
             "#7fbc41"
            ],
            [
             0.9,
             "#4d9221"
            ],
            [
             1,
             "#276419"
            ]
           ],
           "sequential": [
            [
             0,
             "#0d0887"
            ],
            [
             0.1111111111111111,
             "#46039f"
            ],
            [
             0.2222222222222222,
             "#7201a8"
            ],
            [
             0.3333333333333333,
             "#9c179e"
            ],
            [
             0.4444444444444444,
             "#bd3786"
            ],
            [
             0.5555555555555556,
             "#d8576b"
            ],
            [
             0.6666666666666666,
             "#ed7953"
            ],
            [
             0.7777777777777778,
             "#fb9f3a"
            ],
            [
             0.8888888888888888,
             "#fdca26"
            ],
            [
             1,
             "#f0f921"
            ]
           ],
           "sequentialminus": [
            [
             0,
             "#0d0887"
            ],
            [
             0.1111111111111111,
             "#46039f"
            ],
            [
             0.2222222222222222,
             "#7201a8"
            ],
            [
             0.3333333333333333,
             "#9c179e"
            ],
            [
             0.4444444444444444,
             "#bd3786"
            ],
            [
             0.5555555555555556,
             "#d8576b"
            ],
            [
             0.6666666666666666,
             "#ed7953"
            ],
            [
             0.7777777777777778,
             "#fb9f3a"
            ],
            [
             0.8888888888888888,
             "#fdca26"
            ],
            [
             1,
             "#f0f921"
            ]
           ]
          },
          "colorway": [
           "#636efa",
           "#EF553B",
           "#00cc96",
           "#ab63fa",
           "#FFA15A",
           "#19d3f3",
           "#FF6692",
           "#B6E880",
           "#FF97FF",
           "#FECB52"
          ],
          "font": {
           "color": "#2a3f5f"
          },
          "geo": {
           "bgcolor": "white",
           "lakecolor": "white",
           "landcolor": "#E5ECF6",
           "showlakes": true,
           "showland": true,
           "subunitcolor": "white"
          },
          "hoverlabel": {
           "align": "left"
          },
          "hovermode": "closest",
          "mapbox": {
           "style": "light"
          },
          "paper_bgcolor": "white",
          "plot_bgcolor": "#E5ECF6",
          "polar": {
           "angularaxis": {
            "gridcolor": "white",
            "linecolor": "white",
            "ticks": ""
           },
           "bgcolor": "#E5ECF6",
           "radialaxis": {
            "gridcolor": "white",
            "linecolor": "white",
            "ticks": ""
           }
          },
          "scene": {
           "xaxis": {
            "backgroundcolor": "#E5ECF6",
            "gridcolor": "white",
            "gridwidth": 2,
            "linecolor": "white",
            "showbackground": true,
            "ticks": "",
            "zerolinecolor": "white"
           },
           "yaxis": {
            "backgroundcolor": "#E5ECF6",
            "gridcolor": "white",
            "gridwidth": 2,
            "linecolor": "white",
            "showbackground": true,
            "ticks": "",
            "zerolinecolor": "white"
           },
           "zaxis": {
            "backgroundcolor": "#E5ECF6",
            "gridcolor": "white",
            "gridwidth": 2,
            "linecolor": "white",
            "showbackground": true,
            "ticks": "",
            "zerolinecolor": "white"
           }
          },
          "shapedefaults": {
           "line": {
            "color": "#2a3f5f"
           }
          },
          "ternary": {
           "aaxis": {
            "gridcolor": "white",
            "linecolor": "white",
            "ticks": ""
           },
           "baxis": {
            "gridcolor": "white",
            "linecolor": "white",
            "ticks": ""
           },
           "bgcolor": "#E5ECF6",
           "caxis": {
            "gridcolor": "white",
            "linecolor": "white",
            "ticks": ""
           }
          },
          "title": {
           "x": 0.05
          },
          "xaxis": {
           "automargin": true,
           "gridcolor": "white",
           "linecolor": "white",
           "ticks": "",
           "title": {
            "standoff": 15
           },
           "zerolinecolor": "white",
           "zerolinewidth": 2
          },
          "yaxis": {
           "automargin": true,
           "gridcolor": "white",
           "linecolor": "white",
           "ticks": "",
           "title": {
            "standoff": 15
           },
           "zerolinecolor": "white",
           "zerolinewidth": 2
          }
         }
        },
        "title": {
         "text": "home_win_rate of Premier League Clubs Before and After Crowd Suspension",
         "x": 0,
         "xanchor": "left",
         "y": 0.9,
         "yanchor": "top"
        },
        "xaxis": {
         "linewidth": 2,
         "showgrid": false,
         "showline": true,
         "showticklabels": true,
         "tickfont": {
          "family": "Arial",
          "size": 12
         },
         "ticks": "outside"
        },
        "yaxis": {
         "showgrid": false,
         "showline": true,
         "showticklabels": true,
         "zeroline": true
        }
       }
      },
      "text/html": [
       "<div>                            <div id=\"0e57a9db-4c24-4532-b7d6-be8924c712ce\" class=\"plotly-graph-div\" style=\"height:525px; width:100%;\"></div>            <script type=\"text/javascript\">                require([\"plotly\"], function(Plotly) {                    window.PLOTLYENV=window.PLOTLYENV || {};                                    if (document.getElementById(\"0e57a9db-4c24-4532-b7d6-be8924c712ce\")) {                    Plotly.newPlot(                        \"0e57a9db-4c24-4532-b7d6-be8924c712ce\",                        [{\"marker\": {\"color\": \"mediumspringgreen\"}, \"name\": \"home_win_rate before crowd suspension\", \"text\": [94.11764705882354, 51.515151515151516, 41.1764705882353, 61.76470588235294, 39.39393939393939, 30.303030303030305, 84.375, 32.35294117647059, 52.94117647058823, 60.60606060606061, 50.0, 44.11764705882353, 55.88235294117647, 39.39393939393939, 26.470588235294116], \"textposition\": \"auto\", \"texttemplate\": \"%{text:.3s}\", \"type\": \"bar\", \"x\": [\"Liverpool\", \"Everton\", \"Burnley\", \"Arsenal\", \"Newcastle United\", \"Brighton and Hove Albion\", \"Manchester City\", \"Crystal Palace\", \"Manchester United\", \"Tottenham Hotspur\", \"Leicester City\", \"Wolverhampton Wanderers\", \"Chelsea\", \"West Ham United\", \"Southampton\"], \"y\": [94.11764705882354, 51.515151515151516, 41.1764705882353, 61.76470588235294, 39.39393939393939, 30.303030303030305, 84.375, 32.35294117647059, 52.94117647058823, 60.60606060606061, 50.0, 44.11764705882353, 55.88235294117647, 39.39393939393939, 26.470588235294116]}, {\"marker\": {\"color\": \"lightsalmon\"}, \"name\": \"home_win_rate after crowd suspension\", \"text\": [56.52173913043478, 29.166666666666668, 21.73913043478261, 47.82608695652174, 29.166666666666668, 20.833333333333332, 76.0, 26.08695652173913, 47.82608695652174, 58.333333333333336, 47.82608695652174, 43.47826086956522, 56.52173913043478, 50.0, 43.47826086956522], \"textposition\": \"auto\", \"texttemplate\": \"%{text:.3s}\", \"type\": \"bar\", \"x\": [\"Liverpool\", \"Everton\", \"Burnley\", \"Arsenal\", \"Newcastle United\", \"Brighton and Hove Albion\", \"Manchester City\", \"Crystal Palace\", \"Manchester United\", \"Tottenham Hotspur\", \"Leicester City\", \"Wolverhampton Wanderers\", \"Chelsea\", \"West Ham United\", \"Southampton\"], \"y\": [56.52173913043478, 29.166666666666668, 21.73913043478261, 47.82608695652174, 29.166666666666668, 20.833333333333332, 76.0, 26.08695652173913, 47.82608695652174, 58.333333333333336, 47.82608695652174, 43.47826086956522, 56.52173913043478, 50.0, 43.47826086956522]}],                        {\"autosize\": true, \"barmode\": \"group\", \"margin\": {\"autoexpand\": true, \"l\": 0, \"r\": 0, \"t\": 80}, \"plot_bgcolor\": \"azure\", \"template\": {\"data\": {\"bar\": [{\"error_x\": {\"color\": \"#2a3f5f\"}, \"error_y\": {\"color\": \"#2a3f5f\"}, \"marker\": {\"line\": {\"color\": \"#E5ECF6\", \"width\": 0.5}}, \"type\": \"bar\"}], \"barpolar\": [{\"marker\": {\"line\": {\"color\": \"#E5ECF6\", \"width\": 0.5}}, \"type\": \"barpolar\"}], \"carpet\": [{\"aaxis\": {\"endlinecolor\": \"#2a3f5f\", \"gridcolor\": \"white\", \"linecolor\": \"white\", \"minorgridcolor\": \"white\", \"startlinecolor\": \"#2a3f5f\"}, \"baxis\": {\"endlinecolor\": \"#2a3f5f\", \"gridcolor\": \"white\", \"linecolor\": \"white\", \"minorgridcolor\": \"white\", \"startlinecolor\": \"#2a3f5f\"}, \"type\": \"carpet\"}], \"choropleth\": [{\"colorbar\": {\"outlinewidth\": 0, \"ticks\": \"\"}, \"type\": \"choropleth\"}], \"contour\": [{\"colorbar\": {\"outlinewidth\": 0, \"ticks\": \"\"}, \"colorscale\": [[0.0, \"#0d0887\"], [0.1111111111111111, \"#46039f\"], [0.2222222222222222, \"#7201a8\"], [0.3333333333333333, \"#9c179e\"], [0.4444444444444444, \"#bd3786\"], [0.5555555555555556, \"#d8576b\"], [0.6666666666666666, \"#ed7953\"], [0.7777777777777778, \"#fb9f3a\"], [0.8888888888888888, \"#fdca26\"], [1.0, \"#f0f921\"]], \"type\": \"contour\"}], \"contourcarpet\": [{\"colorbar\": {\"outlinewidth\": 0, \"ticks\": \"\"}, \"type\": \"contourcarpet\"}], \"heatmap\": [{\"colorbar\": {\"outlinewidth\": 0, \"ticks\": \"\"}, \"colorscale\": [[0.0, \"#0d0887\"], [0.1111111111111111, \"#46039f\"], [0.2222222222222222, \"#7201a8\"], [0.3333333333333333, \"#9c179e\"], [0.4444444444444444, \"#bd3786\"], [0.5555555555555556, \"#d8576b\"], [0.6666666666666666, \"#ed7953\"], [0.7777777777777778, \"#fb9f3a\"], [0.8888888888888888, \"#fdca26\"], [1.0, \"#f0f921\"]], \"type\": \"heatmap\"}], \"heatmapgl\": [{\"colorbar\": {\"outlinewidth\": 0, \"ticks\": \"\"}, \"colorscale\": [[0.0, \"#0d0887\"], [0.1111111111111111, \"#46039f\"], [0.2222222222222222, \"#7201a8\"], [0.3333333333333333, \"#9c179e\"], [0.4444444444444444, \"#bd3786\"], [0.5555555555555556, \"#d8576b\"], [0.6666666666666666, \"#ed7953\"], [0.7777777777777778, \"#fb9f3a\"], [0.8888888888888888, \"#fdca26\"], [1.0, \"#f0f921\"]], \"type\": \"heatmapgl\"}], \"histogram\": [{\"marker\": {\"colorbar\": {\"outlinewidth\": 0, \"ticks\": \"\"}}, \"type\": \"histogram\"}], \"histogram2d\": [{\"colorbar\": {\"outlinewidth\": 0, \"ticks\": \"\"}, \"colorscale\": [[0.0, \"#0d0887\"], [0.1111111111111111, \"#46039f\"], [0.2222222222222222, \"#7201a8\"], [0.3333333333333333, \"#9c179e\"], [0.4444444444444444, \"#bd3786\"], [0.5555555555555556, \"#d8576b\"], [0.6666666666666666, \"#ed7953\"], [0.7777777777777778, \"#fb9f3a\"], [0.8888888888888888, \"#fdca26\"], [1.0, \"#f0f921\"]], \"type\": \"histogram2d\"}], \"histogram2dcontour\": [{\"colorbar\": {\"outlinewidth\": 0, \"ticks\": \"\"}, \"colorscale\": [[0.0, \"#0d0887\"], [0.1111111111111111, \"#46039f\"], [0.2222222222222222, \"#7201a8\"], [0.3333333333333333, \"#9c179e\"], [0.4444444444444444, \"#bd3786\"], [0.5555555555555556, \"#d8576b\"], [0.6666666666666666, \"#ed7953\"], [0.7777777777777778, \"#fb9f3a\"], [0.8888888888888888, \"#fdca26\"], [1.0, \"#f0f921\"]], \"type\": \"histogram2dcontour\"}], \"mesh3d\": [{\"colorbar\": {\"outlinewidth\": 0, \"ticks\": \"\"}, \"type\": \"mesh3d\"}], \"parcoords\": [{\"line\": {\"colorbar\": {\"outlinewidth\": 0, \"ticks\": \"\"}}, \"type\": \"parcoords\"}], \"pie\": [{\"automargin\": true, \"type\": \"pie\"}], \"scatter\": [{\"marker\": {\"colorbar\": {\"outlinewidth\": 0, \"ticks\": \"\"}}, \"type\": \"scatter\"}], \"scatter3d\": [{\"line\": {\"colorbar\": {\"outlinewidth\": 0, \"ticks\": \"\"}}, \"marker\": {\"colorbar\": {\"outlinewidth\": 0, \"ticks\": \"\"}}, \"type\": \"scatter3d\"}], \"scattercarpet\": [{\"marker\": {\"colorbar\": {\"outlinewidth\": 0, \"ticks\": \"\"}}, \"type\": \"scattercarpet\"}], \"scattergeo\": [{\"marker\": {\"colorbar\": {\"outlinewidth\": 0, \"ticks\": \"\"}}, \"type\": \"scattergeo\"}], \"scattergl\": [{\"marker\": {\"colorbar\": {\"outlinewidth\": 0, \"ticks\": \"\"}}, \"type\": \"scattergl\"}], \"scattermapbox\": [{\"marker\": {\"colorbar\": {\"outlinewidth\": 0, \"ticks\": \"\"}}, \"type\": \"scattermapbox\"}], \"scatterpolar\": [{\"marker\": {\"colorbar\": {\"outlinewidth\": 0, \"ticks\": \"\"}}, \"type\": \"scatterpolar\"}], \"scatterpolargl\": [{\"marker\": {\"colorbar\": {\"outlinewidth\": 0, \"ticks\": \"\"}}, \"type\": \"scatterpolargl\"}], \"scatterternary\": [{\"marker\": {\"colorbar\": {\"outlinewidth\": 0, \"ticks\": \"\"}}, \"type\": \"scatterternary\"}], \"surface\": [{\"colorbar\": {\"outlinewidth\": 0, \"ticks\": \"\"}, \"colorscale\": [[0.0, \"#0d0887\"], [0.1111111111111111, \"#46039f\"], [0.2222222222222222, \"#7201a8\"], [0.3333333333333333, \"#9c179e\"], [0.4444444444444444, \"#bd3786\"], [0.5555555555555556, \"#d8576b\"], [0.6666666666666666, \"#ed7953\"], [0.7777777777777778, \"#fb9f3a\"], [0.8888888888888888, \"#fdca26\"], [1.0, \"#f0f921\"]], \"type\": \"surface\"}], \"table\": [{\"cells\": {\"fill\": {\"color\": \"#EBF0F8\"}, \"line\": {\"color\": \"white\"}}, \"header\": {\"fill\": {\"color\": \"#C8D4E3\"}, \"line\": {\"color\": \"white\"}}, \"type\": \"table\"}]}, \"layout\": {\"annotationdefaults\": {\"arrowcolor\": \"#2a3f5f\", \"arrowhead\": 0, \"arrowwidth\": 1}, \"autotypenumbers\": \"strict\", \"coloraxis\": {\"colorbar\": {\"outlinewidth\": 0, \"ticks\": \"\"}}, \"colorscale\": {\"diverging\": [[0, \"#8e0152\"], [0.1, \"#c51b7d\"], [0.2, \"#de77ae\"], [0.3, \"#f1b6da\"], [0.4, \"#fde0ef\"], [0.5, \"#f7f7f7\"], [0.6, \"#e6f5d0\"], [0.7, \"#b8e186\"], [0.8, \"#7fbc41\"], [0.9, \"#4d9221\"], [1, \"#276419\"]], \"sequential\": [[0.0, \"#0d0887\"], [0.1111111111111111, \"#46039f\"], [0.2222222222222222, \"#7201a8\"], [0.3333333333333333, \"#9c179e\"], [0.4444444444444444, \"#bd3786\"], [0.5555555555555556, \"#d8576b\"], [0.6666666666666666, \"#ed7953\"], [0.7777777777777778, \"#fb9f3a\"], [0.8888888888888888, \"#fdca26\"], [1.0, \"#f0f921\"]], \"sequentialminus\": [[0.0, \"#0d0887\"], [0.1111111111111111, \"#46039f\"], [0.2222222222222222, \"#7201a8\"], [0.3333333333333333, \"#9c179e\"], [0.4444444444444444, \"#bd3786\"], [0.5555555555555556, \"#d8576b\"], [0.6666666666666666, \"#ed7953\"], [0.7777777777777778, \"#fb9f3a\"], [0.8888888888888888, \"#fdca26\"], [1.0, \"#f0f921\"]]}, \"colorway\": [\"#636efa\", \"#EF553B\", \"#00cc96\", \"#ab63fa\", \"#FFA15A\", \"#19d3f3\", \"#FF6692\", \"#B6E880\", \"#FF97FF\", \"#FECB52\"], \"font\": {\"color\": \"#2a3f5f\"}, \"geo\": {\"bgcolor\": \"white\", \"lakecolor\": \"white\", \"landcolor\": \"#E5ECF6\", \"showlakes\": true, \"showland\": true, \"subunitcolor\": \"white\"}, \"hoverlabel\": {\"align\": \"left\"}, \"hovermode\": \"closest\", \"mapbox\": {\"style\": \"light\"}, \"paper_bgcolor\": \"white\", \"plot_bgcolor\": \"#E5ECF6\", \"polar\": {\"angularaxis\": {\"gridcolor\": \"white\", \"linecolor\": \"white\", \"ticks\": \"\"}, \"bgcolor\": \"#E5ECF6\", \"radialaxis\": {\"gridcolor\": \"white\", \"linecolor\": \"white\", \"ticks\": \"\"}}, \"scene\": {\"xaxis\": {\"backgroundcolor\": \"#E5ECF6\", \"gridcolor\": \"white\", \"gridwidth\": 2, \"linecolor\": \"white\", \"showbackground\": true, \"ticks\": \"\", \"zerolinecolor\": \"white\"}, \"yaxis\": {\"backgroundcolor\": \"#E5ECF6\", \"gridcolor\": \"white\", \"gridwidth\": 2, \"linecolor\": \"white\", \"showbackground\": true, \"ticks\": \"\", \"zerolinecolor\": \"white\"}, \"zaxis\": {\"backgroundcolor\": \"#E5ECF6\", \"gridcolor\": \"white\", \"gridwidth\": 2, \"linecolor\": \"white\", \"showbackground\": true, \"ticks\": \"\", \"zerolinecolor\": \"white\"}}, \"shapedefaults\": {\"line\": {\"color\": \"#2a3f5f\"}}, \"ternary\": {\"aaxis\": {\"gridcolor\": \"white\", \"linecolor\": \"white\", \"ticks\": \"\"}, \"baxis\": {\"gridcolor\": \"white\", \"linecolor\": \"white\", \"ticks\": \"\"}, \"bgcolor\": \"#E5ECF6\", \"caxis\": {\"gridcolor\": \"white\", \"linecolor\": \"white\", \"ticks\": \"\"}}, \"title\": {\"x\": 0.05}, \"xaxis\": {\"automargin\": true, \"gridcolor\": \"white\", \"linecolor\": \"white\", \"ticks\": \"\", \"title\": {\"standoff\": 15}, \"zerolinecolor\": \"white\", \"zerolinewidth\": 2}, \"yaxis\": {\"automargin\": true, \"gridcolor\": \"white\", \"linecolor\": \"white\", \"ticks\": \"\", \"title\": {\"standoff\": 15}, \"zerolinecolor\": \"white\", \"zerolinewidth\": 2}}}, \"title\": {\"text\": \"home_win_rate of Premier League Clubs Before and After Crowd Suspension\", \"x\": 0, \"xanchor\": \"left\", \"y\": 0.9, \"yanchor\": \"top\"}, \"xaxis\": {\"linewidth\": 2, \"showgrid\": false, \"showline\": true, \"showticklabels\": true, \"tickfont\": {\"family\": \"Arial\", \"size\": 12}, \"ticks\": \"outside\"}, \"yaxis\": {\"showgrid\": false, \"showline\": true, \"showticklabels\": true, \"zeroline\": true}},                        {\"responsive\": true}                    ).then(function(){\n",
       "                            \n",
       "var gd = document.getElementById('0e57a9db-4c24-4532-b7d6-be8924c712ce');\n",
       "var x = new MutationObserver(function (mutations, observer) {{\n",
       "        var display = window.getComputedStyle(gd).display;\n",
       "        if (!display || display === 'none') {{\n",
       "            console.log([gd, 'removed!']);\n",
       "            Plotly.purge(gd);\n",
       "            observer.disconnect();\n",
       "        }}\n",
       "}});\n",
       "\n",
       "// Listen for the removal of the full notebook cells\n",
       "var notebookContainer = gd.closest('#notebook-container');\n",
       "if (notebookContainer) {{\n",
       "    x.observe(notebookContainer, {childList: true});\n",
       "}}\n",
       "\n",
       "// Listen for the clearing of the current output cell\n",
       "var outputEl = gd.closest('.output');\n",
       "if (outputEl) {{\n",
       "    x.observe(outputEl, {childList: true});\n",
       "}}\n",
       "\n",
       "                        })                };                });            </script>        </div>"
      ]
     },
     "metadata": {},
     "output_type": "display_data"
    }
   ],
   "source": [
    "home_stat_viz('home_win_rate', stayed_teams, summary=False)"
   ]
  },
  {
   "cell_type": "code",
   "execution_count": 104,
   "metadata": {},
   "outputs": [
    {
     "data": {
      "application/vnd.plotly.v1+json": {
       "config": {
        "plotlyServerURL": "https://plot.ly"
       },
       "data": [
        {
         "marker": {
          "color": "mediumspringgreen"
         },
         "name": "home_goals before crowd suspension",
         "text": [
          2.7941176470588234,
          2,
          1.2941176470588236,
          1.4848484848484849,
          1.4411764705882353,
          2.8125,
          1.7941176470588236,
          1.0909090909090908,
          1.6666666666666667,
          1.8484848484848484,
          0.9117647058823529,
          1.588235294117647,
          1.2647058823529411,
          1.8235294117647058,
          1.0909090909090908
         ],
         "textposition": "auto",
         "texttemplate": "%{text:.3s}",
         "type": "bar",
         "x": [
          "Liverpool",
          "Arsenal",
          "Burnley",
          "Everton",
          "Wolverhampton Wanderers",
          "Manchester City",
          "Chelsea",
          "Brighton and Hove Albion",
          "West Ham United",
          "Tottenham Hotspur",
          "Crystal Palace",
          "Leicester City",
          "Southampton",
          "Manchester United",
          "Newcastle United"
         ],
         "y": [
          2.7941176470588234,
          2,
          1.2941176470588236,
          1.4848484848484849,
          1.4411764705882353,
          2.8125,
          1.7941176470588236,
          1.0909090909090908,
          1.6666666666666667,
          1.8484848484848484,
          0.9117647058823529,
          1.588235294117647,
          1.2647058823529411,
          1.8235294117647058,
          1.0909090909090908
         ]
        },
        {
         "marker": {
          "color": "lightsalmon"
         },
         "name": "home_goals after crowd suspension",
         "text": [
          1.7826086956521738,
          1.4782608695652173,
          0.782608695652174,
          1.2083333333333333,
          1.173913043478261,
          2.68,
          1.6956521739130435,
          1.0416666666666667,
          1.625,
          1.8333333333333333,
          1,
          1.6956521739130435,
          1.434782608695652,
          2.130434782608696,
          1.4166666666666667
         ],
         "textposition": "auto",
         "texttemplate": "%{text:.3s}",
         "type": "bar",
         "x": [
          "Liverpool",
          "Arsenal",
          "Burnley",
          "Everton",
          "Wolverhampton Wanderers",
          "Manchester City",
          "Chelsea",
          "Brighton and Hove Albion",
          "West Ham United",
          "Tottenham Hotspur",
          "Crystal Palace",
          "Leicester City",
          "Southampton",
          "Manchester United",
          "Newcastle United"
         ],
         "y": [
          1.7826086956521738,
          1.4782608695652173,
          0.782608695652174,
          1.2083333333333333,
          1.173913043478261,
          2.68,
          1.6956521739130435,
          1.0416666666666667,
          1.625,
          1.8333333333333333,
          1,
          1.6956521739130435,
          1.434782608695652,
          2.130434782608696,
          1.4166666666666667
         ]
        }
       ],
       "layout": {
        "autosize": true,
        "barmode": "group",
        "margin": {
         "autoexpand": true,
         "l": 0,
         "r": 0,
         "t": 80
        },
        "plot_bgcolor": "azure",
        "template": {
         "data": {
          "bar": [
           {
            "error_x": {
             "color": "#2a3f5f"
            },
            "error_y": {
             "color": "#2a3f5f"
            },
            "marker": {
             "line": {
              "color": "#E5ECF6",
              "width": 0.5
             }
            },
            "type": "bar"
           }
          ],
          "barpolar": [
           {
            "marker": {
             "line": {
              "color": "#E5ECF6",
              "width": 0.5
             }
            },
            "type": "barpolar"
           }
          ],
          "carpet": [
           {
            "aaxis": {
             "endlinecolor": "#2a3f5f",
             "gridcolor": "white",
             "linecolor": "white",
             "minorgridcolor": "white",
             "startlinecolor": "#2a3f5f"
            },
            "baxis": {
             "endlinecolor": "#2a3f5f",
             "gridcolor": "white",
             "linecolor": "white",
             "minorgridcolor": "white",
             "startlinecolor": "#2a3f5f"
            },
            "type": "carpet"
           }
          ],
          "choropleth": [
           {
            "colorbar": {
             "outlinewidth": 0,
             "ticks": ""
            },
            "type": "choropleth"
           }
          ],
          "contour": [
           {
            "colorbar": {
             "outlinewidth": 0,
             "ticks": ""
            },
            "colorscale": [
             [
              0,
              "#0d0887"
             ],
             [
              0.1111111111111111,
              "#46039f"
             ],
             [
              0.2222222222222222,
              "#7201a8"
             ],
             [
              0.3333333333333333,
              "#9c179e"
             ],
             [
              0.4444444444444444,
              "#bd3786"
             ],
             [
              0.5555555555555556,
              "#d8576b"
             ],
             [
              0.6666666666666666,
              "#ed7953"
             ],
             [
              0.7777777777777778,
              "#fb9f3a"
             ],
             [
              0.8888888888888888,
              "#fdca26"
             ],
             [
              1,
              "#f0f921"
             ]
            ],
            "type": "contour"
           }
          ],
          "contourcarpet": [
           {
            "colorbar": {
             "outlinewidth": 0,
             "ticks": ""
            },
            "type": "contourcarpet"
           }
          ],
          "heatmap": [
           {
            "colorbar": {
             "outlinewidth": 0,
             "ticks": ""
            },
            "colorscale": [
             [
              0,
              "#0d0887"
             ],
             [
              0.1111111111111111,
              "#46039f"
             ],
             [
              0.2222222222222222,
              "#7201a8"
             ],
             [
              0.3333333333333333,
              "#9c179e"
             ],
             [
              0.4444444444444444,
              "#bd3786"
             ],
             [
              0.5555555555555556,
              "#d8576b"
             ],
             [
              0.6666666666666666,
              "#ed7953"
             ],
             [
              0.7777777777777778,
              "#fb9f3a"
             ],
             [
              0.8888888888888888,
              "#fdca26"
             ],
             [
              1,
              "#f0f921"
             ]
            ],
            "type": "heatmap"
           }
          ],
          "heatmapgl": [
           {
            "colorbar": {
             "outlinewidth": 0,
             "ticks": ""
            },
            "colorscale": [
             [
              0,
              "#0d0887"
             ],
             [
              0.1111111111111111,
              "#46039f"
             ],
             [
              0.2222222222222222,
              "#7201a8"
             ],
             [
              0.3333333333333333,
              "#9c179e"
             ],
             [
              0.4444444444444444,
              "#bd3786"
             ],
             [
              0.5555555555555556,
              "#d8576b"
             ],
             [
              0.6666666666666666,
              "#ed7953"
             ],
             [
              0.7777777777777778,
              "#fb9f3a"
             ],
             [
              0.8888888888888888,
              "#fdca26"
             ],
             [
              1,
              "#f0f921"
             ]
            ],
            "type": "heatmapgl"
           }
          ],
          "histogram": [
           {
            "marker": {
             "colorbar": {
              "outlinewidth": 0,
              "ticks": ""
             }
            },
            "type": "histogram"
           }
          ],
          "histogram2d": [
           {
            "colorbar": {
             "outlinewidth": 0,
             "ticks": ""
            },
            "colorscale": [
             [
              0,
              "#0d0887"
             ],
             [
              0.1111111111111111,
              "#46039f"
             ],
             [
              0.2222222222222222,
              "#7201a8"
             ],
             [
              0.3333333333333333,
              "#9c179e"
             ],
             [
              0.4444444444444444,
              "#bd3786"
             ],
             [
              0.5555555555555556,
              "#d8576b"
             ],
             [
              0.6666666666666666,
              "#ed7953"
             ],
             [
              0.7777777777777778,
              "#fb9f3a"
             ],
             [
              0.8888888888888888,
              "#fdca26"
             ],
             [
              1,
              "#f0f921"
             ]
            ],
            "type": "histogram2d"
           }
          ],
          "histogram2dcontour": [
           {
            "colorbar": {
             "outlinewidth": 0,
             "ticks": ""
            },
            "colorscale": [
             [
              0,
              "#0d0887"
             ],
             [
              0.1111111111111111,
              "#46039f"
             ],
             [
              0.2222222222222222,
              "#7201a8"
             ],
             [
              0.3333333333333333,
              "#9c179e"
             ],
             [
              0.4444444444444444,
              "#bd3786"
             ],
             [
              0.5555555555555556,
              "#d8576b"
             ],
             [
              0.6666666666666666,
              "#ed7953"
             ],
             [
              0.7777777777777778,
              "#fb9f3a"
             ],
             [
              0.8888888888888888,
              "#fdca26"
             ],
             [
              1,
              "#f0f921"
             ]
            ],
            "type": "histogram2dcontour"
           }
          ],
          "mesh3d": [
           {
            "colorbar": {
             "outlinewidth": 0,
             "ticks": ""
            },
            "type": "mesh3d"
           }
          ],
          "parcoords": [
           {
            "line": {
             "colorbar": {
              "outlinewidth": 0,
              "ticks": ""
             }
            },
            "type": "parcoords"
           }
          ],
          "pie": [
           {
            "automargin": true,
            "type": "pie"
           }
          ],
          "scatter": [
           {
            "marker": {
             "colorbar": {
              "outlinewidth": 0,
              "ticks": ""
             }
            },
            "type": "scatter"
           }
          ],
          "scatter3d": [
           {
            "line": {
             "colorbar": {
              "outlinewidth": 0,
              "ticks": ""
             }
            },
            "marker": {
             "colorbar": {
              "outlinewidth": 0,
              "ticks": ""
             }
            },
            "type": "scatter3d"
           }
          ],
          "scattercarpet": [
           {
            "marker": {
             "colorbar": {
              "outlinewidth": 0,
              "ticks": ""
             }
            },
            "type": "scattercarpet"
           }
          ],
          "scattergeo": [
           {
            "marker": {
             "colorbar": {
              "outlinewidth": 0,
              "ticks": ""
             }
            },
            "type": "scattergeo"
           }
          ],
          "scattergl": [
           {
            "marker": {
             "colorbar": {
              "outlinewidth": 0,
              "ticks": ""
             }
            },
            "type": "scattergl"
           }
          ],
          "scattermapbox": [
           {
            "marker": {
             "colorbar": {
              "outlinewidth": 0,
              "ticks": ""
             }
            },
            "type": "scattermapbox"
           }
          ],
          "scatterpolar": [
           {
            "marker": {
             "colorbar": {
              "outlinewidth": 0,
              "ticks": ""
             }
            },
            "type": "scatterpolar"
           }
          ],
          "scatterpolargl": [
           {
            "marker": {
             "colorbar": {
              "outlinewidth": 0,
              "ticks": ""
             }
            },
            "type": "scatterpolargl"
           }
          ],
          "scatterternary": [
           {
            "marker": {
             "colorbar": {
              "outlinewidth": 0,
              "ticks": ""
             }
            },
            "type": "scatterternary"
           }
          ],
          "surface": [
           {
            "colorbar": {
             "outlinewidth": 0,
             "ticks": ""
            },
            "colorscale": [
             [
              0,
              "#0d0887"
             ],
             [
              0.1111111111111111,
              "#46039f"
             ],
             [
              0.2222222222222222,
              "#7201a8"
             ],
             [
              0.3333333333333333,
              "#9c179e"
             ],
             [
              0.4444444444444444,
              "#bd3786"
             ],
             [
              0.5555555555555556,
              "#d8576b"
             ],
             [
              0.6666666666666666,
              "#ed7953"
             ],
             [
              0.7777777777777778,
              "#fb9f3a"
             ],
             [
              0.8888888888888888,
              "#fdca26"
             ],
             [
              1,
              "#f0f921"
             ]
            ],
            "type": "surface"
           }
          ],
          "table": [
           {
            "cells": {
             "fill": {
              "color": "#EBF0F8"
             },
             "line": {
              "color": "white"
             }
            },
            "header": {
             "fill": {
              "color": "#C8D4E3"
             },
             "line": {
              "color": "white"
             }
            },
            "type": "table"
           }
          ]
         },
         "layout": {
          "annotationdefaults": {
           "arrowcolor": "#2a3f5f",
           "arrowhead": 0,
           "arrowwidth": 1
          },
          "autotypenumbers": "strict",
          "coloraxis": {
           "colorbar": {
            "outlinewidth": 0,
            "ticks": ""
           }
          },
          "colorscale": {
           "diverging": [
            [
             0,
             "#8e0152"
            ],
            [
             0.1,
             "#c51b7d"
            ],
            [
             0.2,
             "#de77ae"
            ],
            [
             0.3,
             "#f1b6da"
            ],
            [
             0.4,
             "#fde0ef"
            ],
            [
             0.5,
             "#f7f7f7"
            ],
            [
             0.6,
             "#e6f5d0"
            ],
            [
             0.7,
             "#b8e186"
            ],
            [
             0.8,
             "#7fbc41"
            ],
            [
             0.9,
             "#4d9221"
            ],
            [
             1,
             "#276419"
            ]
           ],
           "sequential": [
            [
             0,
             "#0d0887"
            ],
            [
             0.1111111111111111,
             "#46039f"
            ],
            [
             0.2222222222222222,
             "#7201a8"
            ],
            [
             0.3333333333333333,
             "#9c179e"
            ],
            [
             0.4444444444444444,
             "#bd3786"
            ],
            [
             0.5555555555555556,
             "#d8576b"
            ],
            [
             0.6666666666666666,
             "#ed7953"
            ],
            [
             0.7777777777777778,
             "#fb9f3a"
            ],
            [
             0.8888888888888888,
             "#fdca26"
            ],
            [
             1,
             "#f0f921"
            ]
           ],
           "sequentialminus": [
            [
             0,
             "#0d0887"
            ],
            [
             0.1111111111111111,
             "#46039f"
            ],
            [
             0.2222222222222222,
             "#7201a8"
            ],
            [
             0.3333333333333333,
             "#9c179e"
            ],
            [
             0.4444444444444444,
             "#bd3786"
            ],
            [
             0.5555555555555556,
             "#d8576b"
            ],
            [
             0.6666666666666666,
             "#ed7953"
            ],
            [
             0.7777777777777778,
             "#fb9f3a"
            ],
            [
             0.8888888888888888,
             "#fdca26"
            ],
            [
             1,
             "#f0f921"
            ]
           ]
          },
          "colorway": [
           "#636efa",
           "#EF553B",
           "#00cc96",
           "#ab63fa",
           "#FFA15A",
           "#19d3f3",
           "#FF6692",
           "#B6E880",
           "#FF97FF",
           "#FECB52"
          ],
          "font": {
           "color": "#2a3f5f"
          },
          "geo": {
           "bgcolor": "white",
           "lakecolor": "white",
           "landcolor": "#E5ECF6",
           "showlakes": true,
           "showland": true,
           "subunitcolor": "white"
          },
          "hoverlabel": {
           "align": "left"
          },
          "hovermode": "closest",
          "mapbox": {
           "style": "light"
          },
          "paper_bgcolor": "white",
          "plot_bgcolor": "#E5ECF6",
          "polar": {
           "angularaxis": {
            "gridcolor": "white",
            "linecolor": "white",
            "ticks": ""
           },
           "bgcolor": "#E5ECF6",
           "radialaxis": {
            "gridcolor": "white",
            "linecolor": "white",
            "ticks": ""
           }
          },
          "scene": {
           "xaxis": {
            "backgroundcolor": "#E5ECF6",
            "gridcolor": "white",
            "gridwidth": 2,
            "linecolor": "white",
            "showbackground": true,
            "ticks": "",
            "zerolinecolor": "white"
           },
           "yaxis": {
            "backgroundcolor": "#E5ECF6",
            "gridcolor": "white",
            "gridwidth": 2,
            "linecolor": "white",
            "showbackground": true,
            "ticks": "",
            "zerolinecolor": "white"
           },
           "zaxis": {
            "backgroundcolor": "#E5ECF6",
            "gridcolor": "white",
            "gridwidth": 2,
            "linecolor": "white",
            "showbackground": true,
            "ticks": "",
            "zerolinecolor": "white"
           }
          },
          "shapedefaults": {
           "line": {
            "color": "#2a3f5f"
           }
          },
          "ternary": {
           "aaxis": {
            "gridcolor": "white",
            "linecolor": "white",
            "ticks": ""
           },
           "baxis": {
            "gridcolor": "white",
            "linecolor": "white",
            "ticks": ""
           },
           "bgcolor": "#E5ECF6",
           "caxis": {
            "gridcolor": "white",
            "linecolor": "white",
            "ticks": ""
           }
          },
          "title": {
           "x": 0.05
          },
          "xaxis": {
           "automargin": true,
           "gridcolor": "white",
           "linecolor": "white",
           "ticks": "",
           "title": {
            "standoff": 15
           },
           "zerolinecolor": "white",
           "zerolinewidth": 2
          },
          "yaxis": {
           "automargin": true,
           "gridcolor": "white",
           "linecolor": "white",
           "ticks": "",
           "title": {
            "standoff": 15
           },
           "zerolinecolor": "white",
           "zerolinewidth": 2
          }
         }
        },
        "title": {
         "text": "home_goals of Premier League Clubs Before and After Crowd Suspension",
         "x": 0,
         "xanchor": "left",
         "y": 0.9,
         "yanchor": "top"
        },
        "xaxis": {
         "linewidth": 2,
         "showgrid": false,
         "showline": true,
         "showticklabels": true,
         "tickfont": {
          "family": "Arial",
          "size": 12
         },
         "ticks": "outside"
        },
        "yaxis": {
         "showgrid": false,
         "showline": true,
         "showticklabels": true,
         "zeroline": true
        }
       }
      },
      "text/html": [
       "<div>                            <div id=\"df5bf4a0-65b3-46f9-907c-9e5ca46a26b0\" class=\"plotly-graph-div\" style=\"height:525px; width:100%;\"></div>            <script type=\"text/javascript\">                require([\"plotly\"], function(Plotly) {                    window.PLOTLYENV=window.PLOTLYENV || {};                                    if (document.getElementById(\"df5bf4a0-65b3-46f9-907c-9e5ca46a26b0\")) {                    Plotly.newPlot(                        \"df5bf4a0-65b3-46f9-907c-9e5ca46a26b0\",                        [{\"marker\": {\"color\": \"mediumspringgreen\"}, \"name\": \"home_goals before crowd suspension\", \"text\": [2.7941176470588234, 2.0, 1.2941176470588236, 1.4848484848484849, 1.4411764705882353, 2.8125, 1.7941176470588236, 1.0909090909090908, 1.6666666666666667, 1.8484848484848484, 0.9117647058823529, 1.588235294117647, 1.2647058823529411, 1.8235294117647058, 1.0909090909090908], \"textposition\": \"auto\", \"texttemplate\": \"%{text:.3s}\", \"type\": \"bar\", \"x\": [\"Liverpool\", \"Arsenal\", \"Burnley\", \"Everton\", \"Wolverhampton Wanderers\", \"Manchester City\", \"Chelsea\", \"Brighton and Hove Albion\", \"West Ham United\", \"Tottenham Hotspur\", \"Crystal Palace\", \"Leicester City\", \"Southampton\", \"Manchester United\", \"Newcastle United\"], \"y\": [2.7941176470588234, 2.0, 1.2941176470588236, 1.4848484848484849, 1.4411764705882353, 2.8125, 1.7941176470588236, 1.0909090909090908, 1.6666666666666667, 1.8484848484848484, 0.9117647058823529, 1.588235294117647, 1.2647058823529411, 1.8235294117647058, 1.0909090909090908]}, {\"marker\": {\"color\": \"lightsalmon\"}, \"name\": \"home_goals after crowd suspension\", \"text\": [1.7826086956521738, 1.4782608695652173, 0.782608695652174, 1.2083333333333333, 1.173913043478261, 2.68, 1.6956521739130435, 1.0416666666666667, 1.625, 1.8333333333333333, 1.0, 1.6956521739130435, 1.434782608695652, 2.130434782608696, 1.4166666666666667], \"textposition\": \"auto\", \"texttemplate\": \"%{text:.3s}\", \"type\": \"bar\", \"x\": [\"Liverpool\", \"Arsenal\", \"Burnley\", \"Everton\", \"Wolverhampton Wanderers\", \"Manchester City\", \"Chelsea\", \"Brighton and Hove Albion\", \"West Ham United\", \"Tottenham Hotspur\", \"Crystal Palace\", \"Leicester City\", \"Southampton\", \"Manchester United\", \"Newcastle United\"], \"y\": [1.7826086956521738, 1.4782608695652173, 0.782608695652174, 1.2083333333333333, 1.173913043478261, 2.68, 1.6956521739130435, 1.0416666666666667, 1.625, 1.8333333333333333, 1.0, 1.6956521739130435, 1.434782608695652, 2.130434782608696, 1.4166666666666667]}],                        {\"autosize\": true, \"barmode\": \"group\", \"margin\": {\"autoexpand\": true, \"l\": 0, \"r\": 0, \"t\": 80}, \"plot_bgcolor\": \"azure\", \"template\": {\"data\": {\"bar\": [{\"error_x\": {\"color\": \"#2a3f5f\"}, \"error_y\": {\"color\": \"#2a3f5f\"}, \"marker\": {\"line\": {\"color\": \"#E5ECF6\", \"width\": 0.5}}, \"type\": \"bar\"}], \"barpolar\": [{\"marker\": {\"line\": {\"color\": \"#E5ECF6\", \"width\": 0.5}}, \"type\": \"barpolar\"}], \"carpet\": [{\"aaxis\": {\"endlinecolor\": \"#2a3f5f\", \"gridcolor\": \"white\", \"linecolor\": \"white\", \"minorgridcolor\": \"white\", \"startlinecolor\": \"#2a3f5f\"}, \"baxis\": {\"endlinecolor\": \"#2a3f5f\", \"gridcolor\": \"white\", \"linecolor\": \"white\", \"minorgridcolor\": \"white\", \"startlinecolor\": \"#2a3f5f\"}, \"type\": \"carpet\"}], \"choropleth\": [{\"colorbar\": {\"outlinewidth\": 0, \"ticks\": \"\"}, \"type\": \"choropleth\"}], \"contour\": [{\"colorbar\": {\"outlinewidth\": 0, \"ticks\": \"\"}, \"colorscale\": [[0.0, \"#0d0887\"], [0.1111111111111111, \"#46039f\"], [0.2222222222222222, \"#7201a8\"], [0.3333333333333333, \"#9c179e\"], [0.4444444444444444, \"#bd3786\"], [0.5555555555555556, \"#d8576b\"], [0.6666666666666666, \"#ed7953\"], [0.7777777777777778, \"#fb9f3a\"], [0.8888888888888888, \"#fdca26\"], [1.0, \"#f0f921\"]], \"type\": \"contour\"}], \"contourcarpet\": [{\"colorbar\": {\"outlinewidth\": 0, \"ticks\": \"\"}, \"type\": \"contourcarpet\"}], \"heatmap\": [{\"colorbar\": {\"outlinewidth\": 0, \"ticks\": \"\"}, \"colorscale\": [[0.0, \"#0d0887\"], [0.1111111111111111, \"#46039f\"], [0.2222222222222222, \"#7201a8\"], [0.3333333333333333, \"#9c179e\"], [0.4444444444444444, \"#bd3786\"], [0.5555555555555556, \"#d8576b\"], [0.6666666666666666, \"#ed7953\"], [0.7777777777777778, \"#fb9f3a\"], [0.8888888888888888, \"#fdca26\"], [1.0, \"#f0f921\"]], \"type\": \"heatmap\"}], \"heatmapgl\": [{\"colorbar\": {\"outlinewidth\": 0, \"ticks\": \"\"}, \"colorscale\": [[0.0, \"#0d0887\"], [0.1111111111111111, \"#46039f\"], [0.2222222222222222, \"#7201a8\"], [0.3333333333333333, \"#9c179e\"], [0.4444444444444444, \"#bd3786\"], [0.5555555555555556, \"#d8576b\"], [0.6666666666666666, \"#ed7953\"], [0.7777777777777778, \"#fb9f3a\"], [0.8888888888888888, \"#fdca26\"], [1.0, \"#f0f921\"]], \"type\": \"heatmapgl\"}], \"histogram\": [{\"marker\": {\"colorbar\": {\"outlinewidth\": 0, \"ticks\": \"\"}}, \"type\": \"histogram\"}], \"histogram2d\": [{\"colorbar\": {\"outlinewidth\": 0, \"ticks\": \"\"}, \"colorscale\": [[0.0, \"#0d0887\"], [0.1111111111111111, \"#46039f\"], [0.2222222222222222, \"#7201a8\"], [0.3333333333333333, \"#9c179e\"], [0.4444444444444444, \"#bd3786\"], [0.5555555555555556, \"#d8576b\"], [0.6666666666666666, \"#ed7953\"], [0.7777777777777778, \"#fb9f3a\"], [0.8888888888888888, \"#fdca26\"], [1.0, \"#f0f921\"]], \"type\": \"histogram2d\"}], \"histogram2dcontour\": [{\"colorbar\": {\"outlinewidth\": 0, \"ticks\": \"\"}, \"colorscale\": [[0.0, \"#0d0887\"], [0.1111111111111111, \"#46039f\"], [0.2222222222222222, \"#7201a8\"], [0.3333333333333333, \"#9c179e\"], [0.4444444444444444, \"#bd3786\"], [0.5555555555555556, \"#d8576b\"], [0.6666666666666666, \"#ed7953\"], [0.7777777777777778, \"#fb9f3a\"], [0.8888888888888888, \"#fdca26\"], [1.0, \"#f0f921\"]], \"type\": \"histogram2dcontour\"}], \"mesh3d\": [{\"colorbar\": {\"outlinewidth\": 0, \"ticks\": \"\"}, \"type\": \"mesh3d\"}], \"parcoords\": [{\"line\": {\"colorbar\": {\"outlinewidth\": 0, \"ticks\": \"\"}}, \"type\": \"parcoords\"}], \"pie\": [{\"automargin\": true, \"type\": \"pie\"}], \"scatter\": [{\"marker\": {\"colorbar\": {\"outlinewidth\": 0, \"ticks\": \"\"}}, \"type\": \"scatter\"}], \"scatter3d\": [{\"line\": {\"colorbar\": {\"outlinewidth\": 0, \"ticks\": \"\"}}, \"marker\": {\"colorbar\": {\"outlinewidth\": 0, \"ticks\": \"\"}}, \"type\": \"scatter3d\"}], \"scattercarpet\": [{\"marker\": {\"colorbar\": {\"outlinewidth\": 0, \"ticks\": \"\"}}, \"type\": \"scattercarpet\"}], \"scattergeo\": [{\"marker\": {\"colorbar\": {\"outlinewidth\": 0, \"ticks\": \"\"}}, \"type\": \"scattergeo\"}], \"scattergl\": [{\"marker\": {\"colorbar\": {\"outlinewidth\": 0, \"ticks\": \"\"}}, \"type\": \"scattergl\"}], \"scattermapbox\": [{\"marker\": {\"colorbar\": {\"outlinewidth\": 0, \"ticks\": \"\"}}, \"type\": \"scattermapbox\"}], \"scatterpolar\": [{\"marker\": {\"colorbar\": {\"outlinewidth\": 0, \"ticks\": \"\"}}, \"type\": \"scatterpolar\"}], \"scatterpolargl\": [{\"marker\": {\"colorbar\": {\"outlinewidth\": 0, \"ticks\": \"\"}}, \"type\": \"scatterpolargl\"}], \"scatterternary\": [{\"marker\": {\"colorbar\": {\"outlinewidth\": 0, \"ticks\": \"\"}}, \"type\": \"scatterternary\"}], \"surface\": [{\"colorbar\": {\"outlinewidth\": 0, \"ticks\": \"\"}, \"colorscale\": [[0.0, \"#0d0887\"], [0.1111111111111111, \"#46039f\"], [0.2222222222222222, \"#7201a8\"], [0.3333333333333333, \"#9c179e\"], [0.4444444444444444, \"#bd3786\"], [0.5555555555555556, \"#d8576b\"], [0.6666666666666666, \"#ed7953\"], [0.7777777777777778, \"#fb9f3a\"], [0.8888888888888888, \"#fdca26\"], [1.0, \"#f0f921\"]], \"type\": \"surface\"}], \"table\": [{\"cells\": {\"fill\": {\"color\": \"#EBF0F8\"}, \"line\": {\"color\": \"white\"}}, \"header\": {\"fill\": {\"color\": \"#C8D4E3\"}, \"line\": {\"color\": \"white\"}}, \"type\": \"table\"}]}, \"layout\": {\"annotationdefaults\": {\"arrowcolor\": \"#2a3f5f\", \"arrowhead\": 0, \"arrowwidth\": 1}, \"autotypenumbers\": \"strict\", \"coloraxis\": {\"colorbar\": {\"outlinewidth\": 0, \"ticks\": \"\"}}, \"colorscale\": {\"diverging\": [[0, \"#8e0152\"], [0.1, \"#c51b7d\"], [0.2, \"#de77ae\"], [0.3, \"#f1b6da\"], [0.4, \"#fde0ef\"], [0.5, \"#f7f7f7\"], [0.6, \"#e6f5d0\"], [0.7, \"#b8e186\"], [0.8, \"#7fbc41\"], [0.9, \"#4d9221\"], [1, \"#276419\"]], \"sequential\": [[0.0, \"#0d0887\"], [0.1111111111111111, \"#46039f\"], [0.2222222222222222, \"#7201a8\"], [0.3333333333333333, \"#9c179e\"], [0.4444444444444444, \"#bd3786\"], [0.5555555555555556, \"#d8576b\"], [0.6666666666666666, \"#ed7953\"], [0.7777777777777778, \"#fb9f3a\"], [0.8888888888888888, \"#fdca26\"], [1.0, \"#f0f921\"]], \"sequentialminus\": [[0.0, \"#0d0887\"], [0.1111111111111111, \"#46039f\"], [0.2222222222222222, \"#7201a8\"], [0.3333333333333333, \"#9c179e\"], [0.4444444444444444, \"#bd3786\"], [0.5555555555555556, \"#d8576b\"], [0.6666666666666666, \"#ed7953\"], [0.7777777777777778, \"#fb9f3a\"], [0.8888888888888888, \"#fdca26\"], [1.0, \"#f0f921\"]]}, \"colorway\": [\"#636efa\", \"#EF553B\", \"#00cc96\", \"#ab63fa\", \"#FFA15A\", \"#19d3f3\", \"#FF6692\", \"#B6E880\", \"#FF97FF\", \"#FECB52\"], \"font\": {\"color\": \"#2a3f5f\"}, \"geo\": {\"bgcolor\": \"white\", \"lakecolor\": \"white\", \"landcolor\": \"#E5ECF6\", \"showlakes\": true, \"showland\": true, \"subunitcolor\": \"white\"}, \"hoverlabel\": {\"align\": \"left\"}, \"hovermode\": \"closest\", \"mapbox\": {\"style\": \"light\"}, \"paper_bgcolor\": \"white\", \"plot_bgcolor\": \"#E5ECF6\", \"polar\": {\"angularaxis\": {\"gridcolor\": \"white\", \"linecolor\": \"white\", \"ticks\": \"\"}, \"bgcolor\": \"#E5ECF6\", \"radialaxis\": {\"gridcolor\": \"white\", \"linecolor\": \"white\", \"ticks\": \"\"}}, \"scene\": {\"xaxis\": {\"backgroundcolor\": \"#E5ECF6\", \"gridcolor\": \"white\", \"gridwidth\": 2, \"linecolor\": \"white\", \"showbackground\": true, \"ticks\": \"\", \"zerolinecolor\": \"white\"}, \"yaxis\": {\"backgroundcolor\": \"#E5ECF6\", \"gridcolor\": \"white\", \"gridwidth\": 2, \"linecolor\": \"white\", \"showbackground\": true, \"ticks\": \"\", \"zerolinecolor\": \"white\"}, \"zaxis\": {\"backgroundcolor\": \"#E5ECF6\", \"gridcolor\": \"white\", \"gridwidth\": 2, \"linecolor\": \"white\", \"showbackground\": true, \"ticks\": \"\", \"zerolinecolor\": \"white\"}}, \"shapedefaults\": {\"line\": {\"color\": \"#2a3f5f\"}}, \"ternary\": {\"aaxis\": {\"gridcolor\": \"white\", \"linecolor\": \"white\", \"ticks\": \"\"}, \"baxis\": {\"gridcolor\": \"white\", \"linecolor\": \"white\", \"ticks\": \"\"}, \"bgcolor\": \"#E5ECF6\", \"caxis\": {\"gridcolor\": \"white\", \"linecolor\": \"white\", \"ticks\": \"\"}}, \"title\": {\"x\": 0.05}, \"xaxis\": {\"automargin\": true, \"gridcolor\": \"white\", \"linecolor\": \"white\", \"ticks\": \"\", \"title\": {\"standoff\": 15}, \"zerolinecolor\": \"white\", \"zerolinewidth\": 2}, \"yaxis\": {\"automargin\": true, \"gridcolor\": \"white\", \"linecolor\": \"white\", \"ticks\": \"\", \"title\": {\"standoff\": 15}, \"zerolinecolor\": \"white\", \"zerolinewidth\": 2}}}, \"title\": {\"text\": \"home_goals of Premier League Clubs Before and After Crowd Suspension\", \"x\": 0, \"xanchor\": \"left\", \"y\": 0.9, \"yanchor\": \"top\"}, \"xaxis\": {\"linewidth\": 2, \"showgrid\": false, \"showline\": true, \"showticklabels\": true, \"tickfont\": {\"family\": \"Arial\", \"size\": 12}, \"ticks\": \"outside\"}, \"yaxis\": {\"showgrid\": false, \"showline\": true, \"showticklabels\": true, \"zeroline\": true}},                        {\"responsive\": true}                    ).then(function(){\n",
       "                            \n",
       "var gd = document.getElementById('df5bf4a0-65b3-46f9-907c-9e5ca46a26b0');\n",
       "var x = new MutationObserver(function (mutations, observer) {{\n",
       "        var display = window.getComputedStyle(gd).display;\n",
       "        if (!display || display === 'none') {{\n",
       "            console.log([gd, 'removed!']);\n",
       "            Plotly.purge(gd);\n",
       "            observer.disconnect();\n",
       "        }}\n",
       "}});\n",
       "\n",
       "// Listen for the removal of the full notebook cells\n",
       "var notebookContainer = gd.closest('#notebook-container');\n",
       "if (notebookContainer) {{\n",
       "    x.observe(notebookContainer, {childList: true});\n",
       "}}\n",
       "\n",
       "// Listen for the clearing of the current output cell\n",
       "var outputEl = gd.closest('.output');\n",
       "if (outputEl) {{\n",
       "    x.observe(outputEl, {childList: true});\n",
       "}}\n",
       "\n",
       "                        })                };                });            </script>        </div>"
      ]
     },
     "metadata": {},
     "output_type": "display_data"
    }
   ],
   "source": [
    "home_stat_viz('home_goals', stayed_teams, summary=False)"
   ]
  },
  {
   "cell_type": "markdown",
   "metadata": {},
   "source": [
    "**Insights**\n",
    "<br>\n",
    "1. From the graphs above shown that Liverpool, Arsenal, Burnley, and Everton are the teams who had decreased the most in home win rate, home points per game, and home goals per game since there was no spectators. \n",
    "2. Tottenham stats did not get affected meaningfully by no spectators at home stadium."
   ]
  },
  {
   "cell_type": "markdown",
   "metadata": {},
   "source": [
    "#### Away Stats"
   ]
  },
  {
   "cell_type": "code",
   "execution_count": 107,
   "metadata": {},
   "outputs": [
    {
     "data": {
      "application/vnd.plotly.v1+json": {
       "config": {
        "plotlyServerURL": "https://plot.ly"
       },
       "data": [
        {
         "marker": {
          "color": "mediumspringgreen"
         },
         "name": "away_ppg before crowd suspension",
         "text": [
          2.4545454545454546,
          1.393939393939394,
          1.3333333333333333,
          1.6363636363636365,
          1.0909090909090908,
          1.411764705882353,
          2.1176470588235294,
          1,
          1.4545454545454546,
          1,
          1.21875,
          0.7058823529411765,
          0.9705882352941176,
          0.9411764705882353,
          1.393939393939394
         ],
         "textposition": "auto",
         "texttemplate": "%{text:.3s}",
         "type": "bar",
         "x": [
          "Liverpool",
          "Crystal Palace",
          "Wolverhampton Wanderers",
          "Chelsea",
          "Southampton",
          "Tottenham Hotspur",
          "Manchester City",
          "Newcastle United",
          "Leicester City",
          "Burnley",
          "Arsenal",
          "Brighton and Hove Albion",
          "West Ham United",
          "Everton",
          "Manchester United"
         ],
         "y": [
          2.4545454545454546,
          1.393939393939394,
          1.3333333333333333,
          1.6363636363636365,
          1.0909090909090908,
          1.411764705882353,
          2.1176470588235294,
          1,
          1.4545454545454546,
          1,
          1.21875,
          0.7058823529411765,
          0.9705882352941176,
          0.9411764705882353,
          1.393939393939394
         ]
        },
        {
         "marker": {
          "color": "lightsalmon"
         },
         "name": "away_ppg after crowd suspension",
         "text": [
          1.7916666666666667,
          1,
          1.125,
          1.6666666666666667,
          1.125,
          1.4782608695652173,
          2.217391304347826,
          1.1304347826086956,
          1.6666666666666667,
          1.2916666666666667,
          1.56,
          1.2173913043478262,
          1.565217391304348,
          1.8695652173913044,
          2.3333333333333335
         ],
         "textposition": "auto",
         "texttemplate": "%{text:.3s}",
         "type": "bar",
         "x": [
          "Liverpool",
          "Crystal Palace",
          "Wolverhampton Wanderers",
          "Chelsea",
          "Southampton",
          "Tottenham Hotspur",
          "Manchester City",
          "Newcastle United",
          "Leicester City",
          "Burnley",
          "Arsenal",
          "Brighton and Hove Albion",
          "West Ham United",
          "Everton",
          "Manchester United"
         ],
         "y": [
          1.7916666666666667,
          1,
          1.125,
          1.6666666666666667,
          1.125,
          1.4782608695652173,
          2.217391304347826,
          1.1304347826086956,
          1.6666666666666667,
          1.2916666666666667,
          1.56,
          1.2173913043478262,
          1.565217391304348,
          1.8695652173913044,
          2.3333333333333335
         ]
        }
       ],
       "layout": {
        "autosize": true,
        "barmode": "group",
        "margin": {
         "autoexpand": true,
         "l": 0,
         "r": 0,
         "t": 80
        },
        "plot_bgcolor": "azure",
        "template": {
         "data": {
          "bar": [
           {
            "error_x": {
             "color": "#2a3f5f"
            },
            "error_y": {
             "color": "#2a3f5f"
            },
            "marker": {
             "line": {
              "color": "#E5ECF6",
              "width": 0.5
             }
            },
            "type": "bar"
           }
          ],
          "barpolar": [
           {
            "marker": {
             "line": {
              "color": "#E5ECF6",
              "width": 0.5
             }
            },
            "type": "barpolar"
           }
          ],
          "carpet": [
           {
            "aaxis": {
             "endlinecolor": "#2a3f5f",
             "gridcolor": "white",
             "linecolor": "white",
             "minorgridcolor": "white",
             "startlinecolor": "#2a3f5f"
            },
            "baxis": {
             "endlinecolor": "#2a3f5f",
             "gridcolor": "white",
             "linecolor": "white",
             "minorgridcolor": "white",
             "startlinecolor": "#2a3f5f"
            },
            "type": "carpet"
           }
          ],
          "choropleth": [
           {
            "colorbar": {
             "outlinewidth": 0,
             "ticks": ""
            },
            "type": "choropleth"
           }
          ],
          "contour": [
           {
            "colorbar": {
             "outlinewidth": 0,
             "ticks": ""
            },
            "colorscale": [
             [
              0,
              "#0d0887"
             ],
             [
              0.1111111111111111,
              "#46039f"
             ],
             [
              0.2222222222222222,
              "#7201a8"
             ],
             [
              0.3333333333333333,
              "#9c179e"
             ],
             [
              0.4444444444444444,
              "#bd3786"
             ],
             [
              0.5555555555555556,
              "#d8576b"
             ],
             [
              0.6666666666666666,
              "#ed7953"
             ],
             [
              0.7777777777777778,
              "#fb9f3a"
             ],
             [
              0.8888888888888888,
              "#fdca26"
             ],
             [
              1,
              "#f0f921"
             ]
            ],
            "type": "contour"
           }
          ],
          "contourcarpet": [
           {
            "colorbar": {
             "outlinewidth": 0,
             "ticks": ""
            },
            "type": "contourcarpet"
           }
          ],
          "heatmap": [
           {
            "colorbar": {
             "outlinewidth": 0,
             "ticks": ""
            },
            "colorscale": [
             [
              0,
              "#0d0887"
             ],
             [
              0.1111111111111111,
              "#46039f"
             ],
             [
              0.2222222222222222,
              "#7201a8"
             ],
             [
              0.3333333333333333,
              "#9c179e"
             ],
             [
              0.4444444444444444,
              "#bd3786"
             ],
             [
              0.5555555555555556,
              "#d8576b"
             ],
             [
              0.6666666666666666,
              "#ed7953"
             ],
             [
              0.7777777777777778,
              "#fb9f3a"
             ],
             [
              0.8888888888888888,
              "#fdca26"
             ],
             [
              1,
              "#f0f921"
             ]
            ],
            "type": "heatmap"
           }
          ],
          "heatmapgl": [
           {
            "colorbar": {
             "outlinewidth": 0,
             "ticks": ""
            },
            "colorscale": [
             [
              0,
              "#0d0887"
             ],
             [
              0.1111111111111111,
              "#46039f"
             ],
             [
              0.2222222222222222,
              "#7201a8"
             ],
             [
              0.3333333333333333,
              "#9c179e"
             ],
             [
              0.4444444444444444,
              "#bd3786"
             ],
             [
              0.5555555555555556,
              "#d8576b"
             ],
             [
              0.6666666666666666,
              "#ed7953"
             ],
             [
              0.7777777777777778,
              "#fb9f3a"
             ],
             [
              0.8888888888888888,
              "#fdca26"
             ],
             [
              1,
              "#f0f921"
             ]
            ],
            "type": "heatmapgl"
           }
          ],
          "histogram": [
           {
            "marker": {
             "colorbar": {
              "outlinewidth": 0,
              "ticks": ""
             }
            },
            "type": "histogram"
           }
          ],
          "histogram2d": [
           {
            "colorbar": {
             "outlinewidth": 0,
             "ticks": ""
            },
            "colorscale": [
             [
              0,
              "#0d0887"
             ],
             [
              0.1111111111111111,
              "#46039f"
             ],
             [
              0.2222222222222222,
              "#7201a8"
             ],
             [
              0.3333333333333333,
              "#9c179e"
             ],
             [
              0.4444444444444444,
              "#bd3786"
             ],
             [
              0.5555555555555556,
              "#d8576b"
             ],
             [
              0.6666666666666666,
              "#ed7953"
             ],
             [
              0.7777777777777778,
              "#fb9f3a"
             ],
             [
              0.8888888888888888,
              "#fdca26"
             ],
             [
              1,
              "#f0f921"
             ]
            ],
            "type": "histogram2d"
           }
          ],
          "histogram2dcontour": [
           {
            "colorbar": {
             "outlinewidth": 0,
             "ticks": ""
            },
            "colorscale": [
             [
              0,
              "#0d0887"
             ],
             [
              0.1111111111111111,
              "#46039f"
             ],
             [
              0.2222222222222222,
              "#7201a8"
             ],
             [
              0.3333333333333333,
              "#9c179e"
             ],
             [
              0.4444444444444444,
              "#bd3786"
             ],
             [
              0.5555555555555556,
              "#d8576b"
             ],
             [
              0.6666666666666666,
              "#ed7953"
             ],
             [
              0.7777777777777778,
              "#fb9f3a"
             ],
             [
              0.8888888888888888,
              "#fdca26"
             ],
             [
              1,
              "#f0f921"
             ]
            ],
            "type": "histogram2dcontour"
           }
          ],
          "mesh3d": [
           {
            "colorbar": {
             "outlinewidth": 0,
             "ticks": ""
            },
            "type": "mesh3d"
           }
          ],
          "parcoords": [
           {
            "line": {
             "colorbar": {
              "outlinewidth": 0,
              "ticks": ""
             }
            },
            "type": "parcoords"
           }
          ],
          "pie": [
           {
            "automargin": true,
            "type": "pie"
           }
          ],
          "scatter": [
           {
            "marker": {
             "colorbar": {
              "outlinewidth": 0,
              "ticks": ""
             }
            },
            "type": "scatter"
           }
          ],
          "scatter3d": [
           {
            "line": {
             "colorbar": {
              "outlinewidth": 0,
              "ticks": ""
             }
            },
            "marker": {
             "colorbar": {
              "outlinewidth": 0,
              "ticks": ""
             }
            },
            "type": "scatter3d"
           }
          ],
          "scattercarpet": [
           {
            "marker": {
             "colorbar": {
              "outlinewidth": 0,
              "ticks": ""
             }
            },
            "type": "scattercarpet"
           }
          ],
          "scattergeo": [
           {
            "marker": {
             "colorbar": {
              "outlinewidth": 0,
              "ticks": ""
             }
            },
            "type": "scattergeo"
           }
          ],
          "scattergl": [
           {
            "marker": {
             "colorbar": {
              "outlinewidth": 0,
              "ticks": ""
             }
            },
            "type": "scattergl"
           }
          ],
          "scattermapbox": [
           {
            "marker": {
             "colorbar": {
              "outlinewidth": 0,
              "ticks": ""
             }
            },
            "type": "scattermapbox"
           }
          ],
          "scatterpolar": [
           {
            "marker": {
             "colorbar": {
              "outlinewidth": 0,
              "ticks": ""
             }
            },
            "type": "scatterpolar"
           }
          ],
          "scatterpolargl": [
           {
            "marker": {
             "colorbar": {
              "outlinewidth": 0,
              "ticks": ""
             }
            },
            "type": "scatterpolargl"
           }
          ],
          "scatterternary": [
           {
            "marker": {
             "colorbar": {
              "outlinewidth": 0,
              "ticks": ""
             }
            },
            "type": "scatterternary"
           }
          ],
          "surface": [
           {
            "colorbar": {
             "outlinewidth": 0,
             "ticks": ""
            },
            "colorscale": [
             [
              0,
              "#0d0887"
             ],
             [
              0.1111111111111111,
              "#46039f"
             ],
             [
              0.2222222222222222,
              "#7201a8"
             ],
             [
              0.3333333333333333,
              "#9c179e"
             ],
             [
              0.4444444444444444,
              "#bd3786"
             ],
             [
              0.5555555555555556,
              "#d8576b"
             ],
             [
              0.6666666666666666,
              "#ed7953"
             ],
             [
              0.7777777777777778,
              "#fb9f3a"
             ],
             [
              0.8888888888888888,
              "#fdca26"
             ],
             [
              1,
              "#f0f921"
             ]
            ],
            "type": "surface"
           }
          ],
          "table": [
           {
            "cells": {
             "fill": {
              "color": "#EBF0F8"
             },
             "line": {
              "color": "white"
             }
            },
            "header": {
             "fill": {
              "color": "#C8D4E3"
             },
             "line": {
              "color": "white"
             }
            },
            "type": "table"
           }
          ]
         },
         "layout": {
          "annotationdefaults": {
           "arrowcolor": "#2a3f5f",
           "arrowhead": 0,
           "arrowwidth": 1
          },
          "autotypenumbers": "strict",
          "coloraxis": {
           "colorbar": {
            "outlinewidth": 0,
            "ticks": ""
           }
          },
          "colorscale": {
           "diverging": [
            [
             0,
             "#8e0152"
            ],
            [
             0.1,
             "#c51b7d"
            ],
            [
             0.2,
             "#de77ae"
            ],
            [
             0.3,
             "#f1b6da"
            ],
            [
             0.4,
             "#fde0ef"
            ],
            [
             0.5,
             "#f7f7f7"
            ],
            [
             0.6,
             "#e6f5d0"
            ],
            [
             0.7,
             "#b8e186"
            ],
            [
             0.8,
             "#7fbc41"
            ],
            [
             0.9,
             "#4d9221"
            ],
            [
             1,
             "#276419"
            ]
           ],
           "sequential": [
            [
             0,
             "#0d0887"
            ],
            [
             0.1111111111111111,
             "#46039f"
            ],
            [
             0.2222222222222222,
             "#7201a8"
            ],
            [
             0.3333333333333333,
             "#9c179e"
            ],
            [
             0.4444444444444444,
             "#bd3786"
            ],
            [
             0.5555555555555556,
             "#d8576b"
            ],
            [
             0.6666666666666666,
             "#ed7953"
            ],
            [
             0.7777777777777778,
             "#fb9f3a"
            ],
            [
             0.8888888888888888,
             "#fdca26"
            ],
            [
             1,
             "#f0f921"
            ]
           ],
           "sequentialminus": [
            [
             0,
             "#0d0887"
            ],
            [
             0.1111111111111111,
             "#46039f"
            ],
            [
             0.2222222222222222,
             "#7201a8"
            ],
            [
             0.3333333333333333,
             "#9c179e"
            ],
            [
             0.4444444444444444,
             "#bd3786"
            ],
            [
             0.5555555555555556,
             "#d8576b"
            ],
            [
             0.6666666666666666,
             "#ed7953"
            ],
            [
             0.7777777777777778,
             "#fb9f3a"
            ],
            [
             0.8888888888888888,
             "#fdca26"
            ],
            [
             1,
             "#f0f921"
            ]
           ]
          },
          "colorway": [
           "#636efa",
           "#EF553B",
           "#00cc96",
           "#ab63fa",
           "#FFA15A",
           "#19d3f3",
           "#FF6692",
           "#B6E880",
           "#FF97FF",
           "#FECB52"
          ],
          "font": {
           "color": "#2a3f5f"
          },
          "geo": {
           "bgcolor": "white",
           "lakecolor": "white",
           "landcolor": "#E5ECF6",
           "showlakes": true,
           "showland": true,
           "subunitcolor": "white"
          },
          "hoverlabel": {
           "align": "left"
          },
          "hovermode": "closest",
          "mapbox": {
           "style": "light"
          },
          "paper_bgcolor": "white",
          "plot_bgcolor": "#E5ECF6",
          "polar": {
           "angularaxis": {
            "gridcolor": "white",
            "linecolor": "white",
            "ticks": ""
           },
           "bgcolor": "#E5ECF6",
           "radialaxis": {
            "gridcolor": "white",
            "linecolor": "white",
            "ticks": ""
           }
          },
          "scene": {
           "xaxis": {
            "backgroundcolor": "#E5ECF6",
            "gridcolor": "white",
            "gridwidth": 2,
            "linecolor": "white",
            "showbackground": true,
            "ticks": "",
            "zerolinecolor": "white"
           },
           "yaxis": {
            "backgroundcolor": "#E5ECF6",
            "gridcolor": "white",
            "gridwidth": 2,
            "linecolor": "white",
            "showbackground": true,
            "ticks": "",
            "zerolinecolor": "white"
           },
           "zaxis": {
            "backgroundcolor": "#E5ECF6",
            "gridcolor": "white",
            "gridwidth": 2,
            "linecolor": "white",
            "showbackground": true,
            "ticks": "",
            "zerolinecolor": "white"
           }
          },
          "shapedefaults": {
           "line": {
            "color": "#2a3f5f"
           }
          },
          "ternary": {
           "aaxis": {
            "gridcolor": "white",
            "linecolor": "white",
            "ticks": ""
           },
           "baxis": {
            "gridcolor": "white",
            "linecolor": "white",
            "ticks": ""
           },
           "bgcolor": "#E5ECF6",
           "caxis": {
            "gridcolor": "white",
            "linecolor": "white",
            "ticks": ""
           }
          },
          "title": {
           "x": 0.05
          },
          "xaxis": {
           "automargin": true,
           "gridcolor": "white",
           "linecolor": "white",
           "ticks": "",
           "title": {
            "standoff": 15
           },
           "zerolinecolor": "white",
           "zerolinewidth": 2
          },
          "yaxis": {
           "automargin": true,
           "gridcolor": "white",
           "linecolor": "white",
           "ticks": "",
           "title": {
            "standoff": 15
           },
           "zerolinecolor": "white",
           "zerolinewidth": 2
          }
         }
        },
        "title": {
         "text": "away_ppg of Premier League Clubs Before and After Crowd Suspension",
         "x": 0,
         "xanchor": "left",
         "y": 0.9,
         "yanchor": "top"
        },
        "xaxis": {
         "linewidth": 2,
         "showgrid": false,
         "showline": true,
         "showticklabels": true,
         "tickfont": {
          "family": "Arial",
          "size": 12
         },
         "ticks": "outside"
        },
        "yaxis": {
         "showgrid": false,
         "showline": true,
         "showticklabels": true,
         "zeroline": true
        }
       }
      },
      "text/html": [
       "<div>                            <div id=\"d0e16e5d-920b-4e4a-8673-bdba50fce8e3\" class=\"plotly-graph-div\" style=\"height:525px; width:100%;\"></div>            <script type=\"text/javascript\">                require([\"plotly\"], function(Plotly) {                    window.PLOTLYENV=window.PLOTLYENV || {};                                    if (document.getElementById(\"d0e16e5d-920b-4e4a-8673-bdba50fce8e3\")) {                    Plotly.newPlot(                        \"d0e16e5d-920b-4e4a-8673-bdba50fce8e3\",                        [{\"marker\": {\"color\": \"mediumspringgreen\"}, \"name\": \"away_ppg before crowd suspension\", \"text\": [2.4545454545454546, 1.393939393939394, 1.3333333333333333, 1.6363636363636365, 1.0909090909090908, 1.411764705882353, 2.1176470588235294, 1.0, 1.4545454545454546, 1.0, 1.21875, 0.7058823529411765, 0.9705882352941176, 0.9411764705882353, 1.393939393939394], \"textposition\": \"auto\", \"texttemplate\": \"%{text:.3s}\", \"type\": \"bar\", \"x\": [\"Liverpool\", \"Crystal Palace\", \"Wolverhampton Wanderers\", \"Chelsea\", \"Southampton\", \"Tottenham Hotspur\", \"Manchester City\", \"Newcastle United\", \"Leicester City\", \"Burnley\", \"Arsenal\", \"Brighton and Hove Albion\", \"West Ham United\", \"Everton\", \"Manchester United\"], \"y\": [2.4545454545454546, 1.393939393939394, 1.3333333333333333, 1.6363636363636365, 1.0909090909090908, 1.411764705882353, 2.1176470588235294, 1.0, 1.4545454545454546, 1.0, 1.21875, 0.7058823529411765, 0.9705882352941176, 0.9411764705882353, 1.393939393939394]}, {\"marker\": {\"color\": \"lightsalmon\"}, \"name\": \"away_ppg after crowd suspension\", \"text\": [1.7916666666666667, 1.0, 1.125, 1.6666666666666667, 1.125, 1.4782608695652173, 2.217391304347826, 1.1304347826086956, 1.6666666666666667, 1.2916666666666667, 1.56, 1.2173913043478262, 1.565217391304348, 1.8695652173913044, 2.3333333333333335], \"textposition\": \"auto\", \"texttemplate\": \"%{text:.3s}\", \"type\": \"bar\", \"x\": [\"Liverpool\", \"Crystal Palace\", \"Wolverhampton Wanderers\", \"Chelsea\", \"Southampton\", \"Tottenham Hotspur\", \"Manchester City\", \"Newcastle United\", \"Leicester City\", \"Burnley\", \"Arsenal\", \"Brighton and Hove Albion\", \"West Ham United\", \"Everton\", \"Manchester United\"], \"y\": [1.7916666666666667, 1.0, 1.125, 1.6666666666666667, 1.125, 1.4782608695652173, 2.217391304347826, 1.1304347826086956, 1.6666666666666667, 1.2916666666666667, 1.56, 1.2173913043478262, 1.565217391304348, 1.8695652173913044, 2.3333333333333335]}],                        {\"autosize\": true, \"barmode\": \"group\", \"margin\": {\"autoexpand\": true, \"l\": 0, \"r\": 0, \"t\": 80}, \"plot_bgcolor\": \"azure\", \"template\": {\"data\": {\"bar\": [{\"error_x\": {\"color\": \"#2a3f5f\"}, \"error_y\": {\"color\": \"#2a3f5f\"}, \"marker\": {\"line\": {\"color\": \"#E5ECF6\", \"width\": 0.5}}, \"type\": \"bar\"}], \"barpolar\": [{\"marker\": {\"line\": {\"color\": \"#E5ECF6\", \"width\": 0.5}}, \"type\": \"barpolar\"}], \"carpet\": [{\"aaxis\": {\"endlinecolor\": \"#2a3f5f\", \"gridcolor\": \"white\", \"linecolor\": \"white\", \"minorgridcolor\": \"white\", \"startlinecolor\": \"#2a3f5f\"}, \"baxis\": {\"endlinecolor\": \"#2a3f5f\", \"gridcolor\": \"white\", \"linecolor\": \"white\", \"minorgridcolor\": \"white\", \"startlinecolor\": \"#2a3f5f\"}, \"type\": \"carpet\"}], \"choropleth\": [{\"colorbar\": {\"outlinewidth\": 0, \"ticks\": \"\"}, \"type\": \"choropleth\"}], \"contour\": [{\"colorbar\": {\"outlinewidth\": 0, \"ticks\": \"\"}, \"colorscale\": [[0.0, \"#0d0887\"], [0.1111111111111111, \"#46039f\"], [0.2222222222222222, \"#7201a8\"], [0.3333333333333333, \"#9c179e\"], [0.4444444444444444, \"#bd3786\"], [0.5555555555555556, \"#d8576b\"], [0.6666666666666666, \"#ed7953\"], [0.7777777777777778, \"#fb9f3a\"], [0.8888888888888888, \"#fdca26\"], [1.0, \"#f0f921\"]], \"type\": \"contour\"}], \"contourcarpet\": [{\"colorbar\": {\"outlinewidth\": 0, \"ticks\": \"\"}, \"type\": \"contourcarpet\"}], \"heatmap\": [{\"colorbar\": {\"outlinewidth\": 0, \"ticks\": \"\"}, \"colorscale\": [[0.0, \"#0d0887\"], [0.1111111111111111, \"#46039f\"], [0.2222222222222222, \"#7201a8\"], [0.3333333333333333, \"#9c179e\"], [0.4444444444444444, \"#bd3786\"], [0.5555555555555556, \"#d8576b\"], [0.6666666666666666, \"#ed7953\"], [0.7777777777777778, \"#fb9f3a\"], [0.8888888888888888, \"#fdca26\"], [1.0, \"#f0f921\"]], \"type\": \"heatmap\"}], \"heatmapgl\": [{\"colorbar\": {\"outlinewidth\": 0, \"ticks\": \"\"}, \"colorscale\": [[0.0, \"#0d0887\"], [0.1111111111111111, \"#46039f\"], [0.2222222222222222, \"#7201a8\"], [0.3333333333333333, \"#9c179e\"], [0.4444444444444444, \"#bd3786\"], [0.5555555555555556, \"#d8576b\"], [0.6666666666666666, \"#ed7953\"], [0.7777777777777778, \"#fb9f3a\"], [0.8888888888888888, \"#fdca26\"], [1.0, \"#f0f921\"]], \"type\": \"heatmapgl\"}], \"histogram\": [{\"marker\": {\"colorbar\": {\"outlinewidth\": 0, \"ticks\": \"\"}}, \"type\": \"histogram\"}], \"histogram2d\": [{\"colorbar\": {\"outlinewidth\": 0, \"ticks\": \"\"}, \"colorscale\": [[0.0, \"#0d0887\"], [0.1111111111111111, \"#46039f\"], [0.2222222222222222, \"#7201a8\"], [0.3333333333333333, \"#9c179e\"], [0.4444444444444444, \"#bd3786\"], [0.5555555555555556, \"#d8576b\"], [0.6666666666666666, \"#ed7953\"], [0.7777777777777778, \"#fb9f3a\"], [0.8888888888888888, \"#fdca26\"], [1.0, \"#f0f921\"]], \"type\": \"histogram2d\"}], \"histogram2dcontour\": [{\"colorbar\": {\"outlinewidth\": 0, \"ticks\": \"\"}, \"colorscale\": [[0.0, \"#0d0887\"], [0.1111111111111111, \"#46039f\"], [0.2222222222222222, \"#7201a8\"], [0.3333333333333333, \"#9c179e\"], [0.4444444444444444, \"#bd3786\"], [0.5555555555555556, \"#d8576b\"], [0.6666666666666666, \"#ed7953\"], [0.7777777777777778, \"#fb9f3a\"], [0.8888888888888888, \"#fdca26\"], [1.0, \"#f0f921\"]], \"type\": \"histogram2dcontour\"}], \"mesh3d\": [{\"colorbar\": {\"outlinewidth\": 0, \"ticks\": \"\"}, \"type\": \"mesh3d\"}], \"parcoords\": [{\"line\": {\"colorbar\": {\"outlinewidth\": 0, \"ticks\": \"\"}}, \"type\": \"parcoords\"}], \"pie\": [{\"automargin\": true, \"type\": \"pie\"}], \"scatter\": [{\"marker\": {\"colorbar\": {\"outlinewidth\": 0, \"ticks\": \"\"}}, \"type\": \"scatter\"}], \"scatter3d\": [{\"line\": {\"colorbar\": {\"outlinewidth\": 0, \"ticks\": \"\"}}, \"marker\": {\"colorbar\": {\"outlinewidth\": 0, \"ticks\": \"\"}}, \"type\": \"scatter3d\"}], \"scattercarpet\": [{\"marker\": {\"colorbar\": {\"outlinewidth\": 0, \"ticks\": \"\"}}, \"type\": \"scattercarpet\"}], \"scattergeo\": [{\"marker\": {\"colorbar\": {\"outlinewidth\": 0, \"ticks\": \"\"}}, \"type\": \"scattergeo\"}], \"scattergl\": [{\"marker\": {\"colorbar\": {\"outlinewidth\": 0, \"ticks\": \"\"}}, \"type\": \"scattergl\"}], \"scattermapbox\": [{\"marker\": {\"colorbar\": {\"outlinewidth\": 0, \"ticks\": \"\"}}, \"type\": \"scattermapbox\"}], \"scatterpolar\": [{\"marker\": {\"colorbar\": {\"outlinewidth\": 0, \"ticks\": \"\"}}, \"type\": \"scatterpolar\"}], \"scatterpolargl\": [{\"marker\": {\"colorbar\": {\"outlinewidth\": 0, \"ticks\": \"\"}}, \"type\": \"scatterpolargl\"}], \"scatterternary\": [{\"marker\": {\"colorbar\": {\"outlinewidth\": 0, \"ticks\": \"\"}}, \"type\": \"scatterternary\"}], \"surface\": [{\"colorbar\": {\"outlinewidth\": 0, \"ticks\": \"\"}, \"colorscale\": [[0.0, \"#0d0887\"], [0.1111111111111111, \"#46039f\"], [0.2222222222222222, \"#7201a8\"], [0.3333333333333333, \"#9c179e\"], [0.4444444444444444, \"#bd3786\"], [0.5555555555555556, \"#d8576b\"], [0.6666666666666666, \"#ed7953\"], [0.7777777777777778, \"#fb9f3a\"], [0.8888888888888888, \"#fdca26\"], [1.0, \"#f0f921\"]], \"type\": \"surface\"}], \"table\": [{\"cells\": {\"fill\": {\"color\": \"#EBF0F8\"}, \"line\": {\"color\": \"white\"}}, \"header\": {\"fill\": {\"color\": \"#C8D4E3\"}, \"line\": {\"color\": \"white\"}}, \"type\": \"table\"}]}, \"layout\": {\"annotationdefaults\": {\"arrowcolor\": \"#2a3f5f\", \"arrowhead\": 0, \"arrowwidth\": 1}, \"autotypenumbers\": \"strict\", \"coloraxis\": {\"colorbar\": {\"outlinewidth\": 0, \"ticks\": \"\"}}, \"colorscale\": {\"diverging\": [[0, \"#8e0152\"], [0.1, \"#c51b7d\"], [0.2, \"#de77ae\"], [0.3, \"#f1b6da\"], [0.4, \"#fde0ef\"], [0.5, \"#f7f7f7\"], [0.6, \"#e6f5d0\"], [0.7, \"#b8e186\"], [0.8, \"#7fbc41\"], [0.9, \"#4d9221\"], [1, \"#276419\"]], \"sequential\": [[0.0, \"#0d0887\"], [0.1111111111111111, \"#46039f\"], [0.2222222222222222, \"#7201a8\"], [0.3333333333333333, \"#9c179e\"], [0.4444444444444444, \"#bd3786\"], [0.5555555555555556, \"#d8576b\"], [0.6666666666666666, \"#ed7953\"], [0.7777777777777778, \"#fb9f3a\"], [0.8888888888888888, \"#fdca26\"], [1.0, \"#f0f921\"]], \"sequentialminus\": [[0.0, \"#0d0887\"], [0.1111111111111111, \"#46039f\"], [0.2222222222222222, \"#7201a8\"], [0.3333333333333333, \"#9c179e\"], [0.4444444444444444, \"#bd3786\"], [0.5555555555555556, \"#d8576b\"], [0.6666666666666666, \"#ed7953\"], [0.7777777777777778, \"#fb9f3a\"], [0.8888888888888888, \"#fdca26\"], [1.0, \"#f0f921\"]]}, \"colorway\": [\"#636efa\", \"#EF553B\", \"#00cc96\", \"#ab63fa\", \"#FFA15A\", \"#19d3f3\", \"#FF6692\", \"#B6E880\", \"#FF97FF\", \"#FECB52\"], \"font\": {\"color\": \"#2a3f5f\"}, \"geo\": {\"bgcolor\": \"white\", \"lakecolor\": \"white\", \"landcolor\": \"#E5ECF6\", \"showlakes\": true, \"showland\": true, \"subunitcolor\": \"white\"}, \"hoverlabel\": {\"align\": \"left\"}, \"hovermode\": \"closest\", \"mapbox\": {\"style\": \"light\"}, \"paper_bgcolor\": \"white\", \"plot_bgcolor\": \"#E5ECF6\", \"polar\": {\"angularaxis\": {\"gridcolor\": \"white\", \"linecolor\": \"white\", \"ticks\": \"\"}, \"bgcolor\": \"#E5ECF6\", \"radialaxis\": {\"gridcolor\": \"white\", \"linecolor\": \"white\", \"ticks\": \"\"}}, \"scene\": {\"xaxis\": {\"backgroundcolor\": \"#E5ECF6\", \"gridcolor\": \"white\", \"gridwidth\": 2, \"linecolor\": \"white\", \"showbackground\": true, \"ticks\": \"\", \"zerolinecolor\": \"white\"}, \"yaxis\": {\"backgroundcolor\": \"#E5ECF6\", \"gridcolor\": \"white\", \"gridwidth\": 2, \"linecolor\": \"white\", \"showbackground\": true, \"ticks\": \"\", \"zerolinecolor\": \"white\"}, \"zaxis\": {\"backgroundcolor\": \"#E5ECF6\", \"gridcolor\": \"white\", \"gridwidth\": 2, \"linecolor\": \"white\", \"showbackground\": true, \"ticks\": \"\", \"zerolinecolor\": \"white\"}}, \"shapedefaults\": {\"line\": {\"color\": \"#2a3f5f\"}}, \"ternary\": {\"aaxis\": {\"gridcolor\": \"white\", \"linecolor\": \"white\", \"ticks\": \"\"}, \"baxis\": {\"gridcolor\": \"white\", \"linecolor\": \"white\", \"ticks\": \"\"}, \"bgcolor\": \"#E5ECF6\", \"caxis\": {\"gridcolor\": \"white\", \"linecolor\": \"white\", \"ticks\": \"\"}}, \"title\": {\"x\": 0.05}, \"xaxis\": {\"automargin\": true, \"gridcolor\": \"white\", \"linecolor\": \"white\", \"ticks\": \"\", \"title\": {\"standoff\": 15}, \"zerolinecolor\": \"white\", \"zerolinewidth\": 2}, \"yaxis\": {\"automargin\": true, \"gridcolor\": \"white\", \"linecolor\": \"white\", \"ticks\": \"\", \"title\": {\"standoff\": 15}, \"zerolinecolor\": \"white\", \"zerolinewidth\": 2}}}, \"title\": {\"text\": \"away_ppg of Premier League Clubs Before and After Crowd Suspension\", \"x\": 0, \"xanchor\": \"left\", \"y\": 0.9, \"yanchor\": \"top\"}, \"xaxis\": {\"linewidth\": 2, \"showgrid\": false, \"showline\": true, \"showticklabels\": true, \"tickfont\": {\"family\": \"Arial\", \"size\": 12}, \"ticks\": \"outside\"}, \"yaxis\": {\"showgrid\": false, \"showline\": true, \"showticklabels\": true, \"zeroline\": true}},                        {\"responsive\": true}                    ).then(function(){\n",
       "                            \n",
       "var gd = document.getElementById('d0e16e5d-920b-4e4a-8673-bdba50fce8e3');\n",
       "var x = new MutationObserver(function (mutations, observer) {{\n",
       "        var display = window.getComputedStyle(gd).display;\n",
       "        if (!display || display === 'none') {{\n",
       "            console.log([gd, 'removed!']);\n",
       "            Plotly.purge(gd);\n",
       "            observer.disconnect();\n",
       "        }}\n",
       "}});\n",
       "\n",
       "// Listen for the removal of the full notebook cells\n",
       "var notebookContainer = gd.closest('#notebook-container');\n",
       "if (notebookContainer) {{\n",
       "    x.observe(notebookContainer, {childList: true});\n",
       "}}\n",
       "\n",
       "// Listen for the clearing of the current output cell\n",
       "var outputEl = gd.closest('.output');\n",
       "if (outputEl) {{\n",
       "    x.observe(outputEl, {childList: true});\n",
       "}}\n",
       "\n",
       "                        })                };                });            </script>        </div>"
      ]
     },
     "metadata": {},
     "output_type": "display_data"
    }
   ],
   "source": [
    "away_stat_viz('away_ppg', stayed_teams, summary=False)"
   ]
  },
  {
   "cell_type": "code",
   "execution_count": 109,
   "metadata": {},
   "outputs": [
    {
     "data": {
      "application/vnd.plotly.v1+json": {
       "config": {
        "plotlyServerURL": "https://plot.ly"
       },
       "data": [
        {
         "marker": {
          "color": "mediumspringgreen"
         },
         "name": "away_win_rate before crowd suspension",
         "text": [
          75.75757575757575,
          39.39393939393939,
          33.333333333333336,
          41.1764705882353,
          30.303030303030305,
          48.484848484848484,
          67.6470588235294,
          42.42424242424242,
          23.529411764705884,
          24.242424242424242,
          14.705882352941176,
          26.470588235294116,
          28.125,
          39.39393939393939,
          23.529411764705884
         ],
         "textposition": "auto",
         "texttemplate": "%{text:.3s}",
         "type": "bar",
         "x": [
          "Liverpool",
          "Crystal Palace",
          "Wolverhampton Wanderers",
          "Tottenham Hotspur",
          "Southampton",
          "Chelsea",
          "Manchester City",
          "Leicester City",
          "Newcastle United",
          "Burnley",
          "Brighton and Hove Albion",
          "West Ham United",
          "Arsenal",
          "Manchester United",
          "Everton"
         ],
         "y": [
          75.75757575757575,
          39.39393939393939,
          33.333333333333336,
          41.1764705882353,
          30.303030303030305,
          48.484848484848484,
          67.6470588235294,
          42.42424242424242,
          23.529411764705884,
          24.242424242424242,
          14.705882352941176,
          26.470588235294116,
          28.125,
          39.39393939393939,
          23.529411764705884
         ]
        },
        {
         "marker": {
          "color": "lightsalmon"
         },
         "name": "away_win_rate after crowd suspension",
         "text": [
          50,
          29.166666666666668,
          29.166666666666668,
          39.130434782608695,
          29.166666666666668,
          50,
          69.56521739130434,
          45.833333333333336,
          30.434782608695652,
          37.5,
          30.434782608695652,
          43.47826086956522,
          48,
          66.66666666666667,
          56.52173913043478
         ],
         "textposition": "auto",
         "texttemplate": "%{text:.3s}",
         "type": "bar",
         "x": [
          "Liverpool",
          "Crystal Palace",
          "Wolverhampton Wanderers",
          "Tottenham Hotspur",
          "Southampton",
          "Chelsea",
          "Manchester City",
          "Leicester City",
          "Newcastle United",
          "Burnley",
          "Brighton and Hove Albion",
          "West Ham United",
          "Arsenal",
          "Manchester United",
          "Everton"
         ],
         "y": [
          50,
          29.166666666666668,
          29.166666666666668,
          39.130434782608695,
          29.166666666666668,
          50,
          69.56521739130434,
          45.833333333333336,
          30.434782608695652,
          37.5,
          30.434782608695652,
          43.47826086956522,
          48,
          66.66666666666667,
          56.52173913043478
         ]
        }
       ],
       "layout": {
        "autosize": true,
        "barmode": "group",
        "margin": {
         "autoexpand": true,
         "l": 0,
         "r": 0,
         "t": 80
        },
        "plot_bgcolor": "azure",
        "template": {
         "data": {
          "bar": [
           {
            "error_x": {
             "color": "#2a3f5f"
            },
            "error_y": {
             "color": "#2a3f5f"
            },
            "marker": {
             "line": {
              "color": "#E5ECF6",
              "width": 0.5
             }
            },
            "type": "bar"
           }
          ],
          "barpolar": [
           {
            "marker": {
             "line": {
              "color": "#E5ECF6",
              "width": 0.5
             }
            },
            "type": "barpolar"
           }
          ],
          "carpet": [
           {
            "aaxis": {
             "endlinecolor": "#2a3f5f",
             "gridcolor": "white",
             "linecolor": "white",
             "minorgridcolor": "white",
             "startlinecolor": "#2a3f5f"
            },
            "baxis": {
             "endlinecolor": "#2a3f5f",
             "gridcolor": "white",
             "linecolor": "white",
             "minorgridcolor": "white",
             "startlinecolor": "#2a3f5f"
            },
            "type": "carpet"
           }
          ],
          "choropleth": [
           {
            "colorbar": {
             "outlinewidth": 0,
             "ticks": ""
            },
            "type": "choropleth"
           }
          ],
          "contour": [
           {
            "colorbar": {
             "outlinewidth": 0,
             "ticks": ""
            },
            "colorscale": [
             [
              0,
              "#0d0887"
             ],
             [
              0.1111111111111111,
              "#46039f"
             ],
             [
              0.2222222222222222,
              "#7201a8"
             ],
             [
              0.3333333333333333,
              "#9c179e"
             ],
             [
              0.4444444444444444,
              "#bd3786"
             ],
             [
              0.5555555555555556,
              "#d8576b"
             ],
             [
              0.6666666666666666,
              "#ed7953"
             ],
             [
              0.7777777777777778,
              "#fb9f3a"
             ],
             [
              0.8888888888888888,
              "#fdca26"
             ],
             [
              1,
              "#f0f921"
             ]
            ],
            "type": "contour"
           }
          ],
          "contourcarpet": [
           {
            "colorbar": {
             "outlinewidth": 0,
             "ticks": ""
            },
            "type": "contourcarpet"
           }
          ],
          "heatmap": [
           {
            "colorbar": {
             "outlinewidth": 0,
             "ticks": ""
            },
            "colorscale": [
             [
              0,
              "#0d0887"
             ],
             [
              0.1111111111111111,
              "#46039f"
             ],
             [
              0.2222222222222222,
              "#7201a8"
             ],
             [
              0.3333333333333333,
              "#9c179e"
             ],
             [
              0.4444444444444444,
              "#bd3786"
             ],
             [
              0.5555555555555556,
              "#d8576b"
             ],
             [
              0.6666666666666666,
              "#ed7953"
             ],
             [
              0.7777777777777778,
              "#fb9f3a"
             ],
             [
              0.8888888888888888,
              "#fdca26"
             ],
             [
              1,
              "#f0f921"
             ]
            ],
            "type": "heatmap"
           }
          ],
          "heatmapgl": [
           {
            "colorbar": {
             "outlinewidth": 0,
             "ticks": ""
            },
            "colorscale": [
             [
              0,
              "#0d0887"
             ],
             [
              0.1111111111111111,
              "#46039f"
             ],
             [
              0.2222222222222222,
              "#7201a8"
             ],
             [
              0.3333333333333333,
              "#9c179e"
             ],
             [
              0.4444444444444444,
              "#bd3786"
             ],
             [
              0.5555555555555556,
              "#d8576b"
             ],
             [
              0.6666666666666666,
              "#ed7953"
             ],
             [
              0.7777777777777778,
              "#fb9f3a"
             ],
             [
              0.8888888888888888,
              "#fdca26"
             ],
             [
              1,
              "#f0f921"
             ]
            ],
            "type": "heatmapgl"
           }
          ],
          "histogram": [
           {
            "marker": {
             "colorbar": {
              "outlinewidth": 0,
              "ticks": ""
             }
            },
            "type": "histogram"
           }
          ],
          "histogram2d": [
           {
            "colorbar": {
             "outlinewidth": 0,
             "ticks": ""
            },
            "colorscale": [
             [
              0,
              "#0d0887"
             ],
             [
              0.1111111111111111,
              "#46039f"
             ],
             [
              0.2222222222222222,
              "#7201a8"
             ],
             [
              0.3333333333333333,
              "#9c179e"
             ],
             [
              0.4444444444444444,
              "#bd3786"
             ],
             [
              0.5555555555555556,
              "#d8576b"
             ],
             [
              0.6666666666666666,
              "#ed7953"
             ],
             [
              0.7777777777777778,
              "#fb9f3a"
             ],
             [
              0.8888888888888888,
              "#fdca26"
             ],
             [
              1,
              "#f0f921"
             ]
            ],
            "type": "histogram2d"
           }
          ],
          "histogram2dcontour": [
           {
            "colorbar": {
             "outlinewidth": 0,
             "ticks": ""
            },
            "colorscale": [
             [
              0,
              "#0d0887"
             ],
             [
              0.1111111111111111,
              "#46039f"
             ],
             [
              0.2222222222222222,
              "#7201a8"
             ],
             [
              0.3333333333333333,
              "#9c179e"
             ],
             [
              0.4444444444444444,
              "#bd3786"
             ],
             [
              0.5555555555555556,
              "#d8576b"
             ],
             [
              0.6666666666666666,
              "#ed7953"
             ],
             [
              0.7777777777777778,
              "#fb9f3a"
             ],
             [
              0.8888888888888888,
              "#fdca26"
             ],
             [
              1,
              "#f0f921"
             ]
            ],
            "type": "histogram2dcontour"
           }
          ],
          "mesh3d": [
           {
            "colorbar": {
             "outlinewidth": 0,
             "ticks": ""
            },
            "type": "mesh3d"
           }
          ],
          "parcoords": [
           {
            "line": {
             "colorbar": {
              "outlinewidth": 0,
              "ticks": ""
             }
            },
            "type": "parcoords"
           }
          ],
          "pie": [
           {
            "automargin": true,
            "type": "pie"
           }
          ],
          "scatter": [
           {
            "marker": {
             "colorbar": {
              "outlinewidth": 0,
              "ticks": ""
             }
            },
            "type": "scatter"
           }
          ],
          "scatter3d": [
           {
            "line": {
             "colorbar": {
              "outlinewidth": 0,
              "ticks": ""
             }
            },
            "marker": {
             "colorbar": {
              "outlinewidth": 0,
              "ticks": ""
             }
            },
            "type": "scatter3d"
           }
          ],
          "scattercarpet": [
           {
            "marker": {
             "colorbar": {
              "outlinewidth": 0,
              "ticks": ""
             }
            },
            "type": "scattercarpet"
           }
          ],
          "scattergeo": [
           {
            "marker": {
             "colorbar": {
              "outlinewidth": 0,
              "ticks": ""
             }
            },
            "type": "scattergeo"
           }
          ],
          "scattergl": [
           {
            "marker": {
             "colorbar": {
              "outlinewidth": 0,
              "ticks": ""
             }
            },
            "type": "scattergl"
           }
          ],
          "scattermapbox": [
           {
            "marker": {
             "colorbar": {
              "outlinewidth": 0,
              "ticks": ""
             }
            },
            "type": "scattermapbox"
           }
          ],
          "scatterpolar": [
           {
            "marker": {
             "colorbar": {
              "outlinewidth": 0,
              "ticks": ""
             }
            },
            "type": "scatterpolar"
           }
          ],
          "scatterpolargl": [
           {
            "marker": {
             "colorbar": {
              "outlinewidth": 0,
              "ticks": ""
             }
            },
            "type": "scatterpolargl"
           }
          ],
          "scatterternary": [
           {
            "marker": {
             "colorbar": {
              "outlinewidth": 0,
              "ticks": ""
             }
            },
            "type": "scatterternary"
           }
          ],
          "surface": [
           {
            "colorbar": {
             "outlinewidth": 0,
             "ticks": ""
            },
            "colorscale": [
             [
              0,
              "#0d0887"
             ],
             [
              0.1111111111111111,
              "#46039f"
             ],
             [
              0.2222222222222222,
              "#7201a8"
             ],
             [
              0.3333333333333333,
              "#9c179e"
             ],
             [
              0.4444444444444444,
              "#bd3786"
             ],
             [
              0.5555555555555556,
              "#d8576b"
             ],
             [
              0.6666666666666666,
              "#ed7953"
             ],
             [
              0.7777777777777778,
              "#fb9f3a"
             ],
             [
              0.8888888888888888,
              "#fdca26"
             ],
             [
              1,
              "#f0f921"
             ]
            ],
            "type": "surface"
           }
          ],
          "table": [
           {
            "cells": {
             "fill": {
              "color": "#EBF0F8"
             },
             "line": {
              "color": "white"
             }
            },
            "header": {
             "fill": {
              "color": "#C8D4E3"
             },
             "line": {
              "color": "white"
             }
            },
            "type": "table"
           }
          ]
         },
         "layout": {
          "annotationdefaults": {
           "arrowcolor": "#2a3f5f",
           "arrowhead": 0,
           "arrowwidth": 1
          },
          "autotypenumbers": "strict",
          "coloraxis": {
           "colorbar": {
            "outlinewidth": 0,
            "ticks": ""
           }
          },
          "colorscale": {
           "diverging": [
            [
             0,
             "#8e0152"
            ],
            [
             0.1,
             "#c51b7d"
            ],
            [
             0.2,
             "#de77ae"
            ],
            [
             0.3,
             "#f1b6da"
            ],
            [
             0.4,
             "#fde0ef"
            ],
            [
             0.5,
             "#f7f7f7"
            ],
            [
             0.6,
             "#e6f5d0"
            ],
            [
             0.7,
             "#b8e186"
            ],
            [
             0.8,
             "#7fbc41"
            ],
            [
             0.9,
             "#4d9221"
            ],
            [
             1,
             "#276419"
            ]
           ],
           "sequential": [
            [
             0,
             "#0d0887"
            ],
            [
             0.1111111111111111,
             "#46039f"
            ],
            [
             0.2222222222222222,
             "#7201a8"
            ],
            [
             0.3333333333333333,
             "#9c179e"
            ],
            [
             0.4444444444444444,
             "#bd3786"
            ],
            [
             0.5555555555555556,
             "#d8576b"
            ],
            [
             0.6666666666666666,
             "#ed7953"
            ],
            [
             0.7777777777777778,
             "#fb9f3a"
            ],
            [
             0.8888888888888888,
             "#fdca26"
            ],
            [
             1,
             "#f0f921"
            ]
           ],
           "sequentialminus": [
            [
             0,
             "#0d0887"
            ],
            [
             0.1111111111111111,
             "#46039f"
            ],
            [
             0.2222222222222222,
             "#7201a8"
            ],
            [
             0.3333333333333333,
             "#9c179e"
            ],
            [
             0.4444444444444444,
             "#bd3786"
            ],
            [
             0.5555555555555556,
             "#d8576b"
            ],
            [
             0.6666666666666666,
             "#ed7953"
            ],
            [
             0.7777777777777778,
             "#fb9f3a"
            ],
            [
             0.8888888888888888,
             "#fdca26"
            ],
            [
             1,
             "#f0f921"
            ]
           ]
          },
          "colorway": [
           "#636efa",
           "#EF553B",
           "#00cc96",
           "#ab63fa",
           "#FFA15A",
           "#19d3f3",
           "#FF6692",
           "#B6E880",
           "#FF97FF",
           "#FECB52"
          ],
          "font": {
           "color": "#2a3f5f"
          },
          "geo": {
           "bgcolor": "white",
           "lakecolor": "white",
           "landcolor": "#E5ECF6",
           "showlakes": true,
           "showland": true,
           "subunitcolor": "white"
          },
          "hoverlabel": {
           "align": "left"
          },
          "hovermode": "closest",
          "mapbox": {
           "style": "light"
          },
          "paper_bgcolor": "white",
          "plot_bgcolor": "#E5ECF6",
          "polar": {
           "angularaxis": {
            "gridcolor": "white",
            "linecolor": "white",
            "ticks": ""
           },
           "bgcolor": "#E5ECF6",
           "radialaxis": {
            "gridcolor": "white",
            "linecolor": "white",
            "ticks": ""
           }
          },
          "scene": {
           "xaxis": {
            "backgroundcolor": "#E5ECF6",
            "gridcolor": "white",
            "gridwidth": 2,
            "linecolor": "white",
            "showbackground": true,
            "ticks": "",
            "zerolinecolor": "white"
           },
           "yaxis": {
            "backgroundcolor": "#E5ECF6",
            "gridcolor": "white",
            "gridwidth": 2,
            "linecolor": "white",
            "showbackground": true,
            "ticks": "",
            "zerolinecolor": "white"
           },
           "zaxis": {
            "backgroundcolor": "#E5ECF6",
            "gridcolor": "white",
            "gridwidth": 2,
            "linecolor": "white",
            "showbackground": true,
            "ticks": "",
            "zerolinecolor": "white"
           }
          },
          "shapedefaults": {
           "line": {
            "color": "#2a3f5f"
           }
          },
          "ternary": {
           "aaxis": {
            "gridcolor": "white",
            "linecolor": "white",
            "ticks": ""
           },
           "baxis": {
            "gridcolor": "white",
            "linecolor": "white",
            "ticks": ""
           },
           "bgcolor": "#E5ECF6",
           "caxis": {
            "gridcolor": "white",
            "linecolor": "white",
            "ticks": ""
           }
          },
          "title": {
           "x": 0.05
          },
          "xaxis": {
           "automargin": true,
           "gridcolor": "white",
           "linecolor": "white",
           "ticks": "",
           "title": {
            "standoff": 15
           },
           "zerolinecolor": "white",
           "zerolinewidth": 2
          },
          "yaxis": {
           "automargin": true,
           "gridcolor": "white",
           "linecolor": "white",
           "ticks": "",
           "title": {
            "standoff": 15
           },
           "zerolinecolor": "white",
           "zerolinewidth": 2
          }
         }
        },
        "title": {
         "text": "away_win_rate of Premier League Clubs Before and After Crowd Suspension",
         "x": 0,
         "xanchor": "left",
         "y": 0.9,
         "yanchor": "top"
        },
        "xaxis": {
         "linewidth": 2,
         "showgrid": false,
         "showline": true,
         "showticklabels": true,
         "tickfont": {
          "family": "Arial",
          "size": 12
         },
         "ticks": "outside"
        },
        "yaxis": {
         "showgrid": false,
         "showline": true,
         "showticklabels": true,
         "zeroline": true
        }
       }
      },
      "text/html": [
       "<div>                            <div id=\"09975005-1d70-4dfc-b97c-456d4bbf50c6\" class=\"plotly-graph-div\" style=\"height:525px; width:100%;\"></div>            <script type=\"text/javascript\">                require([\"plotly\"], function(Plotly) {                    window.PLOTLYENV=window.PLOTLYENV || {};                                    if (document.getElementById(\"09975005-1d70-4dfc-b97c-456d4bbf50c6\")) {                    Plotly.newPlot(                        \"09975005-1d70-4dfc-b97c-456d4bbf50c6\",                        [{\"marker\": {\"color\": \"mediumspringgreen\"}, \"name\": \"away_win_rate before crowd suspension\", \"text\": [75.75757575757575, 39.39393939393939, 33.333333333333336, 41.1764705882353, 30.303030303030305, 48.484848484848484, 67.6470588235294, 42.42424242424242, 23.529411764705884, 24.242424242424242, 14.705882352941176, 26.470588235294116, 28.125, 39.39393939393939, 23.529411764705884], \"textposition\": \"auto\", \"texttemplate\": \"%{text:.3s}\", \"type\": \"bar\", \"x\": [\"Liverpool\", \"Crystal Palace\", \"Wolverhampton Wanderers\", \"Tottenham Hotspur\", \"Southampton\", \"Chelsea\", \"Manchester City\", \"Leicester City\", \"Newcastle United\", \"Burnley\", \"Brighton and Hove Albion\", \"West Ham United\", \"Arsenal\", \"Manchester United\", \"Everton\"], \"y\": [75.75757575757575, 39.39393939393939, 33.333333333333336, 41.1764705882353, 30.303030303030305, 48.484848484848484, 67.6470588235294, 42.42424242424242, 23.529411764705884, 24.242424242424242, 14.705882352941176, 26.470588235294116, 28.125, 39.39393939393939, 23.529411764705884]}, {\"marker\": {\"color\": \"lightsalmon\"}, \"name\": \"away_win_rate after crowd suspension\", \"text\": [50.0, 29.166666666666668, 29.166666666666668, 39.130434782608695, 29.166666666666668, 50.0, 69.56521739130434, 45.833333333333336, 30.434782608695652, 37.5, 30.434782608695652, 43.47826086956522, 48.0, 66.66666666666667, 56.52173913043478], \"textposition\": \"auto\", \"texttemplate\": \"%{text:.3s}\", \"type\": \"bar\", \"x\": [\"Liverpool\", \"Crystal Palace\", \"Wolverhampton Wanderers\", \"Tottenham Hotspur\", \"Southampton\", \"Chelsea\", \"Manchester City\", \"Leicester City\", \"Newcastle United\", \"Burnley\", \"Brighton and Hove Albion\", \"West Ham United\", \"Arsenal\", \"Manchester United\", \"Everton\"], \"y\": [50.0, 29.166666666666668, 29.166666666666668, 39.130434782608695, 29.166666666666668, 50.0, 69.56521739130434, 45.833333333333336, 30.434782608695652, 37.5, 30.434782608695652, 43.47826086956522, 48.0, 66.66666666666667, 56.52173913043478]}],                        {\"autosize\": true, \"barmode\": \"group\", \"margin\": {\"autoexpand\": true, \"l\": 0, \"r\": 0, \"t\": 80}, \"plot_bgcolor\": \"azure\", \"template\": {\"data\": {\"bar\": [{\"error_x\": {\"color\": \"#2a3f5f\"}, \"error_y\": {\"color\": \"#2a3f5f\"}, \"marker\": {\"line\": {\"color\": \"#E5ECF6\", \"width\": 0.5}}, \"type\": \"bar\"}], \"barpolar\": [{\"marker\": {\"line\": {\"color\": \"#E5ECF6\", \"width\": 0.5}}, \"type\": \"barpolar\"}], \"carpet\": [{\"aaxis\": {\"endlinecolor\": \"#2a3f5f\", \"gridcolor\": \"white\", \"linecolor\": \"white\", \"minorgridcolor\": \"white\", \"startlinecolor\": \"#2a3f5f\"}, \"baxis\": {\"endlinecolor\": \"#2a3f5f\", \"gridcolor\": \"white\", \"linecolor\": \"white\", \"minorgridcolor\": \"white\", \"startlinecolor\": \"#2a3f5f\"}, \"type\": \"carpet\"}], \"choropleth\": [{\"colorbar\": {\"outlinewidth\": 0, \"ticks\": \"\"}, \"type\": \"choropleth\"}], \"contour\": [{\"colorbar\": {\"outlinewidth\": 0, \"ticks\": \"\"}, \"colorscale\": [[0.0, \"#0d0887\"], [0.1111111111111111, \"#46039f\"], [0.2222222222222222, \"#7201a8\"], [0.3333333333333333, \"#9c179e\"], [0.4444444444444444, \"#bd3786\"], [0.5555555555555556, \"#d8576b\"], [0.6666666666666666, \"#ed7953\"], [0.7777777777777778, \"#fb9f3a\"], [0.8888888888888888, \"#fdca26\"], [1.0, \"#f0f921\"]], \"type\": \"contour\"}], \"contourcarpet\": [{\"colorbar\": {\"outlinewidth\": 0, \"ticks\": \"\"}, \"type\": \"contourcarpet\"}], \"heatmap\": [{\"colorbar\": {\"outlinewidth\": 0, \"ticks\": \"\"}, \"colorscale\": [[0.0, \"#0d0887\"], [0.1111111111111111, \"#46039f\"], [0.2222222222222222, \"#7201a8\"], [0.3333333333333333, \"#9c179e\"], [0.4444444444444444, \"#bd3786\"], [0.5555555555555556, \"#d8576b\"], [0.6666666666666666, \"#ed7953\"], [0.7777777777777778, \"#fb9f3a\"], [0.8888888888888888, \"#fdca26\"], [1.0, \"#f0f921\"]], \"type\": \"heatmap\"}], \"heatmapgl\": [{\"colorbar\": {\"outlinewidth\": 0, \"ticks\": \"\"}, \"colorscale\": [[0.0, \"#0d0887\"], [0.1111111111111111, \"#46039f\"], [0.2222222222222222, \"#7201a8\"], [0.3333333333333333, \"#9c179e\"], [0.4444444444444444, \"#bd3786\"], [0.5555555555555556, \"#d8576b\"], [0.6666666666666666, \"#ed7953\"], [0.7777777777777778, \"#fb9f3a\"], [0.8888888888888888, \"#fdca26\"], [1.0, \"#f0f921\"]], \"type\": \"heatmapgl\"}], \"histogram\": [{\"marker\": {\"colorbar\": {\"outlinewidth\": 0, \"ticks\": \"\"}}, \"type\": \"histogram\"}], \"histogram2d\": [{\"colorbar\": {\"outlinewidth\": 0, \"ticks\": \"\"}, \"colorscale\": [[0.0, \"#0d0887\"], [0.1111111111111111, \"#46039f\"], [0.2222222222222222, \"#7201a8\"], [0.3333333333333333, \"#9c179e\"], [0.4444444444444444, \"#bd3786\"], [0.5555555555555556, \"#d8576b\"], [0.6666666666666666, \"#ed7953\"], [0.7777777777777778, \"#fb9f3a\"], [0.8888888888888888, \"#fdca26\"], [1.0, \"#f0f921\"]], \"type\": \"histogram2d\"}], \"histogram2dcontour\": [{\"colorbar\": {\"outlinewidth\": 0, \"ticks\": \"\"}, \"colorscale\": [[0.0, \"#0d0887\"], [0.1111111111111111, \"#46039f\"], [0.2222222222222222, \"#7201a8\"], [0.3333333333333333, \"#9c179e\"], [0.4444444444444444, \"#bd3786\"], [0.5555555555555556, \"#d8576b\"], [0.6666666666666666, \"#ed7953\"], [0.7777777777777778, \"#fb9f3a\"], [0.8888888888888888, \"#fdca26\"], [1.0, \"#f0f921\"]], \"type\": \"histogram2dcontour\"}], \"mesh3d\": [{\"colorbar\": {\"outlinewidth\": 0, \"ticks\": \"\"}, \"type\": \"mesh3d\"}], \"parcoords\": [{\"line\": {\"colorbar\": {\"outlinewidth\": 0, \"ticks\": \"\"}}, \"type\": \"parcoords\"}], \"pie\": [{\"automargin\": true, \"type\": \"pie\"}], \"scatter\": [{\"marker\": {\"colorbar\": {\"outlinewidth\": 0, \"ticks\": \"\"}}, \"type\": \"scatter\"}], \"scatter3d\": [{\"line\": {\"colorbar\": {\"outlinewidth\": 0, \"ticks\": \"\"}}, \"marker\": {\"colorbar\": {\"outlinewidth\": 0, \"ticks\": \"\"}}, \"type\": \"scatter3d\"}], \"scattercarpet\": [{\"marker\": {\"colorbar\": {\"outlinewidth\": 0, \"ticks\": \"\"}}, \"type\": \"scattercarpet\"}], \"scattergeo\": [{\"marker\": {\"colorbar\": {\"outlinewidth\": 0, \"ticks\": \"\"}}, \"type\": \"scattergeo\"}], \"scattergl\": [{\"marker\": {\"colorbar\": {\"outlinewidth\": 0, \"ticks\": \"\"}}, \"type\": \"scattergl\"}], \"scattermapbox\": [{\"marker\": {\"colorbar\": {\"outlinewidth\": 0, \"ticks\": \"\"}}, \"type\": \"scattermapbox\"}], \"scatterpolar\": [{\"marker\": {\"colorbar\": {\"outlinewidth\": 0, \"ticks\": \"\"}}, \"type\": \"scatterpolar\"}], \"scatterpolargl\": [{\"marker\": {\"colorbar\": {\"outlinewidth\": 0, \"ticks\": \"\"}}, \"type\": \"scatterpolargl\"}], \"scatterternary\": [{\"marker\": {\"colorbar\": {\"outlinewidth\": 0, \"ticks\": \"\"}}, \"type\": \"scatterternary\"}], \"surface\": [{\"colorbar\": {\"outlinewidth\": 0, \"ticks\": \"\"}, \"colorscale\": [[0.0, \"#0d0887\"], [0.1111111111111111, \"#46039f\"], [0.2222222222222222, \"#7201a8\"], [0.3333333333333333, \"#9c179e\"], [0.4444444444444444, \"#bd3786\"], [0.5555555555555556, \"#d8576b\"], [0.6666666666666666, \"#ed7953\"], [0.7777777777777778, \"#fb9f3a\"], [0.8888888888888888, \"#fdca26\"], [1.0, \"#f0f921\"]], \"type\": \"surface\"}], \"table\": [{\"cells\": {\"fill\": {\"color\": \"#EBF0F8\"}, \"line\": {\"color\": \"white\"}}, \"header\": {\"fill\": {\"color\": \"#C8D4E3\"}, \"line\": {\"color\": \"white\"}}, \"type\": \"table\"}]}, \"layout\": {\"annotationdefaults\": {\"arrowcolor\": \"#2a3f5f\", \"arrowhead\": 0, \"arrowwidth\": 1}, \"autotypenumbers\": \"strict\", \"coloraxis\": {\"colorbar\": {\"outlinewidth\": 0, \"ticks\": \"\"}}, \"colorscale\": {\"diverging\": [[0, \"#8e0152\"], [0.1, \"#c51b7d\"], [0.2, \"#de77ae\"], [0.3, \"#f1b6da\"], [0.4, \"#fde0ef\"], [0.5, \"#f7f7f7\"], [0.6, \"#e6f5d0\"], [0.7, \"#b8e186\"], [0.8, \"#7fbc41\"], [0.9, \"#4d9221\"], [1, \"#276419\"]], \"sequential\": [[0.0, \"#0d0887\"], [0.1111111111111111, \"#46039f\"], [0.2222222222222222, \"#7201a8\"], [0.3333333333333333, \"#9c179e\"], [0.4444444444444444, \"#bd3786\"], [0.5555555555555556, \"#d8576b\"], [0.6666666666666666, \"#ed7953\"], [0.7777777777777778, \"#fb9f3a\"], [0.8888888888888888, \"#fdca26\"], [1.0, \"#f0f921\"]], \"sequentialminus\": [[0.0, \"#0d0887\"], [0.1111111111111111, \"#46039f\"], [0.2222222222222222, \"#7201a8\"], [0.3333333333333333, \"#9c179e\"], [0.4444444444444444, \"#bd3786\"], [0.5555555555555556, \"#d8576b\"], [0.6666666666666666, \"#ed7953\"], [0.7777777777777778, \"#fb9f3a\"], [0.8888888888888888, \"#fdca26\"], [1.0, \"#f0f921\"]]}, \"colorway\": [\"#636efa\", \"#EF553B\", \"#00cc96\", \"#ab63fa\", \"#FFA15A\", \"#19d3f3\", \"#FF6692\", \"#B6E880\", \"#FF97FF\", \"#FECB52\"], \"font\": {\"color\": \"#2a3f5f\"}, \"geo\": {\"bgcolor\": \"white\", \"lakecolor\": \"white\", \"landcolor\": \"#E5ECF6\", \"showlakes\": true, \"showland\": true, \"subunitcolor\": \"white\"}, \"hoverlabel\": {\"align\": \"left\"}, \"hovermode\": \"closest\", \"mapbox\": {\"style\": \"light\"}, \"paper_bgcolor\": \"white\", \"plot_bgcolor\": \"#E5ECF6\", \"polar\": {\"angularaxis\": {\"gridcolor\": \"white\", \"linecolor\": \"white\", \"ticks\": \"\"}, \"bgcolor\": \"#E5ECF6\", \"radialaxis\": {\"gridcolor\": \"white\", \"linecolor\": \"white\", \"ticks\": \"\"}}, \"scene\": {\"xaxis\": {\"backgroundcolor\": \"#E5ECF6\", \"gridcolor\": \"white\", \"gridwidth\": 2, \"linecolor\": \"white\", \"showbackground\": true, \"ticks\": \"\", \"zerolinecolor\": \"white\"}, \"yaxis\": {\"backgroundcolor\": \"#E5ECF6\", \"gridcolor\": \"white\", \"gridwidth\": 2, \"linecolor\": \"white\", \"showbackground\": true, \"ticks\": \"\", \"zerolinecolor\": \"white\"}, \"zaxis\": {\"backgroundcolor\": \"#E5ECF6\", \"gridcolor\": \"white\", \"gridwidth\": 2, \"linecolor\": \"white\", \"showbackground\": true, \"ticks\": \"\", \"zerolinecolor\": \"white\"}}, \"shapedefaults\": {\"line\": {\"color\": \"#2a3f5f\"}}, \"ternary\": {\"aaxis\": {\"gridcolor\": \"white\", \"linecolor\": \"white\", \"ticks\": \"\"}, \"baxis\": {\"gridcolor\": \"white\", \"linecolor\": \"white\", \"ticks\": \"\"}, \"bgcolor\": \"#E5ECF6\", \"caxis\": {\"gridcolor\": \"white\", \"linecolor\": \"white\", \"ticks\": \"\"}}, \"title\": {\"x\": 0.05}, \"xaxis\": {\"automargin\": true, \"gridcolor\": \"white\", \"linecolor\": \"white\", \"ticks\": \"\", \"title\": {\"standoff\": 15}, \"zerolinecolor\": \"white\", \"zerolinewidth\": 2}, \"yaxis\": {\"automargin\": true, \"gridcolor\": \"white\", \"linecolor\": \"white\", \"ticks\": \"\", \"title\": {\"standoff\": 15}, \"zerolinecolor\": \"white\", \"zerolinewidth\": 2}}}, \"title\": {\"text\": \"away_win_rate of Premier League Clubs Before and After Crowd Suspension\", \"x\": 0, \"xanchor\": \"left\", \"y\": 0.9, \"yanchor\": \"top\"}, \"xaxis\": {\"linewidth\": 2, \"showgrid\": false, \"showline\": true, \"showticklabels\": true, \"tickfont\": {\"family\": \"Arial\", \"size\": 12}, \"ticks\": \"outside\"}, \"yaxis\": {\"showgrid\": false, \"showline\": true, \"showticklabels\": true, \"zeroline\": true}},                        {\"responsive\": true}                    ).then(function(){\n",
       "                            \n",
       "var gd = document.getElementById('09975005-1d70-4dfc-b97c-456d4bbf50c6');\n",
       "var x = new MutationObserver(function (mutations, observer) {{\n",
       "        var display = window.getComputedStyle(gd).display;\n",
       "        if (!display || display === 'none') {{\n",
       "            console.log([gd, 'removed!']);\n",
       "            Plotly.purge(gd);\n",
       "            observer.disconnect();\n",
       "        }}\n",
       "}});\n",
       "\n",
       "// Listen for the removal of the full notebook cells\n",
       "var notebookContainer = gd.closest('#notebook-container');\n",
       "if (notebookContainer) {{\n",
       "    x.observe(notebookContainer, {childList: true});\n",
       "}}\n",
       "\n",
       "// Listen for the clearing of the current output cell\n",
       "var outputEl = gd.closest('.output');\n",
       "if (outputEl) {{\n",
       "    x.observe(outputEl, {childList: true});\n",
       "}}\n",
       "\n",
       "                        })                };                });            </script>        </div>"
      ]
     },
     "metadata": {},
     "output_type": "display_data"
    }
   ],
   "source": [
    "away_stat_viz('away_win_rate', stayed_teams, summary=False)"
   ]
  },
  {
   "cell_type": "code",
   "execution_count": 108,
   "metadata": {},
   "outputs": [
    {
     "data": {
      "application/vnd.plotly.v1+json": {
       "config": {
        "plotlyServerURL": "https://plot.ly"
       },
       "data": [
        {
         "marker": {
          "color": "mediumspringgreen"
         },
         "name": "away_goals before crowd suspension",
         "text": [
          1.393939393939394,
          1.1818181818181819,
          1.2352941176470589,
          1.6666666666666667,
          1.606060606060606,
          1.0606060606060606,
          2.1470588235294117,
          0.9117647058823529,
          1.40625,
          1.5588235294117647,
          1.8181818181818181,
          1.121212121212121,
          0.9117647058823529,
          1.4242424242424243,
          0.9411764705882353
         ],
         "textposition": "auto",
         "texttemplate": "%{text:.3s}",
         "type": "bar",
         "x": [
          "Crystal Palace",
          "Wolverhampton Wanderers",
          "Everton",
          "Leicester City",
          "Chelsea",
          "Burnley",
          "Manchester City",
          "Brighton and Hove Albion",
          "Arsenal",
          "Tottenham Hotspur",
          "Liverpool",
          "Southampton",
          "Newcastle United",
          "Manchester United",
          "West Ham United"
         ],
         "y": [
          1.393939393939394,
          1.1818181818181819,
          1.2352941176470589,
          1.6666666666666667,
          1.606060606060606,
          1.0606060606060606,
          2.1470588235294117,
          0.9117647058823529,
          1.40625,
          1.5588235294117647,
          1.8181818181818181,
          1.121212121212121,
          0.9117647058823529,
          1.4242424242424243,
          0.9411764705882353
         ]
        },
        {
         "marker": {
          "color": "lightsalmon"
         },
         "name": "away_goals after crowd suspension",
         "text": [
          0.9583333333333334,
          0.7916666666666666,
          1.0869565217391304,
          1.5833333333333333,
          1.5416666666666667,
          1,
          2.1739130434782608,
          0.9565217391304348,
          1.48,
          1.6521739130434783,
          1.9166666666666667,
          1.25,
          1.0869565217391304,
          1.9166666666666667,
          1.608695652173913
         ],
         "textposition": "auto",
         "texttemplate": "%{text:.3s}",
         "type": "bar",
         "x": [
          "Crystal Palace",
          "Wolverhampton Wanderers",
          "Everton",
          "Leicester City",
          "Chelsea",
          "Burnley",
          "Manchester City",
          "Brighton and Hove Albion",
          "Arsenal",
          "Tottenham Hotspur",
          "Liverpool",
          "Southampton",
          "Newcastle United",
          "Manchester United",
          "West Ham United"
         ],
         "y": [
          0.9583333333333334,
          0.7916666666666666,
          1.0869565217391304,
          1.5833333333333333,
          1.5416666666666667,
          1,
          2.1739130434782608,
          0.9565217391304348,
          1.48,
          1.6521739130434783,
          1.9166666666666667,
          1.25,
          1.0869565217391304,
          1.9166666666666667,
          1.608695652173913
         ]
        }
       ],
       "layout": {
        "autosize": true,
        "barmode": "group",
        "margin": {
         "autoexpand": true,
         "l": 0,
         "r": 0,
         "t": 80
        },
        "plot_bgcolor": "azure",
        "template": {
         "data": {
          "bar": [
           {
            "error_x": {
             "color": "#2a3f5f"
            },
            "error_y": {
             "color": "#2a3f5f"
            },
            "marker": {
             "line": {
              "color": "#E5ECF6",
              "width": 0.5
             }
            },
            "type": "bar"
           }
          ],
          "barpolar": [
           {
            "marker": {
             "line": {
              "color": "#E5ECF6",
              "width": 0.5
             }
            },
            "type": "barpolar"
           }
          ],
          "carpet": [
           {
            "aaxis": {
             "endlinecolor": "#2a3f5f",
             "gridcolor": "white",
             "linecolor": "white",
             "minorgridcolor": "white",
             "startlinecolor": "#2a3f5f"
            },
            "baxis": {
             "endlinecolor": "#2a3f5f",
             "gridcolor": "white",
             "linecolor": "white",
             "minorgridcolor": "white",
             "startlinecolor": "#2a3f5f"
            },
            "type": "carpet"
           }
          ],
          "choropleth": [
           {
            "colorbar": {
             "outlinewidth": 0,
             "ticks": ""
            },
            "type": "choropleth"
           }
          ],
          "contour": [
           {
            "colorbar": {
             "outlinewidth": 0,
             "ticks": ""
            },
            "colorscale": [
             [
              0,
              "#0d0887"
             ],
             [
              0.1111111111111111,
              "#46039f"
             ],
             [
              0.2222222222222222,
              "#7201a8"
             ],
             [
              0.3333333333333333,
              "#9c179e"
             ],
             [
              0.4444444444444444,
              "#bd3786"
             ],
             [
              0.5555555555555556,
              "#d8576b"
             ],
             [
              0.6666666666666666,
              "#ed7953"
             ],
             [
              0.7777777777777778,
              "#fb9f3a"
             ],
             [
              0.8888888888888888,
              "#fdca26"
             ],
             [
              1,
              "#f0f921"
             ]
            ],
            "type": "contour"
           }
          ],
          "contourcarpet": [
           {
            "colorbar": {
             "outlinewidth": 0,
             "ticks": ""
            },
            "type": "contourcarpet"
           }
          ],
          "heatmap": [
           {
            "colorbar": {
             "outlinewidth": 0,
             "ticks": ""
            },
            "colorscale": [
             [
              0,
              "#0d0887"
             ],
             [
              0.1111111111111111,
              "#46039f"
             ],
             [
              0.2222222222222222,
              "#7201a8"
             ],
             [
              0.3333333333333333,
              "#9c179e"
             ],
             [
              0.4444444444444444,
              "#bd3786"
             ],
             [
              0.5555555555555556,
              "#d8576b"
             ],
             [
              0.6666666666666666,
              "#ed7953"
             ],
             [
              0.7777777777777778,
              "#fb9f3a"
             ],
             [
              0.8888888888888888,
              "#fdca26"
             ],
             [
              1,
              "#f0f921"
             ]
            ],
            "type": "heatmap"
           }
          ],
          "heatmapgl": [
           {
            "colorbar": {
             "outlinewidth": 0,
             "ticks": ""
            },
            "colorscale": [
             [
              0,
              "#0d0887"
             ],
             [
              0.1111111111111111,
              "#46039f"
             ],
             [
              0.2222222222222222,
              "#7201a8"
             ],
             [
              0.3333333333333333,
              "#9c179e"
             ],
             [
              0.4444444444444444,
              "#bd3786"
             ],
             [
              0.5555555555555556,
              "#d8576b"
             ],
             [
              0.6666666666666666,
              "#ed7953"
             ],
             [
              0.7777777777777778,
              "#fb9f3a"
             ],
             [
              0.8888888888888888,
              "#fdca26"
             ],
             [
              1,
              "#f0f921"
             ]
            ],
            "type": "heatmapgl"
           }
          ],
          "histogram": [
           {
            "marker": {
             "colorbar": {
              "outlinewidth": 0,
              "ticks": ""
             }
            },
            "type": "histogram"
           }
          ],
          "histogram2d": [
           {
            "colorbar": {
             "outlinewidth": 0,
             "ticks": ""
            },
            "colorscale": [
             [
              0,
              "#0d0887"
             ],
             [
              0.1111111111111111,
              "#46039f"
             ],
             [
              0.2222222222222222,
              "#7201a8"
             ],
             [
              0.3333333333333333,
              "#9c179e"
             ],
             [
              0.4444444444444444,
              "#bd3786"
             ],
             [
              0.5555555555555556,
              "#d8576b"
             ],
             [
              0.6666666666666666,
              "#ed7953"
             ],
             [
              0.7777777777777778,
              "#fb9f3a"
             ],
             [
              0.8888888888888888,
              "#fdca26"
             ],
             [
              1,
              "#f0f921"
             ]
            ],
            "type": "histogram2d"
           }
          ],
          "histogram2dcontour": [
           {
            "colorbar": {
             "outlinewidth": 0,
             "ticks": ""
            },
            "colorscale": [
             [
              0,
              "#0d0887"
             ],
             [
              0.1111111111111111,
              "#46039f"
             ],
             [
              0.2222222222222222,
              "#7201a8"
             ],
             [
              0.3333333333333333,
              "#9c179e"
             ],
             [
              0.4444444444444444,
              "#bd3786"
             ],
             [
              0.5555555555555556,
              "#d8576b"
             ],
             [
              0.6666666666666666,
              "#ed7953"
             ],
             [
              0.7777777777777778,
              "#fb9f3a"
             ],
             [
              0.8888888888888888,
              "#fdca26"
             ],
             [
              1,
              "#f0f921"
             ]
            ],
            "type": "histogram2dcontour"
           }
          ],
          "mesh3d": [
           {
            "colorbar": {
             "outlinewidth": 0,
             "ticks": ""
            },
            "type": "mesh3d"
           }
          ],
          "parcoords": [
           {
            "line": {
             "colorbar": {
              "outlinewidth": 0,
              "ticks": ""
             }
            },
            "type": "parcoords"
           }
          ],
          "pie": [
           {
            "automargin": true,
            "type": "pie"
           }
          ],
          "scatter": [
           {
            "marker": {
             "colorbar": {
              "outlinewidth": 0,
              "ticks": ""
             }
            },
            "type": "scatter"
           }
          ],
          "scatter3d": [
           {
            "line": {
             "colorbar": {
              "outlinewidth": 0,
              "ticks": ""
             }
            },
            "marker": {
             "colorbar": {
              "outlinewidth": 0,
              "ticks": ""
             }
            },
            "type": "scatter3d"
           }
          ],
          "scattercarpet": [
           {
            "marker": {
             "colorbar": {
              "outlinewidth": 0,
              "ticks": ""
             }
            },
            "type": "scattercarpet"
           }
          ],
          "scattergeo": [
           {
            "marker": {
             "colorbar": {
              "outlinewidth": 0,
              "ticks": ""
             }
            },
            "type": "scattergeo"
           }
          ],
          "scattergl": [
           {
            "marker": {
             "colorbar": {
              "outlinewidth": 0,
              "ticks": ""
             }
            },
            "type": "scattergl"
           }
          ],
          "scattermapbox": [
           {
            "marker": {
             "colorbar": {
              "outlinewidth": 0,
              "ticks": ""
             }
            },
            "type": "scattermapbox"
           }
          ],
          "scatterpolar": [
           {
            "marker": {
             "colorbar": {
              "outlinewidth": 0,
              "ticks": ""
             }
            },
            "type": "scatterpolar"
           }
          ],
          "scatterpolargl": [
           {
            "marker": {
             "colorbar": {
              "outlinewidth": 0,
              "ticks": ""
             }
            },
            "type": "scatterpolargl"
           }
          ],
          "scatterternary": [
           {
            "marker": {
             "colorbar": {
              "outlinewidth": 0,
              "ticks": ""
             }
            },
            "type": "scatterternary"
           }
          ],
          "surface": [
           {
            "colorbar": {
             "outlinewidth": 0,
             "ticks": ""
            },
            "colorscale": [
             [
              0,
              "#0d0887"
             ],
             [
              0.1111111111111111,
              "#46039f"
             ],
             [
              0.2222222222222222,
              "#7201a8"
             ],
             [
              0.3333333333333333,
              "#9c179e"
             ],
             [
              0.4444444444444444,
              "#bd3786"
             ],
             [
              0.5555555555555556,
              "#d8576b"
             ],
             [
              0.6666666666666666,
              "#ed7953"
             ],
             [
              0.7777777777777778,
              "#fb9f3a"
             ],
             [
              0.8888888888888888,
              "#fdca26"
             ],
             [
              1,
              "#f0f921"
             ]
            ],
            "type": "surface"
           }
          ],
          "table": [
           {
            "cells": {
             "fill": {
              "color": "#EBF0F8"
             },
             "line": {
              "color": "white"
             }
            },
            "header": {
             "fill": {
              "color": "#C8D4E3"
             },
             "line": {
              "color": "white"
             }
            },
            "type": "table"
           }
          ]
         },
         "layout": {
          "annotationdefaults": {
           "arrowcolor": "#2a3f5f",
           "arrowhead": 0,
           "arrowwidth": 1
          },
          "autotypenumbers": "strict",
          "coloraxis": {
           "colorbar": {
            "outlinewidth": 0,
            "ticks": ""
           }
          },
          "colorscale": {
           "diverging": [
            [
             0,
             "#8e0152"
            ],
            [
             0.1,
             "#c51b7d"
            ],
            [
             0.2,
             "#de77ae"
            ],
            [
             0.3,
             "#f1b6da"
            ],
            [
             0.4,
             "#fde0ef"
            ],
            [
             0.5,
             "#f7f7f7"
            ],
            [
             0.6,
             "#e6f5d0"
            ],
            [
             0.7,
             "#b8e186"
            ],
            [
             0.8,
             "#7fbc41"
            ],
            [
             0.9,
             "#4d9221"
            ],
            [
             1,
             "#276419"
            ]
           ],
           "sequential": [
            [
             0,
             "#0d0887"
            ],
            [
             0.1111111111111111,
             "#46039f"
            ],
            [
             0.2222222222222222,
             "#7201a8"
            ],
            [
             0.3333333333333333,
             "#9c179e"
            ],
            [
             0.4444444444444444,
             "#bd3786"
            ],
            [
             0.5555555555555556,
             "#d8576b"
            ],
            [
             0.6666666666666666,
             "#ed7953"
            ],
            [
             0.7777777777777778,
             "#fb9f3a"
            ],
            [
             0.8888888888888888,
             "#fdca26"
            ],
            [
             1,
             "#f0f921"
            ]
           ],
           "sequentialminus": [
            [
             0,
             "#0d0887"
            ],
            [
             0.1111111111111111,
             "#46039f"
            ],
            [
             0.2222222222222222,
             "#7201a8"
            ],
            [
             0.3333333333333333,
             "#9c179e"
            ],
            [
             0.4444444444444444,
             "#bd3786"
            ],
            [
             0.5555555555555556,
             "#d8576b"
            ],
            [
             0.6666666666666666,
             "#ed7953"
            ],
            [
             0.7777777777777778,
             "#fb9f3a"
            ],
            [
             0.8888888888888888,
             "#fdca26"
            ],
            [
             1,
             "#f0f921"
            ]
           ]
          },
          "colorway": [
           "#636efa",
           "#EF553B",
           "#00cc96",
           "#ab63fa",
           "#FFA15A",
           "#19d3f3",
           "#FF6692",
           "#B6E880",
           "#FF97FF",
           "#FECB52"
          ],
          "font": {
           "color": "#2a3f5f"
          },
          "geo": {
           "bgcolor": "white",
           "lakecolor": "white",
           "landcolor": "#E5ECF6",
           "showlakes": true,
           "showland": true,
           "subunitcolor": "white"
          },
          "hoverlabel": {
           "align": "left"
          },
          "hovermode": "closest",
          "mapbox": {
           "style": "light"
          },
          "paper_bgcolor": "white",
          "plot_bgcolor": "#E5ECF6",
          "polar": {
           "angularaxis": {
            "gridcolor": "white",
            "linecolor": "white",
            "ticks": ""
           },
           "bgcolor": "#E5ECF6",
           "radialaxis": {
            "gridcolor": "white",
            "linecolor": "white",
            "ticks": ""
           }
          },
          "scene": {
           "xaxis": {
            "backgroundcolor": "#E5ECF6",
            "gridcolor": "white",
            "gridwidth": 2,
            "linecolor": "white",
            "showbackground": true,
            "ticks": "",
            "zerolinecolor": "white"
           },
           "yaxis": {
            "backgroundcolor": "#E5ECF6",
            "gridcolor": "white",
            "gridwidth": 2,
            "linecolor": "white",
            "showbackground": true,
            "ticks": "",
            "zerolinecolor": "white"
           },
           "zaxis": {
            "backgroundcolor": "#E5ECF6",
            "gridcolor": "white",
            "gridwidth": 2,
            "linecolor": "white",
            "showbackground": true,
            "ticks": "",
            "zerolinecolor": "white"
           }
          },
          "shapedefaults": {
           "line": {
            "color": "#2a3f5f"
           }
          },
          "ternary": {
           "aaxis": {
            "gridcolor": "white",
            "linecolor": "white",
            "ticks": ""
           },
           "baxis": {
            "gridcolor": "white",
            "linecolor": "white",
            "ticks": ""
           },
           "bgcolor": "#E5ECF6",
           "caxis": {
            "gridcolor": "white",
            "linecolor": "white",
            "ticks": ""
           }
          },
          "title": {
           "x": 0.05
          },
          "xaxis": {
           "automargin": true,
           "gridcolor": "white",
           "linecolor": "white",
           "ticks": "",
           "title": {
            "standoff": 15
           },
           "zerolinecolor": "white",
           "zerolinewidth": 2
          },
          "yaxis": {
           "automargin": true,
           "gridcolor": "white",
           "linecolor": "white",
           "ticks": "",
           "title": {
            "standoff": 15
           },
           "zerolinecolor": "white",
           "zerolinewidth": 2
          }
         }
        },
        "title": {
         "text": "away_goals of Premier League Clubs Before and After Crowd Suspension",
         "x": 0,
         "xanchor": "left",
         "y": 0.9,
         "yanchor": "top"
        },
        "xaxis": {
         "linewidth": 2,
         "showgrid": false,
         "showline": true,
         "showticklabels": true,
         "tickfont": {
          "family": "Arial",
          "size": 12
         },
         "ticks": "outside"
        },
        "yaxis": {
         "showgrid": false,
         "showline": true,
         "showticklabels": true,
         "zeroline": true
        }
       }
      },
      "text/html": [
       "<div>                            <div id=\"23211f38-c5f7-4fff-b39f-9d5a42c05e5b\" class=\"plotly-graph-div\" style=\"height:525px; width:100%;\"></div>            <script type=\"text/javascript\">                require([\"plotly\"], function(Plotly) {                    window.PLOTLYENV=window.PLOTLYENV || {};                                    if (document.getElementById(\"23211f38-c5f7-4fff-b39f-9d5a42c05e5b\")) {                    Plotly.newPlot(                        \"23211f38-c5f7-4fff-b39f-9d5a42c05e5b\",                        [{\"marker\": {\"color\": \"mediumspringgreen\"}, \"name\": \"away_goals before crowd suspension\", \"text\": [1.393939393939394, 1.1818181818181819, 1.2352941176470589, 1.6666666666666667, 1.606060606060606, 1.0606060606060606, 2.1470588235294117, 0.9117647058823529, 1.40625, 1.5588235294117647, 1.8181818181818181, 1.121212121212121, 0.9117647058823529, 1.4242424242424243, 0.9411764705882353], \"textposition\": \"auto\", \"texttemplate\": \"%{text:.3s}\", \"type\": \"bar\", \"x\": [\"Crystal Palace\", \"Wolverhampton Wanderers\", \"Everton\", \"Leicester City\", \"Chelsea\", \"Burnley\", \"Manchester City\", \"Brighton and Hove Albion\", \"Arsenal\", \"Tottenham Hotspur\", \"Liverpool\", \"Southampton\", \"Newcastle United\", \"Manchester United\", \"West Ham United\"], \"y\": [1.393939393939394, 1.1818181818181819, 1.2352941176470589, 1.6666666666666667, 1.606060606060606, 1.0606060606060606, 2.1470588235294117, 0.9117647058823529, 1.40625, 1.5588235294117647, 1.8181818181818181, 1.121212121212121, 0.9117647058823529, 1.4242424242424243, 0.9411764705882353]}, {\"marker\": {\"color\": \"lightsalmon\"}, \"name\": \"away_goals after crowd suspension\", \"text\": [0.9583333333333334, 0.7916666666666666, 1.0869565217391304, 1.5833333333333333, 1.5416666666666667, 1.0, 2.1739130434782608, 0.9565217391304348, 1.48, 1.6521739130434783, 1.9166666666666667, 1.25, 1.0869565217391304, 1.9166666666666667, 1.608695652173913], \"textposition\": \"auto\", \"texttemplate\": \"%{text:.3s}\", \"type\": \"bar\", \"x\": [\"Crystal Palace\", \"Wolverhampton Wanderers\", \"Everton\", \"Leicester City\", \"Chelsea\", \"Burnley\", \"Manchester City\", \"Brighton and Hove Albion\", \"Arsenal\", \"Tottenham Hotspur\", \"Liverpool\", \"Southampton\", \"Newcastle United\", \"Manchester United\", \"West Ham United\"], \"y\": [0.9583333333333334, 0.7916666666666666, 1.0869565217391304, 1.5833333333333333, 1.5416666666666667, 1.0, 2.1739130434782608, 0.9565217391304348, 1.48, 1.6521739130434783, 1.9166666666666667, 1.25, 1.0869565217391304, 1.9166666666666667, 1.608695652173913]}],                        {\"autosize\": true, \"barmode\": \"group\", \"margin\": {\"autoexpand\": true, \"l\": 0, \"r\": 0, \"t\": 80}, \"plot_bgcolor\": \"azure\", \"template\": {\"data\": {\"bar\": [{\"error_x\": {\"color\": \"#2a3f5f\"}, \"error_y\": {\"color\": \"#2a3f5f\"}, \"marker\": {\"line\": {\"color\": \"#E5ECF6\", \"width\": 0.5}}, \"type\": \"bar\"}], \"barpolar\": [{\"marker\": {\"line\": {\"color\": \"#E5ECF6\", \"width\": 0.5}}, \"type\": \"barpolar\"}], \"carpet\": [{\"aaxis\": {\"endlinecolor\": \"#2a3f5f\", \"gridcolor\": \"white\", \"linecolor\": \"white\", \"minorgridcolor\": \"white\", \"startlinecolor\": \"#2a3f5f\"}, \"baxis\": {\"endlinecolor\": \"#2a3f5f\", \"gridcolor\": \"white\", \"linecolor\": \"white\", \"minorgridcolor\": \"white\", \"startlinecolor\": \"#2a3f5f\"}, \"type\": \"carpet\"}], \"choropleth\": [{\"colorbar\": {\"outlinewidth\": 0, \"ticks\": \"\"}, \"type\": \"choropleth\"}], \"contour\": [{\"colorbar\": {\"outlinewidth\": 0, \"ticks\": \"\"}, \"colorscale\": [[0.0, \"#0d0887\"], [0.1111111111111111, \"#46039f\"], [0.2222222222222222, \"#7201a8\"], [0.3333333333333333, \"#9c179e\"], [0.4444444444444444, \"#bd3786\"], [0.5555555555555556, \"#d8576b\"], [0.6666666666666666, \"#ed7953\"], [0.7777777777777778, \"#fb9f3a\"], [0.8888888888888888, \"#fdca26\"], [1.0, \"#f0f921\"]], \"type\": \"contour\"}], \"contourcarpet\": [{\"colorbar\": {\"outlinewidth\": 0, \"ticks\": \"\"}, \"type\": \"contourcarpet\"}], \"heatmap\": [{\"colorbar\": {\"outlinewidth\": 0, \"ticks\": \"\"}, \"colorscale\": [[0.0, \"#0d0887\"], [0.1111111111111111, \"#46039f\"], [0.2222222222222222, \"#7201a8\"], [0.3333333333333333, \"#9c179e\"], [0.4444444444444444, \"#bd3786\"], [0.5555555555555556, \"#d8576b\"], [0.6666666666666666, \"#ed7953\"], [0.7777777777777778, \"#fb9f3a\"], [0.8888888888888888, \"#fdca26\"], [1.0, \"#f0f921\"]], \"type\": \"heatmap\"}], \"heatmapgl\": [{\"colorbar\": {\"outlinewidth\": 0, \"ticks\": \"\"}, \"colorscale\": [[0.0, \"#0d0887\"], [0.1111111111111111, \"#46039f\"], [0.2222222222222222, \"#7201a8\"], [0.3333333333333333, \"#9c179e\"], [0.4444444444444444, \"#bd3786\"], [0.5555555555555556, \"#d8576b\"], [0.6666666666666666, \"#ed7953\"], [0.7777777777777778, \"#fb9f3a\"], [0.8888888888888888, \"#fdca26\"], [1.0, \"#f0f921\"]], \"type\": \"heatmapgl\"}], \"histogram\": [{\"marker\": {\"colorbar\": {\"outlinewidth\": 0, \"ticks\": \"\"}}, \"type\": \"histogram\"}], \"histogram2d\": [{\"colorbar\": {\"outlinewidth\": 0, \"ticks\": \"\"}, \"colorscale\": [[0.0, \"#0d0887\"], [0.1111111111111111, \"#46039f\"], [0.2222222222222222, \"#7201a8\"], [0.3333333333333333, \"#9c179e\"], [0.4444444444444444, \"#bd3786\"], [0.5555555555555556, \"#d8576b\"], [0.6666666666666666, \"#ed7953\"], [0.7777777777777778, \"#fb9f3a\"], [0.8888888888888888, \"#fdca26\"], [1.0, \"#f0f921\"]], \"type\": \"histogram2d\"}], \"histogram2dcontour\": [{\"colorbar\": {\"outlinewidth\": 0, \"ticks\": \"\"}, \"colorscale\": [[0.0, \"#0d0887\"], [0.1111111111111111, \"#46039f\"], [0.2222222222222222, \"#7201a8\"], [0.3333333333333333, \"#9c179e\"], [0.4444444444444444, \"#bd3786\"], [0.5555555555555556, \"#d8576b\"], [0.6666666666666666, \"#ed7953\"], [0.7777777777777778, \"#fb9f3a\"], [0.8888888888888888, \"#fdca26\"], [1.0, \"#f0f921\"]], \"type\": \"histogram2dcontour\"}], \"mesh3d\": [{\"colorbar\": {\"outlinewidth\": 0, \"ticks\": \"\"}, \"type\": \"mesh3d\"}], \"parcoords\": [{\"line\": {\"colorbar\": {\"outlinewidth\": 0, \"ticks\": \"\"}}, \"type\": \"parcoords\"}], \"pie\": [{\"automargin\": true, \"type\": \"pie\"}], \"scatter\": [{\"marker\": {\"colorbar\": {\"outlinewidth\": 0, \"ticks\": \"\"}}, \"type\": \"scatter\"}], \"scatter3d\": [{\"line\": {\"colorbar\": {\"outlinewidth\": 0, \"ticks\": \"\"}}, \"marker\": {\"colorbar\": {\"outlinewidth\": 0, \"ticks\": \"\"}}, \"type\": \"scatter3d\"}], \"scattercarpet\": [{\"marker\": {\"colorbar\": {\"outlinewidth\": 0, \"ticks\": \"\"}}, \"type\": \"scattercarpet\"}], \"scattergeo\": [{\"marker\": {\"colorbar\": {\"outlinewidth\": 0, \"ticks\": \"\"}}, \"type\": \"scattergeo\"}], \"scattergl\": [{\"marker\": {\"colorbar\": {\"outlinewidth\": 0, \"ticks\": \"\"}}, \"type\": \"scattergl\"}], \"scattermapbox\": [{\"marker\": {\"colorbar\": {\"outlinewidth\": 0, \"ticks\": \"\"}}, \"type\": \"scattermapbox\"}], \"scatterpolar\": [{\"marker\": {\"colorbar\": {\"outlinewidth\": 0, \"ticks\": \"\"}}, \"type\": \"scatterpolar\"}], \"scatterpolargl\": [{\"marker\": {\"colorbar\": {\"outlinewidth\": 0, \"ticks\": \"\"}}, \"type\": \"scatterpolargl\"}], \"scatterternary\": [{\"marker\": {\"colorbar\": {\"outlinewidth\": 0, \"ticks\": \"\"}}, \"type\": \"scatterternary\"}], \"surface\": [{\"colorbar\": {\"outlinewidth\": 0, \"ticks\": \"\"}, \"colorscale\": [[0.0, \"#0d0887\"], [0.1111111111111111, \"#46039f\"], [0.2222222222222222, \"#7201a8\"], [0.3333333333333333, \"#9c179e\"], [0.4444444444444444, \"#bd3786\"], [0.5555555555555556, \"#d8576b\"], [0.6666666666666666, \"#ed7953\"], [0.7777777777777778, \"#fb9f3a\"], [0.8888888888888888, \"#fdca26\"], [1.0, \"#f0f921\"]], \"type\": \"surface\"}], \"table\": [{\"cells\": {\"fill\": {\"color\": \"#EBF0F8\"}, \"line\": {\"color\": \"white\"}}, \"header\": {\"fill\": {\"color\": \"#C8D4E3\"}, \"line\": {\"color\": \"white\"}}, \"type\": \"table\"}]}, \"layout\": {\"annotationdefaults\": {\"arrowcolor\": \"#2a3f5f\", \"arrowhead\": 0, \"arrowwidth\": 1}, \"autotypenumbers\": \"strict\", \"coloraxis\": {\"colorbar\": {\"outlinewidth\": 0, \"ticks\": \"\"}}, \"colorscale\": {\"diverging\": [[0, \"#8e0152\"], [0.1, \"#c51b7d\"], [0.2, \"#de77ae\"], [0.3, \"#f1b6da\"], [0.4, \"#fde0ef\"], [0.5, \"#f7f7f7\"], [0.6, \"#e6f5d0\"], [0.7, \"#b8e186\"], [0.8, \"#7fbc41\"], [0.9, \"#4d9221\"], [1, \"#276419\"]], \"sequential\": [[0.0, \"#0d0887\"], [0.1111111111111111, \"#46039f\"], [0.2222222222222222, \"#7201a8\"], [0.3333333333333333, \"#9c179e\"], [0.4444444444444444, \"#bd3786\"], [0.5555555555555556, \"#d8576b\"], [0.6666666666666666, \"#ed7953\"], [0.7777777777777778, \"#fb9f3a\"], [0.8888888888888888, \"#fdca26\"], [1.0, \"#f0f921\"]], \"sequentialminus\": [[0.0, \"#0d0887\"], [0.1111111111111111, \"#46039f\"], [0.2222222222222222, \"#7201a8\"], [0.3333333333333333, \"#9c179e\"], [0.4444444444444444, \"#bd3786\"], [0.5555555555555556, \"#d8576b\"], [0.6666666666666666, \"#ed7953\"], [0.7777777777777778, \"#fb9f3a\"], [0.8888888888888888, \"#fdca26\"], [1.0, \"#f0f921\"]]}, \"colorway\": [\"#636efa\", \"#EF553B\", \"#00cc96\", \"#ab63fa\", \"#FFA15A\", \"#19d3f3\", \"#FF6692\", \"#B6E880\", \"#FF97FF\", \"#FECB52\"], \"font\": {\"color\": \"#2a3f5f\"}, \"geo\": {\"bgcolor\": \"white\", \"lakecolor\": \"white\", \"landcolor\": \"#E5ECF6\", \"showlakes\": true, \"showland\": true, \"subunitcolor\": \"white\"}, \"hoverlabel\": {\"align\": \"left\"}, \"hovermode\": \"closest\", \"mapbox\": {\"style\": \"light\"}, \"paper_bgcolor\": \"white\", \"plot_bgcolor\": \"#E5ECF6\", \"polar\": {\"angularaxis\": {\"gridcolor\": \"white\", \"linecolor\": \"white\", \"ticks\": \"\"}, \"bgcolor\": \"#E5ECF6\", \"radialaxis\": {\"gridcolor\": \"white\", \"linecolor\": \"white\", \"ticks\": \"\"}}, \"scene\": {\"xaxis\": {\"backgroundcolor\": \"#E5ECF6\", \"gridcolor\": \"white\", \"gridwidth\": 2, \"linecolor\": \"white\", \"showbackground\": true, \"ticks\": \"\", \"zerolinecolor\": \"white\"}, \"yaxis\": {\"backgroundcolor\": \"#E5ECF6\", \"gridcolor\": \"white\", \"gridwidth\": 2, \"linecolor\": \"white\", \"showbackground\": true, \"ticks\": \"\", \"zerolinecolor\": \"white\"}, \"zaxis\": {\"backgroundcolor\": \"#E5ECF6\", \"gridcolor\": \"white\", \"gridwidth\": 2, \"linecolor\": \"white\", \"showbackground\": true, \"ticks\": \"\", \"zerolinecolor\": \"white\"}}, \"shapedefaults\": {\"line\": {\"color\": \"#2a3f5f\"}}, \"ternary\": {\"aaxis\": {\"gridcolor\": \"white\", \"linecolor\": \"white\", \"ticks\": \"\"}, \"baxis\": {\"gridcolor\": \"white\", \"linecolor\": \"white\", \"ticks\": \"\"}, \"bgcolor\": \"#E5ECF6\", \"caxis\": {\"gridcolor\": \"white\", \"linecolor\": \"white\", \"ticks\": \"\"}}, \"title\": {\"x\": 0.05}, \"xaxis\": {\"automargin\": true, \"gridcolor\": \"white\", \"linecolor\": \"white\", \"ticks\": \"\", \"title\": {\"standoff\": 15}, \"zerolinecolor\": \"white\", \"zerolinewidth\": 2}, \"yaxis\": {\"automargin\": true, \"gridcolor\": \"white\", \"linecolor\": \"white\", \"ticks\": \"\", \"title\": {\"standoff\": 15}, \"zerolinecolor\": \"white\", \"zerolinewidth\": 2}}}, \"title\": {\"text\": \"away_goals of Premier League Clubs Before and After Crowd Suspension\", \"x\": 0, \"xanchor\": \"left\", \"y\": 0.9, \"yanchor\": \"top\"}, \"xaxis\": {\"linewidth\": 2, \"showgrid\": false, \"showline\": true, \"showticklabels\": true, \"tickfont\": {\"family\": \"Arial\", \"size\": 12}, \"ticks\": \"outside\"}, \"yaxis\": {\"showgrid\": false, \"showline\": true, \"showticklabels\": true, \"zeroline\": true}},                        {\"responsive\": true}                    ).then(function(){\n",
       "                            \n",
       "var gd = document.getElementById('23211f38-c5f7-4fff-b39f-9d5a42c05e5b');\n",
       "var x = new MutationObserver(function (mutations, observer) {{\n",
       "        var display = window.getComputedStyle(gd).display;\n",
       "        if (!display || display === 'none') {{\n",
       "            console.log([gd, 'removed!']);\n",
       "            Plotly.purge(gd);\n",
       "            observer.disconnect();\n",
       "        }}\n",
       "}});\n",
       "\n",
       "// Listen for the removal of the full notebook cells\n",
       "var notebookContainer = gd.closest('#notebook-container');\n",
       "if (notebookContainer) {{\n",
       "    x.observe(notebookContainer, {childList: true});\n",
       "}}\n",
       "\n",
       "// Listen for the clearing of the current output cell\n",
       "var outputEl = gd.closest('.output');\n",
       "if (outputEl) {{\n",
       "    x.observe(outputEl, {childList: true});\n",
       "}}\n",
       "\n",
       "                        })                };                });            </script>        </div>"
      ]
     },
     "metadata": {},
     "output_type": "display_data"
    }
   ],
   "source": [
    "away_stat_viz('away_goals', stayed_teams, summary=False)"
   ]
  },
  {
   "cell_type": "markdown",
   "metadata": {},
   "source": [
    "**Insights**\n",
    "<br>\n",
    "1. Manchester United got better result playing at away ground with no spectators\n",
    "2. Everton away win rate and away points per game increased since attendance prohibition although they had decreased goals per game "
   ]
  }
 ],
 "metadata": {
  "kernelspec": {
   "display_name": "Python 3",
   "language": "python",
   "name": "python3"
  },
  "language_info": {
   "codemirror_mode": {
    "name": "ipython",
    "version": 3
   },
   "file_extension": ".py",
   "mimetype": "text/x-python",
   "name": "python",
   "nbconvert_exporter": "python",
   "pygments_lexer": "ipython3",
   "version": "3.8.5"
  }
 },
 "nbformat": 4,
 "nbformat_minor": 4
}
